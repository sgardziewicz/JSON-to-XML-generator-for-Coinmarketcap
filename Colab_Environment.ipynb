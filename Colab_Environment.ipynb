{
  "nbformat": 4,
  "nbformat_minor": 0,
  "metadata": {
    "colab": {
      "name": "Colab Environment.ipynb",
      "provenance": [],
      "collapsed_sections": [],
      "mount_file_id": "1entGuBKnYaiROrV_QlqVVIC2gMnFl3aq",
      "authorship_tag": "ABX9TyNxECRvLos2bu2bTOZDtOOD",
      "include_colab_link": true
    },
    "kernelspec": {
      "name": "python3",
      "display_name": "Python 3"
    },
    "accelerator": "GPU"
  },
  "cells": [
    {
      "cell_type": "markdown",
      "metadata": {
        "id": "view-in-github",
        "colab_type": "text"
      },
      "source": [
        "<a href=\"https://colab.research.google.com/github/sgardziewicz/JsonToXmlGeneratorForCoinmarketcap/blob/master/Colab_Environment.ipynb\" target=\"_parent\"><img src=\"https://colab.research.google.com/assets/colab-badge.svg\" alt=\"Open In Colab\"/></a>"
      ]
    },
    {
      "cell_type": "code",
      "metadata": {
        "id": "rrN7v9Si2T4k",
        "colab": {
          "base_uri": "https://localhost:8080/"
        },
        "outputId": "54ee74d0-8131-4e36-ab2e-ba6dadb6c23b"
      },
      "source": [
        "#do colaba  i wtedy tweet.username\n",
        "!pip install snscrape\n",
        "!pip install sentencepiece\n",
        "!pip install emoji\n",
        "!pip install transformers"
      ],
      "execution_count": 1,
      "outputs": [
        {
          "output_type": "stream",
          "text": [
            "Requirement already satisfied: snscrape in /usr/local/lib/python3.7/dist-packages (0.3.4)\n",
            "Requirement already satisfied: beautifulsoup4 in /usr/local/lib/python3.7/dist-packages (from snscrape) (4.6.3)\n",
            "Requirement already satisfied: requests[socks] in /usr/local/lib/python3.7/dist-packages (from snscrape) (2.23.0)\n",
            "Requirement already satisfied: lxml in /usr/local/lib/python3.7/dist-packages (from snscrape) (4.2.6)\n",
            "Requirement already satisfied: chardet<4,>=3.0.2 in /usr/local/lib/python3.7/dist-packages (from requests[socks]->snscrape) (3.0.4)\n",
            "Requirement already satisfied: certifi>=2017.4.17 in /usr/local/lib/python3.7/dist-packages (from requests[socks]->snscrape) (2020.12.5)\n",
            "Requirement already satisfied: idna<3,>=2.5 in /usr/local/lib/python3.7/dist-packages (from requests[socks]->snscrape) (2.10)\n",
            "Requirement already satisfied: urllib3!=1.25.0,!=1.25.1,<1.26,>=1.21.1 in /usr/local/lib/python3.7/dist-packages (from requests[socks]->snscrape) (1.24.3)\n",
            "Requirement already satisfied: PySocks!=1.5.7,>=1.5.6; extra == \"socks\" in /usr/local/lib/python3.7/dist-packages (from requests[socks]->snscrape) (1.7.1)\n",
            "Requirement already satisfied: sentencepiece in /usr/local/lib/python3.7/dist-packages (0.1.95)\n",
            "Requirement already satisfied: emoji in /usr/local/lib/python3.7/dist-packages (1.2.0)\n",
            "Requirement already satisfied: transformers in /usr/local/lib/python3.7/dist-packages (4.5.0)\n",
            "Requirement already satisfied: tokenizers<0.11,>=0.10.1 in /usr/local/lib/python3.7/dist-packages (from transformers) (0.10.2)\n",
            "Requirement already satisfied: tqdm>=4.27 in /usr/local/lib/python3.7/dist-packages (from transformers) (4.41.1)\n",
            "Requirement already satisfied: importlib-metadata; python_version < \"3.8\" in /usr/local/lib/python3.7/dist-packages (from transformers) (3.8.1)\n",
            "Requirement already satisfied: packaging in /usr/local/lib/python3.7/dist-packages (from transformers) (20.9)\n",
            "Requirement already satisfied: requests in /usr/local/lib/python3.7/dist-packages (from transformers) (2.23.0)\n",
            "Requirement already satisfied: regex!=2019.12.17 in /usr/local/lib/python3.7/dist-packages (from transformers) (2019.12.20)\n",
            "Requirement already satisfied: sacremoses in /usr/local/lib/python3.7/dist-packages (from transformers) (0.0.44)\n",
            "Requirement already satisfied: filelock in /usr/local/lib/python3.7/dist-packages (from transformers) (3.0.12)\n",
            "Requirement already satisfied: numpy>=1.17 in /usr/local/lib/python3.7/dist-packages (from transformers) (1.19.5)\n",
            "Requirement already satisfied: typing-extensions>=3.6.4; python_version < \"3.8\" in /usr/local/lib/python3.7/dist-packages (from importlib-metadata; python_version < \"3.8\"->transformers) (3.7.4.3)\n",
            "Requirement already satisfied: zipp>=0.5 in /usr/local/lib/python3.7/dist-packages (from importlib-metadata; python_version < \"3.8\"->transformers) (3.4.1)\n",
            "Requirement already satisfied: pyparsing>=2.0.2 in /usr/local/lib/python3.7/dist-packages (from packaging->transformers) (2.4.7)\n",
            "Requirement already satisfied: certifi>=2017.4.17 in /usr/local/lib/python3.7/dist-packages (from requests->transformers) (2020.12.5)\n",
            "Requirement already satisfied: idna<3,>=2.5 in /usr/local/lib/python3.7/dist-packages (from requests->transformers) (2.10)\n",
            "Requirement already satisfied: urllib3!=1.25.0,!=1.25.1,<1.26,>=1.21.1 in /usr/local/lib/python3.7/dist-packages (from requests->transformers) (1.24.3)\n",
            "Requirement already satisfied: chardet<4,>=3.0.2 in /usr/local/lib/python3.7/dist-packages (from requests->transformers) (3.0.4)\n",
            "Requirement already satisfied: joblib in /usr/local/lib/python3.7/dist-packages (from sacremoses->transformers) (1.0.1)\n",
            "Requirement already satisfied: click in /usr/local/lib/python3.7/dist-packages (from sacremoses->transformers) (7.1.2)\n",
            "Requirement already satisfied: six in /usr/local/lib/python3.7/dist-packages (from sacremoses->transformers) (1.15.0)\n"
          ],
          "name": "stdout"
        }
      ]
    },
    {
      "cell_type": "code",
      "metadata": {
        "id": "Rm7MV6mSf-44",
        "colab": {
          "base_uri": "https://localhost:8080/"
        },
        "outputId": "dfa78c25-7677-4cf5-a577-bc0a5b36dc7d"
      },
      "source": [
        "import snscrape.modules.twitter as sntwitter\n",
        "import pandas as pd\n",
        "import torch\n",
        "import transformers\n",
        "from transformers import pipeline\n",
        "from transformers import AutoTokenizer, AutoModel, AutoModelForSequenceClassification\n",
        "\n",
        "# setting device on GPU if available, else CPU\n",
        "device = torch.device('cuda' if torch.cuda.is_available() else 'cpu')\n",
        "print('Using device:', device)\n",
        "print()\n",
        "\n",
        "#Additional Info when using cuda\n",
        "if device.type == 'cuda':\n",
        "    print(torch.cuda.get_device_name(0))\n",
        "    print('Memory Usage:')\n",
        "    print('Allocated:', round(torch.cuda.memory_allocated(0)/1024**3,1), 'GB')\n",
        "    print('Cached:   ', round(torch.cuda.memory_reserved(0)/1024**3,1), 'GB')\n",
        "\n",
        "pd.options.display.max_rows = 4000"
      ],
      "execution_count": 1,
      "outputs": [
        {
          "output_type": "stream",
          "text": [
            "Using device: cuda\n",
            "\n",
            "GeForce GTX 1060 6GB\n",
            "Memory Usage:\n",
            "Allocated: 0.0 GB\n",
            "Cached:    0.0 GB\n"
          ],
          "name": "stdout"
        }
      ]
    },
    {
      "cell_type": "code",
      "metadata": {
        "colab": {
          "base_uri": "https://localhost:8080/"
        },
        "id": "leQMWduuRNAy",
        "outputId": "d58e118d-e0e4-4fc6-90c7-c8a0cb71eb0f"
      },
      "source": [
        "#Additional Info when using cuda\n",
        "if device.type == 'cuda':\n",
        "    print(torch.cuda.get_device_name(0))\n",
        "    print('Memory Usage:')\n",
        "    print('Allocated:', round(torch.cuda.memory_allocated(0)/1024**3,1), 'GB')\n",
        "    print('Cached:   ', round(torch.cuda.memory_reserved(0)/1024**3,1), 'GB')"
      ],
      "execution_count": 14,
      "outputs": [
        {
          "output_type": "stream",
          "text": [
            "GeForce GTX 1060 6GB\n",
            "Memory Usage:\n",
            "Allocated: 0.5 GB\n",
            "Cached:    3.3 GB\n"
          ],
          "name": "stdout"
        }
      ]
    },
    {
      "cell_type": "code",
      "metadata": {
        "id": "rr-77XOQgJFI",
        "colab": {
          "base_uri": "https://localhost:8080/"
        },
        "outputId": "1051f089-c4c6-42cb-929a-31e4096d877b"
      },
      "source": [
        "%%time\n",
        "tweets_list = []\n",
        "\n",
        "for i, tweet in enumerate(sntwitter.TwitterHashtagScraper('cyberpunk2077').get_items()):\n",
        "  if i>10000:\n",
        "    break\n",
        "  tweets_list.append([tweet.date, tweet.id, tweet.content, tweet.username])\n",
        "\n",
        "tweets_df = pd.DataFrame(tweets_list, columns=['Datetime', 'Tweet Id', 'Text', 'Username'])"
      ],
      "execution_count": 34,
      "outputs": [
        {
          "output_type": "stream",
          "text": [
            "CPU times: user 3.33 s, sys: 116 ms, total: 3.45 s\n",
            "Wall time: 1min 28s\n"
          ],
          "name": "stdout"
        }
      ]
    },
    {
      "cell_type": "code",
      "metadata": {
        "id": "kMs7Op1K63QD"
      },
      "source": [
        "tweetsList = tweets_df['Text'].tolist()"
      ],
      "execution_count": 5,
      "outputs": []
    },
    {
      "cell_type": "code",
      "metadata": {
        "colab": {
          "base_uri": "https://localhost:8080/"
        },
        "id": "LlHTkvVTFH_4",
        "outputId": "f5850c86-30a4-48ab-bcd3-adbe00a0dd47"
      },
      "source": [
        "tweetsList[0:5]"
      ],
      "execution_count": 6,
      "outputs": [
        {
          "output_type": "execute_result",
          "data": {
            "text/plain": [
              "['Il est enfin disponible ! \\nLe Nouveau #Trailer de CYBER ZOO sur @PlanetZooGame !\\n\\nThis is Now Available ON WORKSHOP ! \\n\\nCYBER ZOO (Official Trailer) -https://t.co/pObN476qdn\\n\\n#Youtube #Planetzoo #CYberpunk2077 #CyberZoo',\n",
              " 'Life Goes On by Ryan Maggs via /r/Cyberpunk by u/ N7CombatWombat #cyberpunk #cyberpunk2077 #gaming https://t.co/K8nmnn6gjw',\n",
              " 'Apparently I have 78 manual saves already... Idk why I keep doing it. #Cyberpunk2077',\n",
              " '#PS5Share, #Cyberpunk2077 https://t.co/n62FGa1Zgw',\n",
              " '@ick_hoer_dir___ @StockWatchPL Wie es aktuell ist, weiß ich nicht. Besitze die #PS4 Version nicht mehr. Zum Release, war es aber Katastrophal. Spiele #Cyberpunk2077 ausschließlich über Geforce NOW.']"
            ]
          },
          "metadata": {
            "tags": []
          },
          "execution_count": 6
        }
      ]
    },
    {
      "cell_type": "code",
      "metadata": {
        "id": "9m9VwGx2gamc"
      },
      "source": [
        "listWithoutNewLine=[]\n",
        "for item in tweetsList:\n",
        "  listWithoutNewLine.append(item.replace('\\n', ' '))"
      ],
      "execution_count": 7,
      "outputs": []
    },
    {
      "cell_type": "code",
      "metadata": {
        "colab": {
          "base_uri": "https://localhost:8080/"
        },
        "id": "VpWxEEZFgqf7",
        "outputId": "76001f48-2cd3-48dd-8a7c-838d2fa59e9e"
      },
      "source": [
        "len(listWithoutNewLine)"
      ],
      "execution_count": 8,
      "outputs": [
        {
          "output_type": "execute_result",
          "data": {
            "text/plain": [
              "10001"
            ]
          },
          "metadata": {
            "tags": []
          },
          "execution_count": 8
        }
      ]
    },
    {
      "cell_type": "code",
      "metadata": {
        "id": "Eu3L-J_JNZIZ"
      },
      "source": [
        "def extractLists(lst): \n",
        "    return [[element] for element in lst]              "
      ],
      "execution_count": null,
      "outputs": []
    },
    {
      "cell_type": "code",
      "metadata": {
        "colab": {
          "base_uri": "https://localhost:8080/"
        },
        "id": "SHYDo90TUJsD",
        "outputId": "b74ccf7b-ce4e-475e-ee15-f9da2c0d73fb"
      },
      "source": [
        "import re\n",
        "d=[]\n",
        "pattern = re.compile('[^0-9A-Za-z ,]')\n",
        "for item in tweetsList:\n",
        "  d.append(pattern.sub('', item))\n",
        "\n",
        "print(d[0:5])"
      ],
      "execution_count": null,
      "outputs": [
        {
          "output_type": "stream",
          "text": [
            "['Check out SteelSeries Arctis 1 Wireless Gaming Headset Cyberpunk Edition  Used w Box  httpstcoU5ImIwNGyt via eBay eBay Xbox SteelSeries SteelSeries Cyberpunk2077 resale liquidation Bellingham supportsmallbusiness headsets', 'PS5Share, Cyberpunk2077 httpstcoZPCsuBAlbk', 'PS5Share, Cyberpunk2077 httpstco0mYuTxbwZr', 'CYBERPUNK 2077 EVERY BREATH YOU TAKE PART 42 is now uploaded httpstconCeGpTsLdd Cyberpunk2077 CDProjektRed PS5 Xbox Cyberpunk httpstconubBQ2LGTD', 'Spoiler free No es por nada pero de 3 finales en cyberpunk que ya he pasadode momento el ms creble para m  y con el que ms me siento identificado es el final malo Debera preocuparmecyberpunk2077 cyberpunk httpstcoZbX1T4NE8E']\n"
          ],
          "name": "stdout"
        }
      ]
    },
    {
      "cell_type": "code",
      "metadata": {
        "colab": {
          "base_uri": "https://localhost:8080/"
        },
        "id": "gIMVpcCX74q3",
        "outputId": "478e3438-04d7-441f-f2db-7ebf761aea70"
      },
      "source": [
        "import re        ## usuniecie ruskich itp\n",
        "listWithoutNewLineWithoutUserNames = []\n",
        "for item in listWithoutNewLine:\n",
        "  listWithoutNewLineWithoutUserNames.append(re.sub('@[\\w]+','',item).encode('ascii', errors='ignore').decode())\n",
        "\n",
        "print(listWithoutNewLineWithoutUserNames[0:5])"
      ],
      "execution_count": 9,
      "outputs": [
        {
          "output_type": "stream",
          "text": [
            "['Il est enfin disponible !  Le Nouveau #Trailer de CYBER ZOO sur  !  This is Now Available ON WORKSHOP !   CYBER ZOO (Official Trailer) -https://t.co/pObN476qdn  #Youtube #Planetzoo #CYberpunk2077 #CyberZoo', 'Life Goes On by Ryan Maggs via /r/Cyberpunk by u/ N7CombatWombat #cyberpunk #cyberpunk2077 #gaming https://t.co/K8nmnn6gjw', 'Apparently I have 78 manual saves already... Idk why I keep doing it. #Cyberpunk2077', '#PS5Share, #Cyberpunk2077 https://t.co/n62FGa1Zgw', '  Wie es aktuell ist, wei ich nicht. Besitze die #PS4 Version nicht mehr. Zum Release, war es aber Katastrophal. Spiele #Cyberpunk2077 ausschlielich ber Geforce NOW.']\n"
          ],
          "name": "stdout"
        }
      ]
    },
    {
      "cell_type": "code",
      "metadata": {
        "colab": {
          "base_uri": "https://localhost:8080/"
        },
        "id": "afhLbYEO8pI6",
        "outputId": "08ec115f-1a23-4eac-b278-1a1e85308151"
      },
      "source": [
        "import re\n",
        "listWithoutNewLineWithoutUserNamesWithoutHashtags = []\n",
        "for item in listWithoutNewLineWithoutUserNames:\n",
        "  listWithoutNewLineWithoutUserNamesWithoutHashtags.append(re.sub('#[\\w]+','',item))\n",
        "\n",
        "print(listWithoutNewLineWithoutUserNamesWithoutHashtags[0:5])"
      ],
      "execution_count": 10,
      "outputs": [
        {
          "output_type": "stream",
          "text": [
            "['Il est enfin disponible !  Le Nouveau  de CYBER ZOO sur  !  This is Now Available ON WORKSHOP !   CYBER ZOO (Official Trailer) -https://t.co/pObN476qdn     ', 'Life Goes On by Ryan Maggs via /r/Cyberpunk by u/ N7CombatWombat    https://t.co/K8nmnn6gjw', 'Apparently I have 78 manual saves already... Idk why I keep doing it. ', ',  https://t.co/n62FGa1Zgw', '  Wie es aktuell ist, wei ich nicht. Besitze die  Version nicht mehr. Zum Release, war es aber Katastrophal. Spiele  ausschlielich ber Geforce NOW.']\n"
          ],
          "name": "stdout"
        }
      ]
    },
    {
      "cell_type": "code",
      "metadata": {
        "id": "7cvKQYHm9EpA"
      },
      "source": [
        "tokenizerBertweet = AutoTokenizer.from_pretrained(\"cardiffnlp/bertweet-base-sentiment\")          ##############################\n",
        "\n",
        "#tokenizerBertweet = AutoTokenizer.from_pretrained(\"vinai/bertweet-base\", normalization=True, max_length=128)\n",
        "#modelBertweet = AutoModel.from_pretrained(\"vinai/bertweet-base\")\n",
        "\n",
        "modelBertweet = AutoModelForSequenceClassification.from_pretrained(\"cardiffnlp/bertweet-base-sentiment\")\n",
        "\n",
        "analyzerBertweet = pipeline('sentiment-analysis', model=modelBertweet, tokenizer=tokenizerBertweet, device=0)\n",
        "modelBertweet.cuda()"
      ],
      "execution_count": null,
      "outputs": []
    },
    {
      "cell_type": "code",
      "metadata": {
        "colab": {
          "base_uri": "https://localhost:8080/"
        },
        "id": "zbknCcissf2E",
        "outputId": "cc3ada66-dbb0-447e-8fff-0c1b274f4b32"
      },
      "source": [
        "print( len(max(listWithoutNewLine, key=len)))"
      ],
      "execution_count": 14,
      "outputs": [
        {
          "output_type": "stream",
          "text": [
            "458\n"
          ],
          "name": "stdout"
        }
      ]
    },
    {
      "cell_type": "code",
      "metadata": {
        "colab": {
          "base_uri": "https://localhost:8080/"
        },
        "id": "ejh0cMR79Vy1",
        "outputId": "85a0ccc5-5466-4fe9-ed46-3e89b74ce7dd"
      },
      "source": [
        "listWithoutNewLine[0:5]\n",
        "print( len(max(listWithoutNewLineWithoutUserNamesWithoutHashtags, key=len)))"
      ],
      "execution_count": 15,
      "outputs": [
        {
          "output_type": "stream",
          "text": [
            "309\n"
          ],
          "name": "stdout"
        }
      ]
    },
    {
      "cell_type": "code",
      "metadata": {
        "colab": {
          "base_uri": "https://localhost:8080/"
        },
        "id": "FrHrhpnh9evM",
        "outputId": "a4cb3346-ccb1-449a-cec9-2edb5f9cfa70"
      },
      "source": [
        "print( max(listWithoutNewLineWithoutUserNamesWithoutHashtags, key=len))"
      ],
      "execution_count": 16,
      "outputs": [
        {
          "output_type": "stream",
          "text": [
            "More changes I noticed: * They have toned down the ads/ put them on mute in most parts of the city. It's a good change IMO some ads r annoying. * Stash finally works as intended * Even quicker load times * It rains in NC now, tho weather isn't fully fixed yet.  https://t.co/MChjUStSEt https://t.co/dom2MiqW3w\n"
          ],
          "name": "stdout"
        }
      ]
    },
    {
      "cell_type": "code",
      "metadata": {
        "colab": {
          "base_uri": "https://localhost:8080/",
          "height": 35
        },
        "id": "bxNn7PDOBwz0",
        "outputId": "5ed2ae45-a185-4919-a755-8774459a004b"
      },
      "source": [
        "listWithoutNewLineWithoutUserNamesWithoutHashtags[44]"
      ],
      "execution_count": null,
      "outputs": [
        {
          "output_type": "execute_result",
          "data": {
            "application/vnd.google.colaboratory.intrinsic+json": {
              "type": "string"
            },
            "text/plain": [
              "'    ,        .            ,      -         .'"
            ]
          },
          "metadata": {
            "tags": []
          },
          "execution_count": 71
        }
      ]
    },
    {
      "cell_type": "code",
      "metadata": {
        "id": "KCWZBtGA-_PM"
      },
      "source": [
        "rusek = listWithoutNewLineWithoutUserNamesWithoutHashtags[44]"
      ],
      "execution_count": null,
      "outputs": []
    },
    {
      "cell_type": "code",
      "metadata": {
        "colab": {
          "base_uri": "https://localhost:8080/"
        },
        "id": "KV2X3rpjAtuF",
        "outputId": "951afa0e-27b3-4ffc-a596-913bea422470"
      },
      "source": [
        "print(rusek.encode(\"ascii\", \"ignore\"))"
      ],
      "execution_count": null,
      "outputs": [
        {
          "output_type": "stream",
          "text": [
            "b'    ,        .            ,      -         .'\n"
          ],
          "name": "stdout"
        }
      ]
    },
    {
      "cell_type": "code",
      "metadata": {
        "id": "eNdBo8wq_ctL"
      },
      "source": [
        "xd = tokenizerBertweet(listWithoutNewLineWithoutUserNamesWithoutHashtags[44])"
      ],
      "execution_count": null,
      "outputs": []
    },
    {
      "cell_type": "code",
      "metadata": {
        "colab": {
          "base_uri": "https://localhost:8080/"
        },
        "id": "0BcPOroU_h9K",
        "outputId": "732c7aa7-7715-4b9f-ec0d-7570b15b4e25"
      },
      "source": [
        "xd.tokens"
      ],
      "execution_count": null,
      "outputs": [
        {
          "output_type": "execute_result",
          "data": {
            "text/plain": [
              "<bound method BatchEncoding.tokens of {'input_ids': [0, 50354, 28570, 11973, 24229, 18511, 3, 62359, 60600, 13526, 59407, 13526, 24229, 17234, 61758, 61581, 59407, 13526, 60399, 7, 58065, 21276, 11973, 21610, 20890, 38099, 17234, 13526, 63103, 13526, 62359, 17234, 33464, 62359, 20890, 11973, 54283, 29013, 11973, 29013, 13384, 17234, 54283, 17234, 28321, 27901, 21276, 34828, 63103, 11973, 27901, 4, 61685, 13384, 58065, 13384, 21276, 61198, 60912, 55256, 27901, 13526, 63103, 29716, 61758, 61581, 21276, 13526, 53840, 58065, 21276, 18511, 21610, 13384, 29716, 13526, 13384, 54283, 24229, 38099, 24229, 21276, 13384, 29013, 43827, 29716, 18511, 13526, 28570, 11973, 60399, 28321, 56208, 58065, 13384, 21276, 21610, 11973, 17234, 13526, 63103, 13384, 29013, 7, 28321, 24229, 21610, 20890, 13526, 20890, 61198, 43827, 17234, 33464, 29013, 11973, 60399, 60695, 34, 54291, 20890, 11973, 29013, 60695, 56332, 20890, 38099, 17234, 28321, 3, 20890, 60695, 63103, 33464, 27901, 28570, 13526, 24229, 18511, 61917, 60695, 17234, 13526, 60600, 17234, 13526, 56332, 13384, 17234, 28321, 58065, 13384, 21276, 13384, 29013, 11973, 20890, 27901, 28321, 29716, 18511, 13526, 28570, 11973, 60399, 13526, 4, 2], 'token_type_ids': [0, 0, 0, 0, 0, 0, 0, 0, 0, 0, 0, 0, 0, 0, 0, 0, 0, 0, 0, 0, 0, 0, 0, 0, 0, 0, 0, 0, 0, 0, 0, 0, 0, 0, 0, 0, 0, 0, 0, 0, 0, 0, 0, 0, 0, 0, 0, 0, 0, 0, 0, 0, 0, 0, 0, 0, 0, 0, 0, 0, 0, 0, 0, 0, 0, 0, 0, 0, 0, 0, 0, 0, 0, 0, 0, 0, 0, 0, 0, 0, 0, 0, 0, 0, 0, 0, 0, 0, 0, 0, 0, 0, 0, 0, 0, 0, 0, 0, 0, 0, 0, 0, 0, 0, 0, 0, 0, 0, 0, 0, 0, 0, 0, 0, 0, 0, 0, 0, 0, 0, 0, 0, 0, 0, 0, 0, 0, 0, 0, 0, 0, 0, 0, 0, 0, 0, 0, 0, 0, 0, 0, 0, 0, 0, 0, 0, 0, 0, 0, 0, 0, 0, 0, 0, 0, 0, 0, 0, 0, 0, 0, 0, 0, 0, 0, 0, 0, 0], 'attention_mask': [1, 1, 1, 1, 1, 1, 1, 1, 1, 1, 1, 1, 1, 1, 1, 1, 1, 1, 1, 1, 1, 1, 1, 1, 1, 1, 1, 1, 1, 1, 1, 1, 1, 1, 1, 1, 1, 1, 1, 1, 1, 1, 1, 1, 1, 1, 1, 1, 1, 1, 1, 1, 1, 1, 1, 1, 1, 1, 1, 1, 1, 1, 1, 1, 1, 1, 1, 1, 1, 1, 1, 1, 1, 1, 1, 1, 1, 1, 1, 1, 1, 1, 1, 1, 1, 1, 1, 1, 1, 1, 1, 1, 1, 1, 1, 1, 1, 1, 1, 1, 1, 1, 1, 1, 1, 1, 1, 1, 1, 1, 1, 1, 1, 1, 1, 1, 1, 1, 1, 1, 1, 1, 1, 1, 1, 1, 1, 1, 1, 1, 1, 1, 1, 1, 1, 1, 1, 1, 1, 1, 1, 1, 1, 1, 1, 1, 1, 1, 1, 1, 1, 1, 1, 1, 1, 1, 1, 1, 1, 1, 1, 1, 1, 1, 1, 1, 1, 1]}>"
            ]
          },
          "metadata": {
            "tags": []
          },
          "execution_count": 45
        }
      ]
    },
    {
      "cell_type": "code",
      "metadata": {
        "id": "ShKKuv1S_tMq"
      },
      "source": [
        "tokenxs = xd.data['input_ids']"
      ],
      "execution_count": null,
      "outputs": []
    },
    {
      "cell_type": "code",
      "metadata": {
        "id": "2F9B8kuBAWdV"
      },
      "source": [
        "tokenizerBertweet.batch_decode(tokenxs)"
      ],
      "execution_count": null,
      "outputs": []
    },
    {
      "cell_type": "code",
      "metadata": {
        "id": "L2D4_Kv7tajP"
      },
      "source": [
        "#import gc\n",
        "\n",
        "#gc.collect()\n",
        "\n",
        "torch.cuda.empty_cache()"
      ],
      "execution_count": 12,
      "outputs": []
    },
    {
      "cell_type": "code",
      "metadata": {
        "id": "iF2YQbBVuZyH"
      },
      "source": [
        "finalList = listWithoutNewLineWithoutUserNamesWithoutHashtags"
      ],
      "execution_count": 28,
      "outputs": []
    },
    {
      "cell_type": "code",
      "metadata": {
        "id": "hUABHv1Ruc-W"
      },
      "source": [
        "listdf = pd.DataFrame(finalList)"
      ],
      "execution_count": 30,
      "outputs": []
    },
    {
      "cell_type": "code",
      "metadata": {
        "id": "kWvlxFFouuOO"
      },
      "source": [
        "listdf.to_csv('list.csv', index=False)"
      ],
      "execution_count": 34,
      "outputs": []
    },
    {
      "cell_type": "code",
      "metadata": {
        "id": "DTgmdiVWvDm3"
      },
      "source": [
        "odzysk = pd.read_csv('listTest10k.csv')"
      ],
      "execution_count": 3,
      "outputs": []
    },
    {
      "cell_type": "code",
      "metadata": {
        "colab": {
          "base_uri": "https://localhost:8080/"
        },
        "id": "kTGQ-CTevcQA",
        "outputId": "a611163f-3e36-490d-c407-8c114cf763d6"
      },
      "source": [
        "listaOdzysk = odzysk.values.tolist()\n",
        "print(len(listaOdzysk))"
      ],
      "execution_count": 4,
      "outputs": [
        {
          "output_type": "stream",
          "text": [
            "9964\n"
          ],
          "name": "stdout"
        }
      ]
    },
    {
      "cell_type": "code",
      "metadata": {
        "colab": {
          "base_uri": "https://localhost:8080/"
        },
        "id": "BPsvJGIXvlN9",
        "outputId": "4c6651a1-f84a-41db-9f41-3c4238a4bb36"
      },
      "source": [
        "listaOdzysk[0:5]"
      ],
      "execution_count": 5,
      "outputs": [
        {
          "output_type": "execute_result",
          "data": {
            "text/plain": [
              "[['Il est enfin disponible !  Le Nouveau  de CYBER ZOO sur  !  This is Now Available ON WORKSHOP !   CYBER ZOO (Official Trailer) -https://t.co/pObN476qdn     '],\n",
              " ['Life Goes On by Ryan Maggs via /r/Cyberpunk by u/ N7CombatWombat    https://t.co/K8nmnn6gjw'],\n",
              " ['Apparently I have 78 manual saves already... Idk why I keep doing it. '],\n",
              " [',  https://t.co/n62FGa1Zgw'],\n",
              " ['  Wie es aktuell ist, wei ich nicht. Besitze die  Version nicht mehr. Zum Release, war es aber Katastrophal. Spiele  ausschlielich ber Geforce NOW.']]"
            ]
          },
          "metadata": {
            "tags": []
          },
          "execution_count": 5
        }
      ]
    },
    {
      "cell_type": "code",
      "metadata": {
        "id": "CyZ3K9T-yAyY"
      },
      "source": [
        "flat_list = [item for sublist in listaOdzysk for item in sublist]\n"
      ],
      "execution_count": 6,
      "outputs": []
    },
    {
      "cell_type": "code",
      "metadata": {
        "colab": {
          "base_uri": "https://localhost:8080/"
        },
        "id": "TgiSDLPlyEa9",
        "outputId": "d3e9d868-a132-49da-d195-57fbe46b5ca7"
      },
      "source": [
        "len(flat_list)"
      ],
      "execution_count": 7,
      "outputs": [
        {
          "output_type": "execute_result",
          "data": {
            "text/plain": [
              "9964"
            ]
          },
          "metadata": {
            "tags": []
          },
          "execution_count": 7
        }
      ]
    },
    {
      "cell_type": "code",
      "metadata": {
        "colab": {
          "base_uri": "https://localhost:8080/"
        },
        "id": "PCqEZOzT3vhe",
        "outputId": "dc9f12f0-5d29-4a00-f1c4-11b9cddcf081"
      },
      "source": [
        "cleanedList = [x for x in flat_list if str(x) != 'nan']\n",
        "print(len(cleanedList))"
      ],
      "execution_count": 8,
      "outputs": [
        {
          "output_type": "stream",
          "text": [
            "9962\n"
          ],
          "name": "stdout"
        }
      ]
    },
    {
      "cell_type": "code",
      "metadata": {
        "colab": {
          "base_uri": "https://localhost:8080/"
        },
        "id": "or1EqgeTgSJ_",
        "outputId": "020b9910-0cd5-42a8-a301-7e2d931ba879"
      },
      "source": [
        "%%time\n",
        "scores=[]\n",
        "scores.append(analyzerBertweet(cleanedList[0:500]))\n",
        "scores.append(analyzerBertweet(cleanedList[501:1000]))\n",
        "scores.append(analyzerBertweet(cleanedList[1001:1500]))\n",
        "scores.append(analyzerBertweet(cleanedList[1501:2000]))\n",
        "scores.append(analyzerBertweet(cleanedList[2001:2500]))\n",
        "scores.append(analyzerBertweet(cleanedList[2501:3000]))\n",
        "scores.append(analyzerBertweet(cleanedList[3001:3500]))\n",
        "scores.append(analyzerBertweet(cleanedList[3501:4000]))\n",
        "scores.append(analyzerBertweet(cleanedList[4001:4500]))\n",
        "scores.append(analyzerBertweet(cleanedList[4501:5000]))\n"
      ],
      "execution_count": 15,
      "outputs": [
        {
          "output_type": "stream",
          "text": [
            "Wall time: 33.6 s\n"
          ],
          "name": "stdout"
        }
      ]
    },
    {
      "cell_type": "code",
      "metadata": {
        "colab": {
          "base_uri": "https://localhost:8080/"
        },
        "id": "xaPHk3V2tgnN",
        "outputId": "67913a2b-22b1-478c-cfd8-8130b3a354d5"
      },
      "source": [
        "print(len(scores))\n",
        "print(scores)"
      ],
      "execution_count": 16,
      "outputs": [
        {
          "output_type": "stream",
          "text": [
            "10\n",
            "[[{'label': 'LABEL_1', 'score': 0.5768522024154663}, {'label': 'LABEL_1', 'score': 0.9233905673027039}, {'label': 'LABEL_0', 'score': 0.529954731464386}, {'label': 'LABEL_1', 'score': 0.9184607267379761}, {'label': 'LABEL_1', 'score': 0.9005232453346252}, {'label': 'LABEL_1', 'score': 0.9335196614265442}, {'label': 'LABEL_1', 'score': 0.8958781957626343}, {'label': 'LABEL_2', 'score': 0.7346646189689636}, {'label': 'LABEL_1', 'score': 0.9277018308639526}, {'label': 'LABEL_1', 'score': 0.9094046354293823}, {'label': 'LABEL_1', 'score': 0.6918765902519226}, {'label': 'LABEL_1', 'score': 0.5548128485679626}, {'label': 'LABEL_1', 'score': 0.9033317565917969}, {'label': 'LABEL_1', 'score': 0.939208447933197}, {'label': 'LABEL_1', 'score': 0.9267732501029968}, {'label': 'LABEL_1', 'score': 0.9106860160827637}, {'label': 'LABEL_1', 'score': 0.9200596213340759}, {'label': 'LABEL_1', 'score': 0.9138519763946533}, {'label': 'LABEL_0', 'score': 0.4663352072238922}, {'label': 'LABEL_0', 'score': 0.5573509335517883}, {'label': 'LABEL_1', 'score': 0.6919434666633606}, {'label': 'LABEL_2', 'score': 0.8674740791320801}, {'label': 'LABEL_2', 'score': 0.9174928069114685}, {'label': 'LABEL_1', 'score': 0.9352439045906067}, {'label': 'LABEL_1', 'score': 0.9082349538803101}, {'label': 'LABEL_1', 'score': 0.5530989766120911}, {'label': 'LABEL_1', 'score': 0.8689180612564087}, {'label': 'LABEL_1', 'score': 0.8871163725852966}, {'label': 'LABEL_2', 'score': 0.9727186560630798}, {'label': 'LABEL_1', 'score': 0.8934723734855652}, {'label': 'LABEL_2', 'score': 0.975071370601654}, {'label': 'LABEL_1', 'score': 0.9064450263977051}, {'label': 'LABEL_2', 'score': 0.9733279347419739}, {'label': 'LABEL_0', 'score': 0.8880523443222046}, {'label': 'LABEL_1', 'score': 0.9336235523223877}, {'label': 'LABEL_1', 'score': 0.931633472442627}, {'label': 'LABEL_1', 'score': 0.9296231865882874}, {'label': 'LABEL_1', 'score': 0.9439592957496643}, {'label': 'LABEL_2', 'score': 0.9137347340583801}, {'label': 'LABEL_1', 'score': 0.8076208829879761}, {'label': 'LABEL_2', 'score': 0.8605421185493469}, {'label': 'LABEL_1', 'score': 0.9002901911735535}, {'label': 'LABEL_1', 'score': 0.8153905868530273}, {'label': 'LABEL_1', 'score': 0.7448762059211731}, {'label': 'LABEL_1', 'score': 0.9401605725288391}, {'label': 'LABEL_2', 'score': 0.6433315277099609}, {'label': 'LABEL_1', 'score': 0.8828656673431396}, {'label': 'LABEL_2', 'score': 0.9180701971054077}, {'label': 'LABEL_1', 'score': 0.9327344298362732}, {'label': 'LABEL_1', 'score': 0.9232808947563171}, {'label': 'LABEL_1', 'score': 0.9366416931152344}, {'label': 'LABEL_1', 'score': 0.8998010158538818}, {'label': 'LABEL_2', 'score': 0.564893364906311}, {'label': 'LABEL_0', 'score': 0.6559914946556091}, {'label': 'LABEL_1', 'score': 0.9007816910743713}, {'label': 'LABEL_1', 'score': 0.928086519241333}, {'label': 'LABEL_2', 'score': 0.9330020546913147}, {'label': 'LABEL_2', 'score': 0.7188676595687866}, {'label': 'LABEL_1', 'score': 0.8877850770950317}, {'label': 'LABEL_0', 'score': 0.9399150013923645}, {'label': 'LABEL_1', 'score': 0.9027872681617737}, {'label': 'LABEL_1', 'score': 0.8486313819885254}, {'label': 'LABEL_1', 'score': 0.9310253858566284}, {'label': 'LABEL_2', 'score': 0.9636361002922058}, {'label': 'LABEL_1', 'score': 0.9346383810043335}, {'label': 'LABEL_1', 'score': 0.9415053129196167}, {'label': 'LABEL_1', 'score': 0.8969408869743347}, {'label': 'LABEL_1', 'score': 0.9135233163833618}, {'label': 'LABEL_1', 'score': 0.8974735736846924}, {'label': 'LABEL_2', 'score': 0.8627871870994568}, {'label': 'LABEL_1', 'score': 0.7149662375450134}, {'label': 'LABEL_1', 'score': 0.92470383644104}, {'label': 'LABEL_1', 'score': 0.8426381349563599}, {'label': 'LABEL_1', 'score': 0.9163351655006409}, {'label': 'LABEL_1', 'score': 0.9092346429824829}, {'label': 'LABEL_1', 'score': 0.9397300481796265}, {'label': 'LABEL_1', 'score': 0.8575837016105652}, {'label': 'LABEL_1', 'score': 0.9129125475883484}, {'label': 'LABEL_1', 'score': 0.935549259185791}, {'label': 'LABEL_1', 'score': 0.9275308847427368}, {'label': 'LABEL_1', 'score': 0.9059550166130066}, {'label': 'LABEL_1', 'score': 0.8525097966194153}, {'label': 'LABEL_1', 'score': 0.9110735058784485}, {'label': 'LABEL_2', 'score': 0.6795316338539124}, {'label': 'LABEL_1', 'score': 0.9107867479324341}, {'label': 'LABEL_1', 'score': 0.9348582625389099}, {'label': 'LABEL_0', 'score': 0.7974944710731506}, {'label': 'LABEL_1', 'score': 0.8982785940170288}, {'label': 'LABEL_2', 'score': 0.9564534425735474}, {'label': 'LABEL_1', 'score': 0.8010185956954956}, {'label': 'LABEL_1', 'score': 0.9389622807502747}, {'label': 'LABEL_0', 'score': 0.9116312861442566}, {'label': 'LABEL_1', 'score': 0.9121697545051575}, {'label': 'LABEL_1', 'score': 0.7916229963302612}, {'label': 'LABEL_1', 'score': 0.6693596839904785}, {'label': 'LABEL_1', 'score': 0.9148871302604675}, {'label': 'LABEL_1', 'score': 0.9409946203231812}, {'label': 'LABEL_2', 'score': 0.9704557061195374}, {'label': 'LABEL_1', 'score': 0.9018939137458801}, {'label': 'LABEL_1', 'score': 0.928795337677002}, {'label': 'LABEL_1', 'score': 0.9075604677200317}, {'label': 'LABEL_1', 'score': 0.9264631271362305}, {'label': 'LABEL_2', 'score': 0.9434455633163452}, {'label': 'LABEL_1', 'score': 0.9218552708625793}, {'label': 'LABEL_1', 'score': 0.8915102481842041}, {'label': 'LABEL_1', 'score': 0.9148884415626526}, {'label': 'LABEL_2', 'score': 0.9568711519241333}, {'label': 'LABEL_1', 'score': 0.6444092392921448}, {'label': 'LABEL_1', 'score': 0.6147871613502502}, {'label': 'LABEL_1', 'score': 0.8287776708602905}, {'label': 'LABEL_0', 'score': 0.8806969523429871}, {'label': 'LABEL_1', 'score': 0.9358829855918884}, {'label': 'LABEL_2', 'score': 0.8260070085525513}, {'label': 'LABEL_1', 'score': 0.9153882265090942}, {'label': 'LABEL_2', 'score': 0.965603768825531}, {'label': 'LABEL_2', 'score': 0.9647220969200134}, {'label': 'LABEL_1', 'score': 0.9263094067573547}, {'label': 'LABEL_1', 'score': 0.5690597891807556}, {'label': 'LABEL_1', 'score': 0.852067768573761}, {'label': 'LABEL_1', 'score': 0.9489017724990845}, {'label': 'LABEL_1', 'score': 0.9312611818313599}, {'label': 'LABEL_1', 'score': 0.9142670631408691}, {'label': 'LABEL_1', 'score': 0.8860193490982056}, {'label': 'LABEL_1', 'score': 0.8922603726387024}, {'label': 'LABEL_1', 'score': 0.9055461883544922}, {'label': 'LABEL_2', 'score': 0.9419208765029907}, {'label': 'LABEL_1', 'score': 0.9138202667236328}, {'label': 'LABEL_1', 'score': 0.921143651008606}, {'label': 'LABEL_1', 'score': 0.9067627787590027}, {'label': 'LABEL_1', 'score': 0.8996465802192688}, {'label': 'LABEL_1', 'score': 0.9373270869255066}, {'label': 'LABEL_2', 'score': 0.8507232069969177}, {'label': 'LABEL_2', 'score': 0.8422747850418091}, {'label': 'LABEL_2', 'score': 0.8270923495292664}, {'label': 'LABEL_1', 'score': 0.8939942121505737}, {'label': 'LABEL_1', 'score': 0.9151130318641663}, {'label': 'LABEL_1', 'score': 0.8930792212486267}, {'label': 'LABEL_1', 'score': 0.9397386312484741}, {'label': 'LABEL_1', 'score': 0.9255246520042419}, {'label': 'LABEL_1', 'score': 0.9112051129341125}, {'label': 'LABEL_1', 'score': 0.5865105390548706}, {'label': 'LABEL_0', 'score': 0.523656964302063}, {'label': 'LABEL_1', 'score': 0.9013208150863647}, {'label': 'LABEL_2', 'score': 0.8624874353408813}, {'label': 'LABEL_1', 'score': 0.915606677532196}, {'label': 'LABEL_1', 'score': 0.921344518661499}, {'label': 'LABEL_1', 'score': 0.9110546112060547}, {'label': 'LABEL_1', 'score': 0.9159168004989624}, {'label': 'LABEL_1', 'score': 0.9293990135192871}, {'label': 'LABEL_1', 'score': 0.8327231407165527}, {'label': 'LABEL_1', 'score': 0.6225006580352783}, {'label': 'LABEL_1', 'score': 0.9287421107292175}, {'label': 'LABEL_1', 'score': 0.5461670756340027}, {'label': 'LABEL_1', 'score': 0.9165524840354919}, {'label': 'LABEL_1', 'score': 0.9302718043327332}, {'label': 'LABEL_1', 'score': 0.9142636060714722}, {'label': 'LABEL_1', 'score': 0.7343754172325134}, {'label': 'LABEL_0', 'score': 0.6690022349357605}, {'label': 'LABEL_2', 'score': 0.9555690288543701}, {'label': 'LABEL_0', 'score': 0.897022545337677}, {'label': 'LABEL_2', 'score': 0.6836353540420532}, {'label': 'LABEL_1', 'score': 0.9270583391189575}, {'label': 'LABEL_1', 'score': 0.9362452626228333}, {'label': 'LABEL_1', 'score': 0.9238195419311523}, {'label': 'LABEL_1', 'score': 0.9171539545059204}, {'label': 'LABEL_1', 'score': 0.9348946809768677}, {'label': 'LABEL_2', 'score': 0.9759958982467651}, {'label': 'LABEL_2', 'score': 0.9062219262123108}, {'label': 'LABEL_2', 'score': 0.8666306734085083}, {'label': 'LABEL_1', 'score': 0.9037237167358398}, {'label': 'LABEL_1', 'score': 0.902482271194458}, {'label': 'LABEL_1', 'score': 0.9137685298919678}, {'label': 'LABEL_2', 'score': 0.9467982649803162}, {'label': 'LABEL_1', 'score': 0.92673659324646}, {'label': 'LABEL_1', 'score': 0.5149943232536316}, {'label': 'LABEL_1', 'score': 0.9321339726448059}, {'label': 'LABEL_1', 'score': 0.9242489337921143}, {'label': 'LABEL_1', 'score': 0.9288857579231262}, {'label': 'LABEL_1', 'score': 0.9078189134597778}, {'label': 'LABEL_1', 'score': 0.9329709410667419}, {'label': 'LABEL_1', 'score': 0.9082498550415039}, {'label': 'LABEL_1', 'score': 0.907334566116333}, {'label': 'LABEL_1', 'score': 0.891450822353363}, {'label': 'LABEL_1', 'score': 0.7920177578926086}, {'label': 'LABEL_1', 'score': 0.9266350865364075}, {'label': 'LABEL_1', 'score': 0.9242480397224426}, {'label': 'LABEL_1', 'score': 0.920214056968689}, {'label': 'LABEL_1', 'score': 0.9089658856391907}, {'label': 'LABEL_1', 'score': 0.927794337272644}, {'label': 'LABEL_1', 'score': 0.8943614363670349}, {'label': 'LABEL_2', 'score': 0.6520684957504272}, {'label': 'LABEL_1', 'score': 0.9408454895019531}, {'label': 'LABEL_2', 'score': 0.9071446061134338}, {'label': 'LABEL_1', 'score': 0.935234785079956}, {'label': 'LABEL_1', 'score': 0.8044723868370056}, {'label': 'LABEL_1', 'score': 0.5228407382965088}, {'label': 'LABEL_1', 'score': 0.9093123078346252}, {'label': 'LABEL_1', 'score': 0.9109227061271667}, {'label': 'LABEL_1', 'score': 0.9100505709648132}, {'label': 'LABEL_1', 'score': 0.9156542420387268}, {'label': 'LABEL_2', 'score': 0.6920775771141052}, {'label': 'LABEL_2', 'score': 0.789817750453949}, {'label': 'LABEL_1', 'score': 0.9253719449043274}, {'label': 'LABEL_2', 'score': 0.6294866800308228}, {'label': 'LABEL_1', 'score': 0.911941409111023}, {'label': 'LABEL_2', 'score': 0.8192251324653625}, {'label': 'LABEL_0', 'score': 0.5376437902450562}, {'label': 'LABEL_2', 'score': 0.9264310002326965}, {'label': 'LABEL_1', 'score': 0.7781054973602295}, {'label': 'LABEL_1', 'score': 0.9161275625228882}, {'label': 'LABEL_1', 'score': 0.9095536470413208}, {'label': 'LABEL_0', 'score': 0.8804240822792053}, {'label': 'LABEL_0', 'score': 0.9305145144462585}, {'label': 'LABEL_1', 'score': 0.7119144797325134}, {'label': 'LABEL_1', 'score': 0.778066873550415}, {'label': 'LABEL_2', 'score': 0.883256196975708}, {'label': 'LABEL_1', 'score': 0.9160525798797607}, {'label': 'LABEL_1', 'score': 0.915715754032135}, {'label': 'LABEL_1', 'score': 0.8837180137634277}, {'label': 'LABEL_1', 'score': 0.901282787322998}, {'label': 'LABEL_1', 'score': 0.8187846541404724}, {'label': 'LABEL_1', 'score': 0.9333050847053528}, {'label': 'LABEL_1', 'score': 0.9075763821601868}, {'label': 'LABEL_1', 'score': 0.7483075857162476}, {'label': 'LABEL_2', 'score': 0.9302321076393127}, {'label': 'LABEL_1', 'score': 0.8349090218544006}, {'label': 'LABEL_0', 'score': 0.7482426166534424}, {'label': 'LABEL_1', 'score': 0.9197295308113098}, {'label': 'LABEL_2', 'score': 0.9474383592605591}, {'label': 'LABEL_1', 'score': 0.5746285319328308}, {'label': 'LABEL_1', 'score': 0.9051753878593445}, {'label': 'LABEL_0', 'score': 0.9492204189300537}, {'label': 'LABEL_1', 'score': 0.9099476337432861}, {'label': 'LABEL_1', 'score': 0.916850745677948}, {'label': 'LABEL_1', 'score': 0.9155606031417847}, {'label': 'LABEL_1', 'score': 0.9096156358718872}, {'label': 'LABEL_1', 'score': 0.931730329990387}, {'label': 'LABEL_1', 'score': 0.919064998626709}, {'label': 'LABEL_1', 'score': 0.9161089062690735}, {'label': 'LABEL_1', 'score': 0.9208454489707947}, {'label': 'LABEL_1', 'score': 0.9300780296325684}, {'label': 'LABEL_1', 'score': 0.573133111000061}, {'label': 'LABEL_2', 'score': 0.6187271475791931}, {'label': 'LABEL_1', 'score': 0.8541180491447449}, {'label': 'LABEL_1', 'score': 0.5948312878608704}, {'label': 'LABEL_1', 'score': 0.912990927696228}, {'label': 'LABEL_1', 'score': 0.9081810712814331}, {'label': 'LABEL_1', 'score': 0.9240090847015381}, {'label': 'LABEL_1', 'score': 0.9119478464126587}, {'label': 'LABEL_1', 'score': 0.908832311630249}, {'label': 'LABEL_1', 'score': 0.716417133808136}, {'label': 'LABEL_2', 'score': 0.7604698538780212}, {'label': 'LABEL_1', 'score': 0.8964935541152954}, {'label': 'LABEL_1', 'score': 0.8969661593437195}, {'label': 'LABEL_1', 'score': 0.49873143434524536}, {'label': 'LABEL_1', 'score': 0.9204726815223694}, {'label': 'LABEL_2', 'score': 0.6867222785949707}, {'label': 'LABEL_2', 'score': 0.9391412138938904}, {'label': 'LABEL_1', 'score': 0.6789194941520691}, {'label': 'LABEL_1', 'score': 0.924765408039093}, {'label': 'LABEL_1', 'score': 0.8797208666801453}, {'label': 'LABEL_2', 'score': 0.7465479969978333}, {'label': 'LABEL_2', 'score': 0.9649422764778137}, {'label': 'LABEL_1', 'score': 0.8957985043525696}, {'label': 'LABEL_1', 'score': 0.7871569395065308}, {'label': 'LABEL_1', 'score': 0.6122303605079651}, {'label': 'LABEL_1', 'score': 0.899652361869812}, {'label': 'LABEL_1', 'score': 0.9176223278045654}, {'label': 'LABEL_2', 'score': 0.8234148621559143}, {'label': 'LABEL_1', 'score': 0.9124228358268738}, {'label': 'LABEL_1', 'score': 0.9232361316680908}, {'label': 'LABEL_2', 'score': 0.9670094847679138}, {'label': 'LABEL_1', 'score': 0.9229942560195923}, {'label': 'LABEL_2', 'score': 0.9476296901702881}, {'label': 'LABEL_1', 'score': 0.9096381068229675}, {'label': 'LABEL_1', 'score': 0.870550811290741}, {'label': 'LABEL_1', 'score': 0.897424578666687}, {'label': 'LABEL_1', 'score': 0.8357513546943665}, {'label': 'LABEL_1', 'score': 0.8936296701431274}, {'label': 'LABEL_1', 'score': 0.9187673926353455}, {'label': 'LABEL_2', 'score': 0.6549225449562073}, {'label': 'LABEL_1', 'score': 0.9263586401939392}, {'label': 'LABEL_2', 'score': 0.9228186011314392}, {'label': 'LABEL_1', 'score': 0.93657386302948}, {'label': 'LABEL_1', 'score': 0.9029403924942017}, {'label': 'LABEL_1', 'score': 0.8991661071777344}, {'label': 'LABEL_1', 'score': 0.92340087890625}, {'label': 'LABEL_1', 'score': 0.8759322762489319}, {'label': 'LABEL_2', 'score': 0.8423058986663818}, {'label': 'LABEL_1', 'score': 0.8248277306556702}, {'label': 'LABEL_1', 'score': 0.9082649946212769}, {'label': 'LABEL_1', 'score': 0.9405412077903748}, {'label': 'LABEL_1', 'score': 0.6995505690574646}, {'label': 'LABEL_1', 'score': 0.9041921496391296}, {'label': 'LABEL_1', 'score': 0.9195544719696045}, {'label': 'LABEL_2', 'score': 0.9640271663665771}, {'label': 'LABEL_2', 'score': 0.9181020259857178}, {'label': 'LABEL_1', 'score': 0.9228466153144836}, {'label': 'LABEL_2', 'score': 0.9766601920127869}, {'label': 'LABEL_1', 'score': 0.9300141930580139}, {'label': 'LABEL_2', 'score': 0.4903033971786499}, {'label': 'LABEL_1', 'score': 0.8684232831001282}, {'label': 'LABEL_0', 'score': 0.874873161315918}, {'label': 'LABEL_1', 'score': 0.9223172068595886}, {'label': 'LABEL_2', 'score': 0.785001277923584}, {'label': 'LABEL_1', 'score': 0.8898682594299316}, {'label': 'LABEL_1', 'score': 0.6981682777404785}, {'label': 'LABEL_1', 'score': 0.9237159490585327}, {'label': 'LABEL_2', 'score': 0.969049870967865}, {'label': 'LABEL_2', 'score': 0.978269636631012}, {'label': 'LABEL_1', 'score': 0.5900615453720093}, {'label': 'LABEL_2', 'score': 0.9569462537765503}, {'label': 'LABEL_1', 'score': 0.8805296421051025}, {'label': 'LABEL_1', 'score': 0.9164122343063354}, {'label': 'LABEL_1', 'score': 0.9143550992012024}, {'label': 'LABEL_1', 'score': 0.9064623713493347}, {'label': 'LABEL_2', 'score': 0.7323917746543884}, {'label': 'LABEL_1', 'score': 0.9190247058868408}, {'label': 'LABEL_1', 'score': 0.8953319787979126}, {'label': 'LABEL_1', 'score': 0.9117777347564697}, {'label': 'LABEL_1', 'score': 0.9274607300758362}, {'label': 'LABEL_1', 'score': 0.9240450859069824}, {'label': 'LABEL_1', 'score': 0.9352545142173767}, {'label': 'LABEL_1', 'score': 0.9322437047958374}, {'label': 'LABEL_1', 'score': 0.7290651202201843}, {'label': 'LABEL_1', 'score': 0.8323606848716736}, {'label': 'LABEL_1', 'score': 0.9255343079566956}, {'label': 'LABEL_1', 'score': 0.9306359887123108}, {'label': 'LABEL_1', 'score': 0.9229557514190674}, {'label': 'LABEL_0', 'score': 0.49845924973487854}, {'label': 'LABEL_1', 'score': 0.9200338125228882}, {'label': 'LABEL_1', 'score': 0.6330868005752563}, {'label': 'LABEL_1', 'score': 0.9316251873970032}, {'label': 'LABEL_1', 'score': 0.8953351378440857}, {'label': 'LABEL_1', 'score': 0.9259336590766907}, {'label': 'LABEL_1', 'score': 0.9339507222175598}, {'label': 'LABEL_0', 'score': 0.728898823261261}, {'label': 'LABEL_1', 'score': 0.9169856309890747}, {'label': 'LABEL_2', 'score': 0.9658147692680359}, {'label': 'LABEL_1', 'score': 0.9244677424430847}, {'label': 'LABEL_1', 'score': 0.8290920257568359}, {'label': 'LABEL_1', 'score': 0.9002186059951782}, {'label': 'LABEL_1', 'score': 0.9206394553184509}, {'label': 'LABEL_1', 'score': 0.9027764797210693}, {'label': 'LABEL_1', 'score': 0.8576186895370483}, {'label': 'LABEL_1', 'score': 0.8210057020187378}, {'label': 'LABEL_1', 'score': 0.9169908165931702}, {'label': 'LABEL_2', 'score': 0.9726579189300537}, {'label': 'LABEL_1', 'score': 0.9045109748840332}, {'label': 'LABEL_1', 'score': 0.9127413630485535}, {'label': 'LABEL_1', 'score': 0.9257592558860779}, {'label': 'LABEL_1', 'score': 0.8650314211845398}, {'label': 'LABEL_1', 'score': 0.8905404210090637}, {'label': 'LABEL_1', 'score': 0.9079726934432983}, {'label': 'LABEL_2', 'score': 0.627448320388794}, {'label': 'LABEL_1', 'score': 0.5898398160934448}, {'label': 'LABEL_1', 'score': 0.5801221132278442}, {'label': 'LABEL_1', 'score': 0.9410029649734497}, {'label': 'LABEL_1', 'score': 0.9514878392219543}, {'label': 'LABEL_1', 'score': 0.854866087436676}, {'label': 'LABEL_1', 'score': 0.9358445405960083}, {'label': 'LABEL_1', 'score': 0.9174919724464417}, {'label': 'LABEL_2', 'score': 0.7596503496170044}, {'label': 'LABEL_1', 'score': 0.9184672236442566}, {'label': 'LABEL_1', 'score': 0.927273690700531}, {'label': 'LABEL_1', 'score': 0.5948343276977539}, {'label': 'LABEL_1', 'score': 0.6927653551101685}, {'label': 'LABEL_1', 'score': 0.5220041871070862}, {'label': 'LABEL_1', 'score': 0.5933554172515869}, {'label': 'LABEL_1', 'score': 0.92011958360672}, {'label': 'LABEL_1', 'score': 0.5640671849250793}, {'label': 'LABEL_0', 'score': 0.917323112487793}, {'label': 'LABEL_2', 'score': 0.974012553691864}, {'label': 'LABEL_2', 'score': 0.852352499961853}, {'label': 'LABEL_1', 'score': 0.9063898921012878}, {'label': 'LABEL_1', 'score': 0.9276258945465088}, {'label': 'LABEL_1', 'score': 0.8995264768600464}, {'label': 'LABEL_1', 'score': 0.7047883868217468}, {'label': 'LABEL_1', 'score': 0.901704728603363}, {'label': 'LABEL_1', 'score': 0.9008099436759949}, {'label': 'LABEL_1', 'score': 0.9038635492324829}, {'label': 'LABEL_1', 'score': 0.9295920133590698}, {'label': 'LABEL_1', 'score': 0.9113067388534546}, {'label': 'LABEL_2', 'score': 0.967194676399231}, {'label': 'LABEL_1', 'score': 0.5173132419586182}, {'label': 'LABEL_1', 'score': 0.9336327910423279}, {'label': 'LABEL_1', 'score': 0.9045019149780273}, {'label': 'LABEL_2', 'score': 0.960929274559021}, {'label': 'LABEL_1', 'score': 0.908428966999054}, {'label': 'LABEL_2', 'score': 0.9563459753990173}, {'label': 'LABEL_1', 'score': 0.9025180339813232}, {'label': 'LABEL_1', 'score': 0.7043818831443787}, {'label': 'LABEL_1', 'score': 0.9201919436454773}, {'label': 'LABEL_0', 'score': 0.5283498764038086}, {'label': 'LABEL_1', 'score': 0.9126319885253906}, {'label': 'LABEL_0', 'score': 0.5060464143753052}, {'label': 'LABEL_1', 'score': 0.9374569058418274}, {'label': 'LABEL_1', 'score': 0.8836873769760132}, {'label': 'LABEL_1', 'score': 0.6626984477043152}, {'label': 'LABEL_1', 'score': 0.9259588718414307}, {'label': 'LABEL_2', 'score': 0.9634743332862854}, {'label': 'LABEL_1', 'score': 0.845869779586792}, {'label': 'LABEL_2', 'score': 0.8061420321464539}, {'label': 'LABEL_1', 'score': 0.9364713430404663}, {'label': 'LABEL_1', 'score': 0.9514820575714111}, {'label': 'LABEL_1', 'score': 0.9259740114212036}, {'label': 'LABEL_1', 'score': 0.9002419114112854}, {'label': 'LABEL_1', 'score': 0.9371671080589294}, {'label': 'LABEL_2', 'score': 0.9188070297241211}, {'label': 'LABEL_1', 'score': 0.8614817261695862}, {'label': 'LABEL_1', 'score': 0.6464616060256958}, {'label': 'LABEL_1', 'score': 0.9363799691200256}, {'label': 'LABEL_1', 'score': 0.9264352321624756}, {'label': 'LABEL_1', 'score': 0.9311078786849976}, {'label': 'LABEL_1', 'score': 0.9278050661087036}, {'label': 'LABEL_1', 'score': 0.8927777409553528}, {'label': 'LABEL_1', 'score': 0.560103178024292}, {'label': 'LABEL_1', 'score': 0.9340822696685791}, {'label': 'LABEL_1', 'score': 0.7365063428878784}, {'label': 'LABEL_1', 'score': 0.9217429757118225}, {'label': 'LABEL_1', 'score': 0.9496091604232788}, {'label': 'LABEL_1', 'score': 0.7370595335960388}, {'label': 'LABEL_1', 'score': 0.8530370593070984}, {'label': 'LABEL_2', 'score': 0.8113439679145813}, {'label': 'LABEL_1', 'score': 0.941457211971283}, {'label': 'LABEL_1', 'score': 0.9276357293128967}, {'label': 'LABEL_1', 'score': 0.9311490654945374}, {'label': 'LABEL_1', 'score': 0.7988370656967163}, {'label': 'LABEL_1', 'score': 0.6687366366386414}, {'label': 'LABEL_1', 'score': 0.5702254176139832}, {'label': 'LABEL_1', 'score': 0.9181160926818848}, {'label': 'LABEL_2', 'score': 0.676511287689209}, {'label': 'LABEL_2', 'score': 0.9516212344169617}, {'label': 'LABEL_1', 'score': 0.933367908000946}, {'label': 'LABEL_1', 'score': 0.9156123995780945}, {'label': 'LABEL_2', 'score': 0.9727537631988525}, {'label': 'LABEL_1', 'score': 0.9248351454734802}, {'label': 'LABEL_1', 'score': 0.9144327044487}, {'label': 'LABEL_1', 'score': 0.9328311085700989}, {'label': 'LABEL_2', 'score': 0.6222528219223022}, {'label': 'LABEL_1', 'score': 0.9501005411148071}, {'label': 'LABEL_1', 'score': 0.5048897862434387}, {'label': 'LABEL_1', 'score': 0.8436852097511292}, {'label': 'LABEL_1', 'score': 0.9389930367469788}, {'label': 'LABEL_1', 'score': 0.726272702217102}, {'label': 'LABEL_1', 'score': 0.6285519599914551}, {'label': 'LABEL_2', 'score': 0.789404034614563}, {'label': 'LABEL_1', 'score': 0.9379594922065735}, {'label': 'LABEL_2', 'score': 0.9461618065834045}, {'label': 'LABEL_1', 'score': 0.8378454446792603}, {'label': 'LABEL_2', 'score': 0.966465175151825}, {'label': 'LABEL_1', 'score': 0.9040516018867493}, {'label': 'LABEL_2', 'score': 0.5114736557006836}, {'label': 'LABEL_1', 'score': 0.689653217792511}, {'label': 'LABEL_1', 'score': 0.9311271905899048}, {'label': 'LABEL_1', 'score': 0.9128153920173645}, {'label': 'LABEL_2', 'score': 0.9735111594200134}, {'label': 'LABEL_1', 'score': 0.9100285172462463}, {'label': 'LABEL_1', 'score': 0.7733584046363831}, {'label': 'LABEL_1', 'score': 0.9051395654678345}, {'label': 'LABEL_1', 'score': 0.9169955253601074}, {'label': 'LABEL_1', 'score': 0.9010780453681946}, {'label': 'LABEL_1', 'score': 0.723018229007721}, {'label': 'LABEL_1', 'score': 0.9316229224205017}, {'label': 'LABEL_1', 'score': 0.9193065166473389}, {'label': 'LABEL_1', 'score': 0.7524609565734863}, {'label': 'LABEL_1', 'score': 0.8763895630836487}, {'label': 'LABEL_1', 'score': 0.9268282055854797}, {'label': 'LABEL_1', 'score': 0.9149545431137085}, {'label': 'LABEL_1', 'score': 0.8898114562034607}, {'label': 'LABEL_1', 'score': 0.9152047634124756}, {'label': 'LABEL_1', 'score': 0.9180196523666382}, {'label': 'LABEL_1', 'score': 0.9209299087524414}, {'label': 'LABEL_0', 'score': 0.7892141938209534}, {'label': 'LABEL_2', 'score': 0.9454199075698853}, {'label': 'LABEL_1', 'score': 0.9256271123886108}, {'label': 'LABEL_1', 'score': 0.6472753286361694}, {'label': 'LABEL_1', 'score': 0.9237363934516907}, {'label': 'LABEL_2', 'score': 0.9320288896560669}, {'label': 'LABEL_1', 'score': 0.9038295745849609}, {'label': 'LABEL_2', 'score': 0.9084827303886414}, {'label': 'LABEL_1', 'score': 0.7718100547790527}, {'label': 'LABEL_1', 'score': 0.9119769930839539}, {'label': 'LABEL_1', 'score': 0.8606854677200317}, {'label': 'LABEL_1', 'score': 0.9183534383773804}, {'label': 'LABEL_1', 'score': 0.9344666004180908}, {'label': 'LABEL_1', 'score': 0.9150509238243103}, {'label': 'LABEL_1', 'score': 0.921133279800415}, {'label': 'LABEL_1', 'score': 0.9235803484916687}, {'label': 'LABEL_1', 'score': 0.9213484525680542}, {'label': 'LABEL_1', 'score': 0.5821279287338257}, {'label': 'LABEL_2', 'score': 0.9693087935447693}, {'label': 'LABEL_1', 'score': 0.9168897271156311}, {'label': 'LABEL_1', 'score': 0.9220483303070068}, {'label': 'LABEL_1', 'score': 0.9227643609046936}, {'label': 'LABEL_1', 'score': 0.9339928030967712}, {'label': 'LABEL_2', 'score': 0.6782479882240295}, {'label': 'LABEL_1', 'score': 0.9184723496437073}, {'label': 'LABEL_1', 'score': 0.9339107871055603}, {'label': 'LABEL_2', 'score': 0.6045842170715332}], [{'label': 'LABEL_1', 'score': 0.8393813371658325}, {'label': 'LABEL_1', 'score': 0.7174496650695801}, {'label': 'LABEL_1', 'score': 0.884763777256012}, {'label': 'LABEL_1', 'score': 0.9358113408088684}, {'label': 'LABEL_1', 'score': 0.889350950717926}, {'label': 'LABEL_1', 'score': 0.933548092842102}, {'label': 'LABEL_1', 'score': 0.9153602123260498}, {'label': 'LABEL_1', 'score': 0.896537721157074}, {'label': 'LABEL_1', 'score': 0.8331789374351501}, {'label': 'LABEL_0', 'score': 0.8847792744636536}, {'label': 'LABEL_1', 'score': 0.8457348942756653}, {'label': 'LABEL_2', 'score': 0.7571431398391724}, {'label': 'LABEL_1', 'score': 0.8912141919136047}, {'label': 'LABEL_1', 'score': 0.8938664793968201}, {'label': 'LABEL_0', 'score': 0.8555335402488708}, {'label': 'LABEL_1', 'score': 0.9371830224990845}, {'label': 'LABEL_1', 'score': 0.9201333522796631}, {'label': 'LABEL_1', 'score': 0.9339380860328674}, {'label': 'LABEL_1', 'score': 0.9266279339790344}, {'label': 'LABEL_1', 'score': 0.8973388075828552}, {'label': 'LABEL_2', 'score': 0.8746021389961243}, {'label': 'LABEL_1', 'score': 0.9027290940284729}, {'label': 'LABEL_1', 'score': 0.5019400119781494}, {'label': 'LABEL_1', 'score': 0.574134886264801}, {'label': 'LABEL_1', 'score': 0.9259756803512573}, {'label': 'LABEL_1', 'score': 0.9152492880821228}, {'label': 'LABEL_1', 'score': 0.9025484323501587}, {'label': 'LABEL_1', 'score': 0.9193114042282104}, {'label': 'LABEL_1', 'score': 0.9402284622192383}, {'label': 'LABEL_1', 'score': 0.9302734732627869}, {'label': 'LABEL_2', 'score': 0.945650041103363}, {'label': 'LABEL_2', 'score': 0.9451366662979126}, {'label': 'LABEL_1', 'score': 0.9104078412055969}, {'label': 'LABEL_1', 'score': 0.9047077298164368}, {'label': 'LABEL_2', 'score': 0.6820315718650818}, {'label': 'LABEL_1', 'score': 0.8808390498161316}, {'label': 'LABEL_1', 'score': 0.6993064880371094}, {'label': 'LABEL_1', 'score': 0.8964118957519531}, {'label': 'LABEL_1', 'score': 0.9398034811019897}, {'label': 'LABEL_1', 'score': 0.8078444600105286}, {'label': 'LABEL_1', 'score': 0.9239889979362488}, {'label': 'LABEL_1', 'score': 0.9211340546607971}, {'label': 'LABEL_1', 'score': 0.9319785833358765}, {'label': 'LABEL_2', 'score': 0.8898091316223145}, {'label': 'LABEL_1', 'score': 0.9105216264724731}, {'label': 'LABEL_1', 'score': 0.9057941436767578}, {'label': 'LABEL_2', 'score': 0.49616286158561707}, {'label': 'LABEL_1', 'score': 0.5412774085998535}, {'label': 'LABEL_1', 'score': 0.9145368933677673}, {'label': 'LABEL_0', 'score': 0.9312942624092102}, {'label': 'LABEL_1', 'score': 0.9202172756195068}, {'label': 'LABEL_1', 'score': 0.5415005683898926}, {'label': 'LABEL_1', 'score': 0.9033722281455994}, {'label': 'LABEL_1', 'score': 0.7780848741531372}, {'label': 'LABEL_1', 'score': 0.9043896794319153}, {'label': 'LABEL_1', 'score': 0.9415808320045471}, {'label': 'LABEL_1', 'score': 0.9316632747650146}, {'label': 'LABEL_1', 'score': 0.8871002197265625}, {'label': 'LABEL_1', 'score': 0.9300343990325928}, {'label': 'LABEL_1', 'score': 0.8760122060775757}, {'label': 'LABEL_1', 'score': 0.8479841351509094}, {'label': 'LABEL_1', 'score': 0.7170687317848206}, {'label': 'LABEL_1', 'score': 0.7575546503067017}, {'label': 'LABEL_1', 'score': 0.5379838347434998}, {'label': 'LABEL_1', 'score': 0.8085688352584839}, {'label': 'LABEL_1', 'score': 0.5031728744506836}, {'label': 'LABEL_1', 'score': 0.5031833648681641}, {'label': 'LABEL_1', 'score': 0.5031949281692505}, {'label': 'LABEL_1', 'score': 0.5119559168815613}, {'label': 'LABEL_1', 'score': 0.7170752882957458}, {'label': 'LABEL_1', 'score': 0.5032030344009399}, {'label': 'LABEL_1', 'score': 0.5747719407081604}, {'label': 'LABEL_1', 'score': 0.8082868456840515}, {'label': 'LABEL_1', 'score': 0.7575517296791077}, {'label': 'LABEL_1', 'score': 0.5031190514564514}, {'label': 'LABEL_1', 'score': 0.9267371296882629}, {'label': 'LABEL_1', 'score': 0.5031725764274597}, {'label': 'LABEL_2', 'score': 0.9666811227798462}, {'label': 'LABEL_1', 'score': 0.5031725764274597}, {'label': 'LABEL_1', 'score': 0.5031731128692627}, {'label': 'LABEL_1', 'score': 0.5119834542274475}, {'label': 'LABEL_1', 'score': 0.7170682549476624}, {'label': 'LABEL_1', 'score': 0.5747444033622742}, {'label': 'LABEL_1', 'score': 0.8082635402679443}, {'label': 'LABEL_1', 'score': 0.9353834390640259}, {'label': 'LABEL_1', 'score': 0.930573046207428}, {'label': 'LABEL_1', 'score': 0.8955250978469849}, {'label': 'LABEL_1', 'score': 0.9424675107002258}, {'label': 'LABEL_1', 'score': 0.9216009378433228}, {'label': 'LABEL_1', 'score': 0.7575482130050659}, {'label': 'LABEL_1', 'score': 0.5031603574752808}, {'label': 'LABEL_1', 'score': 0.503147542476654}, {'label': 'LABEL_1', 'score': 0.8551592230796814}, {'label': 'LABEL_1', 'score': 0.6396700143814087}, {'label': 'LABEL_1', 'score': 0.8391001224517822}, {'label': 'LABEL_0', 'score': 0.8058304786682129}, {'label': 'LABEL_0', 'score': 0.9022636413574219}, {'label': 'LABEL_1', 'score': 0.8203672766685486}, {'label': 'LABEL_1', 'score': 0.5691125988960266}, {'label': 'LABEL_1', 'score': 0.9351176023483276}, {'label': 'LABEL_1', 'score': 0.9361454844474792}, {'label': 'LABEL_1', 'score': 0.9334012866020203}, {'label': 'LABEL_1', 'score': 0.9206443428993225}, {'label': 'LABEL_0', 'score': 0.8838324546813965}, {'label': 'LABEL_1', 'score': 0.7434676885604858}, {'label': 'LABEL_1', 'score': 0.8225650787353516}, {'label': 'LABEL_1', 'score': 0.9163936972618103}, {'label': 'LABEL_0', 'score': 0.8691343069076538}, {'label': 'LABEL_1', 'score': 0.857866644859314}, {'label': 'LABEL_1', 'score': 0.9240455031394958}, {'label': 'LABEL_1', 'score': 0.8749253153800964}, {'label': 'LABEL_1', 'score': 0.8178673386573792}, {'label': 'LABEL_1', 'score': 0.8976689577102661}, {'label': 'LABEL_2', 'score': 0.9571178555488586}, {'label': 'LABEL_1', 'score': 0.6737135648727417}, {'label': 'LABEL_1', 'score': 0.9239388704299927}, {'label': 'LABEL_1', 'score': 0.9084917306900024}, {'label': 'LABEL_1', 'score': 0.9338595867156982}, {'label': 'LABEL_2', 'score': 0.969365119934082}, {'label': 'LABEL_2', 'score': 0.8374252915382385}, {'label': 'LABEL_1', 'score': 0.9290854930877686}, {'label': 'LABEL_0', 'score': 0.594409704208374}, {'label': 'LABEL_1', 'score': 0.9348851442337036}, {'label': 'LABEL_1', 'score': 0.9384178519248962}, {'label': 'LABEL_1', 'score': 0.9055759906768799}, {'label': 'LABEL_1', 'score': 0.8703528642654419}, {'label': 'LABEL_1', 'score': 0.8234555125236511}, {'label': 'LABEL_1', 'score': 0.934709370136261}, {'label': 'LABEL_1', 'score': 0.8934710025787354}, {'label': 'LABEL_1', 'score': 0.9140582084655762}, {'label': 'LABEL_2', 'score': 0.9594852924346924}, {'label': 'LABEL_1', 'score': 0.9037523865699768}, {'label': 'LABEL_1', 'score': 0.942348301410675}, {'label': 'LABEL_1', 'score': 0.8223119378089905}, {'label': 'LABEL_1', 'score': 0.9229739308357239}, {'label': 'LABEL_1', 'score': 0.9316011667251587}, {'label': 'LABEL_2', 'score': 0.9570589065551758}, {'label': 'LABEL_1', 'score': 0.9363637566566467}, {'label': 'LABEL_1', 'score': 0.9207979440689087}, {'label': 'LABEL_2', 'score': 0.8035551905632019}, {'label': 'LABEL_1', 'score': 0.8957170844078064}, {'label': 'LABEL_1', 'score': 0.9429156184196472}, {'label': 'LABEL_1', 'score': 0.8969402313232422}, {'label': 'LABEL_1', 'score': 0.8758699297904968}, {'label': 'LABEL_1', 'score': 0.9100226163864136}, {'label': 'LABEL_1', 'score': 0.9162782430648804}, {'label': 'LABEL_1', 'score': 0.9273810386657715}, {'label': 'LABEL_1', 'score': 0.9321637749671936}, {'label': 'LABEL_1', 'score': 0.7917394638061523}, {'label': 'LABEL_1', 'score': 0.896483838558197}, {'label': 'LABEL_1', 'score': 0.9221247434616089}, {'label': 'LABEL_1', 'score': 0.8832353949546814}, {'label': 'LABEL_1', 'score': 0.8458688855171204}, {'label': 'LABEL_1', 'score': 0.9197429418563843}, {'label': 'LABEL_1', 'score': 0.9002007246017456}, {'label': 'LABEL_1', 'score': 0.8569355607032776}, {'label': 'LABEL_1', 'score': 0.9092985391616821}, {'label': 'LABEL_2', 'score': 0.8566315770149231}, {'label': 'LABEL_1', 'score': 0.9034781455993652}, {'label': 'LABEL_2', 'score': 0.9754568338394165}, {'label': 'LABEL_1', 'score': 0.48941734433174133}, {'label': 'LABEL_1', 'score': 0.7786259055137634}, {'label': 'LABEL_1', 'score': 0.8720661401748657}, {'label': 'LABEL_1', 'score': 0.9464181065559387}, {'label': 'LABEL_1', 'score': 0.8610831499099731}, {'label': 'LABEL_0', 'score': 0.7004827857017517}, {'label': 'LABEL_2', 'score': 0.9719082117080688}, {'label': 'LABEL_1', 'score': 0.9484924674034119}, {'label': 'LABEL_1', 'score': 0.8668044209480286}, {'label': 'LABEL_1', 'score': 0.9069801568984985}, {'label': 'LABEL_1', 'score': 0.6571663618087769}, {'label': 'LABEL_1', 'score': 0.9108434915542603}, {'label': 'LABEL_1', 'score': 0.6196733713150024}, {'label': 'LABEL_1', 'score': 0.940447211265564}, {'label': 'LABEL_1', 'score': 0.9111616611480713}, {'label': 'LABEL_1', 'score': 0.9329652190208435}, {'label': 'LABEL_2', 'score': 0.9081620573997498}, {'label': 'LABEL_1', 'score': 0.9174515604972839}, {'label': 'LABEL_1', 'score': 0.8161154389381409}, {'label': 'LABEL_1', 'score': 0.910129725933075}, {'label': 'LABEL_1', 'score': 0.9167565703392029}, {'label': 'LABEL_1', 'score': 0.56019526720047}, {'label': 'LABEL_1', 'score': 0.9285104870796204}, {'label': 'LABEL_1', 'score': 0.9247023463249207}, {'label': 'LABEL_0', 'score': 0.5416225790977478}, {'label': 'LABEL_1', 'score': 0.8516685366630554}, {'label': 'LABEL_1', 'score': 0.9210457801818848}, {'label': 'LABEL_1', 'score': 0.9282389283180237}, {'label': 'LABEL_1', 'score': 0.9240908026695251}, {'label': 'LABEL_1', 'score': 0.9432517886161804}, {'label': 'LABEL_1', 'score': 0.9337050914764404}, {'label': 'LABEL_1', 'score': 0.8708370327949524}, {'label': 'LABEL_2', 'score': 0.9740536212921143}, {'label': 'LABEL_2', 'score': 0.5976327061653137}, {'label': 'LABEL_1', 'score': 0.9347993731498718}, {'label': 'LABEL_1', 'score': 0.9195032715797424}, {'label': 'LABEL_1', 'score': 0.931423008441925}, {'label': 'LABEL_1', 'score': 0.9048720598220825}, {'label': 'LABEL_1', 'score': 0.9054378867149353}, {'label': 'LABEL_1', 'score': 0.930332601070404}, {'label': 'LABEL_1', 'score': 0.8657463192939758}, {'label': 'LABEL_2', 'score': 0.6205604672431946}, {'label': 'LABEL_2', 'score': 0.5044581294059753}, {'label': 'LABEL_1', 'score': 0.6365184187889099}, {'label': 'LABEL_1', 'score': 0.9071776866912842}, {'label': 'LABEL_1', 'score': 0.9317668080329895}, {'label': 'LABEL_1', 'score': 0.7769249677658081}, {'label': 'LABEL_1', 'score': 0.6087581515312195}, {'label': 'LABEL_1', 'score': 0.931945264339447}, {'label': 'LABEL_1', 'score': 0.9342796206474304}, {'label': 'LABEL_1', 'score': 0.8663837909698486}, {'label': 'LABEL_1', 'score': 0.9147828817367554}, {'label': 'LABEL_1', 'score': 0.9303457736968994}, {'label': 'LABEL_1', 'score': 0.5450957417488098}, {'label': 'LABEL_1', 'score': 0.9122570157051086}, {'label': 'LABEL_1', 'score': 0.9324407577514648}, {'label': 'LABEL_1', 'score': 0.9085403680801392}, {'label': 'LABEL_1', 'score': 0.9405800700187683}, {'label': 'LABEL_1', 'score': 0.7395849823951721}, {'label': 'LABEL_1', 'score': 0.9370468854904175}, {'label': 'LABEL_1', 'score': 0.877169668674469}, {'label': 'LABEL_1', 'score': 0.9391246438026428}, {'label': 'LABEL_1', 'score': 0.888773500919342}, {'label': 'LABEL_1', 'score': 0.9043055772781372}, {'label': 'LABEL_1', 'score': 0.8984341621398926}, {'label': 'LABEL_1', 'score': 0.9040208458900452}, {'label': 'LABEL_2', 'score': 0.9770782589912415}, {'label': 'LABEL_1', 'score': 0.9108251929283142}, {'label': 'LABEL_1', 'score': 0.9292231798171997}, {'label': 'LABEL_1', 'score': 0.7559900879859924}, {'label': 'LABEL_1', 'score': 0.7758564949035645}, {'label': 'LABEL_2', 'score': 0.9186903238296509}, {'label': 'LABEL_1', 'score': 0.8805506825447083}, {'label': 'LABEL_2', 'score': 0.9776188731193542}, {'label': 'LABEL_1', 'score': 0.8126423358917236}, {'label': 'LABEL_1', 'score': 0.8150998950004578}, {'label': 'LABEL_1', 'score': 0.5627933740615845}, {'label': 'LABEL_1', 'score': 0.9338313341140747}, {'label': 'LABEL_1', 'score': 0.9387602806091309}, {'label': 'LABEL_1', 'score': 0.9145800471305847}, {'label': 'LABEL_1', 'score': 0.666493833065033}, {'label': 'LABEL_1', 'score': 0.9242194294929504}, {'label': 'LABEL_1', 'score': 0.9432103633880615}, {'label': 'LABEL_1', 'score': 0.9432103633880615}, {'label': 'LABEL_1', 'score': 0.9181859493255615}, {'label': 'LABEL_1', 'score': 0.8984286785125732}, {'label': 'LABEL_1', 'score': 0.9139286279678345}, {'label': 'LABEL_1', 'score': 0.9285964369773865}, {'label': 'LABEL_1', 'score': 0.9370110630989075}, {'label': 'LABEL_1', 'score': 0.7815743684768677}, {'label': 'LABEL_1', 'score': 0.9197860360145569}, {'label': 'LABEL_1', 'score': 0.938118577003479}, {'label': 'LABEL_1', 'score': 0.912589967250824}, {'label': 'LABEL_1', 'score': 0.9361416697502136}, {'label': 'LABEL_0', 'score': 0.9282258749008179}, {'label': 'LABEL_1', 'score': 0.911420464515686}, {'label': 'LABEL_2', 'score': 0.9739986658096313}, {'label': 'LABEL_1', 'score': 0.9203205704689026}, {'label': 'LABEL_1', 'score': 0.931795597076416}, {'label': 'LABEL_1', 'score': 0.914417028427124}, {'label': 'LABEL_0', 'score': 0.7203871607780457}, {'label': 'LABEL_1', 'score': 0.9427289366722107}, {'label': 'LABEL_1', 'score': 0.9249662160873413}, {'label': 'LABEL_1', 'score': 0.6830216646194458}, {'label': 'LABEL_2', 'score': 0.7975570559501648}, {'label': 'LABEL_1', 'score': 0.9140251874923706}, {'label': 'LABEL_1', 'score': 0.9264666438102722}, {'label': 'LABEL_1', 'score': 0.9114540815353394}, {'label': 'LABEL_1', 'score': 0.6151251792907715}, {'label': 'LABEL_1', 'score': 0.8003169298171997}, {'label': 'LABEL_2', 'score': 0.9035654664039612}, {'label': 'LABEL_1', 'score': 0.9456186294555664}, {'label': 'LABEL_1', 'score': 0.9125880599021912}, {'label': 'LABEL_1', 'score': 0.9165076613426208}, {'label': 'LABEL_1', 'score': 0.9340932369232178}, {'label': 'LABEL_1', 'score': 0.9236096739768982}, {'label': 'LABEL_2', 'score': 0.9434974193572998}, {'label': 'LABEL_1', 'score': 0.7949996590614319}, {'label': 'LABEL_1', 'score': 0.6578935980796814}, {'label': 'LABEL_1', 'score': 0.9215090870857239}, {'label': 'LABEL_2', 'score': 0.6568734049797058}, {'label': 'LABEL_2', 'score': 0.9384378790855408}, {'label': 'LABEL_1', 'score': 0.7529110312461853}, {'label': 'LABEL_1', 'score': 0.9309467077255249}, {'label': 'LABEL_2', 'score': 0.7366018891334534}, {'label': 'LABEL_1', 'score': 0.7830496430397034}, {'label': 'LABEL_1', 'score': 0.6100623607635498}, {'label': 'LABEL_1', 'score': 0.8199364542961121}, {'label': 'LABEL_1', 'score': 0.9146641492843628}, {'label': 'LABEL_1', 'score': 0.8996312618255615}, {'label': 'LABEL_1', 'score': 0.882472038269043}, {'label': 'LABEL_1', 'score': 0.897442102432251}, {'label': 'LABEL_1', 'score': 0.9088847041130066}, {'label': 'LABEL_2', 'score': 0.7106620669364929}, {'label': 'LABEL_1', 'score': 0.9023683071136475}, {'label': 'LABEL_1', 'score': 0.9049055576324463}, {'label': 'LABEL_1', 'score': 0.9079005122184753}, {'label': 'LABEL_1', 'score': 0.9191555380821228}, {'label': 'LABEL_1', 'score': 0.5455473065376282}, {'label': 'LABEL_0', 'score': 0.8421596884727478}, {'label': 'LABEL_1', 'score': 0.9117069840431213}, {'label': 'LABEL_1', 'score': 0.909899115562439}, {'label': 'LABEL_1', 'score': 0.8989502787590027}, {'label': 'LABEL_1', 'score': 0.9290221333503723}, {'label': 'LABEL_1', 'score': 0.9287598133087158}, {'label': 'LABEL_1', 'score': 0.8883565664291382}, {'label': 'LABEL_1', 'score': 0.9391841292381287}, {'label': 'LABEL_1', 'score': 0.9204372763633728}, {'label': 'LABEL_1', 'score': 0.8853837847709656}, {'label': 'LABEL_1', 'score': 0.8478394746780396}, {'label': 'LABEL_1', 'score': 0.9413498044013977}, {'label': 'LABEL_1', 'score': 0.918190062046051}, {'label': 'LABEL_2', 'score': 0.6413004994392395}, {'label': 'LABEL_2', 'score': 0.9767479300498962}, {'label': 'LABEL_2', 'score': 0.6754648089408875}, {'label': 'LABEL_1', 'score': 0.9085183143615723}, {'label': 'LABEL_1', 'score': 0.8005849123001099}, {'label': 'LABEL_1', 'score': 0.9256168007850647}, {'label': 'LABEL_1', 'score': 0.924431324005127}, {'label': 'LABEL_1', 'score': 0.9127170443534851}, {'label': 'LABEL_2', 'score': 0.5455857515335083}, {'label': 'LABEL_1', 'score': 0.5228012800216675}, {'label': 'LABEL_1', 'score': 0.9237491488456726}, {'label': 'LABEL_2', 'score': 0.9085208773612976}, {'label': 'LABEL_1', 'score': 0.9048961400985718}, {'label': 'LABEL_2', 'score': 0.9619078040122986}, {'label': 'LABEL_0', 'score': 0.8958619832992554}, {'label': 'LABEL_1', 'score': 0.9517398476600647}, {'label': 'LABEL_1', 'score': 0.9445532560348511}, {'label': 'LABEL_1', 'score': 0.6222332119941711}, {'label': 'LABEL_1', 'score': 0.9174833297729492}, {'label': 'LABEL_1', 'score': 0.4941466450691223}, {'label': 'LABEL_1', 'score': 0.9466847777366638}, {'label': 'LABEL_1', 'score': 0.9207286238670349}, {'label': 'LABEL_1', 'score': 0.9206706881523132}, {'label': 'LABEL_2', 'score': 0.6298202872276306}, {'label': 'LABEL_1', 'score': 0.9250413179397583}, {'label': 'LABEL_0', 'score': 0.7408328056335449}, {'label': 'LABEL_2', 'score': 0.9761311411857605}, {'label': 'LABEL_1', 'score': 0.9116355180740356}, {'label': 'LABEL_1', 'score': 0.9132373332977295}, {'label': 'LABEL_1', 'score': 0.925392746925354}, {'label': 'LABEL_1', 'score': 0.9255316257476807}, {'label': 'LABEL_2', 'score': 0.8653018474578857}, {'label': 'LABEL_1', 'score': 0.5287940502166748}, {'label': 'LABEL_1', 'score': 0.9238652586936951}, {'label': 'LABEL_2', 'score': 0.8868654370307922}, {'label': 'LABEL_1', 'score': 0.9127138257026672}, {'label': 'LABEL_1', 'score': 0.8473230004310608}, {'label': 'LABEL_1', 'score': 0.9078180193901062}, {'label': 'LABEL_2', 'score': 0.957456111907959}, {'label': 'LABEL_1', 'score': 0.9283573627471924}, {'label': 'LABEL_1', 'score': 0.8276143670082092}, {'label': 'LABEL_1', 'score': 0.7821307182312012}, {'label': 'LABEL_1', 'score': 0.9089078903198242}, {'label': 'LABEL_0', 'score': 0.8755853772163391}, {'label': 'LABEL_1', 'score': 0.9323161244392395}, {'label': 'LABEL_1', 'score': 0.8942500352859497}, {'label': 'LABEL_0', 'score': 0.8590913414955139}, {'label': 'LABEL_1', 'score': 0.9335125684738159}, {'label': 'LABEL_1', 'score': 0.9209932684898376}, {'label': 'LABEL_1', 'score': 0.9111209511756897}, {'label': 'LABEL_1', 'score': 0.9324845671653748}, {'label': 'LABEL_0', 'score': 0.5503560900688171}, {'label': 'LABEL_2', 'score': 0.9572569131851196}, {'label': 'LABEL_1', 'score': 0.9409003257751465}, {'label': 'LABEL_2', 'score': 0.9324707388877869}, {'label': 'LABEL_1', 'score': 0.9200702905654907}, {'label': 'LABEL_1', 'score': 0.8672546744346619}, {'label': 'LABEL_1', 'score': 0.89923095703125}, {'label': 'LABEL_2', 'score': 0.9715425372123718}, {'label': 'LABEL_1', 'score': 0.9013609886169434}, {'label': 'LABEL_1', 'score': 0.5503789782524109}, {'label': 'LABEL_0', 'score': 0.9461345076560974}, {'label': 'LABEL_2', 'score': 0.9351062774658203}, {'label': 'LABEL_2', 'score': 0.6303157806396484}, {'label': 'LABEL_1', 'score': 0.7853403687477112}, {'label': 'LABEL_1', 'score': 0.5971519351005554}, {'label': 'LABEL_1', 'score': 0.785332202911377}, {'label': 'LABEL_1', 'score': 0.7879920601844788}, {'label': 'LABEL_2', 'score': 0.9720098376274109}, {'label': 'LABEL_1', 'score': 0.9483601450920105}, {'label': 'LABEL_1', 'score': 0.9018244743347168}, {'label': 'LABEL_1', 'score': 0.9259625673294067}, {'label': 'LABEL_1', 'score': 0.9060717821121216}, {'label': 'LABEL_2', 'score': 0.8630347847938538}, {'label': 'LABEL_1', 'score': 0.577147364616394}, {'label': 'LABEL_1', 'score': 0.574529230594635}, {'label': 'LABEL_1', 'score': 0.9244126081466675}, {'label': 'LABEL_1', 'score': 0.9222540259361267}, {'label': 'LABEL_1', 'score': 0.9116250276565552}, {'label': 'LABEL_1', 'score': 0.9326404929161072}, {'label': 'LABEL_1', 'score': 0.8953757882118225}, {'label': 'LABEL_1', 'score': 0.9030428528785706}, {'label': 'LABEL_1', 'score': 0.9143387079238892}, {'label': 'LABEL_2', 'score': 0.9109861254692078}, {'label': 'LABEL_1', 'score': 0.9118310213088989}, {'label': 'LABEL_1', 'score': 0.9082123637199402}, {'label': 'LABEL_1', 'score': 0.9202790260314941}, {'label': 'LABEL_0', 'score': 0.6414120197296143}, {'label': 'LABEL_1', 'score': 0.8999544382095337}, {'label': 'LABEL_2', 'score': 0.9735179543495178}, {'label': 'LABEL_2', 'score': 0.841603696346283}, {'label': 'LABEL_2', 'score': 0.7006653547286987}, {'label': 'LABEL_1', 'score': 0.6344528198242188}, {'label': 'LABEL_2', 'score': 0.841066300868988}, {'label': 'LABEL_1', 'score': 0.8874008059501648}, {'label': 'LABEL_1', 'score': 0.9022401571273804}, {'label': 'LABEL_2', 'score': 0.9604687094688416}, {'label': 'LABEL_1', 'score': 0.8248251080513}, {'label': 'LABEL_1', 'score': 0.4151899814605713}, {'label': 'LABEL_1', 'score': 0.848274827003479}, {'label': 'LABEL_0', 'score': 0.9340381026268005}, {'label': 'LABEL_1', 'score': 0.9131650328636169}, {'label': 'LABEL_1', 'score': 0.9387860894203186}, {'label': 'LABEL_2', 'score': 0.9560866355895996}, {'label': 'LABEL_1', 'score': 0.9246033430099487}, {'label': 'LABEL_1', 'score': 0.9102903008460999}, {'label': 'LABEL_1', 'score': 0.9275116324424744}, {'label': 'LABEL_1', 'score': 0.9118345975875854}, {'label': 'LABEL_1', 'score': 0.9265872240066528}, {'label': 'LABEL_1', 'score': 0.9155765175819397}, {'label': 'LABEL_1', 'score': 0.9156721830368042}, {'label': 'LABEL_1', 'score': 0.9225836396217346}, {'label': 'LABEL_2', 'score': 0.958034098148346}, {'label': 'LABEL_1', 'score': 0.9026849269866943}, {'label': 'LABEL_1', 'score': 0.8477921485900879}, {'label': 'LABEL_1', 'score': 0.863653838634491}, {'label': 'LABEL_1', 'score': 0.9130833148956299}, {'label': 'LABEL_1', 'score': 0.9158452749252319}, {'label': 'LABEL_2', 'score': 0.9631120562553406}, {'label': 'LABEL_1', 'score': 0.896282970905304}, {'label': 'LABEL_2', 'score': 0.9158452153205872}, {'label': 'LABEL_1', 'score': 0.5926977396011353}, {'label': 'LABEL_1', 'score': 0.6187458038330078}, {'label': 'LABEL_1', 'score': 0.7684965133666992}, {'label': 'LABEL_1', 'score': 0.9394286870956421}, {'label': 'LABEL_1', 'score': 0.9371137619018555}, {'label': 'LABEL_1', 'score': 0.45761704444885254}, {'label': 'LABEL_2', 'score': 0.8833279609680176}, {'label': 'LABEL_1', 'score': 0.9352241158485413}, {'label': 'LABEL_1', 'score': 0.855202853679657}, {'label': 'LABEL_2', 'score': 0.9696748852729797}, {'label': 'LABEL_1', 'score': 0.9171338081359863}, {'label': 'LABEL_1', 'score': 0.777435302734375}, {'label': 'LABEL_0', 'score': 0.49287089705467224}, {'label': 'LABEL_1', 'score': 0.8896262049674988}, {'label': 'LABEL_2', 'score': 0.8791384696960449}, {'label': 'LABEL_1', 'score': 0.9399910569190979}, {'label': 'LABEL_2', 'score': 0.9712717533111572}, {'label': 'LABEL_1', 'score': 0.9229716658592224}, {'label': 'LABEL_1', 'score': 0.882817268371582}, {'label': 'LABEL_1', 'score': 0.9351146817207336}, {'label': 'LABEL_2', 'score': 0.910400927066803}, {'label': 'LABEL_1', 'score': 0.8922733664512634}, {'label': 'LABEL_2', 'score': 0.5278295874595642}, {'label': 'LABEL_1', 'score': 0.9064059853553772}, {'label': 'LABEL_1', 'score': 0.9147942662239075}, {'label': 'LABEL_1', 'score': 0.9040898084640503}, {'label': 'LABEL_1', 'score': 0.9041662216186523}, {'label': 'LABEL_1', 'score': 0.9069680571556091}, {'label': 'LABEL_1', 'score': 0.914878785610199}, {'label': 'LABEL_1', 'score': 0.7091743350028992}, {'label': 'LABEL_1', 'score': 0.5338900685310364}, {'label': 'LABEL_1', 'score': 0.779737651348114}, {'label': 'LABEL_1', 'score': 0.8835638761520386}, {'label': 'LABEL_1', 'score': 0.8826186060905457}, {'label': 'LABEL_1', 'score': 0.8881731033325195}, {'label': 'LABEL_2', 'score': 0.7138972878456116}, {'label': 'LABEL_1', 'score': 0.9116519093513489}, {'label': 'LABEL_1', 'score': 0.909663736820221}, {'label': 'LABEL_1', 'score': 0.8916333913803101}, {'label': 'LABEL_1', 'score': 0.916791558265686}, {'label': 'LABEL_1', 'score': 0.8256607055664062}, {'label': 'LABEL_1', 'score': 0.9332045316696167}, {'label': 'LABEL_1', 'score': 0.8445069193840027}, {'label': 'LABEL_1', 'score': 0.8774535655975342}, {'label': 'LABEL_0', 'score': 0.7461826205253601}, {'label': 'LABEL_1', 'score': 0.7099630236625671}, {'label': 'LABEL_1', 'score': 0.9163928627967834}, {'label': 'LABEL_1', 'score': 0.9221339225769043}, {'label': 'LABEL_1', 'score': 0.8941208124160767}, {'label': 'LABEL_1', 'score': 0.5192418098449707}, {'label': 'LABEL_1', 'score': 0.5188286304473877}, {'label': 'LABEL_1', 'score': 0.8459967970848083}, {'label': 'LABEL_1', 'score': 0.9125056266784668}, {'label': 'LABEL_1', 'score': 0.9187676906585693}, {'label': 'LABEL_0', 'score': 0.9370663166046143}, {'label': 'LABEL_1', 'score': 0.925285279750824}, {'label': 'LABEL_2', 'score': 0.9695852994918823}, {'label': 'LABEL_2', 'score': 0.6484376788139343}, {'label': 'LABEL_2', 'score': 0.958441436290741}, {'label': 'LABEL_1', 'score': 0.9068915843963623}, {'label': 'LABEL_1', 'score': 0.9411991238594055}, {'label': 'LABEL_1', 'score': 0.9253997206687927}, {'label': 'LABEL_1', 'score': 0.9296497106552124}, {'label': 'LABEL_1', 'score': 0.9189018607139587}, {'label': 'LABEL_1', 'score': 0.9306666851043701}, {'label': 'LABEL_1', 'score': 0.9220869541168213}], [{'label': 'LABEL_1', 'score': 0.9176971912384033}, {'label': 'LABEL_1', 'score': 0.9245662689208984}, {'label': 'LABEL_1', 'score': 0.9164186716079712}, {'label': 'LABEL_1', 'score': 0.9424524903297424}, {'label': 'LABEL_1', 'score': 0.9220130443572998}, {'label': 'LABEL_1', 'score': 0.9152888059616089}, {'label': 'LABEL_1', 'score': 0.9174293279647827}, {'label': 'LABEL_1', 'score': 0.9102649688720703}, {'label': 'LABEL_1', 'score': 0.9201553463935852}, {'label': 'LABEL_1', 'score': 0.9074240922927856}, {'label': 'LABEL_1', 'score': 0.9138510227203369}, {'label': 'LABEL_1', 'score': 0.9176424145698547}, {'label': 'LABEL_1', 'score': 0.9005682468414307}, {'label': 'LABEL_1', 'score': 0.9326820373535156}, {'label': 'LABEL_1', 'score': 0.5605014562606812}, {'label': 'LABEL_1', 'score': 0.9394904375076294}, {'label': 'LABEL_1', 'score': 0.6411872506141663}, {'label': 'LABEL_1', 'score': 0.9312072396278381}, {'label': 'LABEL_1', 'score': 0.9065347909927368}, {'label': 'LABEL_1', 'score': 0.9297208786010742}, {'label': 'LABEL_2', 'score': 0.9391624331474304}, {'label': 'LABEL_1', 'score': 0.9230303764343262}, {'label': 'LABEL_1', 'score': 0.8840112090110779}, {'label': 'LABEL_1', 'score': 0.9181276559829712}, {'label': 'LABEL_2', 'score': 0.6011145710945129}, {'label': 'LABEL_1', 'score': 0.925853967666626}, {'label': 'LABEL_1', 'score': 0.8971447348594666}, {'label': 'LABEL_1', 'score': 0.5972810983657837}, {'label': 'LABEL_1', 'score': 0.9377613067626953}, {'label': 'LABEL_1', 'score': 0.9152733087539673}, {'label': 'LABEL_1', 'score': 0.9173964858055115}, {'label': 'LABEL_1', 'score': 0.9327138066291809}, {'label': 'LABEL_1', 'score': 0.8906843066215515}, {'label': 'LABEL_2', 'score': 0.9727458953857422}, {'label': 'LABEL_1', 'score': 0.9179936647415161}, {'label': 'LABEL_2', 'score': 0.967674195766449}, {'label': 'LABEL_1', 'score': 0.9161832928657532}, {'label': 'LABEL_1', 'score': 0.9052046537399292}, {'label': 'LABEL_1', 'score': 0.8914071321487427}, {'label': 'LABEL_2', 'score': 0.9584711194038391}, {'label': 'LABEL_2', 'score': 0.9565726518630981}, {'label': 'LABEL_1', 'score': 0.8228514790534973}, {'label': 'LABEL_2', 'score': 0.9652923941612244}, {'label': 'LABEL_1', 'score': 0.9306020736694336}, {'label': 'LABEL_1', 'score': 0.9438726902008057}, {'label': 'LABEL_1', 'score': 0.8028271198272705}, {'label': 'LABEL_1', 'score': 0.9107345342636108}, {'label': 'LABEL_1', 'score': 0.9340779781341553}, {'label': 'LABEL_1', 'score': 0.9183796048164368}, {'label': 'LABEL_1', 'score': 0.9351943731307983}, {'label': 'LABEL_1', 'score': 0.7460767030715942}, {'label': 'LABEL_1', 'score': 0.9310864806175232}, {'label': 'LABEL_1', 'score': 0.8962565660476685}, {'label': 'LABEL_1', 'score': 0.9325205683708191}, {'label': 'LABEL_1', 'score': 0.8814496994018555}, {'label': 'LABEL_1', 'score': 0.9308158159255981}, {'label': 'LABEL_1', 'score': 0.9383947253227234}, {'label': 'LABEL_2', 'score': 0.9530074000358582}, {'label': 'LABEL_1', 'score': 0.9263522624969482}, {'label': 'LABEL_2', 'score': 0.9067400693893433}, {'label': 'LABEL_1', 'score': 0.9174326658248901}, {'label': 'LABEL_1', 'score': 0.9198390245437622}, {'label': 'LABEL_1', 'score': 0.9049977660179138}, {'label': 'LABEL_2', 'score': 0.8629142045974731}, {'label': 'LABEL_1', 'score': 0.9238367080688477}, {'label': 'LABEL_1', 'score': 0.8988710045814514}, {'label': 'LABEL_1', 'score': 0.9125475883483887}, {'label': 'LABEL_1', 'score': 0.9042226672172546}, {'label': 'LABEL_1', 'score': 0.9149393439292908}, {'label': 'LABEL_0', 'score': 0.9438884258270264}, {'label': 'LABEL_1', 'score': 0.9500734806060791}, {'label': 'LABEL_1', 'score': 0.8146400451660156}, {'label': 'LABEL_1', 'score': 0.797150731086731}, {'label': 'LABEL_2', 'score': 0.9745943546295166}, {'label': 'LABEL_1', 'score': 0.928928017616272}, {'label': 'LABEL_1', 'score': 0.852112352848053}, {'label': 'LABEL_1', 'score': 0.9235916137695312}, {'label': 'LABEL_1', 'score': 0.909789502620697}, {'label': 'LABEL_1', 'score': 0.9263788461685181}, {'label': 'LABEL_1', 'score': 0.9177892804145813}, {'label': 'LABEL_1', 'score': 0.9290062785148621}, {'label': 'LABEL_1', 'score': 0.9176583886146545}, {'label': 'LABEL_1', 'score': 0.9127720594406128}, {'label': 'LABEL_1', 'score': 0.829526424407959}, {'label': 'LABEL_1', 'score': 0.9121325016021729}, {'label': 'LABEL_1', 'score': 0.8970092535018921}, {'label': 'LABEL_2', 'score': 0.8312787413597107}, {'label': 'LABEL_0', 'score': 0.9438881874084473}, {'label': 'LABEL_2', 'score': 0.9699490666389465}, {'label': 'LABEL_1', 'score': 0.7556591033935547}, {'label': 'LABEL_2', 'score': 0.9790202975273132}, {'label': 'LABEL_1', 'score': 0.9459681510925293}, {'label': 'LABEL_1', 'score': 0.5357280969619751}, {'label': 'LABEL_1', 'score': 0.9209890365600586}, {'label': 'LABEL_1', 'score': 0.9248454570770264}, {'label': 'LABEL_1', 'score': 0.5882646441459656}, {'label': 'LABEL_2', 'score': 0.9695143699645996}, {'label': 'LABEL_1', 'score': 0.6083387732505798}, {'label': 'LABEL_2', 'score': 0.5062128305435181}, {'label': 'LABEL_2', 'score': 0.9658400416374207}, {'label': 'LABEL_1', 'score': 0.9292309880256653}, {'label': 'LABEL_1', 'score': 0.771098256111145}, {'label': 'LABEL_2', 'score': 0.8577570915222168}, {'label': 'LABEL_1', 'score': 0.936047375202179}, {'label': 'LABEL_1', 'score': 0.9206498265266418}, {'label': 'LABEL_0', 'score': 0.8228976726531982}, {'label': 'LABEL_2', 'score': 0.7867900729179382}, {'label': 'LABEL_1', 'score': 0.9037776589393616}, {'label': 'LABEL_1', 'score': 0.5160281658172607}, {'label': 'LABEL_1', 'score': 0.9318640828132629}, {'label': 'LABEL_1', 'score': 0.9204176068305969}, {'label': 'LABEL_1', 'score': 0.8993871212005615}, {'label': 'LABEL_1', 'score': 0.9201391935348511}, {'label': 'LABEL_1', 'score': 0.7932050228118896}, {'label': 'LABEL_0', 'score': 0.675379753112793}, {'label': 'LABEL_2', 'score': 0.9605084657669067}, {'label': 'LABEL_1', 'score': 0.9147539734840393}, {'label': 'LABEL_1', 'score': 0.8869917988777161}, {'label': 'LABEL_1', 'score': 0.7015461325645447}, {'label': 'LABEL_1', 'score': 0.9337596893310547}, {'label': 'LABEL_1', 'score': 0.9370126128196716}, {'label': 'LABEL_1', 'score': 0.936732292175293}, {'label': 'LABEL_1', 'score': 0.9388905763626099}, {'label': 'LABEL_1', 'score': 0.9332579970359802}, {'label': 'LABEL_1', 'score': 0.908538818359375}, {'label': 'LABEL_1', 'score': 0.9285145401954651}, {'label': 'LABEL_1', 'score': 0.9118652939796448}, {'label': 'LABEL_1', 'score': 0.9067158102989197}, {'label': 'LABEL_2', 'score': 0.9735813140869141}, {'label': 'LABEL_1', 'score': 0.9009509086608887}, {'label': 'LABEL_0', 'score': 0.6028912663459778}, {'label': 'LABEL_0', 'score': 0.6637423038482666}, {'label': 'LABEL_2', 'score': 0.954628050327301}, {'label': 'LABEL_1', 'score': 0.9290030002593994}, {'label': 'LABEL_1', 'score': 0.908545970916748}, {'label': 'LABEL_1', 'score': 0.605873167514801}, {'label': 'LABEL_1', 'score': 0.9169372320175171}, {'label': 'LABEL_1', 'score': 0.9217092394828796}, {'label': 'LABEL_1', 'score': 0.9176944494247437}, {'label': 'LABEL_1', 'score': 0.9096963405609131}, {'label': 'LABEL_1', 'score': 0.9085485935211182}, {'label': 'LABEL_1', 'score': 0.9144139289855957}, {'label': 'LABEL_1', 'score': 0.9132389426231384}, {'label': 'LABEL_0', 'score': 0.9313200116157532}, {'label': 'LABEL_1', 'score': 0.8728200793266296}, {'label': 'LABEL_1', 'score': 0.9044823050498962}, {'label': 'LABEL_1', 'score': 0.9182712435722351}, {'label': 'LABEL_2', 'score': 0.9678300619125366}, {'label': 'LABEL_1', 'score': 0.9148730039596558}, {'label': 'LABEL_1', 'score': 0.9072598218917847}, {'label': 'LABEL_1', 'score': 0.902533233165741}, {'label': 'LABEL_1', 'score': 0.9045165181159973}, {'label': 'LABEL_1', 'score': 0.9212368130683899}, {'label': 'LABEL_1', 'score': 0.9090283513069153}, {'label': 'LABEL_1', 'score': 0.9032484889030457}, {'label': 'LABEL_1', 'score': 0.9186364412307739}, {'label': 'LABEL_1', 'score': 0.9180911183357239}, {'label': 'LABEL_2', 'score': 0.736323356628418}, {'label': 'LABEL_2', 'score': 0.9068376421928406}, {'label': 'LABEL_1', 'score': 0.8929664492607117}, {'label': 'LABEL_2', 'score': 0.7605606913566589}, {'label': 'LABEL_0', 'score': 0.7271146178245544}, {'label': 'LABEL_1', 'score': 0.8961623311042786}, {'label': 'LABEL_1', 'score': 0.8777294754981995}, {'label': 'LABEL_2', 'score': 0.39111483097076416}, {'label': 'LABEL_1', 'score': 0.5170966386795044}, {'label': 'LABEL_1', 'score': 0.9275016784667969}, {'label': 'LABEL_1', 'score': 0.6808602809906006}, {'label': 'LABEL_1', 'score': 0.9261655807495117}, {'label': 'LABEL_1', 'score': 0.9206637740135193}, {'label': 'LABEL_1', 'score': 0.920478880405426}, {'label': 'LABEL_1', 'score': 0.9117723703384399}, {'label': 'LABEL_0', 'score': 0.9275215268135071}, {'label': 'LABEL_1', 'score': 0.8379794955253601}, {'label': 'LABEL_1', 'score': 0.9174621105194092}, {'label': 'LABEL_2', 'score': 0.972568690776825}, {'label': 'LABEL_1', 'score': 0.9492713809013367}, {'label': 'LABEL_1', 'score': 0.9109216928482056}, {'label': 'LABEL_1', 'score': 0.9100322723388672}, {'label': 'LABEL_1', 'score': 0.7102888822555542}, {'label': 'LABEL_1', 'score': 0.9242655634880066}, {'label': 'LABEL_1', 'score': 0.8865051865577698}, {'label': 'LABEL_2', 'score': 0.5243790149688721}, {'label': 'LABEL_1', 'score': 0.9111793637275696}, {'label': 'LABEL_0', 'score': 0.8474348187446594}, {'label': 'LABEL_1', 'score': 0.9324239492416382}, {'label': 'LABEL_1', 'score': 0.9316229224205017}, {'label': 'LABEL_1', 'score': 0.9166564345359802}, {'label': 'LABEL_1', 'score': 0.6713494658470154}, {'label': 'LABEL_1', 'score': 0.9309377670288086}, {'label': 'LABEL_1', 'score': 0.5311391353607178}, {'label': 'LABEL_1', 'score': 0.9232356548309326}, {'label': 'LABEL_1', 'score': 0.7806365489959717}, {'label': 'LABEL_1', 'score': 0.916490912437439}, {'label': 'LABEL_1', 'score': 0.654222309589386}, {'label': 'LABEL_1', 'score': 0.9404881000518799}, {'label': 'LABEL_0', 'score': 0.9043616652488708}, {'label': 'LABEL_1', 'score': 0.9308770895004272}, {'label': 'LABEL_2', 'score': 0.6099027991294861}, {'label': 'LABEL_1', 'score': 0.8982799649238586}, {'label': 'LABEL_1', 'score': 0.6613761186599731}, {'label': 'LABEL_1', 'score': 0.866857647895813}, {'label': 'LABEL_0', 'score': 0.733433723449707}, {'label': 'LABEL_1', 'score': 0.7725847959518433}, {'label': 'LABEL_1', 'score': 0.4813116192817688}, {'label': 'LABEL_1', 'score': 0.9352851510047913}, {'label': 'LABEL_1', 'score': 0.8877288103103638}, {'label': 'LABEL_1', 'score': 0.9272310733795166}, {'label': 'LABEL_1', 'score': 0.8259925246238708}, {'label': 'LABEL_1', 'score': 0.9153501391410828}, {'label': 'LABEL_1', 'score': 0.9274239540100098}, {'label': 'LABEL_1', 'score': 0.8973798155784607}, {'label': 'LABEL_1', 'score': 0.7698248624801636}, {'label': 'LABEL_1', 'score': 0.9278368949890137}, {'label': 'LABEL_1', 'score': 0.9151467680931091}, {'label': 'LABEL_1', 'score': 0.9161800742149353}, {'label': 'LABEL_1', 'score': 0.9160057306289673}, {'label': 'LABEL_1', 'score': 0.666988730430603}, {'label': 'LABEL_0', 'score': 0.8805188536643982}, {'label': 'LABEL_1', 'score': 0.6335116028785706}, {'label': 'LABEL_1', 'score': 0.8686359524726868}, {'label': 'LABEL_2', 'score': 0.7409834265708923}, {'label': 'LABEL_1', 'score': 0.8345708847045898}, {'label': 'LABEL_1', 'score': 0.9115484356880188}, {'label': 'LABEL_1', 'score': 0.7775245904922485}, {'label': 'LABEL_1', 'score': 0.9112376570701599}, {'label': 'LABEL_1', 'score': 0.910250186920166}, {'label': 'LABEL_1', 'score': 0.9349628686904907}, {'label': 'LABEL_1', 'score': 0.9013444781303406}, {'label': 'LABEL_1', 'score': 0.927873969078064}, {'label': 'LABEL_1', 'score': 0.8369718194007874}, {'label': 'LABEL_1', 'score': 0.7666273713111877}, {'label': 'LABEL_1', 'score': 0.5469752550125122}, {'label': 'LABEL_2', 'score': 0.9741045236587524}, {'label': 'LABEL_1', 'score': 0.6355292201042175}, {'label': 'LABEL_0', 'score': 0.7523626089096069}, {'label': 'LABEL_1', 'score': 0.8889434337615967}, {'label': 'LABEL_1', 'score': 0.9336659908294678}, {'label': 'LABEL_1', 'score': 0.8864434361457825}, {'label': 'LABEL_1', 'score': 0.915023922920227}, {'label': 'LABEL_1', 'score': 0.922247052192688}, {'label': 'LABEL_1', 'score': 0.9328832626342773}, {'label': 'LABEL_2', 'score': 0.5388801693916321}, {'label': 'LABEL_1', 'score': 0.9307098388671875}, {'label': 'LABEL_1', 'score': 0.9351399540901184}, {'label': 'LABEL_1', 'score': 0.9319452047348022}, {'label': 'LABEL_1', 'score': 0.9346197247505188}, {'label': 'LABEL_1', 'score': 0.9077385663986206}, {'label': 'LABEL_1', 'score': 0.9240301847457886}, {'label': 'LABEL_1', 'score': 0.9341365098953247}, {'label': 'LABEL_1', 'score': 0.5907977819442749}, {'label': 'LABEL_1', 'score': 0.9067469239234924}, {'label': 'LABEL_1', 'score': 0.9481102824211121}, {'label': 'LABEL_0', 'score': 0.9476500749588013}, {'label': 'LABEL_1', 'score': 0.9203882217407227}, {'label': 'LABEL_1', 'score': 0.9129331111907959}, {'label': 'LABEL_1', 'score': 0.6166744828224182}, {'label': 'LABEL_1', 'score': 0.9100470542907715}, {'label': 'LABEL_1', 'score': 0.8806414604187012}, {'label': 'LABEL_1', 'score': 0.9091927409172058}, {'label': 'LABEL_1', 'score': 0.9053069353103638}, {'label': 'LABEL_1', 'score': 0.9096529483795166}, {'label': 'LABEL_1', 'score': 0.8885244727134705}, {'label': 'LABEL_1', 'score': 0.9165310263633728}, {'label': 'LABEL_1', 'score': 0.9064825177192688}, {'label': 'LABEL_1', 'score': 0.7460131645202637}, {'label': 'LABEL_1', 'score': 0.6922111511230469}, {'label': 'LABEL_1', 'score': 0.9166299700737}, {'label': 'LABEL_1', 'score': 0.7910878658294678}, {'label': 'LABEL_1', 'score': 0.8035792708396912}, {'label': 'LABEL_1', 'score': 0.9187169075012207}, {'label': 'LABEL_1', 'score': 0.913450300693512}, {'label': 'LABEL_1', 'score': 0.9202946424484253}, {'label': 'LABEL_1', 'score': 0.8144856095314026}, {'label': 'LABEL_2', 'score': 0.9670771956443787}, {'label': 'LABEL_1', 'score': 0.9352229237556458}, {'label': 'LABEL_1', 'score': 0.9065579771995544}, {'label': 'LABEL_2', 'score': 0.5968082547187805}, {'label': 'LABEL_1', 'score': 0.9436426162719727}, {'label': 'LABEL_2', 'score': 0.9788077473640442}, {'label': 'LABEL_0', 'score': 0.790317952632904}, {'label': 'LABEL_1', 'score': 0.9396728873252869}, {'label': 'LABEL_1', 'score': 0.866726815700531}, {'label': 'LABEL_1', 'score': 0.7833970189094543}, {'label': 'LABEL_1', 'score': 0.9439665675163269}, {'label': 'LABEL_1', 'score': 0.9046651124954224}, {'label': 'LABEL_2', 'score': 0.8332896828651428}, {'label': 'LABEL_2', 'score': 0.6330763697624207}, {'label': 'LABEL_1', 'score': 0.9362479448318481}, {'label': 'LABEL_1', 'score': 0.7581365704536438}, {'label': 'LABEL_1', 'score': 0.9067497253417969}, {'label': 'LABEL_1', 'score': 0.9068952202796936}, {'label': 'LABEL_1', 'score': 0.9092863202095032}, {'label': 'LABEL_1', 'score': 0.895357072353363}, {'label': 'LABEL_1', 'score': 0.9412097930908203}, {'label': 'LABEL_1', 'score': 0.9463894367218018}, {'label': 'LABEL_2', 'score': 0.6862882375717163}, {'label': 'LABEL_2', 'score': 0.908589243888855}, {'label': 'LABEL_1', 'score': 0.9390154480934143}, {'label': 'LABEL_1', 'score': 0.917175829410553}, {'label': 'LABEL_1', 'score': 0.9330213665962219}, {'label': 'LABEL_1', 'score': 0.9148157835006714}, {'label': 'LABEL_0', 'score': 0.922605037689209}, {'label': 'LABEL_1', 'score': 0.9316057562828064}, {'label': 'LABEL_1', 'score': 0.9367868900299072}, {'label': 'LABEL_1', 'score': 0.9200124740600586}, {'label': 'LABEL_2', 'score': 0.9620426893234253}, {'label': 'LABEL_2', 'score': 0.6735802292823792}, {'label': 'LABEL_1', 'score': 0.9243796467781067}, {'label': 'LABEL_1', 'score': 0.9182266592979431}, {'label': 'LABEL_1', 'score': 0.9015916585922241}, {'label': 'LABEL_2', 'score': 0.9749870300292969}, {'label': 'LABEL_1', 'score': 0.9210845232009888}, {'label': 'LABEL_1', 'score': 0.9193692803382874}, {'label': 'LABEL_2', 'score': 0.9378756880760193}, {'label': 'LABEL_1', 'score': 0.9031584858894348}, {'label': 'LABEL_2', 'score': 0.893138587474823}, {'label': 'LABEL_1', 'score': 0.6196874380111694}, {'label': 'LABEL_1', 'score': 0.9314176440238953}, {'label': 'LABEL_1', 'score': 0.9048284292221069}, {'label': 'LABEL_2', 'score': 0.9742156863212585}, {'label': 'LABEL_0', 'score': 0.5248131155967712}, {'label': 'LABEL_1', 'score': 0.8996164798736572}, {'label': 'LABEL_1', 'score': 0.9372141361236572}, {'label': 'LABEL_1', 'score': 0.9334163665771484}, {'label': 'LABEL_1', 'score': 0.8481630682945251}, {'label': 'LABEL_0', 'score': 0.7984596490859985}, {'label': 'LABEL_1', 'score': 0.9072743058204651}, {'label': 'LABEL_0', 'score': 0.35698041319847107}, {'label': 'LABEL_1', 'score': 0.9177101254463196}, {'label': 'LABEL_1', 'score': 0.5842791795730591}, {'label': 'LABEL_1', 'score': 0.9067693948745728}, {'label': 'LABEL_0', 'score': 0.7480198740959167}, {'label': 'LABEL_2', 'score': 0.9644675254821777}, {'label': 'LABEL_1', 'score': 0.9073113799095154}, {'label': 'LABEL_1', 'score': 0.8687861561775208}, {'label': 'LABEL_1', 'score': 0.828305721282959}, {'label': 'LABEL_1', 'score': 0.9174057841300964}, {'label': 'LABEL_1', 'score': 0.6402493119239807}, {'label': 'LABEL_1', 'score': 0.9059357643127441}, {'label': 'LABEL_1', 'score': 0.9152927398681641}, {'label': 'LABEL_2', 'score': 0.6411102414131165}, {'label': 'LABEL_1', 'score': 0.8156325817108154}, {'label': 'LABEL_1', 'score': 0.9087927937507629}, {'label': 'LABEL_1', 'score': 0.9317367672920227}, {'label': 'LABEL_1', 'score': 0.9096505641937256}, {'label': 'LABEL_1', 'score': 0.9230161905288696}, {'label': 'LABEL_2', 'score': 0.9237540364265442}, {'label': 'LABEL_1', 'score': 0.933279812335968}, {'label': 'LABEL_2', 'score': 0.5527790188789368}, {'label': 'LABEL_2', 'score': 0.9310336112976074}, {'label': 'LABEL_1', 'score': 0.9342360496520996}, {'label': 'LABEL_2', 'score': 0.9243819117546082}, {'label': 'LABEL_1', 'score': 0.9260562658309937}, {'label': 'LABEL_2', 'score': 0.9765740633010864}, {'label': 'LABEL_1', 'score': 0.9305980205535889}, {'label': 'LABEL_1', 'score': 0.9123695492744446}, {'label': 'LABEL_1', 'score': 0.9160063862800598}, {'label': 'LABEL_1', 'score': 0.9366338849067688}, {'label': 'LABEL_2', 'score': 0.8752659559249878}, {'label': 'LABEL_1', 'score': 0.923941969871521}, {'label': 'LABEL_2', 'score': 0.7244604229927063}, {'label': 'LABEL_1', 'score': 0.9340358972549438}, {'label': 'LABEL_2', 'score': 0.7123700380325317}, {'label': 'LABEL_1', 'score': 0.8377639055252075}, {'label': 'LABEL_1', 'score': 0.9452278017997742}, {'label': 'LABEL_1', 'score': 0.902955174446106}, {'label': 'LABEL_1', 'score': 0.8993698954582214}, {'label': 'LABEL_1', 'score': 0.9351370930671692}, {'label': 'LABEL_0', 'score': 0.8373787999153137}, {'label': 'LABEL_0', 'score': 0.9204044938087463}, {'label': 'LABEL_2', 'score': 0.8944405317306519}, {'label': 'LABEL_1', 'score': 0.9062433242797852}, {'label': 'LABEL_1', 'score': 0.6419423818588257}, {'label': 'LABEL_1', 'score': 0.9273002743721008}, {'label': 'LABEL_2', 'score': 0.8186405897140503}, {'label': 'LABEL_2', 'score': 0.7475247383117676}, {'label': 'LABEL_2', 'score': 0.8520573377609253}, {'label': 'LABEL_1', 'score': 0.9216878414154053}, {'label': 'LABEL_2', 'score': 0.5333161354064941}, {'label': 'LABEL_1', 'score': 0.9443623423576355}, {'label': 'LABEL_1', 'score': 0.9174394607543945}, {'label': 'LABEL_1', 'score': 0.9144575595855713}, {'label': 'LABEL_1', 'score': 0.933887243270874}, {'label': 'LABEL_1', 'score': 0.9353786110877991}, {'label': 'LABEL_1', 'score': 0.9347421526908875}, {'label': 'LABEL_1', 'score': 0.7160612344741821}, {'label': 'LABEL_2', 'score': 0.9526591897010803}, {'label': 'LABEL_1', 'score': 0.48353758454322815}, {'label': 'LABEL_1', 'score': 0.9272422194480896}, {'label': 'LABEL_2', 'score': 0.9704964756965637}, {'label': 'LABEL_1', 'score': 0.9099803566932678}, {'label': 'LABEL_2', 'score': 0.9642254710197449}, {'label': 'LABEL_1', 'score': 0.928284764289856}, {'label': 'LABEL_1', 'score': 0.8776801824569702}, {'label': 'LABEL_1', 'score': 0.5850326418876648}, {'label': 'LABEL_1', 'score': 0.9123552441596985}, {'label': 'LABEL_1', 'score': 0.9173907041549683}, {'label': 'LABEL_1', 'score': 0.9276424050331116}, {'label': 'LABEL_1', 'score': 0.5080966949462891}, {'label': 'LABEL_1', 'score': 0.9397996664047241}, {'label': 'LABEL_1', 'score': 0.7922704815864563}, {'label': 'LABEL_1', 'score': 0.9541240930557251}, {'label': 'LABEL_1', 'score': 0.9316049814224243}, {'label': 'LABEL_1', 'score': 0.6319953203201294}, {'label': 'LABEL_0', 'score': 0.7380663156509399}, {'label': 'LABEL_1', 'score': 0.7107932567596436}, {'label': 'LABEL_2', 'score': 0.7985453605651855}, {'label': 'LABEL_1', 'score': 0.9139589071273804}, {'label': 'LABEL_1', 'score': 0.8971019983291626}, {'label': 'LABEL_1', 'score': 0.9114121794700623}, {'label': 'LABEL_1', 'score': 0.5067874193191528}, {'label': 'LABEL_1', 'score': 0.721941351890564}, {'label': 'LABEL_1', 'score': 0.5682329535484314}, {'label': 'LABEL_1', 'score': 0.9271180033683777}, {'label': 'LABEL_1', 'score': 0.8003106713294983}, {'label': 'LABEL_2', 'score': 0.9708471894264221}, {'label': 'LABEL_0', 'score': 0.5813618898391724}, {'label': 'LABEL_1', 'score': 0.6919262409210205}, {'label': 'LABEL_1', 'score': 0.9071593284606934}, {'label': 'LABEL_1', 'score': 0.7538066506385803}, {'label': 'LABEL_1', 'score': 0.9076493382453918}, {'label': 'LABEL_1', 'score': 0.921579897403717}, {'label': 'LABEL_2', 'score': 0.9252530932426453}, {'label': 'LABEL_1', 'score': 0.9232956767082214}, {'label': 'LABEL_1', 'score': 0.7169634699821472}, {'label': 'LABEL_1', 'score': 0.941283106803894}, {'label': 'LABEL_1', 'score': 0.5711950659751892}, {'label': 'LABEL_1', 'score': 0.8288548588752747}, {'label': 'LABEL_2', 'score': 0.49844101071357727}, {'label': 'LABEL_1', 'score': 0.8991710543632507}, {'label': 'LABEL_2', 'score': 0.9221526980400085}, {'label': 'LABEL_1', 'score': 0.9214437007904053}, {'label': 'LABEL_1', 'score': 0.9139888286590576}, {'label': 'LABEL_1', 'score': 0.9056838750839233}, {'label': 'LABEL_2', 'score': 0.4982711374759674}, {'label': 'LABEL_1', 'score': 0.9463903903961182}, {'label': 'LABEL_1', 'score': 0.9215807318687439}, {'label': 'LABEL_1', 'score': 0.9210447072982788}, {'label': 'LABEL_1', 'score': 0.8427477478981018}, {'label': 'LABEL_1', 'score': 0.9101456999778748}, {'label': 'LABEL_1', 'score': 0.9157487154006958}, {'label': 'LABEL_1', 'score': 0.7572399973869324}, {'label': 'LABEL_1', 'score': 0.9059531688690186}, {'label': 'LABEL_1', 'score': 0.9193503856658936}, {'label': 'LABEL_1', 'score': 0.9178431630134583}, {'label': 'LABEL_0', 'score': 0.5570206642150879}, {'label': 'LABEL_1', 'score': 0.7804122567176819}, {'label': 'LABEL_2', 'score': 0.8956811428070068}, {'label': 'LABEL_1', 'score': 0.8359432220458984}, {'label': 'LABEL_1', 'score': 0.9414291381835938}, {'label': 'LABEL_0', 'score': 0.5446096658706665}, {'label': 'LABEL_1', 'score': 0.9334867000579834}, {'label': 'LABEL_2', 'score': 0.8720706701278687}, {'label': 'LABEL_1', 'score': 0.5449863076210022}, {'label': 'LABEL_1', 'score': 0.9411243200302124}, {'label': 'LABEL_1', 'score': 0.6971542835235596}, {'label': 'LABEL_1', 'score': 0.9345577955245972}, {'label': 'LABEL_1', 'score': 0.9145970940589905}, {'label': 'LABEL_1', 'score': 0.9155139923095703}, {'label': 'LABEL_1', 'score': 0.9266829490661621}, {'label': 'LABEL_1', 'score': 0.8140345215797424}, {'label': 'LABEL_1', 'score': 0.9306180477142334}, {'label': 'LABEL_2', 'score': 0.5040922164916992}, {'label': 'LABEL_1', 'score': 0.8211119771003723}, {'label': 'LABEL_1', 'score': 0.9143487811088562}, {'label': 'LABEL_1', 'score': 0.9111831784248352}, {'label': 'LABEL_2', 'score': 0.978706419467926}, {'label': 'LABEL_2', 'score': 0.9036286473274231}, {'label': 'LABEL_1', 'score': 0.8801093697547913}, {'label': 'LABEL_2', 'score': 0.5406099557876587}, {'label': 'LABEL_1', 'score': 0.8577510714530945}, {'label': 'LABEL_1', 'score': 0.9226433634757996}, {'label': 'LABEL_2', 'score': 0.9461454749107361}, {'label': 'LABEL_1', 'score': 0.847653865814209}, {'label': 'LABEL_2', 'score': 0.8809085488319397}, {'label': 'LABEL_1', 'score': 0.9338986873626709}, {'label': 'LABEL_1', 'score': 0.917391836643219}, {'label': 'LABEL_0', 'score': 0.9053140878677368}, {'label': 'LABEL_0', 'score': 0.6330729126930237}, {'label': 'LABEL_1', 'score': 0.8164660930633545}, {'label': 'LABEL_1', 'score': 0.8437683582305908}, {'label': 'LABEL_0', 'score': 0.6273433566093445}, {'label': 'LABEL_1', 'score': 0.9089191555976868}, {'label': 'LABEL_2', 'score': 0.7604711055755615}, {'label': 'LABEL_1', 'score': 0.8111931085586548}, {'label': 'LABEL_1', 'score': 0.9261240363121033}, {'label': 'LABEL_2', 'score': 0.8574434518814087}, {'label': 'LABEL_1', 'score': 0.9268480539321899}, {'label': 'LABEL_1', 'score': 0.9111541509628296}, {'label': 'LABEL_1', 'score': 0.6201424598693848}, {'label': 'LABEL_1', 'score': 0.9184189438819885}, {'label': 'LABEL_1', 'score': 0.5771991014480591}, {'label': 'LABEL_2', 'score': 0.9727764129638672}, {'label': 'LABEL_1', 'score': 0.9154649376869202}, {'label': 'LABEL_1', 'score': 0.917839765548706}, {'label': 'LABEL_1', 'score': 0.7559921741485596}, {'label': 'LABEL_1', 'score': 0.7758092880249023}, {'label': 'LABEL_1', 'score': 0.9186704754829407}], [{'label': 'LABEL_1', 'score': 0.932942271232605}, {'label': 'LABEL_1', 'score': 0.9114194512367249}, {'label': 'LABEL_1', 'score': 0.9300817847251892}, {'label': 'LABEL_1', 'score': 0.9277123808860779}, {'label': 'LABEL_1', 'score': 0.9204692244529724}, {'label': 'LABEL_1', 'score': 0.9179482460021973}, {'label': 'LABEL_1', 'score': 0.9079309105873108}, {'label': 'LABEL_1', 'score': 0.825215220451355}, {'label': 'LABEL_2', 'score': 0.9213428497314453}, {'label': 'LABEL_1', 'score': 0.9448565244674683}, {'label': 'LABEL_2', 'score': 0.9761139154434204}, {'label': 'LABEL_1', 'score': 0.8670487403869629}, {'label': 'LABEL_1', 'score': 0.927647590637207}, {'label': 'LABEL_1', 'score': 0.9259276390075684}, {'label': 'LABEL_1', 'score': 0.7208552956581116}, {'label': 'LABEL_2', 'score': 0.9663259387016296}, {'label': 'LABEL_2', 'score': 0.972868025302887}, {'label': 'LABEL_1', 'score': 0.5829900503158569}, {'label': 'LABEL_1', 'score': 0.7327705025672913}, {'label': 'LABEL_1', 'score': 0.9242733716964722}, {'label': 'LABEL_1', 'score': 0.9301214218139648}, {'label': 'LABEL_1', 'score': 0.900526225566864}, {'label': 'LABEL_1', 'score': 0.8297589421272278}, {'label': 'LABEL_0', 'score': 0.741737961769104}, {'label': 'LABEL_2', 'score': 0.8530833721160889}, {'label': 'LABEL_1', 'score': 0.9138700366020203}, {'label': 'LABEL_1', 'score': 0.917727530002594}, {'label': 'LABEL_2', 'score': 0.7851137518882751}, {'label': 'LABEL_1', 'score': 0.923316478729248}, {'label': 'LABEL_1', 'score': 0.8475114703178406}, {'label': 'LABEL_1', 'score': 0.91192626953125}, {'label': 'LABEL_1', 'score': 0.9307267665863037}, {'label': 'LABEL_2', 'score': 0.8180792927742004}, {'label': 'LABEL_1', 'score': 0.9362756609916687}, {'label': 'LABEL_2', 'score': 0.9714845418930054}, {'label': 'LABEL_1', 'score': 0.9102785587310791}, {'label': 'LABEL_1', 'score': 0.934829592704773}, {'label': 'LABEL_2', 'score': 0.9614406824111938}, {'label': 'LABEL_1', 'score': 0.92412269115448}, {'label': 'LABEL_2', 'score': 0.6503920555114746}, {'label': 'LABEL_1', 'score': 0.9141112565994263}, {'label': 'LABEL_1', 'score': 0.9126725196838379}, {'label': 'LABEL_1', 'score': 0.8922755718231201}, {'label': 'LABEL_1', 'score': 0.8001101016998291}, {'label': 'LABEL_1', 'score': 0.8175865411758423}, {'label': 'LABEL_1', 'score': 0.7174868583679199}, {'label': 'LABEL_1', 'score': 0.9258629083633423}, {'label': 'LABEL_1', 'score': 0.8538272380828857}, {'label': 'LABEL_1', 'score': 0.9356417059898376}, {'label': 'LABEL_1', 'score': 0.8740599751472473}, {'label': 'LABEL_2', 'score': 0.9538586735725403}, {'label': 'LABEL_1', 'score': 0.6598833203315735}, {'label': 'LABEL_1', 'score': 0.784161388874054}, {'label': 'LABEL_1', 'score': 0.8149111866950989}, {'label': 'LABEL_1', 'score': 0.8864597082138062}, {'label': 'LABEL_1', 'score': 0.9245518445968628}, {'label': 'LABEL_1', 'score': 0.9270446300506592}, {'label': 'LABEL_1', 'score': 0.939640462398529}, {'label': 'LABEL_2', 'score': 0.7905784249305725}, {'label': 'LABEL_1', 'score': 0.9315448999404907}, {'label': 'LABEL_1', 'score': 0.923965334892273}, {'label': 'LABEL_1', 'score': 0.8913779854774475}, {'label': 'LABEL_1', 'score': 0.9013137817382812}, {'label': 'LABEL_1', 'score': 0.7131624221801758}, {'label': 'LABEL_1', 'score': 0.9358944892883301}, {'label': 'LABEL_1', 'score': 0.9046211838722229}, {'label': 'LABEL_1', 'score': 0.9205518364906311}, {'label': 'LABEL_2', 'score': 0.8689191937446594}, {'label': 'LABEL_1', 'score': 0.9026705622673035}, {'label': 'LABEL_1', 'score': 0.6495107412338257}, {'label': 'LABEL_2', 'score': 0.5858188271522522}, {'label': 'LABEL_1', 'score': 0.8633779883384705}, {'label': 'LABEL_2', 'score': 0.5680977702140808}, {'label': 'LABEL_2', 'score': 0.6432797908782959}, {'label': 'LABEL_1', 'score': 0.8620381951332092}, {'label': 'LABEL_1', 'score': 0.9173813462257385}, {'label': 'LABEL_1', 'score': 0.9339109659194946}, {'label': 'LABEL_1', 'score': 0.7373186349868774}, {'label': 'LABEL_1', 'score': 0.9194937944412231}, {'label': 'LABEL_1', 'score': 0.6547463536262512}, {'label': 'LABEL_1', 'score': 0.9176920652389526}, {'label': 'LABEL_1', 'score': 0.8199278116226196}, {'label': 'LABEL_1', 'score': 0.9355185627937317}, {'label': 'LABEL_1', 'score': 0.9122006297111511}, {'label': 'LABEL_1', 'score': 0.9152133464813232}, {'label': 'LABEL_1', 'score': 0.9236670136451721}, {'label': 'LABEL_1', 'score': 0.5160873532295227}, {'label': 'LABEL_1', 'score': 0.9168344736099243}, {'label': 'LABEL_1', 'score': 0.9314118027687073}, {'label': 'LABEL_1', 'score': 0.9241551160812378}, {'label': 'LABEL_1', 'score': 0.8981983661651611}, {'label': 'LABEL_0', 'score': 0.7418030500411987}, {'label': 'LABEL_1', 'score': 0.9138820171356201}, {'label': 'LABEL_1', 'score': 0.9142813086509705}, {'label': 'LABEL_1', 'score': 0.711867094039917}, {'label': 'LABEL_1', 'score': 0.8959704637527466}, {'label': 'LABEL_1', 'score': 0.9130547046661377}, {'label': 'LABEL_1', 'score': 0.895054042339325}, {'label': 'LABEL_1', 'score': 0.6513174176216125}, {'label': 'LABEL_1', 'score': 0.8908724784851074}, {'label': 'LABEL_1', 'score': 0.9017854332923889}, {'label': 'LABEL_1', 'score': 0.8861922025680542}, {'label': 'LABEL_1', 'score': 0.9106739163398743}, {'label': 'LABEL_1', 'score': 0.6367238759994507}, {'label': 'LABEL_1', 'score': 0.9391080141067505}, {'label': 'LABEL_1', 'score': 0.9336603879928589}, {'label': 'LABEL_1', 'score': 0.4876754879951477}, {'label': 'LABEL_1', 'score': 0.9185319542884827}, {'label': 'LABEL_1', 'score': 0.9263939261436462}, {'label': 'LABEL_1', 'score': 0.9197341799736023}, {'label': 'LABEL_1', 'score': 0.9163244366645813}, {'label': 'LABEL_1', 'score': 0.9202115535736084}, {'label': 'LABEL_1', 'score': 0.9215445518493652}, {'label': 'LABEL_1', 'score': 0.9196258187294006}, {'label': 'LABEL_1', 'score': 0.9181495904922485}, {'label': 'LABEL_1', 'score': 0.9228094816207886}, {'label': 'LABEL_1', 'score': 0.927605926990509}, {'label': 'LABEL_1', 'score': 0.9300441741943359}, {'label': 'LABEL_1', 'score': 0.8606911897659302}, {'label': 'LABEL_1', 'score': 0.9080936312675476}, {'label': 'LABEL_1', 'score': 0.9313311576843262}, {'label': 'LABEL_1', 'score': 0.6296208500862122}, {'label': 'LABEL_1', 'score': 0.9050720930099487}, {'label': 'LABEL_1', 'score': 0.772424042224884}, {'label': 'LABEL_2', 'score': 0.8483078479766846}, {'label': 'LABEL_1', 'score': 0.918688178062439}, {'label': 'LABEL_1', 'score': 0.9104646444320679}, {'label': 'LABEL_2', 'score': 0.6536197662353516}, {'label': 'LABEL_2', 'score': 0.9478642344474792}, {'label': 'LABEL_1', 'score': 0.6595839858055115}, {'label': 'LABEL_1', 'score': 0.9385277628898621}, {'label': 'LABEL_1', 'score': 0.610236406326294}, {'label': 'LABEL_1', 'score': 0.9365026354789734}, {'label': 'LABEL_1', 'score': 0.9141870141029358}, {'label': 'LABEL_1', 'score': 0.9135218858718872}, {'label': 'LABEL_1', 'score': 0.9345460534095764}, {'label': 'LABEL_1', 'score': 0.8676437735557556}, {'label': 'LABEL_1', 'score': 0.9110120534896851}, {'label': 'LABEL_1', 'score': 0.9303604960441589}, {'label': 'LABEL_1', 'score': 0.9149469137191772}, {'label': 'LABEL_1', 'score': 0.9322918057441711}, {'label': 'LABEL_1', 'score': 0.9397553205490112}, {'label': 'LABEL_2', 'score': 0.6722106337547302}, {'label': 'LABEL_2', 'score': 0.8395695686340332}, {'label': 'LABEL_1', 'score': 0.9377288818359375}, {'label': 'LABEL_1', 'score': 0.8924194574356079}, {'label': 'LABEL_0', 'score': 0.9005952477455139}, {'label': 'LABEL_1', 'score': 0.9019771814346313}, {'label': 'LABEL_1', 'score': 0.9309535622596741}, {'label': 'LABEL_1', 'score': 0.5733716487884521}, {'label': 'LABEL_1', 'score': 0.5567399859428406}, {'label': 'LABEL_1', 'score': 0.9141985177993774}, {'label': 'LABEL_2', 'score': 0.9741454124450684}, {'label': 'LABEL_2', 'score': 0.9632704257965088}, {'label': 'LABEL_1', 'score': 0.8997986316680908}, {'label': 'LABEL_2', 'score': 0.8617075085639954}, {'label': 'LABEL_1', 'score': 0.9255270957946777}, {'label': 'LABEL_1', 'score': 0.9106630086898804}, {'label': 'LABEL_1', 'score': 0.9158532619476318}, {'label': 'LABEL_1', 'score': 0.8213131427764893}, {'label': 'LABEL_1', 'score': 0.9082125425338745}, {'label': 'LABEL_0', 'score': 0.5851448774337769}, {'label': 'LABEL_1', 'score': 0.9254034161567688}, {'label': 'LABEL_1', 'score': 0.9255008101463318}, {'label': 'LABEL_1', 'score': 0.9269843697547913}, {'label': 'LABEL_1', 'score': 0.9344220757484436}, {'label': 'LABEL_1', 'score': 0.5179848074913025}, {'label': 'LABEL_1', 'score': 0.94142085313797}, {'label': 'LABEL_1', 'score': 0.9402288198471069}, {'label': 'LABEL_2', 'score': 0.9789236783981323}, {'label': 'LABEL_1', 'score': 0.9023408889770508}, {'label': 'LABEL_1', 'score': 0.8962765336036682}, {'label': 'LABEL_1', 'score': 0.9264870882034302}, {'label': 'LABEL_2', 'score': 0.7142133116722107}, {'label': 'LABEL_1', 'score': 0.905524492263794}, {'label': 'LABEL_1', 'score': 0.9172922968864441}, {'label': 'LABEL_2', 'score': 0.8632539510726929}, {'label': 'LABEL_1', 'score': 0.8433035016059875}, {'label': 'LABEL_1', 'score': 0.8477556109428406}, {'label': 'LABEL_1', 'score': 0.8361161947250366}, {'label': 'LABEL_1', 'score': 0.9292410612106323}, {'label': 'LABEL_1', 'score': 0.933997631072998}, {'label': 'LABEL_1', 'score': 0.9423975944519043}, {'label': 'LABEL_2', 'score': 0.792659342288971}, {'label': 'LABEL_1', 'score': 0.684169352054596}, {'label': 'LABEL_2', 'score': 0.9030141830444336}, {'label': 'LABEL_2', 'score': 0.6320538520812988}, {'label': 'LABEL_2', 'score': 0.9575707912445068}, {'label': 'LABEL_2', 'score': 0.9573773145675659}, {'label': 'LABEL_1', 'score': 0.9185833930969238}, {'label': 'LABEL_2', 'score': 0.8915740251541138}, {'label': 'LABEL_1', 'score': 0.9227057099342346}, {'label': 'LABEL_1', 'score': 0.9330195784568787}, {'label': 'LABEL_1', 'score': 0.7575551867485046}, {'label': 'LABEL_1', 'score': 0.5031800270080566}, {'label': 'LABEL_0', 'score': 0.6043867468833923}, {'label': 'LABEL_0', 'score': 0.6553894281387329}, {'label': 'LABEL_1', 'score': 0.9407540559768677}, {'label': 'LABEL_1', 'score': 0.8909827470779419}, {'label': 'LABEL_1', 'score': 0.5031358003616333}, {'label': 'LABEL_1', 'score': 0.9316104054450989}, {'label': 'LABEL_1', 'score': 0.5119784474372864}, {'label': 'LABEL_1', 'score': 0.7170609831809998}, {'label': 'LABEL_1', 'score': 0.5747657418251038}, {'label': 'LABEL_0', 'score': 0.8552061915397644}, {'label': 'LABEL_1', 'score': 0.8082610964775085}, {'label': 'LABEL_1', 'score': 0.9157038927078247}, {'label': 'LABEL_2', 'score': 0.9530713558197021}, {'label': 'LABEL_1', 'score': 0.7575622200965881}, {'label': 'LABEL_1', 'score': 0.5031752586364746}, {'label': 'LABEL_0', 'score': 0.9227811098098755}, {'label': 'LABEL_1', 'score': 0.5145721435546875}, {'label': 'LABEL_1', 'score': 0.7170711755752563}, {'label': 'LABEL_1', 'score': 0.9438727498054504}, {'label': 'LABEL_1', 'score': 0.574745774269104}, {'label': 'LABEL_1', 'score': 0.8082650303840637}, {'label': 'LABEL_1', 'score': 0.7575664520263672}, {'label': 'LABEL_1', 'score': 0.5031288266181946}, {'label': 'LABEL_1', 'score': 0.5031288266181946}, {'label': 'LABEL_1', 'score': 0.9059166312217712}, {'label': 'LABEL_1', 'score': 0.5031682252883911}, {'label': 'LABEL_1', 'score': 0.8994441628456116}, {'label': 'LABEL_1', 'score': 0.774365246295929}, {'label': 'LABEL_1', 'score': 0.5031117796897888}, {'label': 'LABEL_1', 'score': 0.9223086833953857}, {'label': 'LABEL_1', 'score': 0.9169160723686218}, {'label': 'LABEL_1', 'score': 0.9396496415138245}, {'label': 'LABEL_1', 'score': 0.9272007346153259}, {'label': 'LABEL_1', 'score': 0.9193360805511475}, {'label': 'LABEL_1', 'score': 0.9129568934440613}, {'label': 'LABEL_2', 'score': 0.6244794130325317}, {'label': 'LABEL_1', 'score': 0.9342344403266907}, {'label': 'LABEL_2', 'score': 0.9215975403785706}, {'label': 'LABEL_0', 'score': 0.7673929333686829}, {'label': 'LABEL_1', 'score': 0.9114761352539062}, {'label': 'LABEL_1', 'score': 0.9027447700500488}, {'label': 'LABEL_2', 'score': 0.6275946497917175}, {'label': 'LABEL_1', 'score': 0.9340952038764954}, {'label': 'LABEL_0', 'score': 0.8171546459197998}, {'label': 'LABEL_1', 'score': 0.9256392121315002}, {'label': 'LABEL_2', 'score': 0.8555746078491211}, {'label': 'LABEL_2', 'score': 0.9453637003898621}, {'label': 'LABEL_1', 'score': 0.9055963158607483}, {'label': 'LABEL_1', 'score': 0.9163135886192322}, {'label': 'LABEL_2', 'score': 0.9759300947189331}, {'label': 'LABEL_1', 'score': 0.9087945818901062}, {'label': 'LABEL_1', 'score': 0.7169217467308044}, {'label': 'LABEL_0', 'score': 0.9430031776428223}, {'label': 'LABEL_1', 'score': 0.9318336248397827}, {'label': 'LABEL_1', 'score': 0.9145265221595764}, {'label': 'LABEL_1', 'score': 0.8876481056213379}, {'label': 'LABEL_1', 'score': 0.9136581420898438}, {'label': 'LABEL_1', 'score': 0.905279815196991}, {'label': 'LABEL_1', 'score': 0.8948320150375366}, {'label': 'LABEL_1', 'score': 0.896766722202301}, {'label': 'LABEL_1', 'score': 0.8570417165756226}, {'label': 'LABEL_1', 'score': 0.9282105565071106}, {'label': 'LABEL_1', 'score': 0.8361664414405823}, {'label': 'LABEL_1', 'score': 0.9271523952484131}, {'label': 'LABEL_1', 'score': 0.918289065361023}, {'label': 'LABEL_1', 'score': 0.9117771983146667}, {'label': 'LABEL_1', 'score': 0.9405735731124878}, {'label': 'LABEL_1', 'score': 0.9193834662437439}, {'label': 'LABEL_1', 'score': 0.9080678820610046}, {'label': 'LABEL_1', 'score': 0.9217486381530762}, {'label': 'LABEL_1', 'score': 0.9177381992340088}, {'label': 'LABEL_1', 'score': 0.9211729764938354}, {'label': 'LABEL_1', 'score': 0.9107364416122437}, {'label': 'LABEL_1', 'score': 0.9104978442192078}, {'label': 'LABEL_1', 'score': 0.9167896509170532}, {'label': 'LABEL_1', 'score': 0.9256300330162048}, {'label': 'LABEL_1', 'score': 0.9304906725883484}, {'label': 'LABEL_1', 'score': 0.9133837223052979}, {'label': 'LABEL_1', 'score': 0.9220232367515564}, {'label': 'LABEL_1', 'score': 0.9053497910499573}, {'label': 'LABEL_1', 'score': 0.9177350997924805}, {'label': 'LABEL_1', 'score': 0.9358488321304321}, {'label': 'LABEL_1', 'score': 0.9319331049919128}, {'label': 'LABEL_1', 'score': 0.9086082577705383}, {'label': 'LABEL_2', 'score': 0.9680810570716858}, {'label': 'LABEL_1', 'score': 0.8979617357254028}, {'label': 'LABEL_1', 'score': 0.8778037428855896}, {'label': 'LABEL_1', 'score': 0.9225822687149048}, {'label': 'LABEL_1', 'score': 0.703559398651123}, {'label': 'LABEL_1', 'score': 0.9327176809310913}, {'label': 'LABEL_1', 'score': 0.9275296330451965}, {'label': 'LABEL_1', 'score': 0.8570927977561951}, {'label': 'LABEL_1', 'score': 0.6038826704025269}, {'label': 'LABEL_0', 'score': 0.9345969557762146}, {'label': 'LABEL_1', 'score': 0.8494964241981506}, {'label': 'LABEL_1', 'score': 0.9039316773414612}, {'label': 'LABEL_1', 'score': 0.6989608407020569}, {'label': 'LABEL_1', 'score': 0.9226697683334351}, {'label': 'LABEL_1', 'score': 0.9110077619552612}, {'label': 'LABEL_2', 'score': 0.8307429552078247}, {'label': 'LABEL_2', 'score': 0.9186860918998718}, {'label': 'LABEL_2', 'score': 0.9095867276191711}, {'label': 'LABEL_1', 'score': 0.9306409955024719}, {'label': 'LABEL_1', 'score': 0.9436137676239014}, {'label': 'LABEL_1', 'score': 0.9084627628326416}, {'label': 'LABEL_1', 'score': 0.8778285980224609}, {'label': 'LABEL_1', 'score': 0.9281982183456421}, {'label': 'LABEL_1', 'score': 0.908248782157898}, {'label': 'LABEL_2', 'score': 0.9485499858856201}, {'label': 'LABEL_1', 'score': 0.9341562986373901}, {'label': 'LABEL_2', 'score': 0.8686464428901672}, {'label': 'LABEL_1', 'score': 0.9251073002815247}, {'label': 'LABEL_1', 'score': 0.9143446683883667}, {'label': 'LABEL_1', 'score': 0.9365190267562866}, {'label': 'LABEL_2', 'score': 0.9603135585784912}, {'label': 'LABEL_1', 'score': 0.9014942049980164}, {'label': 'LABEL_1', 'score': 0.9135895371437073}, {'label': 'LABEL_0', 'score': 0.9332907795906067}, {'label': 'LABEL_1', 'score': 0.9190292358398438}, {'label': 'LABEL_1', 'score': 0.9010877013206482}, {'label': 'LABEL_1', 'score': 0.910211980342865}, {'label': 'LABEL_1', 'score': 0.6412572860717773}, {'label': 'LABEL_1', 'score': 0.912026584148407}, {'label': 'LABEL_1', 'score': 0.937588095664978}, {'label': 'LABEL_1', 'score': 0.9152246117591858}, {'label': 'LABEL_1', 'score': 0.9226205945014954}, {'label': 'LABEL_1', 'score': 0.9282718896865845}, {'label': 'LABEL_0', 'score': 0.8148444294929504}, {'label': 'LABEL_1', 'score': 0.9427366256713867}, {'label': 'LABEL_1', 'score': 0.9254016280174255}, {'label': 'LABEL_2', 'score': 0.608269214630127}, {'label': 'LABEL_1', 'score': 0.9277098178863525}, {'label': 'LABEL_0', 'score': 0.9158725142478943}, {'label': 'LABEL_2', 'score': 0.9092183709144592}, {'label': 'LABEL_0', 'score': 0.595039427280426}, {'label': 'LABEL_1', 'score': 0.8911951780319214}, {'label': 'LABEL_1', 'score': 0.9200689196586609}, {'label': 'LABEL_1', 'score': 0.890157163143158}, {'label': 'LABEL_1', 'score': 0.7906736135482788}, {'label': 'LABEL_1', 'score': 0.918491542339325}, {'label': 'LABEL_1', 'score': 0.8845065832138062}, {'label': 'LABEL_1', 'score': 0.8525746464729309}, {'label': 'LABEL_1', 'score': 0.5916168093681335}, {'label': 'LABEL_1', 'score': 0.5990042686462402}, {'label': 'LABEL_1', 'score': 0.9203094840049744}, {'label': 'LABEL_0', 'score': 0.8955026268959045}, {'label': 'LABEL_1', 'score': 0.8883761167526245}, {'label': 'LABEL_1', 'score': 0.9274828433990479}, {'label': 'LABEL_1', 'score': 0.9325771331787109}, {'label': 'LABEL_1', 'score': 0.9306961297988892}, {'label': 'LABEL_1', 'score': 0.9328471422195435}, {'label': 'LABEL_2', 'score': 0.9684707522392273}, {'label': 'LABEL_1', 'score': 0.9251511096954346}, {'label': 'LABEL_1', 'score': 0.9286525845527649}, {'label': 'LABEL_2', 'score': 0.8364519476890564}, {'label': 'LABEL_1', 'score': 0.9325448274612427}, {'label': 'LABEL_1', 'score': 0.8651312589645386}, {'label': 'LABEL_1', 'score': 0.9213201403617859}, {'label': 'LABEL_1', 'score': 0.9075434803962708}, {'label': 'LABEL_1', 'score': 0.9039641618728638}, {'label': 'LABEL_1', 'score': 0.9419441223144531}, {'label': 'LABEL_2', 'score': 0.9567491412162781}, {'label': 'LABEL_1', 'score': 0.918825089931488}, {'label': 'LABEL_1', 'score': 0.4904974102973938}, {'label': 'LABEL_1', 'score': 0.7697395086288452}, {'label': 'LABEL_0', 'score': 0.7140672206878662}, {'label': 'LABEL_1', 'score': 0.6720982193946838}, {'label': 'LABEL_1', 'score': 0.9062350988388062}, {'label': 'LABEL_1', 'score': 0.9233407378196716}, {'label': 'LABEL_1', 'score': 0.7645029425621033}, {'label': 'LABEL_1', 'score': 0.7300179600715637}, {'label': 'LABEL_1', 'score': 0.9133059978485107}, {'label': 'LABEL_1', 'score': 0.867583155632019}, {'label': 'LABEL_1', 'score': 0.9072526693344116}, {'label': 'LABEL_1', 'score': 0.9050740003585815}, {'label': 'LABEL_1', 'score': 0.9073860049247742}, {'label': 'LABEL_1', 'score': 0.9113808870315552}, {'label': 'LABEL_1', 'score': 0.9401307702064514}, {'label': 'LABEL_1', 'score': 0.913060188293457}, {'label': 'LABEL_2', 'score': 0.9757223129272461}, {'label': 'LABEL_1', 'score': 0.9181484580039978}, {'label': 'LABEL_1', 'score': 0.9160739183425903}, {'label': 'LABEL_1', 'score': 0.9315577149391174}, {'label': 'LABEL_2', 'score': 0.7663843035697937}, {'label': 'LABEL_1', 'score': 0.908348798751831}, {'label': 'LABEL_1', 'score': 0.9316350221633911}, {'label': 'LABEL_1', 'score': 0.904637336730957}, {'label': 'LABEL_0', 'score': 0.8049349188804626}, {'label': 'LABEL_1', 'score': 0.9362356066703796}, {'label': 'LABEL_1', 'score': 0.9141888618469238}, {'label': 'LABEL_1', 'score': 0.7444795370101929}, {'label': 'LABEL_1', 'score': 0.8602455854415894}, {'label': 'LABEL_1', 'score': 0.9150974154472351}, {'label': 'LABEL_1', 'score': 0.513020396232605}, {'label': 'LABEL_1', 'score': 0.9072971940040588}, {'label': 'LABEL_1', 'score': 0.6463325619697571}, {'label': 'LABEL_0', 'score': 0.5385441780090332}, {'label': 'LABEL_1', 'score': 0.7811694145202637}, {'label': 'LABEL_1', 'score': 0.9357730150222778}, {'label': 'LABEL_1', 'score': 0.9204567074775696}, {'label': 'LABEL_1', 'score': 0.9155156016349792}, {'label': 'LABEL_1', 'score': 0.9173761606216431}, {'label': 'LABEL_1', 'score': 0.9158309698104858}, {'label': 'LABEL_1', 'score': 0.9381647706031799}, {'label': 'LABEL_2', 'score': 0.9736195206642151}, {'label': 'LABEL_1', 'score': 0.7784002423286438}, {'label': 'LABEL_2', 'score': 0.8444530367851257}, {'label': 'LABEL_1', 'score': 0.9245668053627014}, {'label': 'LABEL_1', 'score': 0.8012648224830627}, {'label': 'LABEL_1', 'score': 0.9301691055297852}, {'label': 'LABEL_1', 'score': 0.9414665699005127}, {'label': 'LABEL_1', 'score': 0.942334771156311}, {'label': 'LABEL_1', 'score': 0.8978889584541321}, {'label': 'LABEL_2', 'score': 0.9509633183479309}, {'label': 'LABEL_2', 'score': 0.8099666237831116}, {'label': 'LABEL_2', 'score': 0.9607964754104614}, {'label': 'LABEL_1', 'score': 0.9136448502540588}, {'label': 'LABEL_1', 'score': 0.9312049150466919}, {'label': 'LABEL_1', 'score': 0.8803486824035645}, {'label': 'LABEL_2', 'score': 0.7187416553497314}, {'label': 'LABEL_2', 'score': 0.966411292552948}, {'label': 'LABEL_1', 'score': 0.8989307284355164}, {'label': 'LABEL_1', 'score': 0.9077038764953613}, {'label': 'LABEL_1', 'score': 0.7046018838882446}, {'label': 'LABEL_0', 'score': 0.4582103192806244}, {'label': 'LABEL_2', 'score': 0.543683648109436}, {'label': 'LABEL_0', 'score': 0.9428626298904419}, {'label': 'LABEL_2', 'score': 0.9311134815216064}, {'label': 'LABEL_1', 'score': 0.8948885798454285}, {'label': 'LABEL_1', 'score': 0.9108991026878357}, {'label': 'LABEL_1', 'score': 0.9150708913803101}, {'label': 'LABEL_1', 'score': 0.9218699932098389}, {'label': 'LABEL_2', 'score': 0.6027957201004028}, {'label': 'LABEL_1', 'score': 0.8663080334663391}, {'label': 'LABEL_1', 'score': 0.9356062412261963}, {'label': 'LABEL_1', 'score': 0.9088691473007202}, {'label': 'LABEL_1', 'score': 0.9135370850563049}, {'label': 'LABEL_1', 'score': 0.920112133026123}, {'label': 'LABEL_1', 'score': 0.9056234955787659}, {'label': 'LABEL_2', 'score': 0.9446032643318176}, {'label': 'LABEL_1', 'score': 0.9051016569137573}, {'label': 'LABEL_1', 'score': 0.9097551107406616}, {'label': 'LABEL_1', 'score': 0.9302605390548706}, {'label': 'LABEL_1', 'score': 0.9338782429695129}, {'label': 'LABEL_1', 'score': 0.8810837268829346}, {'label': 'LABEL_1', 'score': 0.913813054561615}, {'label': 'LABEL_1', 'score': 0.9105812907218933}, {'label': 'LABEL_2', 'score': 0.9742380380630493}, {'label': 'LABEL_2', 'score': 0.8424884080886841}, {'label': 'LABEL_2', 'score': 0.8457751870155334}, {'label': 'LABEL_2', 'score': 0.8587847948074341}, {'label': 'LABEL_1', 'score': 0.9344855546951294}, {'label': 'LABEL_2', 'score': 0.6215566992759705}, {'label': 'LABEL_1', 'score': 0.9014396071434021}, {'label': 'LABEL_1', 'score': 0.7515890002250671}, {'label': 'LABEL_1', 'score': 0.7870742082595825}, {'label': 'LABEL_1', 'score': 0.9028699398040771}, {'label': 'LABEL_2', 'score': 0.9547460079193115}, {'label': 'LABEL_1', 'score': 0.8953656554222107}, {'label': 'LABEL_1', 'score': 0.6187455058097839}, {'label': 'LABEL_2', 'score': 0.8494714498519897}, {'label': 'LABEL_1', 'score': 0.8926445841789246}, {'label': 'LABEL_1', 'score': 0.9384052753448486}, {'label': 'LABEL_1', 'score': 0.830653190612793}, {'label': 'LABEL_1', 'score': 0.6589036583900452}, {'label': 'LABEL_1', 'score': 0.9075126647949219}, {'label': 'LABEL_1', 'score': 0.9272974729537964}, {'label': 'LABEL_1', 'score': 0.9111250638961792}, {'label': 'LABEL_1', 'score': 0.7685228586196899}, {'label': 'LABEL_1', 'score': 0.6904648542404175}, {'label': 'LABEL_1', 'score': 0.9231703877449036}, {'label': 'LABEL_1', 'score': 0.8877671360969543}, {'label': 'LABEL_1', 'score': 0.9026662707328796}, {'label': 'LABEL_1', 'score': 0.8408046960830688}, {'label': 'LABEL_1', 'score': 0.9307365417480469}, {'label': 'LABEL_2', 'score': 0.8155283331871033}, {'label': 'LABEL_1', 'score': 0.9202060699462891}, {'label': 'LABEL_1', 'score': 0.9247488975524902}, {'label': 'LABEL_1', 'score': 0.9327618479728699}, {'label': 'LABEL_1', 'score': 0.9206348061561584}, {'label': 'LABEL_1', 'score': 0.925574779510498}, {'label': 'LABEL_1', 'score': 0.7295398712158203}, {'label': 'LABEL_1', 'score': 0.8881093859672546}, {'label': 'LABEL_2', 'score': 0.6283688545227051}, {'label': 'LABEL_1', 'score': 0.9297302961349487}, {'label': 'LABEL_0', 'score': 0.7144769430160522}, {'label': 'LABEL_1', 'score': 0.9021748900413513}, {'label': 'LABEL_1', 'score': 0.9178481698036194}, {'label': 'LABEL_0', 'score': 0.913679301738739}, {'label': 'LABEL_1', 'score': 0.6857921481132507}, {'label': 'LABEL_1', 'score': 0.9346666932106018}, {'label': 'LABEL_0', 'score': 0.5627795457839966}, {'label': 'LABEL_1', 'score': 0.9112643003463745}, {'label': 'LABEL_1', 'score': 0.9351980090141296}, {'label': 'LABEL_1', 'score': 0.7157418131828308}, {'label': 'LABEL_1', 'score': 0.8848424553871155}, {'label': 'LABEL_1', 'score': 0.8890981078147888}, {'label': 'LABEL_1', 'score': 0.8998695611953735}, {'label': 'LABEL_0', 'score': 0.8145638108253479}, {'label': 'LABEL_1', 'score': 0.9209844470024109}, {'label': 'LABEL_2', 'score': 0.976026713848114}, {'label': 'LABEL_1', 'score': 0.9227055311203003}, {'label': 'LABEL_1', 'score': 0.8723092079162598}, {'label': 'LABEL_1', 'score': 0.9036071300506592}], [{'label': 'LABEL_2', 'score': 0.6275546550750732}, {'label': 'LABEL_0', 'score': 0.49009451270103455}, {'label': 'LABEL_1', 'score': 0.546771764755249}, {'label': 'LABEL_1', 'score': 0.9340983629226685}, {'label': 'LABEL_1', 'score': 0.8955342769622803}, {'label': 'LABEL_1', 'score': 0.9199307560920715}, {'label': 'LABEL_1', 'score': 0.8032695055007935}, {'label': 'LABEL_1', 'score': 0.5524223446846008}, {'label': 'LABEL_2', 'score': 0.9673923254013062}, {'label': 'LABEL_1', 'score': 0.9312856197357178}, {'label': 'LABEL_1', 'score': 0.9346868991851807}, {'label': 'LABEL_1', 'score': 0.8925009965896606}, {'label': 'LABEL_1', 'score': 0.9245879054069519}, {'label': 'LABEL_2', 'score': 0.9721648097038269}, {'label': 'LABEL_0', 'score': 0.5628198385238647}, {'label': 'LABEL_0', 'score': 0.8750190734863281}, {'label': 'LABEL_0', 'score': 0.917534351348877}, {'label': 'LABEL_2', 'score': 0.6172203421592712}, {'label': 'LABEL_1', 'score': 0.9211061000823975}, {'label': 'LABEL_0', 'score': 0.6389322876930237}, {'label': 'LABEL_1', 'score': 0.8988465070724487}, {'label': 'LABEL_1', 'score': 0.9197205305099487}, {'label': 'LABEL_1', 'score': 0.8119683265686035}, {'label': 'LABEL_1', 'score': 0.8920049667358398}, {'label': 'LABEL_1', 'score': 0.8992217183113098}, {'label': 'LABEL_2', 'score': 0.9769675135612488}, {'label': 'LABEL_1', 'score': 0.9314479827880859}, {'label': 'LABEL_1', 'score': 0.7551256418228149}, {'label': 'LABEL_2', 'score': 0.5834737420082092}, {'label': 'LABEL_1', 'score': 0.932648241519928}, {'label': 'LABEL_2', 'score': 0.9752048850059509}, {'label': 'LABEL_1', 'score': 0.8982421159744263}, {'label': 'LABEL_1', 'score': 0.9321287870407104}, {'label': 'LABEL_1', 'score': 0.9087095260620117}, {'label': 'LABEL_1', 'score': 0.9365200400352478}, {'label': 'LABEL_1', 'score': 0.5052803158760071}, {'label': 'LABEL_0', 'score': 0.9087396264076233}, {'label': 'LABEL_2', 'score': 0.7193384766578674}, {'label': 'LABEL_2', 'score': 0.7969249486923218}, {'label': 'LABEL_1', 'score': 0.9073002934455872}, {'label': 'LABEL_0', 'score': 0.5195319652557373}, {'label': 'LABEL_2', 'score': 0.9745930433273315}, {'label': 'LABEL_1', 'score': 0.9305293560028076}, {'label': 'LABEL_1', 'score': 0.9185383319854736}, {'label': 'LABEL_1', 'score': 0.7897628545761108}, {'label': 'LABEL_1', 'score': 0.8664683699607849}, {'label': 'LABEL_1', 'score': 0.8269447684288025}, {'label': 'LABEL_1', 'score': 0.8659035563468933}, {'label': 'LABEL_2', 'score': 0.9767555594444275}, {'label': 'LABEL_2', 'score': 0.9661504626274109}, {'label': 'LABEL_2', 'score': 0.9618433117866516}, {'label': 'LABEL_1', 'score': 0.9137672781944275}, {'label': 'LABEL_1', 'score': 0.8783472180366516}, {'label': 'LABEL_0', 'score': 0.8750751614570618}, {'label': 'LABEL_1', 'score': 0.9137129783630371}, {'label': 'LABEL_1', 'score': 0.8422366380691528}, {'label': 'LABEL_1', 'score': 0.9235919713973999}, {'label': 'LABEL_1', 'score': 0.9152136445045471}, {'label': 'LABEL_0', 'score': 0.7885603308677673}, {'label': 'LABEL_2', 'score': 0.6424182057380676}, {'label': 'LABEL_1', 'score': 0.8594311475753784}, {'label': 'LABEL_1', 'score': 0.9034675359725952}, {'label': 'LABEL_1', 'score': 0.7528352737426758}, {'label': 'LABEL_1', 'score': 0.9197113513946533}, {'label': 'LABEL_1', 'score': 0.9165548086166382}, {'label': 'LABEL_1', 'score': 0.9225495457649231}, {'label': 'LABEL_1', 'score': 0.9440584182739258}, {'label': 'LABEL_1', 'score': 0.9479179978370667}, {'label': 'LABEL_1', 'score': 0.896637499332428}, {'label': 'LABEL_1', 'score': 0.9452174305915833}, {'label': 'LABEL_2', 'score': 0.5750390291213989}, {'label': 'LABEL_1', 'score': 0.9231167435646057}, {'label': 'LABEL_1', 'score': 0.8850929141044617}, {'label': 'LABEL_1', 'score': 0.8779661059379578}, {'label': 'LABEL_1', 'score': 0.941497266292572}, {'label': 'LABEL_1', 'score': 0.9380274415016174}, {'label': 'LABEL_1', 'score': 0.8789371252059937}, {'label': 'LABEL_1', 'score': 0.925872802734375}, {'label': 'LABEL_1', 'score': 0.9124190807342529}, {'label': 'LABEL_1', 'score': 0.9222827553749084}, {'label': 'LABEL_1', 'score': 0.8980234265327454}, {'label': 'LABEL_1', 'score': 0.9096850752830505}, {'label': 'LABEL_1', 'score': 0.9407719969749451}, {'label': 'LABEL_1', 'score': 0.9125725030899048}, {'label': 'LABEL_1', 'score': 0.5655774474143982}, {'label': 'LABEL_1', 'score': 0.6661248803138733}, {'label': 'LABEL_2', 'score': 0.9575675129890442}, {'label': 'LABEL_2', 'score': 0.9600170850753784}, {'label': 'LABEL_1', 'score': 0.8660670518875122}, {'label': 'LABEL_1', 'score': 0.5392624139785767}, {'label': 'LABEL_1', 'score': 0.8112978935241699}, {'label': 'LABEL_2', 'score': 0.7220139503479004}, {'label': 'LABEL_1', 'score': 0.8890173435211182}, {'label': 'LABEL_1', 'score': 0.9209297299385071}, {'label': 'LABEL_1', 'score': 0.568333625793457}, {'label': 'LABEL_1', 'score': 0.9348294734954834}, {'label': 'LABEL_1', 'score': 0.9243736267089844}, {'label': 'LABEL_2', 'score': 0.9744778275489807}, {'label': 'LABEL_1', 'score': 0.9350647330284119}, {'label': 'LABEL_1', 'score': 0.9530430436134338}, {'label': 'LABEL_1', 'score': 0.8627788424491882}, {'label': 'LABEL_1', 'score': 0.6439831256866455}, {'label': 'LABEL_1', 'score': 0.8990570902824402}, {'label': 'LABEL_1', 'score': 0.9372919797897339}, {'label': 'LABEL_1', 'score': 0.9327573776245117}, {'label': 'LABEL_1', 'score': 0.9169908165931702}, {'label': 'LABEL_1', 'score': 0.9431160688400269}, {'label': 'LABEL_2', 'score': 0.8968455791473389}, {'label': 'LABEL_1', 'score': 0.9309889078140259}, {'label': 'LABEL_1', 'score': 0.8305227160453796}, {'label': 'LABEL_2', 'score': 0.9518570303916931}, {'label': 'LABEL_1', 'score': 0.9330180287361145}, {'label': 'LABEL_1', 'score': 0.9342747330665588}, {'label': 'LABEL_1', 'score': 0.9172143936157227}, {'label': 'LABEL_1', 'score': 0.4751857817173004}, {'label': 'LABEL_1', 'score': 0.9212116003036499}, {'label': 'LABEL_2', 'score': 0.9739064574241638}, {'label': 'LABEL_1', 'score': 0.9095171093940735}, {'label': 'LABEL_1', 'score': 0.9071774482727051}, {'label': 'LABEL_2', 'score': 0.9232988953590393}, {'label': 'LABEL_1', 'score': 0.9151677489280701}, {'label': 'LABEL_1', 'score': 0.9214040040969849}, {'label': 'LABEL_0', 'score': 0.9317861795425415}, {'label': 'LABEL_1', 'score': 0.9271124005317688}, {'label': 'LABEL_1', 'score': 0.9096421599388123}, {'label': 'LABEL_1', 'score': 0.9006369113922119}, {'label': 'LABEL_1', 'score': 0.9445412158966064}, {'label': 'LABEL_1', 'score': 0.9205797910690308}, {'label': 'LABEL_1', 'score': 0.9029256105422974}, {'label': 'LABEL_1', 'score': 0.9374365210533142}, {'label': 'LABEL_1', 'score': 0.8573787808418274}, {'label': 'LABEL_1', 'score': 0.903445303440094}, {'label': 'LABEL_1', 'score': 0.8993105292320251}, {'label': 'LABEL_1', 'score': 0.9229336380958557}, {'label': 'LABEL_2', 'score': 0.8898148536682129}, {'label': 'LABEL_1', 'score': 0.8863085508346558}, {'label': 'LABEL_1', 'score': 0.5801154375076294}, {'label': 'LABEL_1', 'score': 0.904879093170166}, {'label': 'LABEL_1', 'score': 0.8978545069694519}, {'label': 'LABEL_1', 'score': 0.9118658304214478}, {'label': 'LABEL_1', 'score': 0.8775604367256165}, {'label': 'LABEL_2', 'score': 0.6344772577285767}, {'label': 'LABEL_1', 'score': 0.8501195907592773}, {'label': 'LABEL_1', 'score': 0.8925646543502808}, {'label': 'LABEL_1', 'score': 0.9147995114326477}, {'label': 'LABEL_1', 'score': 0.9192302227020264}, {'label': 'LABEL_0', 'score': 0.6450538039207458}, {'label': 'LABEL_1', 'score': 0.7076168656349182}, {'label': 'LABEL_0', 'score': 0.8390926718711853}, {'label': 'LABEL_2', 'score': 0.7058195471763611}, {'label': 'LABEL_1', 'score': 0.8135771155357361}, {'label': 'LABEL_1', 'score': 0.9219329953193665}, {'label': 'LABEL_1', 'score': 0.9291799664497375}, {'label': 'LABEL_1', 'score': 0.9135758280754089}, {'label': 'LABEL_1', 'score': 0.9117041826248169}, {'label': 'LABEL_2', 'score': 0.9479023814201355}, {'label': 'LABEL_1', 'score': 0.5633620619773865}, {'label': 'LABEL_1', 'score': 0.9159531593322754}, {'label': 'LABEL_1', 'score': 0.9146419167518616}, {'label': 'LABEL_1', 'score': 0.8852695226669312}, {'label': 'LABEL_1', 'score': 0.9303210973739624}, {'label': 'LABEL_1', 'score': 0.9136278629302979}, {'label': 'LABEL_1', 'score': 0.7872274518013}, {'label': 'LABEL_2', 'score': 0.5848826766014099}, {'label': 'LABEL_1', 'score': 0.9264587163925171}, {'label': 'LABEL_1', 'score': 0.8226063847541809}, {'label': 'LABEL_1', 'score': 0.6323820352554321}, {'label': 'LABEL_2', 'score': 0.7250821590423584}, {'label': 'LABEL_1', 'score': 0.9102641940116882}, {'label': 'LABEL_1', 'score': 0.9129249453544617}, {'label': 'LABEL_1', 'score': 0.924816906452179}, {'label': 'LABEL_1', 'score': 0.893534243106842}, {'label': 'LABEL_1', 'score': 0.9272040724754333}, {'label': 'LABEL_1', 'score': 0.9039849042892456}, {'label': 'LABEL_1', 'score': 0.8840155005455017}, {'label': 'LABEL_1', 'score': 0.926909327507019}, {'label': 'LABEL_2', 'score': 0.8755396008491516}, {'label': 'LABEL_2', 'score': 0.5942947864532471}, {'label': 'LABEL_1', 'score': 0.715766429901123}, {'label': 'LABEL_1', 'score': 0.9285227060317993}, {'label': 'LABEL_1', 'score': 0.9476232528686523}, {'label': 'LABEL_1', 'score': 0.9446180462837219}, {'label': 'LABEL_1', 'score': 0.8977358937263489}, {'label': 'LABEL_1', 'score': 0.9306774735450745}, {'label': 'LABEL_1', 'score': 0.7654174566268921}, {'label': 'LABEL_1', 'score': 0.8860189318656921}, {'label': 'LABEL_1', 'score': 0.9272624850273132}, {'label': 'LABEL_1', 'score': 0.9235178232192993}, {'label': 'LABEL_1', 'score': 0.8169485926628113}, {'label': 'LABEL_1', 'score': 0.9117798805236816}, {'label': 'LABEL_1', 'score': 0.7651578187942505}, {'label': 'LABEL_1', 'score': 0.9406765699386597}, {'label': 'LABEL_1', 'score': 0.9073914289474487}, {'label': 'LABEL_1', 'score': 0.8923447728157043}, {'label': 'LABEL_2', 'score': 0.7584095001220703}, {'label': 'LABEL_1', 'score': 0.9328489303588867}, {'label': 'LABEL_2', 'score': 0.903030276298523}, {'label': 'LABEL_1', 'score': 0.8965020179748535}, {'label': 'LABEL_0', 'score': 0.7860581874847412}, {'label': 'LABEL_1', 'score': 0.9513014554977417}, {'label': 'LABEL_2', 'score': 0.9738407731056213}, {'label': 'LABEL_1', 'score': 0.5750102996826172}, {'label': 'LABEL_1', 'score': 0.929705023765564}, {'label': 'LABEL_1', 'score': 0.9257557392120361}, {'label': 'LABEL_2', 'score': 0.9640451669692993}, {'label': 'LABEL_0', 'score': 0.8738639950752258}, {'label': 'LABEL_1', 'score': 0.936730146408081}, {'label': 'LABEL_1', 'score': 0.9045180678367615}, {'label': 'LABEL_2', 'score': 0.9378803968429565}, {'label': 'LABEL_1', 'score': 0.6443130373954773}, {'label': 'LABEL_0', 'score': 0.4995918273925781}, {'label': 'LABEL_1', 'score': 0.9449408054351807}, {'label': 'LABEL_1', 'score': 0.883938729763031}, {'label': 'LABEL_1', 'score': 0.9265593886375427}, {'label': 'LABEL_1', 'score': 0.9018048644065857}, {'label': 'LABEL_1', 'score': 0.8975955843925476}, {'label': 'LABEL_2', 'score': 0.9120041131973267}, {'label': 'LABEL_1', 'score': 0.9113418459892273}, {'label': 'LABEL_1', 'score': 0.6249684691429138}, {'label': 'LABEL_2', 'score': 0.9673061966896057}, {'label': 'LABEL_1', 'score': 0.7916204333305359}, {'label': 'LABEL_1', 'score': 0.9233738780021667}, {'label': 'LABEL_1', 'score': 0.8999998569488525}, {'label': 'LABEL_1', 'score': 0.9021920561790466}, {'label': 'LABEL_1', 'score': 0.9192987084388733}, {'label': 'LABEL_1', 'score': 0.8060749769210815}, {'label': 'LABEL_1', 'score': 0.8048675060272217}, {'label': 'LABEL_1', 'score': 0.9235808253288269}, {'label': 'LABEL_1', 'score': 0.9094758629798889}, {'label': 'LABEL_2', 'score': 0.9459443688392639}, {'label': 'LABEL_1', 'score': 0.9223326444625854}, {'label': 'LABEL_1', 'score': 0.9237388372421265}, {'label': 'LABEL_1', 'score': 0.9255313873291016}, {'label': 'LABEL_1', 'score': 0.9084179401397705}, {'label': 'LABEL_0', 'score': 0.9034355282783508}, {'label': 'LABEL_0', 'score': 0.9261588454246521}, {'label': 'LABEL_1', 'score': 0.9189413189888}, {'label': 'LABEL_2', 'score': 0.9734160900115967}, {'label': 'LABEL_1', 'score': 0.8999335169792175}, {'label': 'LABEL_2', 'score': 0.8136113882064819}, {'label': 'LABEL_0', 'score': 0.5037986040115356}, {'label': 'LABEL_1', 'score': 0.9140978455543518}, {'label': 'LABEL_2', 'score': 0.8527842164039612}, {'label': 'LABEL_1', 'score': 0.9001144170761108}, {'label': 'LABEL_1', 'score': 0.9525140523910522}, {'label': 'LABEL_1', 'score': 0.9082621932029724}, {'label': 'LABEL_0', 'score': 0.761928379535675}, {'label': 'LABEL_1', 'score': 0.40954500436782837}, {'label': 'LABEL_2', 'score': 0.9598509669303894}, {'label': 'LABEL_1', 'score': 0.9152786135673523}, {'label': 'LABEL_1', 'score': 0.85561203956604}, {'label': 'LABEL_1', 'score': 0.7794022560119629}, {'label': 'LABEL_1', 'score': 0.7381091713905334}, {'label': 'LABEL_1', 'score': 0.8937886953353882}, {'label': 'LABEL_0', 'score': 0.8338771462440491}, {'label': 'LABEL_1', 'score': 0.9178856611251831}, {'label': 'LABEL_2', 'score': 0.741570770740509}, {'label': 'LABEL_2', 'score': 0.8153656721115112}, {'label': 'LABEL_1', 'score': 0.913829505443573}, {'label': 'LABEL_1', 'score': 0.8775177001953125}, {'label': 'LABEL_1', 'score': 0.7025626301765442}, {'label': 'LABEL_1', 'score': 0.911626935005188}, {'label': 'LABEL_1', 'score': 0.9238861799240112}, {'label': 'LABEL_1', 'score': 0.9208524823188782}, {'label': 'LABEL_2', 'score': 0.6676249504089355}, {'label': 'LABEL_2', 'score': 0.9718790650367737}, {'label': 'LABEL_1', 'score': 0.8995125889778137}, {'label': 'LABEL_1', 'score': 0.9160870909690857}, {'label': 'LABEL_1', 'score': 0.9082527756690979}, {'label': 'LABEL_2', 'score': 0.9630546569824219}, {'label': 'LABEL_1', 'score': 0.9077091217041016}, {'label': 'LABEL_1', 'score': 0.8800529837608337}, {'label': 'LABEL_2', 'score': 0.9559060335159302}, {'label': 'LABEL_1', 'score': 0.9059908986091614}, {'label': 'LABEL_1', 'score': 0.913224995136261}, {'label': 'LABEL_1', 'score': 0.9300235509872437}, {'label': 'LABEL_1', 'score': 0.9103421568870544}, {'label': 'LABEL_1', 'score': 0.9146432876586914}, {'label': 'LABEL_1', 'score': 0.7444949150085449}, {'label': 'LABEL_1', 'score': 0.9196500778198242}, {'label': 'LABEL_2', 'score': 0.9754461050033569}, {'label': 'LABEL_1', 'score': 0.8907639384269714}, {'label': 'LABEL_1', 'score': 0.9335402250289917}, {'label': 'LABEL_1', 'score': 0.6739851832389832}, {'label': 'LABEL_1', 'score': 0.9025392532348633}, {'label': 'LABEL_0', 'score': 0.7416363954544067}, {'label': 'LABEL_1', 'score': 0.6897585391998291}, {'label': 'LABEL_1', 'score': 0.876784086227417}, {'label': 'LABEL_1', 'score': 0.8899880647659302}, {'label': 'LABEL_1', 'score': 0.8867020606994629}, {'label': 'LABEL_1', 'score': 0.7559892535209656}, {'label': 'LABEL_1', 'score': 0.7758461236953735}, {'label': 'LABEL_1', 'score': 0.9139055609703064}, {'label': 'LABEL_1', 'score': 0.9265119433403015}, {'label': 'LABEL_1', 'score': 0.8991835713386536}, {'label': 'LABEL_1', 'score': 0.784723699092865}, {'label': 'LABEL_1', 'score': 0.8566839694976807}, {'label': 'LABEL_0', 'score': 0.9001906514167786}, {'label': 'LABEL_1', 'score': 0.5289262533187866}, {'label': 'LABEL_1', 'score': 0.8956103920936584}, {'label': 'LABEL_1', 'score': 0.9127205014228821}, {'label': 'LABEL_1', 'score': 0.9390101432800293}, {'label': 'LABEL_1', 'score': 0.9201083183288574}, {'label': 'LABEL_1', 'score': 0.9224084615707397}, {'label': 'LABEL_1', 'score': 0.43252211809158325}, {'label': 'LABEL_1', 'score': 0.8866968750953674}, {'label': 'LABEL_1', 'score': 0.923392653465271}, {'label': 'LABEL_2', 'score': 0.9394116401672363}, {'label': 'LABEL_1', 'score': 0.8151240944862366}, {'label': 'LABEL_1', 'score': 0.9273643493652344}, {'label': 'LABEL_1', 'score': 0.9019073247909546}, {'label': 'LABEL_1', 'score': 0.6757316589355469}, {'label': 'LABEL_1', 'score': 0.8606336116790771}, {'label': 'LABEL_1', 'score': 0.9325215816497803}, {'label': 'LABEL_1', 'score': 0.5652359127998352}, {'label': 'LABEL_1', 'score': 0.9122323393821716}, {'label': 'LABEL_1', 'score': 0.9077275991439819}, {'label': 'LABEL_1', 'score': 0.905748724937439}, {'label': 'LABEL_1', 'score': 0.9275074601173401}, {'label': 'LABEL_1', 'score': 0.9336284399032593}, {'label': 'LABEL_2', 'score': 0.9720690250396729}, {'label': 'LABEL_1', 'score': 0.914972722530365}, {'label': 'LABEL_0', 'score': 0.8931168913841248}, {'label': 'LABEL_1', 'score': 0.8696445822715759}, {'label': 'LABEL_2', 'score': 0.9685868620872498}, {'label': 'LABEL_1', 'score': 0.9333208203315735}, {'label': 'LABEL_1', 'score': 0.9020907282829285}, {'label': 'LABEL_1', 'score': 0.9080514311790466}, {'label': 'LABEL_1', 'score': 0.9006953835487366}, {'label': 'LABEL_1', 'score': 0.906802237033844}, {'label': 'LABEL_0', 'score': 0.7205431461334229}, {'label': 'LABEL_1', 'score': 0.9153143167495728}, {'label': 'LABEL_1', 'score': 0.7599730491638184}, {'label': 'LABEL_1', 'score': 0.91373610496521}, {'label': 'LABEL_1', 'score': 0.8696133494377136}, {'label': 'LABEL_1', 'score': 0.9226438403129578}, {'label': 'LABEL_1', 'score': 0.9127022624015808}, {'label': 'LABEL_1', 'score': 0.9383255243301392}, {'label': 'LABEL_2', 'score': 0.5519329905509949}, {'label': 'LABEL_1', 'score': 0.9138681292533875}, {'label': 'LABEL_1', 'score': 0.5308756828308105}, {'label': 'LABEL_1', 'score': 0.6592516303062439}, {'label': 'LABEL_1', 'score': 0.9208865761756897}, {'label': 'LABEL_1', 'score': 0.671125590801239}, {'label': 'LABEL_1', 'score': 0.9110420942306519}, {'label': 'LABEL_1', 'score': 0.7621568441390991}, {'label': 'LABEL_1', 'score': 0.9206885099411011}, {'label': 'LABEL_1', 'score': 0.9052215814590454}, {'label': 'LABEL_1', 'score': 0.915682852268219}, {'label': 'LABEL_1', 'score': 0.937069296836853}, {'label': 'LABEL_1', 'score': 0.9253077507019043}, {'label': 'LABEL_1', 'score': 0.9337050914764404}, {'label': 'LABEL_1', 'score': 0.9270363450050354}, {'label': 'LABEL_0', 'score': 0.6007151007652283}, {'label': 'LABEL_1', 'score': 0.8858240246772766}, {'label': 'LABEL_1', 'score': 0.9221618175506592}, {'label': 'LABEL_2', 'score': 0.9229167699813843}, {'label': 'LABEL_1', 'score': 0.887215256690979}, {'label': 'LABEL_1', 'score': 0.9216271042823792}, {'label': 'LABEL_2', 'score': 0.9254958033561707}, {'label': 'LABEL_1', 'score': 0.9360883831977844}, {'label': 'LABEL_1', 'score': 0.9379374384880066}, {'label': 'LABEL_1', 'score': 0.9229844808578491}, {'label': 'LABEL_1', 'score': 0.9182780981063843}, {'label': 'LABEL_1', 'score': 0.9425652623176575}, {'label': 'LABEL_1', 'score': 0.8365066051483154}, {'label': 'LABEL_1', 'score': 0.6389738917350769}, {'label': 'LABEL_2', 'score': 0.5116814374923706}, {'label': 'LABEL_1', 'score': 0.9330180883407593}, {'label': 'LABEL_1', 'score': 0.937797486782074}, {'label': 'LABEL_2', 'score': 0.9791465997695923}, {'label': 'LABEL_1', 'score': 0.9110426306724548}, {'label': 'LABEL_1', 'score': 0.8410763144493103}, {'label': 'LABEL_2', 'score': 0.9388842582702637}, {'label': 'LABEL_1', 'score': 0.6555396914482117}, {'label': 'LABEL_1', 'score': 0.7655672430992126}, {'label': 'LABEL_1', 'score': 0.9270918369293213}, {'label': 'LABEL_1', 'score': 0.9361750483512878}, {'label': 'LABEL_0', 'score': 0.9007049798965454}, {'label': 'LABEL_1', 'score': 0.7910813093185425}, {'label': 'LABEL_1', 'score': 0.49612370133399963}, {'label': 'LABEL_1', 'score': 0.9187043309211731}, {'label': 'LABEL_1', 'score': 0.9324474334716797}, {'label': 'LABEL_1', 'score': 0.48472070693969727}, {'label': 'LABEL_1', 'score': 0.9304517507553101}, {'label': 'LABEL_1', 'score': 0.9393209218978882}, {'label': 'LABEL_2', 'score': 0.9734545946121216}, {'label': 'LABEL_1', 'score': 0.6264402866363525}, {'label': 'LABEL_1', 'score': 0.9398117065429688}, {'label': 'LABEL_1', 'score': 0.738075852394104}, {'label': 'LABEL_2', 'score': 0.5355297923088074}, {'label': 'LABEL_2', 'score': 0.9620837569236755}, {'label': 'LABEL_1', 'score': 0.9245685935020447}, {'label': 'LABEL_1', 'score': 0.8401073217391968}, {'label': 'LABEL_1', 'score': 0.9175877571105957}, {'label': 'LABEL_1', 'score': 0.754596471786499}, {'label': 'LABEL_1', 'score': 0.8525012135505676}, {'label': 'LABEL_1', 'score': 0.9245686531066895}, {'label': 'LABEL_1', 'score': 0.9169222116470337}, {'label': 'LABEL_1', 'score': 0.5288520455360413}, {'label': 'LABEL_1', 'score': 0.9325262904167175}, {'label': 'LABEL_1', 'score': 0.918021023273468}, {'label': 'LABEL_0', 'score': 0.9182339310646057}, {'label': 'LABEL_2', 'score': 0.5471237897872925}, {'label': 'LABEL_2', 'score': 0.9759835600852966}, {'label': 'LABEL_1', 'score': 0.8626946210861206}, {'label': 'LABEL_1', 'score': 0.9351932406425476}, {'label': 'LABEL_2', 'score': 0.861937940120697}, {'label': 'LABEL_2', 'score': 0.9750881791114807}, {'label': 'LABEL_0', 'score': 0.943878710269928}, {'label': 'LABEL_2', 'score': 0.7063515782356262}, {'label': 'LABEL_2', 'score': 0.9482676386833191}, {'label': 'LABEL_1', 'score': 0.9381818771362305}, {'label': 'LABEL_1', 'score': 0.9249536395072937}, {'label': 'LABEL_1', 'score': 0.5206020474433899}, {'label': 'LABEL_1', 'score': 0.8535373210906982}, {'label': 'LABEL_1', 'score': 0.8993735313415527}, {'label': 'LABEL_0', 'score': 0.9270382523536682}, {'label': 'LABEL_0', 'score': 0.5898963212966919}, {'label': 'LABEL_1', 'score': 0.9400424361228943}, {'label': 'LABEL_1', 'score': 0.8297438025474548}, {'label': 'LABEL_2', 'score': 0.40278059244155884}, {'label': 'LABEL_1', 'score': 0.9166829586029053}, {'label': 'LABEL_0', 'score': 0.7719026803970337}, {'label': 'LABEL_1', 'score': 0.9407097697257996}, {'label': 'LABEL_1', 'score': 0.8899017572402954}, {'label': 'LABEL_1', 'score': 0.9139388799667358}, {'label': 'LABEL_2', 'score': 0.9500754475593567}, {'label': 'LABEL_1', 'score': 0.9154621958732605}, {'label': 'LABEL_1', 'score': 0.9013888835906982}, {'label': 'LABEL_1', 'score': 0.9104021787643433}, {'label': 'LABEL_1', 'score': 0.942818820476532}, {'label': 'LABEL_1', 'score': 0.8967007398605347}, {'label': 'LABEL_1', 'score': 0.8914614319801331}, {'label': 'LABEL_1', 'score': 0.9110596776008606}, {'label': 'LABEL_1', 'score': 0.7861970067024231}, {'label': 'LABEL_0', 'score': 0.6987627744674683}, {'label': 'LABEL_1', 'score': 0.9226228594779968}, {'label': 'LABEL_2', 'score': 0.9519764184951782}, {'label': 'LABEL_1', 'score': 0.929446816444397}, {'label': 'LABEL_1', 'score': 0.917436420917511}, {'label': 'LABEL_1', 'score': 0.7984239459037781}, {'label': 'LABEL_1', 'score': 0.8383155465126038}, {'label': 'LABEL_1', 'score': 0.9115089178085327}, {'label': 'LABEL_1', 'score': 0.9186230301856995}, {'label': 'LABEL_1', 'score': 0.8630717992782593}, {'label': 'LABEL_0', 'score': 0.8151400089263916}, {'label': 'LABEL_1', 'score': 0.8747075200080872}, {'label': 'LABEL_1', 'score': 0.9371504187583923}, {'label': 'LABEL_2', 'score': 0.7327183485031128}, {'label': 'LABEL_2', 'score': 0.929552435874939}, {'label': 'LABEL_1', 'score': 0.9318441152572632}, {'label': 'LABEL_1', 'score': 0.701511800289154}, {'label': 'LABEL_1', 'score': 0.9090675711631775}, {'label': 'LABEL_1', 'score': 0.896133303642273}, {'label': 'LABEL_1', 'score': 0.7151710987091064}, {'label': 'LABEL_1', 'score': 0.9433292746543884}, {'label': 'LABEL_1', 'score': 0.9477183818817139}, {'label': 'LABEL_1', 'score': 0.9360703229904175}, {'label': 'LABEL_2', 'score': 0.9565220475196838}, {'label': 'LABEL_1', 'score': 0.8588581085205078}, {'label': 'LABEL_1', 'score': 0.5876567363739014}, {'label': 'LABEL_1', 'score': 0.9178189635276794}, {'label': 'LABEL_1', 'score': 0.9094078540802002}, {'label': 'LABEL_1', 'score': 0.9009593725204468}, {'label': 'LABEL_1', 'score': 0.9134409427642822}, {'label': 'LABEL_1', 'score': 0.9118660688400269}, {'label': 'LABEL_1', 'score': 0.9275773763656616}, {'label': 'LABEL_1', 'score': 0.9190124273300171}, {'label': 'LABEL_2', 'score': 0.7641476988792419}, {'label': 'LABEL_1', 'score': 0.9281346201896667}, {'label': 'LABEL_0', 'score': 0.923739492893219}, {'label': 'LABEL_1', 'score': 0.5694015026092529}, {'label': 'LABEL_1', 'score': 0.9057193398475647}, {'label': 'LABEL_1', 'score': 0.9321975708007812}, {'label': 'LABEL_1', 'score': 0.9272957444190979}, {'label': 'LABEL_1', 'score': 0.8945878744125366}, {'label': 'LABEL_1', 'score': 0.9058048725128174}, {'label': 'LABEL_1', 'score': 0.8896796107292175}, {'label': 'LABEL_1', 'score': 0.9389269351959229}, {'label': 'LABEL_1', 'score': 0.9287245869636536}, {'label': 'LABEL_2', 'score': 0.919918954372406}, {'label': 'LABEL_2', 'score': 0.9166590571403503}, {'label': 'LABEL_1', 'score': 0.9215207099914551}, {'label': 'LABEL_1', 'score': 0.7331540584564209}, {'label': 'LABEL_1', 'score': 0.754002571105957}, {'label': 'LABEL_0', 'score': 0.8265529274940491}, {'label': 'LABEL_2', 'score': 0.9316856265068054}, {'label': 'LABEL_1', 'score': 0.9119489192962646}, {'label': 'LABEL_1', 'score': 0.943041980266571}, {'label': 'LABEL_2', 'score': 0.6282083988189697}, {'label': 'LABEL_1', 'score': 0.9151343107223511}, {'label': 'LABEL_1', 'score': 0.9365422129631042}, {'label': 'LABEL_1', 'score': 0.9139871597290039}, {'label': 'LABEL_1', 'score': 0.9195678234100342}, {'label': 'LABEL_1', 'score': 0.9136610627174377}, {'label': 'LABEL_1', 'score': 0.9194865822792053}, {'label': 'LABEL_2', 'score': 0.869954526424408}, {'label': 'LABEL_1', 'score': 0.9178563952445984}], [{'label': 'LABEL_1', 'score': 0.7288103699684143}, {'label': 'LABEL_1', 'score': 0.8999342918395996}, {'label': 'LABEL_2', 'score': 0.9555662870407104}, {'label': 'LABEL_2', 'score': 0.9372011423110962}, {'label': 'LABEL_1', 'score': 0.9294285774230957}, {'label': 'LABEL_1', 'score': 0.9051082134246826}, {'label': 'LABEL_2', 'score': 0.9335662722587585}, {'label': 'LABEL_1', 'score': 0.9505634903907776}, {'label': 'LABEL_1', 'score': 0.9034762978553772}, {'label': 'LABEL_2', 'score': 0.5320274829864502}, {'label': 'LABEL_1', 'score': 0.9131099581718445}, {'label': 'LABEL_0', 'score': 0.9260232448577881}, {'label': 'LABEL_1', 'score': 0.8596223592758179}, {'label': 'LABEL_1', 'score': 0.943757951259613}, {'label': 'LABEL_1', 'score': 0.8612315058708191}, {'label': 'LABEL_1', 'score': 0.8463224172592163}, {'label': 'LABEL_1', 'score': 0.8453711867332458}, {'label': 'LABEL_1', 'score': 0.8475188612937927}, {'label': 'LABEL_1', 'score': 0.8538052439689636}, {'label': 'LABEL_1', 'score': 0.8526830077171326}, {'label': 'LABEL_1', 'score': 0.8705613017082214}, {'label': 'LABEL_1', 'score': 0.8564422130584717}, {'label': 'LABEL_1', 'score': 0.8368607759475708}, {'label': 'LABEL_1', 'score': 0.9225510954856873}, {'label': 'LABEL_1', 'score': 0.9085890650749207}, {'label': 'LABEL_1', 'score': 0.9177578687667847}, {'label': 'LABEL_1', 'score': 0.9149867296218872}, {'label': 'LABEL_1', 'score': 0.913864016532898}, {'label': 'LABEL_1', 'score': 0.8442544341087341}, {'label': 'LABEL_1', 'score': 0.9187484979629517}, {'label': 'LABEL_2', 'score': 0.6296137571334839}, {'label': 'LABEL_2', 'score': 0.9270899891853333}, {'label': 'LABEL_2', 'score': 0.8547123670578003}, {'label': 'LABEL_1', 'score': 0.7145091891288757}, {'label': 'LABEL_2', 'score': 0.5600857138633728}, {'label': 'LABEL_2', 'score': 0.8795493841171265}, {'label': 'LABEL_1', 'score': 0.9330663681030273}, {'label': 'LABEL_1', 'score': 0.9080275893211365}, {'label': 'LABEL_1', 'score': 0.9031326174736023}, {'label': 'LABEL_1', 'score': 0.7478998899459839}, {'label': 'LABEL_1', 'score': 0.9059395790100098}, {'label': 'LABEL_1', 'score': 0.916235625743866}, {'label': 'LABEL_0', 'score': 0.45230045914649963}, {'label': 'LABEL_1', 'score': 0.9398584961891174}, {'label': 'LABEL_1', 'score': 0.9103601574897766}, {'label': 'LABEL_1', 'score': 0.9406245350837708}, {'label': 'LABEL_1', 'score': 0.9318082928657532}, {'label': 'LABEL_1', 'score': 0.8268193602561951}, {'label': 'LABEL_1', 'score': 0.9420648813247681}, {'label': 'LABEL_1', 'score': 0.8928220868110657}, {'label': 'LABEL_1', 'score': 0.9402154088020325}, {'label': 'LABEL_1', 'score': 0.9168723225593567}, {'label': 'LABEL_2', 'score': 0.9507498741149902}, {'label': 'LABEL_2', 'score': 0.9729475975036621}, {'label': 'LABEL_2', 'score': 0.9773324728012085}, {'label': 'LABEL_1', 'score': 0.9072913527488708}, {'label': 'LABEL_1', 'score': 0.6563871502876282}, {'label': 'LABEL_0', 'score': 0.9351255893707275}, {'label': 'LABEL_1', 'score': 0.8321306109428406}, {'label': 'LABEL_1', 'score': 0.8985297083854675}, {'label': 'LABEL_2', 'score': 0.9228688478469849}, {'label': 'LABEL_1', 'score': 0.9089153409004211}, {'label': 'LABEL_2', 'score': 0.9023424983024597}, {'label': 'LABEL_2', 'score': 0.9330180883407593}, {'label': 'LABEL_1', 'score': 0.9360159039497375}, {'label': 'LABEL_1', 'score': 0.9135574102401733}, {'label': 'LABEL_1', 'score': 0.9309199452400208}, {'label': 'LABEL_1', 'score': 0.9064315557479858}, {'label': 'LABEL_1', 'score': 0.8278200030326843}, {'label': 'LABEL_1', 'score': 0.6182591915130615}, {'label': 'LABEL_1', 'score': 0.908568263053894}, {'label': 'LABEL_1', 'score': 0.9435595273971558}, {'label': 'LABEL_1', 'score': 0.8911719918251038}, {'label': 'LABEL_1', 'score': 0.8132659792900085}, {'label': 'LABEL_0', 'score': 0.9048470258712769}, {'label': 'LABEL_1', 'score': 0.9179707765579224}, {'label': 'LABEL_2', 'score': 0.7327597737312317}, {'label': 'LABEL_2', 'score': 0.9754738211631775}, {'label': 'LABEL_1', 'score': 0.9066100120544434}, {'label': 'LABEL_1', 'score': 0.9316981434822083}, {'label': 'LABEL_2', 'score': 0.970378577709198}, {'label': 'LABEL_1', 'score': 0.8995179533958435}, {'label': 'LABEL_1', 'score': 0.8738341331481934}, {'label': 'LABEL_1', 'score': 0.9264280200004578}, {'label': 'LABEL_2', 'score': 0.956628680229187}, {'label': 'LABEL_1', 'score': 0.93541419506073}, {'label': 'LABEL_2', 'score': 0.9575446844100952}, {'label': 'LABEL_1', 'score': 0.9051994681358337}, {'label': 'LABEL_1', 'score': 0.9172720313072205}, {'label': 'LABEL_2', 'score': 0.9537386298179626}, {'label': 'LABEL_1', 'score': 0.922874391078949}, {'label': 'LABEL_1', 'score': 0.91607266664505}, {'label': 'LABEL_1', 'score': 0.9263209104537964}, {'label': 'LABEL_1', 'score': 0.9175776243209839}, {'label': 'LABEL_1', 'score': 0.9141013026237488}, {'label': 'LABEL_1', 'score': 0.8977894186973572}, {'label': 'LABEL_1', 'score': 0.8518187999725342}, {'label': 'LABEL_1', 'score': 0.913167417049408}, {'label': 'LABEL_1', 'score': 0.8526663780212402}, {'label': 'LABEL_1', 'score': 0.9261412024497986}, {'label': 'LABEL_1', 'score': 0.9367520809173584}, {'label': 'LABEL_1', 'score': 0.9255325794219971}, {'label': 'LABEL_1', 'score': 0.8567571043968201}, {'label': 'LABEL_0', 'score': 0.5314932465553284}, {'label': 'LABEL_2', 'score': 0.8432615399360657}, {'label': 'LABEL_0', 'score': 0.5517229437828064}, {'label': 'LABEL_1', 'score': 0.9415323734283447}, {'label': 'LABEL_1', 'score': 0.6231017112731934}, {'label': 'LABEL_2', 'score': 0.9607131481170654}, {'label': 'LABEL_1', 'score': 0.5993655920028687}, {'label': 'LABEL_1', 'score': 0.9045255184173584}, {'label': 'LABEL_1', 'score': 0.9186604022979736}, {'label': 'LABEL_1', 'score': 0.9015328288078308}, {'label': 'LABEL_2', 'score': 0.8905097842216492}, {'label': 'LABEL_1', 'score': 0.9003690481185913}, {'label': 'LABEL_1', 'score': 0.8972132205963135}, {'label': 'LABEL_1', 'score': 0.9040737152099609}, {'label': 'LABEL_1', 'score': 0.9072222113609314}, {'label': 'LABEL_1', 'score': 0.9209891557693481}, {'label': 'LABEL_1', 'score': 0.9156090021133423}, {'label': 'LABEL_1', 'score': 0.9111975431442261}, {'label': 'LABEL_1', 'score': 0.8903299570083618}, {'label': 'LABEL_1', 'score': 0.89680415391922}, {'label': 'LABEL_1', 'score': 0.926772952079773}, {'label': 'LABEL_2', 'score': 0.6827227473258972}, {'label': 'LABEL_1', 'score': 0.9110906720161438}, {'label': 'LABEL_1', 'score': 0.6455621719360352}, {'label': 'LABEL_1', 'score': 0.8493372201919556}, {'label': 'LABEL_1', 'score': 0.8406164050102234}, {'label': 'LABEL_1', 'score': 0.9028712511062622}, {'label': 'LABEL_1', 'score': 0.933347225189209}, {'label': 'LABEL_1', 'score': 0.9377844929695129}, {'label': 'LABEL_1', 'score': 0.9089279770851135}, {'label': 'LABEL_1', 'score': 0.9093661308288574}, {'label': 'LABEL_1', 'score': 0.9043532013893127}, {'label': 'LABEL_1', 'score': 0.6319807767868042}, {'label': 'LABEL_1', 'score': 0.9282320737838745}, {'label': 'LABEL_1', 'score': 0.8527196049690247}, {'label': 'LABEL_1', 'score': 0.9231773614883423}, {'label': 'LABEL_1', 'score': 0.9183436036109924}, {'label': 'LABEL_1', 'score': 0.8759967684745789}, {'label': 'LABEL_1', 'score': 0.9171436429023743}, {'label': 'LABEL_2', 'score': 0.5848040580749512}, {'label': 'LABEL_1', 'score': 0.9339823126792908}, {'label': 'LABEL_1', 'score': 0.8146491646766663}, {'label': 'LABEL_1', 'score': 0.9049239754676819}, {'label': 'LABEL_1', 'score': 0.5398969650268555}, {'label': 'LABEL_1', 'score': 0.9255484342575073}, {'label': 'LABEL_1', 'score': 0.9069837331771851}, {'label': 'LABEL_1', 'score': 0.9199764132499695}, {'label': 'LABEL_2', 'score': 0.9176627993583679}, {'label': 'LABEL_1', 'score': 0.5587111711502075}, {'label': 'LABEL_1', 'score': 0.8739840388298035}, {'label': 'LABEL_1', 'score': 0.9165813326835632}, {'label': 'LABEL_1', 'score': 0.9043880701065063}, {'label': 'LABEL_1', 'score': 0.9105433225631714}, {'label': 'LABEL_1', 'score': 0.9191222190856934}, {'label': 'LABEL_1', 'score': 0.9149566292762756}, {'label': 'LABEL_0', 'score': 0.7723315954208374}, {'label': 'LABEL_0', 'score': 0.931300938129425}, {'label': 'LABEL_1', 'score': 0.775743842124939}, {'label': 'LABEL_1', 'score': 0.7571296095848083}, {'label': 'LABEL_1', 'score': 0.9281284809112549}, {'label': 'LABEL_1', 'score': 0.9153630137443542}, {'label': 'LABEL_1', 'score': 0.747910737991333}, {'label': 'LABEL_1', 'score': 0.9057404398918152}, {'label': 'LABEL_1', 'score': 0.9305687546730042}, {'label': 'LABEL_2', 'score': 0.9733041524887085}, {'label': 'LABEL_1', 'score': 0.909140944480896}, {'label': 'LABEL_1', 'score': 0.9114177227020264}, {'label': 'LABEL_1', 'score': 0.8950825929641724}, {'label': 'LABEL_1', 'score': 0.9155930876731873}, {'label': 'LABEL_1', 'score': 0.9215980768203735}, {'label': 'LABEL_1', 'score': 0.9000401496887207}, {'label': 'LABEL_1', 'score': 0.9096179604530334}, {'label': 'LABEL_1', 'score': 0.9385262131690979}, {'label': 'LABEL_1', 'score': 0.9113180041313171}, {'label': 'LABEL_1', 'score': 0.9153532385826111}, {'label': 'LABEL_1', 'score': 0.9207040667533875}, {'label': 'LABEL_1', 'score': 0.9158743619918823}, {'label': 'LABEL_1', 'score': 0.9192463159561157}, {'label': 'LABEL_1', 'score': 0.6865137815475464}, {'label': 'LABEL_1', 'score': 0.9311249852180481}, {'label': 'LABEL_1', 'score': 0.8624616861343384}, {'label': 'LABEL_1', 'score': 0.9164167642593384}, {'label': 'LABEL_1', 'score': 0.9102525115013123}, {'label': 'LABEL_2', 'score': 0.5158674120903015}, {'label': 'LABEL_2', 'score': 0.5546205639839172}, {'label': 'LABEL_1', 'score': 0.9270868897438049}, {'label': 'LABEL_1', 'score': 0.7759087085723877}, {'label': 'LABEL_1', 'score': 0.9269582033157349}, {'label': 'LABEL_1', 'score': 0.90690678358078}, {'label': 'LABEL_1', 'score': 0.9233936667442322}, {'label': 'LABEL_1', 'score': 0.9232572913169861}, {'label': 'LABEL_2', 'score': 0.9100534915924072}, {'label': 'LABEL_1', 'score': 0.923386812210083}, {'label': 'LABEL_1', 'score': 0.7714866995811462}, {'label': 'LABEL_1', 'score': 0.9227422475814819}, {'label': 'LABEL_1', 'score': 0.9156477451324463}, {'label': 'LABEL_1', 'score': 0.9226422309875488}, {'label': 'LABEL_1', 'score': 0.9272723197937012}, {'label': 'LABEL_1', 'score': 0.9031071066856384}, {'label': 'LABEL_1', 'score': 0.9214538931846619}, {'label': 'LABEL_1', 'score': 0.9044476747512817}, {'label': 'LABEL_1', 'score': 0.8449438810348511}, {'label': 'LABEL_1', 'score': 0.916321337223053}, {'label': 'LABEL_1', 'score': 0.8844386339187622}, {'label': 'LABEL_1', 'score': 0.8724983334541321}, {'label': 'LABEL_1', 'score': 0.9241781234741211}, {'label': 'LABEL_1', 'score': 0.9258865714073181}, {'label': 'LABEL_2', 'score': 0.7384244799613953}, {'label': 'LABEL_2', 'score': 0.9707509875297546}, {'label': 'LABEL_1', 'score': 0.9142491221427917}, {'label': 'LABEL_2', 'score': 0.852844774723053}, {'label': 'LABEL_1', 'score': 0.9349237084388733}, {'label': 'LABEL_2', 'score': 0.9294145107269287}, {'label': 'LABEL_0', 'score': 0.9427406191825867}, {'label': 'LABEL_1', 'score': 0.937372088432312}, {'label': 'LABEL_2', 'score': 0.9769703149795532}, {'label': 'LABEL_1', 'score': 0.9339556097984314}, {'label': 'LABEL_2', 'score': 0.975443959236145}, {'label': 'LABEL_1', 'score': 0.8983783721923828}, {'label': 'LABEL_1', 'score': 0.9319016933441162}, {'label': 'LABEL_1', 'score': 0.8859096169471741}, {'label': 'LABEL_2', 'score': 0.9445605278015137}, {'label': 'LABEL_1', 'score': 0.8206101059913635}, {'label': 'LABEL_1', 'score': 0.9154554009437561}, {'label': 'LABEL_1', 'score': 0.917832612991333}, {'label': 'LABEL_2', 'score': 0.9711761474609375}, {'label': 'LABEL_1', 'score': 0.9245138764381409}, {'label': 'LABEL_1', 'score': 0.9350617527961731}, {'label': 'LABEL_1', 'score': 0.9011148810386658}, {'label': 'LABEL_2', 'score': 0.9543754458427429}, {'label': 'LABEL_1', 'score': 0.48527538776397705}, {'label': 'LABEL_1', 'score': 0.8976885080337524}, {'label': 'LABEL_2', 'score': 0.8699276447296143}, {'label': 'LABEL_1', 'score': 0.9289771318435669}, {'label': 'LABEL_1', 'score': 0.8918293118476868}, {'label': 'LABEL_1', 'score': 0.9143244028091431}, {'label': 'LABEL_1', 'score': 0.49733564257621765}, {'label': 'LABEL_1', 'score': 0.608833909034729}, {'label': 'LABEL_1', 'score': 0.9371890425682068}, {'label': 'LABEL_1', 'score': 0.8924958109855652}, {'label': 'LABEL_0', 'score': 0.5189588665962219}, {'label': 'LABEL_1', 'score': 0.9072182178497314}, {'label': 'LABEL_1', 'score': 0.7885755896568298}, {'label': 'LABEL_1', 'score': 0.8448052406311035}, {'label': 'LABEL_1', 'score': 0.9267000555992126}, {'label': 'LABEL_1', 'score': 0.7251578569412231}, {'label': 'LABEL_0', 'score': 0.8818434476852417}, {'label': 'LABEL_1', 'score': 0.7367221117019653}, {'label': 'LABEL_1', 'score': 0.9227142333984375}, {'label': 'LABEL_2', 'score': 0.957550585269928}, {'label': 'LABEL_1', 'score': 0.858855664730072}, {'label': 'LABEL_1', 'score': 0.853501558303833}, {'label': 'LABEL_1', 'score': 0.890195369720459}, {'label': 'LABEL_1', 'score': 0.9372513294219971}, {'label': 'LABEL_1', 'score': 0.8905266523361206}, {'label': 'LABEL_0', 'score': 0.9319288730621338}, {'label': 'LABEL_1', 'score': 0.9063034653663635}, {'label': 'LABEL_1', 'score': 0.9060214757919312}, {'label': 'LABEL_1', 'score': 0.932212769985199}, {'label': 'LABEL_1', 'score': 0.9195314049720764}, {'label': 'LABEL_1', 'score': 0.9324395060539246}, {'label': 'LABEL_1', 'score': 0.9137828946113586}, {'label': 'LABEL_1', 'score': 0.916159451007843}, {'label': 'LABEL_1', 'score': 0.7524605989456177}, {'label': 'LABEL_1', 'score': 0.9208449721336365}, {'label': 'LABEL_1', 'score': 0.943192720413208}, {'label': 'LABEL_2', 'score': 0.8582645654678345}, {'label': 'LABEL_1', 'score': 0.737923264503479}, {'label': 'LABEL_1', 'score': 0.9299902319908142}, {'label': 'LABEL_1', 'score': 0.8229683041572571}, {'label': 'LABEL_1', 'score': 0.732258677482605}, {'label': 'LABEL_1', 'score': 0.910411536693573}, {'label': 'LABEL_1', 'score': 0.9254464507102966}, {'label': 'LABEL_1', 'score': 0.9238247275352478}, {'label': 'LABEL_1', 'score': 0.9178768992424011}, {'label': 'LABEL_1', 'score': 0.8883350491523743}, {'label': 'LABEL_1', 'score': 0.9141508340835571}, {'label': 'LABEL_1', 'score': 0.9188734292984009}, {'label': 'LABEL_1', 'score': 0.9090024828910828}, {'label': 'LABEL_1', 'score': 0.9377853870391846}, {'label': 'LABEL_1', 'score': 0.9180819392204285}, {'label': 'LABEL_1', 'score': 0.9185680150985718}, {'label': 'LABEL_1', 'score': 0.9282281398773193}, {'label': 'LABEL_1', 'score': 0.7319134473800659}, {'label': 'LABEL_2', 'score': 0.617091715335846}, {'label': 'LABEL_1', 'score': 0.9113162159919739}, {'label': 'LABEL_1', 'score': 0.920313835144043}, {'label': 'LABEL_1', 'score': 0.8444034457206726}, {'label': 'LABEL_1', 'score': 0.9345884919166565}, {'label': 'LABEL_2', 'score': 0.5171575546264648}, {'label': 'LABEL_1', 'score': 0.8879612684249878}, {'label': 'LABEL_1', 'score': 0.9339895844459534}, {'label': 'LABEL_1', 'score': 0.9195899963378906}, {'label': 'LABEL_1', 'score': 0.9210624694824219}, {'label': 'LABEL_0', 'score': 0.7317857146263123}, {'label': 'LABEL_1', 'score': 0.9201380014419556}, {'label': 'LABEL_1', 'score': 0.9101536273956299}, {'label': 'LABEL_1', 'score': 0.9021806716918945}, {'label': 'LABEL_2', 'score': 0.969918966293335}, {'label': 'LABEL_1', 'score': 0.848927915096283}, {'label': 'LABEL_1', 'score': 0.9256585240364075}, {'label': 'LABEL_1', 'score': 0.9065167307853699}, {'label': 'LABEL_1', 'score': 0.9387624263763428}, {'label': 'LABEL_1', 'score': 0.6222067475318909}, {'label': 'LABEL_2', 'score': 0.8274371027946472}, {'label': 'LABEL_2', 'score': 0.953746497631073}, {'label': 'LABEL_1', 'score': 0.7362080216407776}, {'label': 'LABEL_2', 'score': 0.7580193877220154}, {'label': 'LABEL_1', 'score': 0.8528075814247131}, {'label': 'LABEL_1', 'score': 0.9247424602508545}, {'label': 'LABEL_1', 'score': 0.5742090344429016}, {'label': 'LABEL_1', 'score': 0.9068629741668701}, {'label': 'LABEL_1', 'score': 0.8078247308731079}, {'label': 'LABEL_2', 'score': 0.9787898659706116}, {'label': 'LABEL_1', 'score': 0.5377471446990967}, {'label': 'LABEL_1', 'score': 0.9001591801643372}, {'label': 'LABEL_1', 'score': 0.8283620476722717}, {'label': 'LABEL_1', 'score': 0.5288494825363159}, {'label': 'LABEL_1', 'score': 0.9123464226722717}, {'label': 'LABEL_1', 'score': 0.8900362849235535}, {'label': 'LABEL_2', 'score': 0.8954694867134094}, {'label': 'LABEL_1', 'score': 0.9391506910324097}, {'label': 'LABEL_1', 'score': 0.8453844785690308}, {'label': 'LABEL_0', 'score': 0.9260536432266235}, {'label': 'LABEL_1', 'score': 0.9287964701652527}, {'label': 'LABEL_1', 'score': 0.8997522592544556}, {'label': 'LABEL_1', 'score': 0.8998326659202576}, {'label': 'LABEL_1', 'score': 0.9338780641555786}, {'label': 'LABEL_1', 'score': 0.7898529767990112}, {'label': 'LABEL_1', 'score': 0.9297864437103271}, {'label': 'LABEL_2', 'score': 0.5107083320617676}, {'label': 'LABEL_1', 'score': 0.9060035347938538}, {'label': 'LABEL_0', 'score': 0.6073935031890869}, {'label': 'LABEL_1', 'score': 0.9067435264587402}, {'label': 'LABEL_2', 'score': 0.9630346894264221}, {'label': 'LABEL_1', 'score': 0.9119096994400024}, {'label': 'LABEL_1', 'score': 0.6303244829177856}, {'label': 'LABEL_1', 'score': 0.7294096946716309}, {'label': 'LABEL_1', 'score': 0.8421673774719238}, {'label': 'LABEL_1', 'score': 0.9298374652862549}, {'label': 'LABEL_1', 'score': 0.7874078750610352}, {'label': 'LABEL_1', 'score': 0.8998542428016663}, {'label': 'LABEL_1', 'score': 0.9179159998893738}, {'label': 'LABEL_2', 'score': 0.9107789993286133}, {'label': 'LABEL_1', 'score': 0.8394659161567688}, {'label': 'LABEL_2', 'score': 0.8847113251686096}, {'label': 'LABEL_1', 'score': 0.8743913173675537}, {'label': 'LABEL_0', 'score': 0.7811724543571472}, {'label': 'LABEL_0', 'score': 0.9239871501922607}, {'label': 'LABEL_1', 'score': 0.7809251546859741}, {'label': 'LABEL_1', 'score': 0.9380256533622742}, {'label': 'LABEL_1', 'score': 0.9344536662101746}, {'label': 'LABEL_1', 'score': 0.9286829829216003}, {'label': 'LABEL_2', 'score': 0.5201332569122314}, {'label': 'LABEL_1', 'score': 0.9119966626167297}, {'label': 'LABEL_1', 'score': 0.8691716194152832}, {'label': 'LABEL_1', 'score': 0.9134161472320557}, {'label': 'LABEL_0', 'score': 0.6701602935791016}, {'label': 'LABEL_1', 'score': 0.9346169233322144}, {'label': 'LABEL_2', 'score': 0.9439969062805176}, {'label': 'LABEL_1', 'score': 0.7015650868415833}, {'label': 'LABEL_0', 'score': 0.6458643674850464}, {'label': 'LABEL_0', 'score': 0.8782882690429688}, {'label': 'LABEL_1', 'score': 0.5159063339233398}, {'label': 'LABEL_1', 'score': 0.7925840020179749}, {'label': 'LABEL_1', 'score': 0.9074319005012512}, {'label': 'LABEL_1', 'score': 0.8890876173973083}, {'label': 'LABEL_1', 'score': 0.9150584936141968}, {'label': 'LABEL_1', 'score': 0.6461657285690308}, {'label': 'LABEL_1', 'score': 0.8194655179977417}, {'label': 'LABEL_2', 'score': 0.9000915884971619}, {'label': 'LABEL_1', 'score': 0.9474655985832214}, {'label': 'LABEL_1', 'score': 0.9428064227104187}, {'label': 'LABEL_1', 'score': 0.7315834760665894}, {'label': 'LABEL_1', 'score': 0.9346935749053955}, {'label': 'LABEL_1', 'score': 0.6250853538513184}, {'label': 'LABEL_0', 'score': 0.8168432712554932}, {'label': 'LABEL_1', 'score': 0.5393085479736328}, {'label': 'LABEL_1', 'score': 0.5463236570358276}, {'label': 'LABEL_1', 'score': 0.9080588817596436}, {'label': 'LABEL_1', 'score': 0.855655312538147}, {'label': 'LABEL_0', 'score': 0.7847317457199097}, {'label': 'LABEL_1', 'score': 0.9441133141517639}, {'label': 'LABEL_1', 'score': 0.7335135340690613}, {'label': 'LABEL_1', 'score': 0.7085614204406738}, {'label': 'LABEL_1', 'score': 0.9015516042709351}, {'label': 'LABEL_1', 'score': 0.920447051525116}, {'label': 'LABEL_1', 'score': 0.9420621395111084}, {'label': 'LABEL_1', 'score': 0.6006174683570862}, {'label': 'LABEL_1', 'score': 0.9100936055183411}, {'label': 'LABEL_1', 'score': 0.9203278422355652}, {'label': 'LABEL_1', 'score': 0.9235391616821289}, {'label': 'LABEL_1', 'score': 0.830510139465332}, {'label': 'LABEL_1', 'score': 0.9262547492980957}, {'label': 'LABEL_1', 'score': 0.9276602268218994}, {'label': 'LABEL_1', 'score': 0.9207448363304138}, {'label': 'LABEL_1', 'score': 0.91245436668396}, {'label': 'LABEL_1', 'score': 0.9208822846412659}, {'label': 'LABEL_1', 'score': 0.9094948768615723}, {'label': 'LABEL_1', 'score': 0.9320740699768066}, {'label': 'LABEL_1', 'score': 0.9076244235038757}, {'label': 'LABEL_0', 'score': 0.6098338961601257}, {'label': 'LABEL_0', 'score': 0.5161993503570557}, {'label': 'LABEL_0', 'score': 0.922694742679596}, {'label': 'LABEL_1', 'score': 0.9136215448379517}, {'label': 'LABEL_1', 'score': 0.9065724611282349}, {'label': 'LABEL_1', 'score': 0.9178019165992737}, {'label': 'LABEL_1', 'score': 0.9207015037536621}, {'label': 'LABEL_2', 'score': 0.6985301375389099}, {'label': 'LABEL_1', 'score': 0.9097375273704529}, {'label': 'LABEL_2', 'score': 0.7845348119735718}, {'label': 'LABEL_1', 'score': 0.9375889897346497}, {'label': 'LABEL_1', 'score': 0.908836841583252}, {'label': 'LABEL_1', 'score': 0.9132516384124756}, {'label': 'LABEL_1', 'score': 0.9306129217147827}, {'label': 'LABEL_1', 'score': 0.6224501132965088}, {'label': 'LABEL_0', 'score': 0.8753092885017395}, {'label': 'LABEL_1', 'score': 0.6637887358665466}, {'label': 'LABEL_1', 'score': 0.839164674282074}, {'label': 'LABEL_1', 'score': 0.9318961501121521}, {'label': 'LABEL_1', 'score': 0.7440657615661621}, {'label': 'LABEL_1', 'score': 0.5535317659378052}, {'label': 'LABEL_2', 'score': 0.9657943248748779}, {'label': 'LABEL_2', 'score': 0.8886770009994507}, {'label': 'LABEL_2', 'score': 0.9326316118240356}, {'label': 'LABEL_1', 'score': 0.921709418296814}, {'label': 'LABEL_1', 'score': 0.8491934537887573}, {'label': 'LABEL_0', 'score': 0.7854030132293701}, {'label': 'LABEL_1', 'score': 0.9172373414039612}, {'label': 'LABEL_1', 'score': 0.7170718908309937}, {'label': 'LABEL_1', 'score': 0.9004945158958435}, {'label': 'LABEL_1', 'score': 0.8615617156028748}, {'label': 'LABEL_1', 'score': 0.5747426748275757}, {'label': 'LABEL_1', 'score': 0.8107684850692749}, {'label': 'LABEL_2', 'score': 0.9667389988899231}, {'label': 'LABEL_1', 'score': 0.7575474381446838}, {'label': 'LABEL_1', 'score': 0.8545339107513428}, {'label': 'LABEL_0', 'score': 0.708672285079956}, {'label': 'LABEL_1', 'score': 0.9213329553604126}, {'label': 'LABEL_1', 'score': 0.5031797885894775}, {'label': 'LABEL_1', 'score': 0.5119816660881042}, {'label': 'LABEL_1', 'score': 0.7170825600624084}, {'label': 'LABEL_1', 'score': 0.5783752202987671}, {'label': 'LABEL_1', 'score': 0.5747581124305725}, {'label': 'LABEL_1', 'score': 0.9095302820205688}, {'label': 'LABEL_1', 'score': 0.8082627058029175}, {'label': 'LABEL_1', 'score': 0.9312847256660461}, {'label': 'LABEL_1', 'score': 0.9229915738105774}, {'label': 'LABEL_1', 'score': 0.7575474977493286}, {'label': 'LABEL_1', 'score': 0.5031806826591492}, {'label': 'LABEL_1', 'score': 0.8927022814750671}, {'label': 'LABEL_1', 'score': 0.9179913401603699}, {'label': 'LABEL_1', 'score': 0.9155573844909668}, {'label': 'LABEL_1', 'score': 0.9257169961929321}, {'label': 'LABEL_1', 'score': 0.8540334701538086}, {'label': 'LABEL_1', 'score': 0.9154228568077087}, {'label': 'LABEL_1', 'score': 0.9088419079780579}, {'label': 'LABEL_2', 'score': 0.9724697470664978}, {'label': 'LABEL_1', 'score': 0.9226891398429871}, {'label': 'LABEL_1', 'score': 0.9202715158462524}, {'label': 'LABEL_1', 'score': 0.9374265074729919}, {'label': 'LABEL_1', 'score': 0.933580756187439}, {'label': 'LABEL_1', 'score': 0.5031659603118896}, {'label': 'LABEL_2', 'score': 0.8368543982505798}, {'label': 'LABEL_1', 'score': 0.9332215189933777}, {'label': 'LABEL_1', 'score': 0.9114618897438049}, {'label': 'LABEL_1', 'score': 0.9385910034179688}, {'label': 'LABEL_1', 'score': 0.9041116833686829}, {'label': 'LABEL_1', 'score': 0.9247317314147949}, {'label': 'LABEL_2', 'score': 0.8110486268997192}, {'label': 'LABEL_1', 'score': 0.8138970136642456}, {'label': 'LABEL_2', 'score': 0.9598385691642761}, {'label': 'LABEL_1', 'score': 0.9239521622657776}, {'label': 'LABEL_2', 'score': 0.9186779856681824}, {'label': 'LABEL_2', 'score': 0.8537741303443909}, {'label': 'LABEL_1', 'score': 0.9386389255523682}, {'label': 'LABEL_0', 'score': 0.8139916062355042}, {'label': 'LABEL_1', 'score': 0.9179704785346985}, {'label': 'LABEL_1', 'score': 0.7548101544380188}, {'label': 'LABEL_2', 'score': 0.9323828220367432}, {'label': 'LABEL_2', 'score': 0.9749959111213684}, {'label': 'LABEL_1', 'score': 0.9183192253112793}, {'label': 'LABEL_1', 'score': 0.9269339442253113}, {'label': 'LABEL_2', 'score': 0.9610653519630432}, {'label': 'LABEL_1', 'score': 0.9495134353637695}, {'label': 'LABEL_1', 'score': 0.8983812928199768}, {'label': 'LABEL_2', 'score': 0.9755709767341614}, {'label': 'LABEL_1', 'score': 0.6760280728340149}, {'label': 'LABEL_1', 'score': 0.9335992336273193}, {'label': 'LABEL_1', 'score': 0.9389770030975342}, {'label': 'LABEL_1', 'score': 0.9435245990753174}, {'label': 'LABEL_1', 'score': 0.9176050424575806}, {'label': 'LABEL_1', 'score': 0.7351356148719788}, {'label': 'LABEL_2', 'score': 0.9423623085021973}, {'label': 'LABEL_1', 'score': 0.9255197048187256}, {'label': 'LABEL_2', 'score': 0.6134281158447266}], [{'label': 'LABEL_1', 'score': 0.9154547452926636}, {'label': 'LABEL_1', 'score': 0.9210044145584106}, {'label': 'LABEL_1', 'score': 0.9140268564224243}, {'label': 'LABEL_1', 'score': 0.9228635430335999}, {'label': 'LABEL_1', 'score': 0.7204129695892334}, {'label': 'LABEL_1', 'score': 0.9034647345542908}, {'label': 'LABEL_1', 'score': 0.9052839279174805}, {'label': 'LABEL_0', 'score': 0.851939857006073}, {'label': 'LABEL_1', 'score': 0.8893483281135559}, {'label': 'LABEL_2', 'score': 0.9618886113166809}, {'label': 'LABEL_1', 'score': 0.9334953427314758}, {'label': 'LABEL_1', 'score': 0.9360278844833374}, {'label': 'LABEL_1', 'score': 0.9157200455665588}, {'label': 'LABEL_1', 'score': 0.9117761850357056}, {'label': 'LABEL_1', 'score': 0.8944308757781982}, {'label': 'LABEL_0', 'score': 0.9304738640785217}, {'label': 'LABEL_1', 'score': 0.9123117327690125}, {'label': 'LABEL_1', 'score': 0.9111611247062683}, {'label': 'LABEL_1', 'score': 0.8006468415260315}, {'label': 'LABEL_1', 'score': 0.9210525155067444}, {'label': 'LABEL_1', 'score': 0.9398703575134277}, {'label': 'LABEL_1', 'score': 0.925339937210083}, {'label': 'LABEL_1', 'score': 0.9206748008728027}, {'label': 'LABEL_1', 'score': 0.9312925338745117}, {'label': 'LABEL_1', 'score': 0.9094387292861938}, {'label': 'LABEL_1', 'score': 0.9186648726463318}, {'label': 'LABEL_2', 'score': 0.5199117660522461}, {'label': 'LABEL_1', 'score': 0.7786509990692139}, {'label': 'LABEL_1', 'score': 0.9335464835166931}, {'label': 'LABEL_1', 'score': 0.9320727586746216}, {'label': 'LABEL_1', 'score': 0.943317711353302}, {'label': 'LABEL_1', 'score': 0.9133792519569397}, {'label': 'LABEL_1', 'score': 0.9241373538970947}, {'label': 'LABEL_0', 'score': 0.577926516532898}, {'label': 'LABEL_1', 'score': 0.659654974937439}, {'label': 'LABEL_1', 'score': 0.9131271839141846}, {'label': 'LABEL_1', 'score': 0.9149141311645508}, {'label': 'LABEL_1', 'score': 0.9186201691627502}, {'label': 'LABEL_1', 'score': 0.9180206060409546}, {'label': 'LABEL_1', 'score': 0.9337350130081177}, {'label': 'LABEL_1', 'score': 0.9242194890975952}, {'label': 'LABEL_1', 'score': 0.9082496166229248}, {'label': 'LABEL_1', 'score': 0.9104188680648804}, {'label': 'LABEL_1', 'score': 0.9303025603294373}, {'label': 'LABEL_1', 'score': 0.89218670129776}, {'label': 'LABEL_2', 'score': 0.8916845917701721}, {'label': 'LABEL_1', 'score': 0.7307889461517334}, {'label': 'LABEL_1', 'score': 0.9165778160095215}, {'label': 'LABEL_1', 'score': 0.8964744806289673}, {'label': 'LABEL_1', 'score': 0.9194599390029907}, {'label': 'LABEL_2', 'score': 0.765612781047821}, {'label': 'LABEL_1', 'score': 0.9269323945045471}, {'label': 'LABEL_1', 'score': 0.9195208549499512}, {'label': 'LABEL_1', 'score': 0.9373286366462708}, {'label': 'LABEL_1', 'score': 0.9055796265602112}, {'label': 'LABEL_0', 'score': 0.9200366735458374}, {'label': 'LABEL_1', 'score': 0.9336972236633301}, {'label': 'LABEL_1', 'score': 0.7166913151741028}, {'label': 'LABEL_1', 'score': 0.9184256196022034}, {'label': 'LABEL_1', 'score': 0.7779712080955505}, {'label': 'LABEL_1', 'score': 0.9343770742416382}, {'label': 'LABEL_1', 'score': 0.907932460308075}, {'label': 'LABEL_1', 'score': 0.8872105479240417}, {'label': 'LABEL_2', 'score': 0.4077913761138916}, {'label': 'LABEL_0', 'score': 0.8880747556686401}, {'label': 'LABEL_1', 'score': 0.9335757493972778}, {'label': 'LABEL_1', 'score': 0.919086754322052}, {'label': 'LABEL_1', 'score': 0.9332031607627869}, {'label': 'LABEL_1', 'score': 0.9101384282112122}, {'label': 'LABEL_1', 'score': 0.9351937770843506}, {'label': 'LABEL_1', 'score': 0.5025641918182373}, {'label': 'LABEL_0', 'score': 0.6710323095321655}, {'label': 'LABEL_2', 'score': 0.8897458910942078}, {'label': 'LABEL_2', 'score': 0.9728983044624329}, {'label': 'LABEL_1', 'score': 0.8252078890800476}, {'label': 'LABEL_1', 'score': 0.9164222478866577}, {'label': 'LABEL_1', 'score': 0.8341708779335022}, {'label': 'LABEL_2', 'score': 0.7921959757804871}, {'label': 'LABEL_1', 'score': 0.8209267258644104}, {'label': 'LABEL_1', 'score': 0.9298450946807861}, {'label': 'LABEL_0', 'score': 0.8488548398017883}, {'label': 'LABEL_1', 'score': 0.9205895066261292}, {'label': 'LABEL_1', 'score': 0.7964845299720764}, {'label': 'LABEL_1', 'score': 0.8066926002502441}, {'label': 'LABEL_1', 'score': 0.908425509929657}, {'label': 'LABEL_2', 'score': 0.9055714011192322}, {'label': 'LABEL_0', 'score': 0.8016793131828308}, {'label': 'LABEL_1', 'score': 0.5704091191291809}, {'label': 'LABEL_1', 'score': 0.8985226154327393}, {'label': 'LABEL_1', 'score': 0.8822223544120789}, {'label': 'LABEL_1', 'score': 0.9123348593711853}, {'label': 'LABEL_2', 'score': 0.9623163342475891}, {'label': 'LABEL_1', 'score': 0.8636706471443176}, {'label': 'LABEL_1', 'score': 0.9053361415863037}, {'label': 'LABEL_2', 'score': 0.6013103127479553}, {'label': 'LABEL_1', 'score': 0.9350853562355042}, {'label': 'LABEL_1', 'score': 0.9135496616363525}, {'label': 'LABEL_1', 'score': 0.9148094058036804}, {'label': 'LABEL_1', 'score': 0.9426192045211792}, {'label': 'LABEL_1', 'score': 0.8065456748008728}, {'label': 'LABEL_1', 'score': 0.9059678912162781}, {'label': 'LABEL_1', 'score': 0.9103448390960693}, {'label': 'LABEL_2', 'score': 0.9721227288246155}, {'label': 'LABEL_1', 'score': 0.8352477550506592}, {'label': 'LABEL_1', 'score': 0.5903675556182861}, {'label': 'LABEL_1', 'score': 0.7524184584617615}, {'label': 'LABEL_1', 'score': 0.9360222816467285}, {'label': 'LABEL_1', 'score': 0.9372203350067139}, {'label': 'LABEL_1', 'score': 0.9103651642799377}, {'label': 'LABEL_1', 'score': 0.7191230058670044}, {'label': 'LABEL_0', 'score': 0.856078028678894}, {'label': 'LABEL_1', 'score': 0.9447057843208313}, {'label': 'LABEL_1', 'score': 0.9055299758911133}, {'label': 'LABEL_1', 'score': 0.9307836294174194}, {'label': 'LABEL_1', 'score': 0.9245675802230835}, {'label': 'LABEL_1', 'score': 0.927706778049469}, {'label': 'LABEL_1', 'score': 0.7559844851493835}, {'label': 'LABEL_1', 'score': 0.7758487462997437}, {'label': 'LABEL_1', 'score': 0.9183458685874939}, {'label': 'LABEL_1', 'score': 0.9202117919921875}, {'label': 'LABEL_1', 'score': 0.9285677671432495}, {'label': 'LABEL_1', 'score': 0.9344775080680847}, {'label': 'LABEL_1', 'score': 0.9200727343559265}, {'label': 'LABEL_1', 'score': 0.804714024066925}, {'label': 'LABEL_1', 'score': 0.9346359968185425}, {'label': 'LABEL_1', 'score': 0.8152921199798584}, {'label': 'LABEL_1', 'score': 0.9179213643074036}, {'label': 'LABEL_1', 'score': 0.9326814413070679}, {'label': 'LABEL_1', 'score': 0.9076427221298218}, {'label': 'LABEL_1', 'score': 0.7627752423286438}, {'label': 'LABEL_1', 'score': 0.7937580943107605}, {'label': 'LABEL_1', 'score': 0.9174025654792786}, {'label': 'LABEL_1', 'score': 0.9282218217849731}, {'label': 'LABEL_1', 'score': 0.9171797037124634}, {'label': 'LABEL_1', 'score': 0.9196020364761353}, {'label': 'LABEL_1', 'score': 0.6156401634216309}, {'label': 'LABEL_1', 'score': 0.8688591122627258}, {'label': 'LABEL_1', 'score': 0.9246974587440491}, {'label': 'LABEL_1', 'score': 0.6937874555587769}, {'label': 'LABEL_1', 'score': 0.916189968585968}, {'label': 'LABEL_1', 'score': 0.8387005925178528}, {'label': 'LABEL_1', 'score': 0.9318973422050476}, {'label': 'LABEL_0', 'score': 0.9384430646896362}, {'label': 'LABEL_2', 'score': 0.5390104055404663}, {'label': 'LABEL_0', 'score': 0.6109101176261902}, {'label': 'LABEL_2', 'score': 0.858619213104248}, {'label': 'LABEL_1', 'score': 0.8236407041549683}, {'label': 'LABEL_1', 'score': 0.9181661605834961}, {'label': 'LABEL_1', 'score': 0.9400714635848999}, {'label': 'LABEL_0', 'score': 0.5151631832122803}, {'label': 'LABEL_1', 'score': 0.9458065032958984}, {'label': 'LABEL_2', 'score': 0.6717912554740906}, {'label': 'LABEL_1', 'score': 0.9330166578292847}, {'label': 'LABEL_1', 'score': 0.909965991973877}, {'label': 'LABEL_1', 'score': 0.6413130760192871}, {'label': 'LABEL_1', 'score': 0.9069283604621887}, {'label': 'LABEL_1', 'score': 0.9359066486358643}, {'label': 'LABEL_1', 'score': 0.9127345085144043}, {'label': 'LABEL_1', 'score': 0.7425078749656677}, {'label': 'LABEL_1', 'score': 0.9185125827789307}, {'label': 'LABEL_1', 'score': 0.7209503054618835}, {'label': 'LABEL_1', 'score': 0.7205498218536377}, {'label': 'LABEL_1', 'score': 0.8887214660644531}, {'label': 'LABEL_1', 'score': 0.8950309157371521}, {'label': 'LABEL_1', 'score': 0.5582872629165649}, {'label': 'LABEL_1', 'score': 0.6435314416885376}, {'label': 'LABEL_1', 'score': 0.9231243133544922}, {'label': 'LABEL_1', 'score': 0.9302501082420349}, {'label': 'LABEL_1', 'score': 0.7980073690414429}, {'label': 'LABEL_1', 'score': 0.9197271466255188}, {'label': 'LABEL_1', 'score': 0.9226850867271423}, {'label': 'LABEL_1', 'score': 0.9174098968505859}, {'label': 'LABEL_1', 'score': 0.9182976484298706}, {'label': 'LABEL_1', 'score': 0.9269185066223145}, {'label': 'LABEL_1', 'score': 0.9157819151878357}, {'label': 'LABEL_1', 'score': 0.9167606234550476}, {'label': 'LABEL_1', 'score': 0.6860194206237793}, {'label': 'LABEL_0', 'score': 0.5348566174507141}, {'label': 'LABEL_1', 'score': 0.9145293235778809}, {'label': 'LABEL_1', 'score': 0.9081299901008606}, {'label': 'LABEL_1', 'score': 0.9128866791725159}, {'label': 'LABEL_1', 'score': 0.9283456206321716}, {'label': 'LABEL_1', 'score': 0.8885204792022705}, {'label': 'LABEL_1', 'score': 0.9168649911880493}, {'label': 'LABEL_1', 'score': 0.43948253989219666}, {'label': 'LABEL_1', 'score': 0.9075146317481995}, {'label': 'LABEL_1', 'score': 0.9203850030899048}, {'label': 'LABEL_1', 'score': 0.9111428260803223}, {'label': 'LABEL_1', 'score': 0.9345428347587585}, {'label': 'LABEL_1', 'score': 0.9237777590751648}, {'label': 'LABEL_2', 'score': 0.7212310433387756}, {'label': 'LABEL_1', 'score': 0.9079094529151917}, {'label': 'LABEL_2', 'score': 0.8267186880111694}, {'label': 'LABEL_1', 'score': 0.9175589680671692}, {'label': 'LABEL_1', 'score': 0.545056164264679}, {'label': 'LABEL_1', 'score': 0.6348618865013123}, {'label': 'LABEL_1', 'score': 0.901142418384552}, {'label': 'LABEL_2', 'score': 0.9251859784126282}, {'label': 'LABEL_1', 'score': 0.9312217235565186}, {'label': 'LABEL_2', 'score': 0.7348741292953491}, {'label': 'LABEL_1', 'score': 0.915500819683075}, {'label': 'LABEL_1', 'score': 0.9021286964416504}, {'label': 'LABEL_1', 'score': 0.9401900768280029}, {'label': 'LABEL_2', 'score': 0.9683235287666321}, {'label': 'LABEL_1', 'score': 0.9168891310691833}, {'label': 'LABEL_1', 'score': 0.9057361483573914}, {'label': 'LABEL_1', 'score': 0.9098612070083618}, {'label': 'LABEL_1', 'score': 0.9069775342941284}, {'label': 'LABEL_1', 'score': 0.786730945110321}, {'label': 'LABEL_1', 'score': 0.9133296012878418}, {'label': 'LABEL_1', 'score': 0.8870518207550049}, {'label': 'LABEL_1', 'score': 0.873047411441803}, {'label': 'LABEL_2', 'score': 0.968961775302887}, {'label': 'LABEL_2', 'score': 0.8713235855102539}, {'label': 'LABEL_1', 'score': 0.9322563409805298}, {'label': 'LABEL_1', 'score': 0.9377425312995911}, {'label': 'LABEL_1', 'score': 0.9401909708976746}, {'label': 'LABEL_0', 'score': 0.9326212406158447}, {'label': 'LABEL_1', 'score': 0.9105661511421204}, {'label': 'LABEL_1', 'score': 0.938957154750824}, {'label': 'LABEL_1', 'score': 0.9466936588287354}, {'label': 'LABEL_1', 'score': 0.6386609077453613}, {'label': 'LABEL_2', 'score': 0.9426465630531311}, {'label': 'LABEL_1', 'score': 0.940909206867218}, {'label': 'LABEL_1', 'score': 0.9426859021186829}, {'label': 'LABEL_1', 'score': 0.9220392107963562}, {'label': 'LABEL_2', 'score': 0.4952828288078308}, {'label': 'LABEL_1', 'score': 0.9498918652534485}, {'label': 'LABEL_2', 'score': 0.682945966720581}, {'label': 'LABEL_2', 'score': 0.950730562210083}, {'label': 'LABEL_1', 'score': 0.9281723499298096}, {'label': 'LABEL_1', 'score': 0.7899332046508789}, {'label': 'LABEL_1', 'score': 0.801740288734436}, {'label': 'LABEL_1', 'score': 0.9014416933059692}, {'label': 'LABEL_2', 'score': 0.632570743560791}, {'label': 'LABEL_1', 'score': 0.9287444949150085}, {'label': 'LABEL_0', 'score': 0.5672692656517029}, {'label': 'LABEL_1', 'score': 0.574188232421875}, {'label': 'LABEL_1', 'score': 0.9308149218559265}, {'label': 'LABEL_1', 'score': 0.9284244179725647}, {'label': 'LABEL_1', 'score': 0.9251353144645691}, {'label': 'LABEL_1', 'score': 0.9047648310661316}, {'label': 'LABEL_1', 'score': 0.681920051574707}, {'label': 'LABEL_1', 'score': 0.6696635484695435}, {'label': 'LABEL_1', 'score': 0.9064990878105164}, {'label': 'LABEL_1', 'score': 0.726016640663147}, {'label': 'LABEL_2', 'score': 0.968704342842102}, {'label': 'LABEL_1', 'score': 0.7092926502227783}, {'label': 'LABEL_1', 'score': 0.9267900586128235}, {'label': 'LABEL_1', 'score': 0.7093202471733093}, {'label': 'LABEL_1', 'score': 0.9255313873291016}, {'label': 'LABEL_1', 'score': 0.9096260070800781}, {'label': 'LABEL_1', 'score': 0.8148988485336304}, {'label': 'LABEL_1', 'score': 0.7976611852645874}, {'label': 'LABEL_1', 'score': 0.9290930032730103}, {'label': 'LABEL_1', 'score': 0.5530495047569275}, {'label': 'LABEL_2', 'score': 0.9391138553619385}, {'label': 'LABEL_1', 'score': 0.9320705533027649}, {'label': 'LABEL_1', 'score': 0.8744502663612366}, {'label': 'LABEL_1', 'score': 0.9236495494842529}, {'label': 'LABEL_2', 'score': 0.6407903432846069}, {'label': 'LABEL_1', 'score': 0.943377673625946}, {'label': 'LABEL_2', 'score': 0.8698012232780457}, {'label': 'LABEL_2', 'score': 0.783933699131012}, {'label': 'LABEL_1', 'score': 0.9191310405731201}, {'label': 'LABEL_1', 'score': 0.9185812473297119}, {'label': 'LABEL_1', 'score': 0.94854736328125}, {'label': 'LABEL_2', 'score': 0.976906955242157}, {'label': 'LABEL_1', 'score': 0.5772263407707214}, {'label': 'LABEL_1', 'score': 0.9400355815887451}, {'label': 'LABEL_1', 'score': 0.9196565747261047}, {'label': 'LABEL_1', 'score': 0.9013511538505554}, {'label': 'LABEL_1', 'score': 0.782751202583313}, {'label': 'LABEL_1', 'score': 0.774793267250061}, {'label': 'LABEL_1', 'score': 0.9221608638763428}, {'label': 'LABEL_1', 'score': 0.9151042699813843}, {'label': 'LABEL_1', 'score': 0.7445887923240662}, {'label': 'LABEL_1', 'score': 0.9132945537567139}, {'label': 'LABEL_1', 'score': 0.8922184705734253}, {'label': 'LABEL_1', 'score': 0.9149358868598938}, {'label': 'LABEL_1', 'score': 0.9085745811462402}, {'label': 'LABEL_2', 'score': 0.9739444255828857}, {'label': 'LABEL_2', 'score': 0.9662924408912659}, {'label': 'LABEL_2', 'score': 0.8744525909423828}, {'label': 'LABEL_1', 'score': 0.9275066256523132}, {'label': 'LABEL_2', 'score': 0.9589815735816956}, {'label': 'LABEL_0', 'score': 0.7486653923988342}, {'label': 'LABEL_2', 'score': 0.9521037936210632}, {'label': 'LABEL_1', 'score': 0.7028013467788696}, {'label': 'LABEL_0', 'score': 0.7308228015899658}, {'label': 'LABEL_1', 'score': 0.9220547676086426}, {'label': 'LABEL_2', 'score': 0.9647373557090759}, {'label': 'LABEL_1', 'score': 0.8739458322525024}, {'label': 'LABEL_0', 'score': 0.8680540323257446}, {'label': 'LABEL_1', 'score': 0.9080330729484558}, {'label': 'LABEL_1', 'score': 0.9334030747413635}, {'label': 'LABEL_1', 'score': 0.9176438450813293}, {'label': 'LABEL_1', 'score': 0.903842568397522}, {'label': 'LABEL_1', 'score': 0.8991630673408508}, {'label': 'LABEL_1', 'score': 0.9091084003448486}, {'label': 'LABEL_1', 'score': 0.9052209854125977}, {'label': 'LABEL_1', 'score': 0.9281072616577148}, {'label': 'LABEL_1', 'score': 0.9185055494308472}, {'label': 'LABEL_1', 'score': 0.9410606026649475}, {'label': 'LABEL_1', 'score': 0.8979427814483643}, {'label': 'LABEL_1', 'score': 0.9133644700050354}, {'label': 'LABEL_2', 'score': 0.9249584078788757}, {'label': 'LABEL_1', 'score': 0.5198879241943359}, {'label': 'LABEL_1', 'score': 0.645939826965332}, {'label': 'LABEL_1', 'score': 0.9079585075378418}, {'label': 'LABEL_2', 'score': 0.8710775971412659}, {'label': 'LABEL_1', 'score': 0.8831548690795898}, {'label': 'LABEL_1', 'score': 0.9118201732635498}, {'label': 'LABEL_1', 'score': 0.9267551898956299}, {'label': 'LABEL_2', 'score': 0.6480421423912048}, {'label': 'LABEL_2', 'score': 0.9655565023422241}, {'label': 'LABEL_2', 'score': 0.9761950373649597}, {'label': 'LABEL_2', 'score': 0.611680269241333}, {'label': 'LABEL_1', 'score': 0.9094669818878174}, {'label': 'LABEL_0', 'score': 0.8891971111297607}, {'label': 'LABEL_1', 'score': 0.9142106175422668}, {'label': 'LABEL_1', 'score': 0.9111050963401794}, {'label': 'LABEL_1', 'score': 0.6470334529876709}, {'label': 'LABEL_1', 'score': 0.7969455122947693}, {'label': 'LABEL_1', 'score': 0.8804254531860352}, {'label': 'LABEL_1', 'score': 0.9321321249008179}, {'label': 'LABEL_2', 'score': 0.8344337344169617}, {'label': 'LABEL_2', 'score': 0.6091419458389282}, {'label': 'LABEL_1', 'score': 0.9162951707839966}, {'label': 'LABEL_1', 'score': 0.901479959487915}, {'label': 'LABEL_1', 'score': 0.8576028943061829}, {'label': 'LABEL_2', 'score': 0.5047615766525269}, {'label': 'LABEL_0', 'score': 0.9295282363891602}, {'label': 'LABEL_1', 'score': 0.9192543625831604}, {'label': 'LABEL_0', 'score': 0.5355647802352905}, {'label': 'LABEL_0', 'score': 0.6506434082984924}, {'label': 'LABEL_1', 'score': 0.9375346302986145}, {'label': 'LABEL_1', 'score': 0.8935052752494812}, {'label': 'LABEL_1', 'score': 0.6753520369529724}, {'label': 'LABEL_1', 'score': 0.9311286807060242}, {'label': 'LABEL_0', 'score': 0.8886055946350098}, {'label': 'LABEL_1', 'score': 0.6219934225082397}, {'label': 'LABEL_2', 'score': 0.9479475021362305}, {'label': 'LABEL_1', 'score': 0.4900165796279907}, {'label': 'LABEL_1', 'score': 0.9186370372772217}, {'label': 'LABEL_1', 'score': 0.9116433262825012}, {'label': 'LABEL_1', 'score': 0.908700168132782}, {'label': 'LABEL_1', 'score': 0.51862633228302}, {'label': 'LABEL_1', 'score': 0.876991331577301}, {'label': 'LABEL_1', 'score': 0.7237798571586609}, {'label': 'LABEL_1', 'score': 0.9172924757003784}, {'label': 'LABEL_1', 'score': 0.9370028972625732}, {'label': 'LABEL_1', 'score': 0.9181413650512695}, {'label': 'LABEL_1', 'score': 0.9135046005249023}, {'label': 'LABEL_1', 'score': 0.6220585107803345}, {'label': 'LABEL_1', 'score': 0.8903602361679077}, {'label': 'LABEL_1', 'score': 0.9300013184547424}, {'label': 'LABEL_2', 'score': 0.6204051971435547}, {'label': 'LABEL_1', 'score': 0.754978597164154}, {'label': 'LABEL_1', 'score': 0.9332325458526611}, {'label': 'LABEL_1', 'score': 0.8479511141777039}, {'label': 'LABEL_2', 'score': 0.9657519459724426}, {'label': 'LABEL_1', 'score': 0.7443477511405945}, {'label': 'LABEL_1', 'score': 0.8384895324707031}, {'label': 'LABEL_1', 'score': 0.9190005660057068}, {'label': 'LABEL_1', 'score': 0.8964583277702332}, {'label': 'LABEL_2', 'score': 0.9714751243591309}, {'label': 'LABEL_1', 'score': 0.7627788782119751}, {'label': 'LABEL_2', 'score': 0.808650016784668}, {'label': 'LABEL_1', 'score': 0.6921097636222839}, {'label': 'LABEL_1', 'score': 0.7783203721046448}, {'label': 'LABEL_1', 'score': 0.9297676086425781}, {'label': 'LABEL_1', 'score': 0.8443211317062378}, {'label': 'LABEL_1', 'score': 0.9258797764778137}, {'label': 'LABEL_1', 'score': 0.9026398062705994}, {'label': 'LABEL_1', 'score': 0.5412394404411316}, {'label': 'LABEL_1', 'score': 0.43276429176330566}, {'label': 'LABEL_1', 'score': 0.782495379447937}, {'label': 'LABEL_1', 'score': 0.7583357691764832}, {'label': 'LABEL_1', 'score': 0.8717378377914429}, {'label': 'LABEL_0', 'score': 0.5293923020362854}, {'label': 'LABEL_1', 'score': 0.9055050611495972}, {'label': 'LABEL_1', 'score': 0.9186936616897583}, {'label': 'LABEL_1', 'score': 0.9217789173126221}, {'label': 'LABEL_1', 'score': 0.9193412065505981}, {'label': 'LABEL_2', 'score': 0.8379876613616943}, {'label': 'LABEL_1', 'score': 0.909668505191803}, {'label': 'LABEL_1', 'score': 0.9186840057373047}, {'label': 'LABEL_1', 'score': 0.9293800592422485}, {'label': 'LABEL_1', 'score': 0.9150043725967407}, {'label': 'LABEL_1', 'score': 0.9149861335754395}, {'label': 'LABEL_1', 'score': 0.9159115552902222}, {'label': 'LABEL_2', 'score': 0.967339038848877}, {'label': 'LABEL_1', 'score': 0.7180068492889404}, {'label': 'LABEL_1', 'score': 0.9274891018867493}, {'label': 'LABEL_1', 'score': 0.919655978679657}, {'label': 'LABEL_1', 'score': 0.9236034154891968}, {'label': 'LABEL_1', 'score': 0.9191704988479614}, {'label': 'LABEL_2', 'score': 0.6072704792022705}, {'label': 'LABEL_1', 'score': 0.7932606935501099}, {'label': 'LABEL_1', 'score': 0.922602117061615}, {'label': 'LABEL_1', 'score': 0.9223366975784302}, {'label': 'LABEL_1', 'score': 0.923374593257904}, {'label': 'LABEL_1', 'score': 0.917995035648346}, {'label': 'LABEL_1', 'score': 0.9276167750358582}, {'label': 'LABEL_1', 'score': 0.924645721912384}, {'label': 'LABEL_1', 'score': 0.9096997976303101}, {'label': 'LABEL_1', 'score': 0.934312105178833}, {'label': 'LABEL_1', 'score': 0.8699422478675842}, {'label': 'LABEL_1', 'score': 0.9119500517845154}, {'label': 'LABEL_1', 'score': 0.9211820960044861}, {'label': 'LABEL_1', 'score': 0.9159701466560364}, {'label': 'LABEL_1', 'score': 0.912651002407074}, {'label': 'LABEL_1', 'score': 0.9203047752380371}, {'label': 'LABEL_1', 'score': 0.9220014810562134}, {'label': 'LABEL_1', 'score': 0.9302864670753479}, {'label': 'LABEL_1', 'score': 0.9180176854133606}, {'label': 'LABEL_1', 'score': 0.9265466332435608}, {'label': 'LABEL_1', 'score': 0.9253478646278381}, {'label': 'LABEL_1', 'score': 0.9221941828727722}, {'label': 'LABEL_1', 'score': 0.8258986473083496}, {'label': 'LABEL_1', 'score': 0.7585657238960266}, {'label': 'LABEL_1', 'score': 0.9287395477294922}, {'label': 'LABEL_1', 'score': 0.7918816804885864}, {'label': 'LABEL_1', 'score': 0.9355164170265198}, {'label': 'LABEL_1', 'score': 0.6379495859146118}, {'label': 'LABEL_2', 'score': 0.957667350769043}, {'label': 'LABEL_2', 'score': 0.8884153366088867}, {'label': 'LABEL_1', 'score': 0.9121021032333374}, {'label': 'LABEL_1', 'score': 0.9274770617485046}, {'label': 'LABEL_1', 'score': 0.9324676394462585}, {'label': 'LABEL_1', 'score': 0.9293045997619629}, {'label': 'LABEL_2', 'score': 0.6289703845977783}, {'label': 'LABEL_2', 'score': 0.6519894599914551}, {'label': 'LABEL_2', 'score': 0.809454619884491}, {'label': 'LABEL_1', 'score': 0.40748560428619385}, {'label': 'LABEL_1', 'score': 0.8960598111152649}, {'label': 'LABEL_1', 'score': 0.9103000164031982}, {'label': 'LABEL_1', 'score': 0.9200343489646912}, {'label': 'LABEL_1', 'score': 0.9104458689689636}, {'label': 'LABEL_1', 'score': 0.9216075539588928}, {'label': 'LABEL_1', 'score': 0.9144589304924011}, {'label': 'LABEL_1', 'score': 0.9120303988456726}, {'label': 'LABEL_1', 'score': 0.9267924427986145}, {'label': 'LABEL_1', 'score': 0.9232096076011658}, {'label': 'LABEL_1', 'score': 0.925510048866272}, {'label': 'LABEL_1', 'score': 0.9103503823280334}, {'label': 'LABEL_1', 'score': 0.927187442779541}, {'label': 'LABEL_1', 'score': 0.9410914778709412}, {'label': 'LABEL_2', 'score': 0.5479655265808105}, {'label': 'LABEL_2', 'score': 0.8673211932182312}, {'label': 'LABEL_1', 'score': 0.9389499425888062}, {'label': 'LABEL_1', 'score': 0.9147945642471313}, {'label': 'LABEL_1', 'score': 0.9160674810409546}, {'label': 'LABEL_1', 'score': 0.9038528203964233}, {'label': 'LABEL_1', 'score': 0.9018235802650452}, {'label': 'LABEL_1', 'score': 0.8813035488128662}, {'label': 'LABEL_1', 'score': 0.9103724360466003}, {'label': 'LABEL_1', 'score': 0.891876757144928}, {'label': 'LABEL_2', 'score': 0.5025507807731628}, {'label': 'LABEL_2', 'score': 0.8670158982276917}, {'label': 'LABEL_2', 'score': 0.7838233113288879}, {'label': 'LABEL_1', 'score': 0.8146441578865051}, {'label': 'LABEL_1', 'score': 0.9177234172821045}, {'label': 'LABEL_1', 'score': 0.9388057589530945}, {'label': 'LABEL_1', 'score': 0.9218478202819824}, {'label': 'LABEL_2', 'score': 0.5957784652709961}, {'label': 'LABEL_1', 'score': 0.8998379111289978}, {'label': 'LABEL_1', 'score': 0.9377360939979553}, {'label': 'LABEL_1', 'score': 0.9247983694076538}, {'label': 'LABEL_1', 'score': 0.7019317150115967}, {'label': 'LABEL_1', 'score': 0.9263087511062622}, {'label': 'LABEL_1', 'score': 0.5007994174957275}, {'label': 'LABEL_1', 'score': 0.5007994174957275}, {'label': 'LABEL_1', 'score': 0.5007707476615906}, {'label': 'LABEL_1', 'score': 0.5007994174957275}, {'label': 'LABEL_1', 'score': 0.5007994174957275}, {'label': 'LABEL_1', 'score': 0.5008001327514648}, {'label': 'LABEL_1', 'score': 0.500823974609375}, {'label': 'LABEL_1', 'score': 0.500823974609375}, {'label': 'LABEL_1', 'score': 0.5008233189582825}, {'label': 'LABEL_1', 'score': 0.5008240342140198}, {'label': 'LABEL_1', 'score': 0.5008306503295898}, {'label': 'LABEL_1', 'score': 0.5008053183555603}, {'label': 'LABEL_1', 'score': 0.5008137226104736}, {'label': 'LABEL_1', 'score': 0.5007656216621399}, {'label': 'LABEL_1', 'score': 0.5008089542388916}, {'label': 'LABEL_1', 'score': 0.9320605397224426}, {'label': 'LABEL_1', 'score': 0.5008132457733154}, {'label': 'LABEL_1', 'score': 0.5007993578910828}, {'label': 'LABEL_1', 'score': 0.5007994771003723}, {'label': 'LABEL_2', 'score': 0.9270483255386353}, {'label': 'LABEL_1', 'score': 0.5008023381233215}, {'label': 'LABEL_1', 'score': 0.5007700324058533}, {'label': 'LABEL_1', 'score': 0.9084882140159607}, {'label': 'LABEL_1', 'score': 0.5008132457733154}, {'label': 'LABEL_1', 'score': 0.50083327293396}, {'label': 'LABEL_1', 'score': 0.50080806016922}, {'label': 'LABEL_1', 'score': 0.5008071064949036}], [{'label': 'LABEL_1', 'score': 0.50080406665802}, {'label': 'LABEL_1', 'score': 0.5008034706115723}, {'label': 'LABEL_1', 'score': 0.5008037686347961}, {'label': 'LABEL_1', 'score': 0.5008037686347961}, {'label': 'LABEL_1', 'score': 0.5008050203323364}, {'label': 'LABEL_1', 'score': 0.5008050203323364}, {'label': 'LABEL_1', 'score': 0.5008050203323364}, {'label': 'LABEL_1', 'score': 0.5008053183555603}, {'label': 'LABEL_1', 'score': 0.5008053183555603}, {'label': 'LABEL_1', 'score': 0.5008053183555603}, {'label': 'LABEL_1', 'score': 0.5008061528205872}, {'label': 'LABEL_1', 'score': 0.5008061528205872}, {'label': 'LABEL_1', 'score': 0.5008062124252319}, {'label': 'LABEL_1', 'score': 0.5008062124252319}, {'label': 'LABEL_1', 'score': 0.5008060336112976}, {'label': 'LABEL_1', 'score': 0.5008060336112976}, {'label': 'LABEL_1', 'score': 0.5008071064949036}, {'label': 'LABEL_1', 'score': 0.5008060336112976}, {'label': 'LABEL_1', 'score': 0.5008060336112976}, {'label': 'LABEL_1', 'score': 0.500800371170044}, {'label': 'LABEL_1', 'score': 0.5008007884025574}, {'label': 'LABEL_1', 'score': 0.5008007884025574}, {'label': 'LABEL_1', 'score': 0.5008024573326111}, {'label': 'LABEL_1', 'score': 0.5008090734481812}, {'label': 'LABEL_1', 'score': 0.5008074045181274}, {'label': 'LABEL_1', 'score': 0.5008029341697693}, {'label': 'LABEL_1', 'score': 0.5008065700531006}, {'label': 'LABEL_1', 'score': 0.5008056163787842}, {'label': 'LABEL_1', 'score': 0.5008052587509155}, {'label': 'LABEL_1', 'score': 0.5008056163787842}, {'label': 'LABEL_1', 'score': 0.5008053183555603}, {'label': 'LABEL_1', 'score': 0.5008008480072021}, {'label': 'LABEL_1', 'score': 0.9339896440505981}, {'label': 'LABEL_1', 'score': 0.5007959604263306}, {'label': 'LABEL_1', 'score': 0.5008053183555603}, {'label': 'LABEL_1', 'score': 0.5008053183555603}, {'label': 'LABEL_1', 'score': 0.5008025765419006}, {'label': 'LABEL_1', 'score': 0.5008021593093872}, {'label': 'LABEL_1', 'score': 0.5008236169815063}, {'label': 'LABEL_1', 'score': 0.5007985830307007}, {'label': 'LABEL_1', 'score': 0.5007988214492798}, {'label': 'LABEL_1', 'score': 0.9283460974693298}, {'label': 'LABEL_1', 'score': 0.5008016228675842}, {'label': 'LABEL_1', 'score': 0.5008016228675842}, {'label': 'LABEL_1', 'score': 0.5008048415184021}, {'label': 'LABEL_1', 'score': 0.5008048415184021}, {'label': 'LABEL_1', 'score': 0.9139890074729919}, {'label': 'LABEL_1', 'score': 0.5008053183555603}, {'label': 'LABEL_1', 'score': 0.5008061528205872}, {'label': 'LABEL_1', 'score': 0.8774082660675049}, {'label': 'LABEL_1', 'score': 0.5008061528205872}, {'label': 'LABEL_1', 'score': 0.5008061528205872}, {'label': 'LABEL_1', 'score': 0.5008061528205872}, {'label': 'LABEL_1', 'score': 0.5008051991462708}, {'label': 'LABEL_1', 'score': 0.5008053183555603}, {'label': 'LABEL_1', 'score': 0.5008053183555603}, {'label': 'LABEL_1', 'score': 0.5008053183555603}, {'label': 'LABEL_1', 'score': 0.5008026957511902}, {'label': 'LABEL_1', 'score': 0.5008016228675842}, {'label': 'LABEL_1', 'score': 0.5008058547973633}, {'label': 'LABEL_1', 'score': 0.5122281312942505}, {'label': 'LABEL_1', 'score': 0.5008047819137573}, {'label': 'LABEL_1', 'score': 0.5008047819137573}, {'label': 'LABEL_1', 'score': 0.5008047819137573}, {'label': 'LABEL_1', 'score': 0.5008044838905334}, {'label': 'LABEL_1', 'score': 0.5008043050765991}, {'label': 'LABEL_1', 'score': 0.5008047819137573}, {'label': 'LABEL_1', 'score': 0.5008047819137573}, {'label': 'LABEL_1', 'score': 0.5008050203323364}, {'label': 'LABEL_1', 'score': 0.500891923904419}, {'label': 'LABEL_1', 'score': 0.9320613741874695}, {'label': 'LABEL_1', 'score': 0.9186191558837891}, {'label': 'LABEL_2', 'score': 0.9106423258781433}, {'label': 'LABEL_1', 'score': 0.8495279550552368}, {'label': 'LABEL_1', 'score': 0.91189044713974}, {'label': 'LABEL_1', 'score': 0.9154939651489258}, {'label': 'LABEL_1', 'score': 0.8800390958786011}, {'label': 'LABEL_2', 'score': 0.9657764434814453}, {'label': 'LABEL_1', 'score': 0.9269023537635803}, {'label': 'LABEL_2', 'score': 0.6233974099159241}, {'label': 'LABEL_2', 'score': 0.9732015132904053}, {'label': 'LABEL_1', 'score': 0.9264453649520874}, {'label': 'LABEL_1', 'score': 0.9118810892105103}, {'label': 'LABEL_1', 'score': 0.654994010925293}, {'label': 'LABEL_1', 'score': 0.8421947360038757}, {'label': 'LABEL_1', 'score': 0.7988426685333252}, {'label': 'LABEL_2', 'score': 0.6898461580276489}, {'label': 'LABEL_1', 'score': 0.9091597199440002}, {'label': 'LABEL_1', 'score': 0.9152513146400452}, {'label': 'LABEL_1', 'score': 0.8601436614990234}, {'label': 'LABEL_1', 'score': 0.7788968682289124}, {'label': 'LABEL_1', 'score': 0.9110645651817322}, {'label': 'LABEL_1', 'score': 0.8161769509315491}, {'label': 'LABEL_1', 'score': 0.813232421875}, {'label': 'LABEL_2', 'score': 0.9753361344337463}, {'label': 'LABEL_1', 'score': 0.7626507878303528}, {'label': 'LABEL_1', 'score': 0.942284107208252}, {'label': 'LABEL_1', 'score': 0.5368591547012329}, {'label': 'LABEL_1', 'score': 0.8685302138328552}, {'label': 'LABEL_2', 'score': 0.8867939114570618}, {'label': 'LABEL_1', 'score': 0.6055958867073059}, {'label': 'LABEL_1', 'score': 0.8672323226928711}, {'label': 'LABEL_1', 'score': 0.7970709204673767}, {'label': 'LABEL_2', 'score': 0.5388996601104736}, {'label': 'LABEL_0', 'score': 0.8444982767105103}, {'label': 'LABEL_2', 'score': 0.9588569402694702}, {'label': 'LABEL_2', 'score': 0.5088688135147095}, {'label': 'LABEL_1', 'score': 0.5247876644134521}, {'label': 'LABEL_1', 'score': 0.7441656589508057}, {'label': 'LABEL_2', 'score': 0.8654379844665527}, {'label': 'LABEL_1', 'score': 0.7348705530166626}, {'label': 'LABEL_2', 'score': 0.8021209239959717}, {'label': 'LABEL_1', 'score': 0.9231669306755066}, {'label': 'LABEL_1', 'score': 0.9298862814903259}, {'label': 'LABEL_2', 'score': 0.9481995701789856}, {'label': 'LABEL_2', 'score': 0.9634783267974854}, {'label': 'LABEL_1', 'score': 0.814390242099762}, {'label': 'LABEL_0', 'score': 0.7589657306671143}, {'label': 'LABEL_2', 'score': 0.9706381559371948}, {'label': 'LABEL_1', 'score': 0.8988038897514343}, {'label': 'LABEL_2', 'score': 0.9520829319953918}, {'label': 'LABEL_1', 'score': 0.920009195804596}, {'label': 'LABEL_1', 'score': 0.9005383849143982}, {'label': 'LABEL_1', 'score': 0.6548217535018921}, {'label': 'LABEL_1', 'score': 0.9263691306114197}, {'label': 'LABEL_1', 'score': 0.887122392654419}, {'label': 'LABEL_1', 'score': 0.9049222469329834}, {'label': 'LABEL_1', 'score': 0.8006564974784851}, {'label': 'LABEL_2', 'score': 0.8793877363204956}, {'label': 'LABEL_1', 'score': 0.8914346098899841}, {'label': 'LABEL_1', 'score': 0.9347696304321289}, {'label': 'LABEL_1', 'score': 0.9174037575721741}, {'label': 'LABEL_1', 'score': 0.9413401484489441}, {'label': 'LABEL_1', 'score': 0.8893007636070251}, {'label': 'LABEL_1', 'score': 0.9188330769538879}, {'label': 'LABEL_1', 'score': 0.6771005988121033}, {'label': 'LABEL_2', 'score': 0.7567473649978638}, {'label': 'LABEL_2', 'score': 0.9316958785057068}, {'label': 'LABEL_1', 'score': 0.8500224947929382}, {'label': 'LABEL_1', 'score': 0.7790636420249939}, {'label': 'LABEL_0', 'score': 0.8597129583358765}, {'label': 'LABEL_1', 'score': 0.9289818406105042}, {'label': 'LABEL_1', 'score': 0.9169634580612183}, {'label': 'LABEL_1', 'score': 0.7717995047569275}, {'label': 'LABEL_1', 'score': 0.9163063168525696}, {'label': 'LABEL_2', 'score': 0.848791778087616}, {'label': 'LABEL_1', 'score': 0.8418626189231873}, {'label': 'LABEL_1', 'score': 0.5386428236961365}, {'label': 'LABEL_1', 'score': 0.6703372001647949}, {'label': 'LABEL_1', 'score': 0.521146833896637}, {'label': 'LABEL_1', 'score': 0.9151657223701477}, {'label': 'LABEL_1', 'score': 0.8944538831710815}, {'label': 'LABEL_1', 'score': 0.9154750108718872}, {'label': 'LABEL_1', 'score': 0.7542320489883423}, {'label': 'LABEL_1', 'score': 0.9009155631065369}, {'label': 'LABEL_1', 'score': 0.9440586566925049}, {'label': 'LABEL_1', 'score': 0.7859981060028076}, {'label': 'LABEL_0', 'score': 0.43479597568511963}, {'label': 'LABEL_2', 'score': 0.9761806130409241}, {'label': 'LABEL_0', 'score': 0.9211821556091309}, {'label': 'LABEL_1', 'score': 0.9056162238121033}, {'label': 'LABEL_1', 'score': 0.9170675873756409}, {'label': 'LABEL_1', 'score': 0.9239551424980164}, {'label': 'LABEL_1', 'score': 0.9434903264045715}, {'label': 'LABEL_1', 'score': 0.9154011607170105}, {'label': 'LABEL_1', 'score': 0.9175100326538086}, {'label': 'LABEL_1', 'score': 0.6297565698623657}, {'label': 'LABEL_1', 'score': 0.924889326095581}, {'label': 'LABEL_0', 'score': 0.5645171999931335}, {'label': 'LABEL_1', 'score': 0.9316493272781372}, {'label': 'LABEL_1', 'score': 0.8134309649467468}, {'label': 'LABEL_1', 'score': 0.9356042146682739}, {'label': 'LABEL_1', 'score': 0.8233921527862549}, {'label': 'LABEL_1', 'score': 0.941707968711853}, {'label': 'LABEL_2', 'score': 0.8879861235618591}, {'label': 'LABEL_1', 'score': 0.8337852954864502}, {'label': 'LABEL_1', 'score': 0.7046625018119812}, {'label': 'LABEL_1', 'score': 0.6052166223526001}, {'label': 'LABEL_1', 'score': 0.9260987639427185}, {'label': 'LABEL_1', 'score': 0.5739988088607788}, {'label': 'LABEL_1', 'score': 0.9110450148582458}, {'label': 'LABEL_0', 'score': 0.7804164886474609}, {'label': 'LABEL_1', 'score': 0.9140700101852417}, {'label': 'LABEL_2', 'score': 0.9734280705451965}, {'label': 'LABEL_1', 'score': 0.8832665681838989}, {'label': 'LABEL_1', 'score': 0.9375099539756775}, {'label': 'LABEL_1', 'score': 0.7565243244171143}, {'label': 'LABEL_1', 'score': 0.9318614602088928}, {'label': 'LABEL_2', 'score': 0.784294605255127}, {'label': 'LABEL_1', 'score': 0.824791669845581}, {'label': 'LABEL_1', 'score': 0.5046459436416626}, {'label': 'LABEL_1', 'score': 0.8419653177261353}, {'label': 'LABEL_0', 'score': 0.6780092120170593}, {'label': 'LABEL_1', 'score': 0.9182177186012268}, {'label': 'LABEL_1', 'score': 0.925050675868988}, {'label': 'LABEL_1', 'score': 0.6791282892227173}, {'label': 'LABEL_1', 'score': 0.9310158491134644}, {'label': 'LABEL_1', 'score': 0.9386443495750427}, {'label': 'LABEL_1', 'score': 0.9278982281684875}, {'label': 'LABEL_1', 'score': 0.9223620295524597}, {'label': 'LABEL_0', 'score': 0.8823269009590149}, {'label': 'LABEL_2', 'score': 0.6133016347885132}, {'label': 'LABEL_1', 'score': 0.7278591394424438}, {'label': 'LABEL_1', 'score': 0.6039806008338928}, {'label': 'LABEL_1', 'score': 0.917534351348877}, {'label': 'LABEL_1', 'score': 0.9325821399688721}, {'label': 'LABEL_1', 'score': 0.915132999420166}, {'label': 'LABEL_1', 'score': 0.8370755910873413}, {'label': 'LABEL_2', 'score': 0.49617651104927063}, {'label': 'LABEL_1', 'score': 0.9242794513702393}, {'label': 'LABEL_1', 'score': 0.9321396946907043}, {'label': 'LABEL_1', 'score': 0.9275286197662354}, {'label': 'LABEL_1', 'score': 0.9089178442955017}, {'label': 'LABEL_0', 'score': 0.92032390832901}, {'label': 'LABEL_1', 'score': 0.930150032043457}, {'label': 'LABEL_1', 'score': 0.8173766136169434}, {'label': 'LABEL_2', 'score': 0.8969266414642334}, {'label': 'LABEL_0', 'score': 0.9214661717414856}, {'label': 'LABEL_2', 'score': 0.644135594367981}, {'label': 'LABEL_2', 'score': 0.6127715110778809}, {'label': 'LABEL_1', 'score': 0.8221874237060547}, {'label': 'LABEL_2', 'score': 0.5483468174934387}, {'label': 'LABEL_1', 'score': 0.6787415742874146}, {'label': 'LABEL_1', 'score': 0.9182563424110413}, {'label': 'LABEL_1', 'score': 0.8788345456123352}, {'label': 'LABEL_1', 'score': 0.9049964547157288}, {'label': 'LABEL_0', 'score': 0.7968907952308655}, {'label': 'LABEL_1', 'score': 0.9083307385444641}, {'label': 'LABEL_2', 'score': 0.5805288553237915}, {'label': 'LABEL_1', 'score': 0.907299280166626}, {'label': 'LABEL_0', 'score': 0.7189406752586365}, {'label': 'LABEL_1', 'score': 0.9077443480491638}, {'label': 'LABEL_1', 'score': 0.5406919717788696}, {'label': 'LABEL_1', 'score': 0.9299092888832092}, {'label': 'LABEL_1', 'score': 0.923597514629364}, {'label': 'LABEL_1', 'score': 0.906002938747406}, {'label': 'LABEL_1', 'score': 0.9382163882255554}, {'label': 'LABEL_1', 'score': 0.5257920026779175}, {'label': 'LABEL_1', 'score': 0.9309270977973938}, {'label': 'LABEL_1', 'score': 0.9405658841133118}, {'label': 'LABEL_1', 'score': 0.9074900150299072}, {'label': 'LABEL_2', 'score': 0.5157780051231384}, {'label': 'LABEL_1', 'score': 0.9182593822479248}, {'label': 'LABEL_2', 'score': 0.8161755800247192}, {'label': 'LABEL_1', 'score': 0.905360996723175}, {'label': 'LABEL_1', 'score': 0.8924590349197388}, {'label': 'LABEL_1', 'score': 0.9406467080116272}, {'label': 'LABEL_1', 'score': 0.807054877281189}, {'label': 'LABEL_1', 'score': 0.9456690549850464}, {'label': 'LABEL_1', 'score': 0.9383543729782104}, {'label': 'LABEL_1', 'score': 0.9220318794250488}, {'label': 'LABEL_1', 'score': 0.9428072571754456}, {'label': 'LABEL_1', 'score': 0.9246248006820679}, {'label': 'LABEL_1', 'score': 0.925216555595398}, {'label': 'LABEL_1', 'score': 0.9114863276481628}, {'label': 'LABEL_1', 'score': 0.9005255699157715}, {'label': 'LABEL_0', 'score': 0.8257855772972107}, {'label': 'LABEL_2', 'score': 0.7821837067604065}, {'label': 'LABEL_1', 'score': 0.8490413427352905}, {'label': 'LABEL_1', 'score': 0.8726392984390259}, {'label': 'LABEL_1', 'score': 0.5613312125205994}, {'label': 'LABEL_1', 'score': 0.9363323450088501}, {'label': 'LABEL_1', 'score': 0.7830304503440857}, {'label': 'LABEL_1', 'score': 0.9252889156341553}, {'label': 'LABEL_1', 'score': 0.9378402233123779}, {'label': 'LABEL_2', 'score': 0.9596497416496277}, {'label': 'LABEL_1', 'score': 0.8501269817352295}, {'label': 'LABEL_1', 'score': 0.9044119715690613}, {'label': 'LABEL_1', 'score': 0.8814151883125305}, {'label': 'LABEL_1', 'score': 0.9356250762939453}, {'label': 'LABEL_1', 'score': 0.9171977043151855}, {'label': 'LABEL_1', 'score': 0.8899781703948975}, {'label': 'LABEL_1', 'score': 0.9259386658668518}, {'label': 'LABEL_2', 'score': 0.5500125288963318}, {'label': 'LABEL_1', 'score': 0.8894917368888855}, {'label': 'LABEL_0', 'score': 0.9380061030387878}, {'label': 'LABEL_2', 'score': 0.9709306955337524}, {'label': 'LABEL_1', 'score': 0.9115289449691772}, {'label': 'LABEL_1', 'score': 0.5777995586395264}, {'label': 'LABEL_1', 'score': 0.8182229399681091}, {'label': 'LABEL_1', 'score': 0.8957096934318542}, {'label': 'LABEL_1', 'score': 0.9277817606925964}, {'label': 'LABEL_1', 'score': 0.9250439405441284}, {'label': 'LABEL_1', 'score': 0.9239352345466614}, {'label': 'LABEL_1', 'score': 0.9224006533622742}, {'label': 'LABEL_1', 'score': 0.9203206896781921}, {'label': 'LABEL_1', 'score': 0.916574239730835}, {'label': 'LABEL_1', 'score': 0.9261815547943115}, {'label': 'LABEL_1', 'score': 0.9149114489555359}, {'label': 'LABEL_1', 'score': 0.8975688219070435}, {'label': 'LABEL_1', 'score': 0.8616483211517334}, {'label': 'LABEL_1', 'score': 0.9183830618858337}, {'label': 'LABEL_1', 'score': 0.9351129531860352}, {'label': 'LABEL_2', 'score': 0.7443503737449646}, {'label': 'LABEL_2', 'score': 0.8578398823738098}, {'label': 'LABEL_1', 'score': 0.923949122428894}, {'label': 'LABEL_1', 'score': 0.9216166734695435}, {'label': 'LABEL_1', 'score': 0.9111998081207275}, {'label': 'LABEL_1', 'score': 0.9130268096923828}, {'label': 'LABEL_1', 'score': 0.9349745512008667}, {'label': 'LABEL_1', 'score': 0.6942388415336609}, {'label': 'LABEL_1', 'score': 0.9197296500205994}, {'label': 'LABEL_1', 'score': 0.5628694295883179}, {'label': 'LABEL_1', 'score': 0.9310502409934998}, {'label': 'LABEL_2', 'score': 0.9724738597869873}, {'label': 'LABEL_1', 'score': 0.9068359136581421}, {'label': 'LABEL_2', 'score': 0.9720331430435181}, {'label': 'LABEL_1', 'score': 0.8875555396080017}, {'label': 'LABEL_2', 'score': 0.9667659997940063}, {'label': 'LABEL_2', 'score': 0.9526767134666443}, {'label': 'LABEL_1', 'score': 0.8351669311523438}, {'label': 'LABEL_2', 'score': 0.9570832848548889}, {'label': 'LABEL_1', 'score': 0.8563724160194397}, {'label': 'LABEL_1', 'score': 0.9290627241134644}, {'label': 'LABEL_2', 'score': 0.9208642840385437}, {'label': 'LABEL_1', 'score': 0.5112062692642212}, {'label': 'LABEL_1', 'score': 0.940943717956543}, {'label': 'LABEL_1', 'score': 0.9359763860702515}, {'label': 'LABEL_1', 'score': 0.9141587615013123}, {'label': 'LABEL_1', 'score': 0.9081422090530396}, {'label': 'LABEL_1', 'score': 0.9365890622138977}, {'label': 'LABEL_1', 'score': 0.9176682829856873}, {'label': 'LABEL_1', 'score': 0.516392707824707}, {'label': 'LABEL_1', 'score': 0.6641035079956055}, {'label': 'LABEL_1', 'score': 0.838760256767273}, {'label': 'LABEL_2', 'score': 0.5552705526351929}, {'label': 'LABEL_1', 'score': 0.9221428632736206}, {'label': 'LABEL_1', 'score': 0.9459611773490906}, {'label': 'LABEL_1', 'score': 0.9268568158149719}, {'label': 'LABEL_1', 'score': 0.8314046263694763}, {'label': 'LABEL_1', 'score': 0.9092326164245605}, {'label': 'LABEL_1', 'score': 0.498909592628479}, {'label': 'LABEL_1', 'score': 0.7529236078262329}, {'label': 'LABEL_1', 'score': 0.844085693359375}, {'label': 'LABEL_1', 'score': 0.9428275227546692}, {'label': 'LABEL_1', 'score': 0.7646651864051819}, {'label': 'LABEL_1', 'score': 0.7491482496261597}, {'label': 'LABEL_1', 'score': 0.9203838109970093}, {'label': 'LABEL_1', 'score': 0.6587240099906921}, {'label': 'LABEL_1', 'score': 0.8847168684005737}, {'label': 'LABEL_1', 'score': 0.9099944233894348}, {'label': 'LABEL_1', 'score': 0.8919545412063599}, {'label': 'LABEL_1', 'score': 0.6766529679298401}, {'label': 'LABEL_1', 'score': 0.8671351671218872}, {'label': 'LABEL_1', 'score': 0.5031725168228149}, {'label': 'LABEL_1', 'score': 0.5031580328941345}, {'label': 'LABEL_1', 'score': 0.5031389594078064}, {'label': 'LABEL_2', 'score': 0.9485777616500854}, {'label': 'LABEL_2', 'score': 0.959026038646698}, {'label': 'LABEL_1', 'score': 0.9378231167793274}, {'label': 'LABEL_1', 'score': 0.5031725764274597}, {'label': 'LABEL_1', 'score': 0.5031725764274597}, {'label': 'LABEL_1', 'score': 0.8125876188278198}, {'label': 'LABEL_1', 'score': 0.5031725764274597}, {'label': 'LABEL_1', 'score': 0.503172755241394}, {'label': 'LABEL_1', 'score': 0.503173828125}, {'label': 'LABEL_1', 'score': 0.5031657814979553}, {'label': 'LABEL_1', 'score': 0.5031431913375854}, {'label': 'LABEL_1', 'score': 0.5031844973564148}, {'label': 'LABEL_1', 'score': 0.933838427066803}, {'label': 'LABEL_1', 'score': 0.5031856894493103}, {'label': 'LABEL_1', 'score': 0.5031852126121521}, {'label': 'LABEL_1', 'score': 0.5031834244728088}, {'label': 'LABEL_1', 'score': 0.8871868848800659}, {'label': 'LABEL_2', 'score': 0.8608413338661194}, {'label': 'LABEL_2', 'score': 0.9580586552619934}, {'label': 'LABEL_2', 'score': 0.957447350025177}, {'label': 'LABEL_1', 'score': 0.503184974193573}, {'label': 'LABEL_1', 'score': 0.5031746029853821}, {'label': 'LABEL_1', 'score': 0.5267989635467529}, {'label': 'LABEL_1', 'score': 0.5267979502677917}, {'label': 'LABEL_1', 'score': 0.5268017649650574}, {'label': 'LABEL_1', 'score': 0.8876103758811951}, {'label': 'LABEL_1', 'score': 0.526801347732544}, {'label': 'LABEL_1', 'score': 0.7101903557777405}, {'label': 'LABEL_1', 'score': 0.9325748682022095}, {'label': 'LABEL_1', 'score': 0.526758074760437}, {'label': 'LABEL_1', 'score': 0.6953266859054565}, {'label': 'LABEL_1', 'score': 0.5267893671989441}, {'label': 'LABEL_1', 'score': 0.9264439940452576}, {'label': 'LABEL_1', 'score': 0.5268028974533081}, {'label': 'LABEL_1', 'score': 0.9215590953826904}, {'label': 'LABEL_1', 'score': 0.526768147945404}, {'label': 'LABEL_1', 'score': 0.5268000364303589}, {'label': 'LABEL_1', 'score': 0.5031722187995911}, {'label': 'LABEL_1', 'score': 0.5268006920814514}, {'label': 'LABEL_1', 'score': 0.5267984867095947}, {'label': 'LABEL_1', 'score': 0.526800811290741}, {'label': 'LABEL_1', 'score': 0.9183632731437683}, {'label': 'LABEL_0', 'score': 0.9437230825424194}, {'label': 'LABEL_1', 'score': 0.526800811290741}, {'label': 'LABEL_1', 'score': 0.526800811290741}, {'label': 'LABEL_1', 'score': 0.526800811290741}, {'label': 'LABEL_1', 'score': 0.526800811290741}, {'label': 'LABEL_2', 'score': 0.8898277878761292}, {'label': 'LABEL_1', 'score': 0.9255057573318481}, {'label': 'LABEL_1', 'score': 0.5268099904060364}, {'label': 'LABEL_1', 'score': 0.5267747640609741}, {'label': 'LABEL_1', 'score': 0.551096498966217}, {'label': 'LABEL_1', 'score': 0.5624532103538513}, {'label': 'LABEL_1', 'score': 0.9024031162261963}, {'label': 'LABEL_1', 'score': 0.5267840027809143}, {'label': 'LABEL_1', 'score': 0.5267968773841858}, {'label': 'LABEL_1', 'score': 0.5268189907073975}, {'label': 'LABEL_1', 'score': 0.6738330721855164}, {'label': 'LABEL_1', 'score': 0.5268189907073975}, {'label': 'LABEL_2', 'score': 0.9205759763717651}, {'label': 'LABEL_0', 'score': 0.8787776231765747}, {'label': 'LABEL_1', 'score': 0.8979249000549316}, {'label': 'LABEL_1', 'score': 0.9320538640022278}, {'label': 'LABEL_0', 'score': 0.6612491607666016}, {'label': 'LABEL_1', 'score': 0.9234743118286133}, {'label': 'LABEL_0', 'score': 0.5391073226928711}, {'label': 'LABEL_1', 'score': 0.9148308634757996}, {'label': 'LABEL_1', 'score': 0.9115942120552063}, {'label': 'LABEL_1', 'score': 0.9306394457817078}, {'label': 'LABEL_1', 'score': 0.9169703125953674}, {'label': 'LABEL_1', 'score': 0.9191654324531555}, {'label': 'LABEL_1', 'score': 0.9191451668739319}, {'label': 'LABEL_1', 'score': 0.9308902025222778}, {'label': 'LABEL_1', 'score': 0.9131199717521667}, {'label': 'LABEL_0', 'score': 0.9197613000869751}, {'label': 'LABEL_2', 'score': 0.8830063939094543}, {'label': 'LABEL_1', 'score': 0.906457245349884}, {'label': 'LABEL_1', 'score': 0.9296513199806213}, {'label': 'LABEL_1', 'score': 0.9055425524711609}, {'label': 'LABEL_1', 'score': 0.9154285192489624}, {'label': 'LABEL_1', 'score': 0.932888388633728}, {'label': 'LABEL_1', 'score': 0.925890326499939}, {'label': 'LABEL_1', 'score': 0.5909565687179565}, {'label': 'LABEL_2', 'score': 0.6603882312774658}, {'label': 'LABEL_2', 'score': 0.6968536972999573}, {'label': 'LABEL_2', 'score': 0.5335497260093689}, {'label': 'LABEL_1', 'score': 0.887230634689331}, {'label': 'LABEL_1', 'score': 0.9315496683120728}, {'label': 'LABEL_1', 'score': 0.7625871300697327}, {'label': 'LABEL_1', 'score': 0.9187929034233093}, {'label': 'LABEL_1', 'score': 0.9140918254852295}, {'label': 'LABEL_1', 'score': 0.6247787475585938}, {'label': 'LABEL_1', 'score': 0.9377878904342651}, {'label': 'LABEL_1', 'score': 0.649706244468689}, {'label': 'LABEL_1', 'score': 0.9045040011405945}, {'label': 'LABEL_1', 'score': 0.9420884251594543}, {'label': 'LABEL_1', 'score': 0.5363738536834717}, {'label': 'LABEL_1', 'score': 0.9208348989486694}, {'label': 'LABEL_2', 'score': 0.7103910446166992}, {'label': 'LABEL_1', 'score': 0.9041128158569336}, {'label': 'LABEL_1', 'score': 0.9454888105392456}, {'label': 'LABEL_1', 'score': 0.8891368508338928}, {'label': 'LABEL_2', 'score': 0.7515717148780823}, {'label': 'LABEL_1', 'score': 0.9446661472320557}, {'label': 'LABEL_1', 'score': 0.9032593369483948}, {'label': 'LABEL_1', 'score': 0.9351100325584412}, {'label': 'LABEL_1', 'score': 0.9371631145477295}, {'label': 'LABEL_1', 'score': 0.6774417757987976}, {'label': 'LABEL_1', 'score': 0.9309495091438293}, {'label': 'LABEL_1', 'score': 0.647560715675354}, {'label': 'LABEL_1', 'score': 0.9306860566139221}, {'label': 'LABEL_1', 'score': 0.7567929029464722}, {'label': 'LABEL_1', 'score': 0.7866562604904175}, {'label': 'LABEL_1', 'score': 0.7797237038612366}, {'label': 'LABEL_1', 'score': 0.7846697568893433}, {'label': 'LABEL_0', 'score': 0.5969749093055725}, {'label': 'LABEL_1', 'score': 0.8914350271224976}, {'label': 'LABEL_1', 'score': 0.9086468815803528}, {'label': 'LABEL_1', 'score': 0.9102728366851807}, {'label': 'LABEL_2', 'score': 0.8446317315101624}, {'label': 'LABEL_1', 'score': 0.778188943862915}, {'label': 'LABEL_1', 'score': 0.9133292436599731}, {'label': 'LABEL_1', 'score': 0.7028141021728516}, {'label': 'LABEL_1', 'score': 0.9377485513687134}, {'label': 'LABEL_2', 'score': 0.761043131351471}, {'label': 'LABEL_1', 'score': 0.7559865713119507}, {'label': 'LABEL_1', 'score': 0.7758437395095825}, {'label': 'LABEL_2', 'score': 0.536688506603241}, {'label': 'LABEL_1', 'score': 0.9029379487037659}, {'label': 'LABEL_1', 'score': 0.9253924489021301}, {'label': 'LABEL_1', 'score': 0.8057032823562622}, {'label': 'LABEL_2', 'score': 0.9783400297164917}, {'label': 'LABEL_1', 'score': 0.932999849319458}, {'label': 'LABEL_1', 'score': 0.9203049540519714}, {'label': 'LABEL_1', 'score': 0.7319714426994324}, {'label': 'LABEL_1', 'score': 0.9164084196090698}, {'label': 'LABEL_1', 'score': 0.8948012590408325}, {'label': 'LABEL_1', 'score': 0.9036867618560791}, {'label': 'LABEL_1', 'score': 0.7840890288352966}, {'label': 'LABEL_1', 'score': 0.9342302083969116}, {'label': 'LABEL_1', 'score': 0.91582190990448}, {'label': 'LABEL_0', 'score': 0.9082458019256592}, {'label': 'LABEL_1', 'score': 0.9095672965049744}, {'label': 'LABEL_2', 'score': 0.9651843905448914}, {'label': 'LABEL_1', 'score': 0.921956479549408}, {'label': 'LABEL_1', 'score': 0.9238178730010986}, {'label': 'LABEL_1', 'score': 0.8771204948425293}, {'label': 'LABEL_1', 'score': 0.6929530501365662}, {'label': 'LABEL_1', 'score': 0.890958845615387}, {'label': 'LABEL_1', 'score': 0.6474417448043823}, {'label': 'LABEL_1', 'score': 0.5857770442962646}, {'label': 'LABEL_1', 'score': 0.810473620891571}], [{'label': 'LABEL_2', 'score': 0.9625719785690308}, {'label': 'LABEL_1', 'score': 0.8565349578857422}, {'label': 'LABEL_1', 'score': 0.9227692484855652}, {'label': 'LABEL_0', 'score': 0.9101642966270447}, {'label': 'LABEL_2', 'score': 0.8467879295349121}, {'label': 'LABEL_1', 'score': 0.5326952338218689}, {'label': 'LABEL_1', 'score': 0.7107065320014954}, {'label': 'LABEL_1', 'score': 0.9203742742538452}, {'label': 'LABEL_0', 'score': 0.9302071928977966}, {'label': 'LABEL_1', 'score': 0.9161392450332642}, {'label': 'LABEL_1', 'score': 0.9174617528915405}, {'label': 'LABEL_1', 'score': 0.9401523470878601}, {'label': 'LABEL_1', 'score': 0.9320425391197205}, {'label': 'LABEL_1', 'score': 0.7859048843383789}, {'label': 'LABEL_1', 'score': 0.9318113923072815}, {'label': 'LABEL_1', 'score': 0.9134544134140015}, {'label': 'LABEL_1', 'score': 0.923324704170227}, {'label': 'LABEL_2', 'score': 0.6631588935852051}, {'label': 'LABEL_1', 'score': 0.9110924601554871}, {'label': 'LABEL_1', 'score': 0.9092427492141724}, {'label': 'LABEL_1', 'score': 0.9365518689155579}, {'label': 'LABEL_1', 'score': 0.9100103974342346}, {'label': 'LABEL_1', 'score': 0.6711320281028748}, {'label': 'LABEL_1', 'score': 0.8531064987182617}, {'label': 'LABEL_1', 'score': 0.9092440605163574}, {'label': 'LABEL_2', 'score': 0.9762780666351318}, {'label': 'LABEL_1', 'score': 0.9328131675720215}, {'label': 'LABEL_1', 'score': 0.9315271973609924}, {'label': 'LABEL_1', 'score': 0.5034090876579285}, {'label': 'LABEL_1', 'score': 0.9063618183135986}, {'label': 'LABEL_1', 'score': 0.9287423491477966}, {'label': 'LABEL_1', 'score': 0.8120639324188232}, {'label': 'LABEL_1', 'score': 0.9066195487976074}, {'label': 'LABEL_2', 'score': 0.9625222682952881}, {'label': 'LABEL_1', 'score': 0.907863974571228}, {'label': 'LABEL_0', 'score': 0.9304394125938416}, {'label': 'LABEL_1', 'score': 0.6456590890884399}, {'label': 'LABEL_1', 'score': 0.9463475346565247}, {'label': 'LABEL_1', 'score': 0.7436144351959229}, {'label': 'LABEL_1', 'score': 0.9351655840873718}, {'label': 'LABEL_2', 'score': 0.943973183631897}, {'label': 'LABEL_1', 'score': 0.5654486417770386}, {'label': 'LABEL_1', 'score': 0.899335503578186}, {'label': 'LABEL_1', 'score': 0.905782163143158}, {'label': 'LABEL_0', 'score': 0.8379963636398315}, {'label': 'LABEL_1', 'score': 0.48591771721839905}, {'label': 'LABEL_1', 'score': 0.9332133531570435}, {'label': 'LABEL_1', 'score': 0.7507869601249695}, {'label': 'LABEL_1', 'score': 0.9364762902259827}, {'label': 'LABEL_1', 'score': 0.85295170545578}, {'label': 'LABEL_0', 'score': 0.8016406893730164}, {'label': 'LABEL_1', 'score': 0.7795088887214661}, {'label': 'LABEL_1', 'score': 0.5137923359870911}, {'label': 'LABEL_1', 'score': 0.9107591509819031}, {'label': 'LABEL_0', 'score': 0.8574993014335632}, {'label': 'LABEL_1', 'score': 0.913809597492218}, {'label': 'LABEL_1', 'score': 0.9384101033210754}, {'label': 'LABEL_2', 'score': 0.45408496260643005}, {'label': 'LABEL_1', 'score': 0.9286159873008728}, {'label': 'LABEL_1', 'score': 0.8914600014686584}, {'label': 'LABEL_1', 'score': 0.9370515942573547}, {'label': 'LABEL_1', 'score': 0.8835891485214233}, {'label': 'LABEL_1', 'score': 0.9197232127189636}, {'label': 'LABEL_2', 'score': 0.6030034422874451}, {'label': 'LABEL_1', 'score': 0.7715697884559631}, {'label': 'LABEL_2', 'score': 0.8770398497581482}, {'label': 'LABEL_1', 'score': 0.9142268300056458}, {'label': 'LABEL_1', 'score': 0.6392734050750732}, {'label': 'LABEL_1', 'score': 0.8549365401268005}, {'label': 'LABEL_1', 'score': 0.915259838104248}, {'label': 'LABEL_1', 'score': 0.7853606343269348}, {'label': 'LABEL_1', 'score': 0.9313963651657104}, {'label': 'LABEL_2', 'score': 0.9564390182495117}, {'label': 'LABEL_2', 'score': 0.7387670874595642}, {'label': 'LABEL_1', 'score': 0.580909252166748}, {'label': 'LABEL_1', 'score': 0.9207582473754883}, {'label': 'LABEL_1', 'score': 0.8417842984199524}, {'label': 'LABEL_1', 'score': 0.7419769167900085}, {'label': 'LABEL_2', 'score': 0.9553234577178955}, {'label': 'LABEL_2', 'score': 0.6499335765838623}, {'label': 'LABEL_1', 'score': 0.9411203265190125}, {'label': 'LABEL_1', 'score': 0.9355159401893616}, {'label': 'LABEL_1', 'score': 0.6762972474098206}, {'label': 'LABEL_2', 'score': 0.48502761125564575}, {'label': 'LABEL_1', 'score': 0.4987788796424866}, {'label': 'LABEL_1', 'score': 0.9366984963417053}, {'label': 'LABEL_1', 'score': 0.8525078296661377}, {'label': 'LABEL_1', 'score': 0.9246015548706055}, {'label': 'LABEL_1', 'score': 0.7325668931007385}, {'label': 'LABEL_1', 'score': 0.773125410079956}, {'label': 'LABEL_1', 'score': 0.5397064089775085}, {'label': 'LABEL_1', 'score': 0.8821995258331299}, {'label': 'LABEL_1', 'score': 0.8978353142738342}, {'label': 'LABEL_2', 'score': 0.97691410779953}, {'label': 'LABEL_1', 'score': 0.9279199242591858}, {'label': 'LABEL_1', 'score': 0.9321277141571045}, {'label': 'LABEL_1', 'score': 0.9206536412239075}, {'label': 'LABEL_1', 'score': 0.9036173224449158}, {'label': 'LABEL_1', 'score': 0.8295568227767944}, {'label': 'LABEL_1', 'score': 0.940632164478302}, {'label': 'LABEL_1', 'score': 0.9228798747062683}, {'label': 'LABEL_1', 'score': 0.9104086756706238}, {'label': 'LABEL_1', 'score': 0.8284156918525696}, {'label': 'LABEL_2', 'score': 0.8914433717727661}, {'label': 'LABEL_1', 'score': 0.9073469638824463}, {'label': 'LABEL_1', 'score': 0.8701716661453247}, {'label': 'LABEL_1', 'score': 0.9343262910842896}, {'label': 'LABEL_1', 'score': 0.9087905287742615}, {'label': 'LABEL_1', 'score': 0.9041405916213989}, {'label': 'LABEL_2', 'score': 0.851494312286377}, {'label': 'LABEL_1', 'score': 0.9150994420051575}, {'label': 'LABEL_1', 'score': 0.9087499380111694}, {'label': 'LABEL_2', 'score': 0.9748972058296204}, {'label': 'LABEL_2', 'score': 0.842807412147522}, {'label': 'LABEL_1', 'score': 0.5480994582176208}, {'label': 'LABEL_0', 'score': 0.8211728930473328}, {'label': 'LABEL_1', 'score': 0.815799355506897}, {'label': 'LABEL_1', 'score': 0.9321513175964355}, {'label': 'LABEL_1', 'score': 0.9148569703102112}, {'label': 'LABEL_1', 'score': 0.9213823676109314}, {'label': 'LABEL_1', 'score': 0.8827773928642273}, {'label': 'LABEL_1', 'score': 0.8441727757453918}, {'label': 'LABEL_1', 'score': 0.9097064733505249}, {'label': 'LABEL_1', 'score': 0.8763280510902405}, {'label': 'LABEL_2', 'score': 0.6221290230751038}, {'label': 'LABEL_1', 'score': 0.8983068466186523}, {'label': 'LABEL_2', 'score': 0.8195030689239502}, {'label': 'LABEL_1', 'score': 0.9134710431098938}, {'label': 'LABEL_1', 'score': 0.9382060170173645}, {'label': 'LABEL_2', 'score': 0.9621220231056213}, {'label': 'LABEL_1', 'score': 0.9303135275840759}, {'label': 'LABEL_1', 'score': 0.9139883518218994}, {'label': 'LABEL_1', 'score': 0.9170910716056824}, {'label': 'LABEL_1', 'score': 0.9175567626953125}, {'label': 'LABEL_1', 'score': 0.9214587211608887}, {'label': 'LABEL_0', 'score': 0.7837157249450684}, {'label': 'LABEL_1', 'score': 0.9009053707122803}, {'label': 'LABEL_1', 'score': 0.934257984161377}, {'label': 'LABEL_1', 'score': 0.8933878540992737}, {'label': 'LABEL_1', 'score': 0.6459208726882935}, {'label': 'LABEL_1', 'score': 0.5105111002922058}, {'label': 'LABEL_1', 'score': 0.9387630224227905}, {'label': 'LABEL_1', 'score': 0.5475266575813293}, {'label': 'LABEL_2', 'score': 0.9737158417701721}, {'label': 'LABEL_1', 'score': 0.5063275098800659}, {'label': 'LABEL_1', 'score': 0.8963013291358948}, {'label': 'LABEL_1', 'score': 0.9348372220993042}, {'label': 'LABEL_1', 'score': 0.5761093497276306}, {'label': 'LABEL_0', 'score': 0.8691784739494324}, {'label': 'LABEL_1', 'score': 0.9295564293861389}, {'label': 'LABEL_1', 'score': 0.8291624188423157}, {'label': 'LABEL_1', 'score': 0.6628108024597168}, {'label': 'LABEL_1', 'score': 0.905683696269989}, {'label': 'LABEL_1', 'score': 0.6442337036132812}, {'label': 'LABEL_1', 'score': 0.818217933177948}, {'label': 'LABEL_1', 'score': 0.7660684585571289}, {'label': 'LABEL_1', 'score': 0.9319236874580383}, {'label': 'LABEL_2', 'score': 0.6691485643386841}, {'label': 'LABEL_1', 'score': 0.7942197322845459}, {'label': 'LABEL_0', 'score': 0.8342867493629456}, {'label': 'LABEL_1', 'score': 0.8898905515670776}, {'label': 'LABEL_1', 'score': 0.9294511675834656}, {'label': 'LABEL_0', 'score': 0.4675278067588806}, {'label': 'LABEL_1', 'score': 0.9278813004493713}, {'label': 'LABEL_2', 'score': 0.7540279030799866}, {'label': 'LABEL_2', 'score': 0.9319159388542175}, {'label': 'LABEL_2', 'score': 0.9289263486862183}, {'label': 'LABEL_1', 'score': 0.9066076874732971}, {'label': 'LABEL_1', 'score': 0.8424981832504272}, {'label': 'LABEL_1', 'score': 0.9234061241149902}, {'label': 'LABEL_1', 'score': 0.9404703378677368}, {'label': 'LABEL_2', 'score': 0.9221726059913635}, {'label': 'LABEL_1', 'score': 0.9054959416389465}, {'label': 'LABEL_2', 'score': 0.9350367784500122}, {'label': 'LABEL_2', 'score': 0.9729016423225403}, {'label': 'LABEL_0', 'score': 0.9508694410324097}, {'label': 'LABEL_0', 'score': 0.5981707572937012}, {'label': 'LABEL_1', 'score': 0.9264313578605652}, {'label': 'LABEL_1', 'score': 0.9223622679710388}, {'label': 'LABEL_1', 'score': 0.8961422443389893}, {'label': 'LABEL_1', 'score': 0.663889467716217}, {'label': 'LABEL_1', 'score': 0.9208095073699951}, {'label': 'LABEL_1', 'score': 0.90216064453125}, {'label': 'LABEL_1', 'score': 0.9207742214202881}, {'label': 'LABEL_1', 'score': 0.9099494218826294}, {'label': 'LABEL_1', 'score': 0.5127829313278198}, {'label': 'LABEL_2', 'score': 0.964401125907898}, {'label': 'LABEL_1', 'score': 0.9170023202896118}, {'label': 'LABEL_1', 'score': 0.929268479347229}, {'label': 'LABEL_2', 'score': 0.9261296391487122}, {'label': 'LABEL_2', 'score': 0.859898030757904}, {'label': 'LABEL_1', 'score': 0.7800964117050171}, {'label': 'LABEL_2', 'score': 0.7456471920013428}, {'label': 'LABEL_1', 'score': 0.8959840536117554}, {'label': 'LABEL_1', 'score': 0.9051405787467957}, {'label': 'LABEL_1', 'score': 0.9420518279075623}, {'label': 'LABEL_1', 'score': 0.934771716594696}, {'label': 'LABEL_1', 'score': 0.9111709594726562}, {'label': 'LABEL_2', 'score': 0.4697209894657135}, {'label': 'LABEL_0', 'score': 0.8847736716270447}, {'label': 'LABEL_1', 'score': 0.9277735352516174}, {'label': 'LABEL_1', 'score': 0.9047664403915405}, {'label': 'LABEL_1', 'score': 0.9151259660720825}, {'label': 'LABEL_0', 'score': 0.9317574501037598}, {'label': 'LABEL_0', 'score': 0.7588052153587341}, {'label': 'LABEL_1', 'score': 0.911821186542511}, {'label': 'LABEL_0', 'score': 0.8998322486877441}, {'label': 'LABEL_1', 'score': 0.9217642545700073}, {'label': 'LABEL_1', 'score': 0.8847065567970276}, {'label': 'LABEL_1', 'score': 0.9356110692024231}, {'label': 'LABEL_1', 'score': 0.7392621040344238}, {'label': 'LABEL_1', 'score': 0.9309062957763672}, {'label': 'LABEL_1', 'score': 0.9436599612236023}, {'label': 'LABEL_1', 'score': 0.932584822177887}, {'label': 'LABEL_1', 'score': 0.9249271154403687}, {'label': 'LABEL_1', 'score': 0.9340781569480896}, {'label': 'LABEL_1', 'score': 0.9358692169189453}, {'label': 'LABEL_1', 'score': 0.9284313321113586}, {'label': 'LABEL_1', 'score': 0.921904981136322}, {'label': 'LABEL_1', 'score': 0.9350677728652954}, {'label': 'LABEL_1', 'score': 0.931407630443573}, {'label': 'LABEL_1', 'score': 0.9053319096565247}, {'label': 'LABEL_1', 'score': 0.934580385684967}, {'label': 'LABEL_1', 'score': 0.6140214204788208}, {'label': 'LABEL_1', 'score': 0.9136692881584167}, {'label': 'LABEL_1', 'score': 0.5119984149932861}, {'label': 'LABEL_1', 'score': 0.9098765254020691}, {'label': 'LABEL_1', 'score': 0.7107595801353455}, {'label': 'LABEL_1', 'score': 0.8257712721824646}, {'label': 'LABEL_1', 'score': 0.9160056114196777}, {'label': 'LABEL_1', 'score': 0.9374281167984009}, {'label': 'LABEL_0', 'score': 0.7894319891929626}, {'label': 'LABEL_2', 'score': 0.6631367206573486}, {'label': 'LABEL_1', 'score': 0.8817372918128967}, {'label': 'LABEL_1', 'score': 0.9157533049583435}, {'label': 'LABEL_1', 'score': 0.8452134728431702}, {'label': 'LABEL_1', 'score': 0.9104920029640198}, {'label': 'LABEL_2', 'score': 0.9193516969680786}, {'label': 'LABEL_1', 'score': 0.8571797609329224}, {'label': 'LABEL_1', 'score': 0.9194589257240295}, {'label': 'LABEL_2', 'score': 0.9735286831855774}, {'label': 'LABEL_1', 'score': 0.9062753915786743}, {'label': 'LABEL_1', 'score': 0.9221333861351013}, {'label': 'LABEL_1', 'score': 0.9230952858924866}, {'label': 'LABEL_1', 'score': 0.9162343144416809}, {'label': 'LABEL_2', 'score': 0.5378737449645996}, {'label': 'LABEL_1', 'score': 0.9231184720993042}, {'label': 'LABEL_1', 'score': 0.9208118319511414}, {'label': 'LABEL_1', 'score': 0.8102055788040161}, {'label': 'LABEL_2', 'score': 0.9012526273727417}, {'label': 'LABEL_2', 'score': 0.9728590846061707}, {'label': 'LABEL_1', 'score': 0.9324678182601929}, {'label': 'LABEL_1', 'score': 0.8995940685272217}, {'label': 'LABEL_2', 'score': 0.958351731300354}, {'label': 'LABEL_1', 'score': 0.9227094650268555}, {'label': 'LABEL_2', 'score': 0.7859124541282654}, {'label': 'LABEL_1', 'score': 0.9057837128639221}, {'label': 'LABEL_1', 'score': 0.8136175870895386}, {'label': 'LABEL_2', 'score': 0.9473300576210022}, {'label': 'LABEL_1', 'score': 0.5052164196968079}, {'label': 'LABEL_2', 'score': 0.9220262765884399}, {'label': 'LABEL_0', 'score': 0.5092929601669312}, {'label': 'LABEL_2', 'score': 0.9596491456031799}, {'label': 'LABEL_1', 'score': 0.5810067653656006}, {'label': 'LABEL_1', 'score': 0.944546103477478}, {'label': 'LABEL_2', 'score': 0.9598299860954285}, {'label': 'LABEL_1', 'score': 0.7436107397079468}, {'label': 'LABEL_0', 'score': 0.9400320053100586}, {'label': 'LABEL_2', 'score': 0.9749521017074585}, {'label': 'LABEL_2', 'score': 0.6204162240028381}, {'label': 'LABEL_2', 'score': 0.5185575485229492}, {'label': 'LABEL_1', 'score': 0.9157326221466064}, {'label': 'LABEL_1', 'score': 0.9261610507965088}, {'label': 'LABEL_1', 'score': 0.898952305316925}, {'label': 'LABEL_1', 'score': 0.9380971789360046}, {'label': 'LABEL_1', 'score': 0.9148105978965759}, {'label': 'LABEL_2', 'score': 0.9553049206733704}, {'label': 'LABEL_1', 'score': 0.9379421472549438}, {'label': 'LABEL_1', 'score': 0.749372124671936}, {'label': 'LABEL_2', 'score': 0.8210026621818542}, {'label': 'LABEL_1', 'score': 0.6063656806945801}, {'label': 'LABEL_1', 'score': 0.9200224876403809}, {'label': 'LABEL_1', 'score': 0.9400572180747986}, {'label': 'LABEL_1', 'score': 0.9199719429016113}, {'label': 'LABEL_1', 'score': 0.9428602457046509}, {'label': 'LABEL_1', 'score': 0.5724359750747681}, {'label': 'LABEL_2', 'score': 0.6496604084968567}, {'label': 'LABEL_1', 'score': 0.909489095211029}, {'label': 'LABEL_1', 'score': 0.8977416157722473}, {'label': 'LABEL_1', 'score': 0.9298512935638428}, {'label': 'LABEL_2', 'score': 0.6241967082023621}, {'label': 'LABEL_1', 'score': 0.7240918874740601}, {'label': 'LABEL_1', 'score': 0.8964507579803467}, {'label': 'LABEL_1', 'score': 0.9312793612480164}, {'label': 'LABEL_2', 'score': 0.8247179388999939}, {'label': 'LABEL_2', 'score': 0.5432822704315186}, {'label': 'LABEL_1', 'score': 0.6349669098854065}, {'label': 'LABEL_1', 'score': 0.9262714982032776}, {'label': 'LABEL_2', 'score': 0.9593451023101807}, {'label': 'LABEL_1', 'score': 0.9042877554893494}, {'label': 'LABEL_1', 'score': 0.9030505418777466}, {'label': 'LABEL_1', 'score': 0.9185276031494141}, {'label': 'LABEL_1', 'score': 0.9059232473373413}, {'label': 'LABEL_0', 'score': 0.9225673079490662}, {'label': 'LABEL_1', 'score': 0.9177951216697693}, {'label': 'LABEL_0', 'score': 0.9320353269577026}, {'label': 'LABEL_1', 'score': 0.6163591742515564}, {'label': 'LABEL_1', 'score': 0.9246188998222351}, {'label': 'LABEL_2', 'score': 0.9455074071884155}, {'label': 'LABEL_0', 'score': 0.7832797169685364}, {'label': 'LABEL_2', 'score': 0.9698315858840942}, {'label': 'LABEL_1', 'score': 0.8872323632240295}, {'label': 'LABEL_0', 'score': 0.44190871715545654}, {'label': 'LABEL_1', 'score': 0.9132375717163086}, {'label': 'LABEL_1', 'score': 0.7825364470481873}, {'label': 'LABEL_0', 'score': 0.9145511984825134}, {'label': 'LABEL_0', 'score': 0.7028783559799194}, {'label': 'LABEL_1', 'score': 0.529504656791687}, {'label': 'LABEL_2', 'score': 0.9757375121116638}, {'label': 'LABEL_1', 'score': 0.8405937552452087}, {'label': 'LABEL_0', 'score': 0.6723690032958984}, {'label': 'LABEL_2', 'score': 0.9651610851287842}, {'label': 'LABEL_1', 'score': 0.8826625943183899}, {'label': 'LABEL_1', 'score': 0.8584985733032227}, {'label': 'LABEL_1', 'score': 0.670672595500946}, {'label': 'LABEL_1', 'score': 0.9298517107963562}, {'label': 'LABEL_0', 'score': 0.5361759066581726}, {'label': 'LABEL_1', 'score': 0.5758200883865356}, {'label': 'LABEL_2', 'score': 0.9659613966941833}, {'label': 'LABEL_1', 'score': 0.8986817598342896}, {'label': 'LABEL_1', 'score': 0.9194095134735107}, {'label': 'LABEL_1', 'score': 0.6358188390731812}, {'label': 'LABEL_2', 'score': 0.9643735289573669}, {'label': 'LABEL_1', 'score': 0.9097759127616882}, {'label': 'LABEL_1', 'score': 0.9214123487472534}, {'label': 'LABEL_1', 'score': 0.9187626242637634}, {'label': 'LABEL_0', 'score': 0.5573180317878723}, {'label': 'LABEL_1', 'score': 0.9091074466705322}, {'label': 'LABEL_1', 'score': 0.884737491607666}, {'label': 'LABEL_1', 'score': 0.7837917804718018}, {'label': 'LABEL_1', 'score': 0.6433936953544617}, {'label': 'LABEL_2', 'score': 0.8468677997589111}, {'label': 'LABEL_2', 'score': 0.7873435020446777}, {'label': 'LABEL_1', 'score': 0.6893502473831177}, {'label': 'LABEL_1', 'score': 0.9005246758460999}, {'label': 'LABEL_1', 'score': 0.9034329056739807}, {'label': 'LABEL_1', 'score': 0.9156246185302734}, {'label': 'LABEL_1', 'score': 0.8387181758880615}, {'label': 'LABEL_1', 'score': 0.8664482831954956}, {'label': 'LABEL_1', 'score': 0.9215167760848999}, {'label': 'LABEL_2', 'score': 0.5119240283966064}, {'label': 'LABEL_1', 'score': 0.9133042693138123}, {'label': 'LABEL_1', 'score': 0.895142674446106}, {'label': 'LABEL_0', 'score': 0.9077092409133911}, {'label': 'LABEL_1', 'score': 0.7663100957870483}, {'label': 'LABEL_0', 'score': 0.6159422993659973}, {'label': 'LABEL_1', 'score': 0.9096149206161499}, {'label': 'LABEL_2', 'score': 0.9414058923721313}, {'label': 'LABEL_2', 'score': 0.5961558222770691}, {'label': 'LABEL_1', 'score': 0.9285804629325867}, {'label': 'LABEL_1', 'score': 0.7919654250144958}, {'label': 'LABEL_0', 'score': 0.6381635069847107}, {'label': 'LABEL_1', 'score': 0.9126697778701782}, {'label': 'LABEL_1', 'score': 0.913705050945282}, {'label': 'LABEL_1', 'score': 0.9356043934822083}, {'label': 'LABEL_2', 'score': 0.5442805886268616}, {'label': 'LABEL_1', 'score': 0.8331239223480225}, {'label': 'LABEL_2', 'score': 0.8802765011787415}, {'label': 'LABEL_2', 'score': 0.5669179558753967}, {'label': 'LABEL_1', 'score': 0.5416339635848999}, {'label': 'LABEL_1', 'score': 0.9088832139968872}, {'label': 'LABEL_1', 'score': 0.8573736548423767}, {'label': 'LABEL_1', 'score': 0.923639178276062}, {'label': 'LABEL_2', 'score': 0.9755390882492065}, {'label': 'LABEL_1', 'score': 0.9319943785667419}, {'label': 'LABEL_2', 'score': 0.9567663073539734}, {'label': 'LABEL_1', 'score': 0.7789561748504639}, {'label': 'LABEL_1', 'score': 0.917097270488739}, {'label': 'LABEL_0', 'score': 0.8970043063163757}, {'label': 'LABEL_2', 'score': 0.952339231967926}, {'label': 'LABEL_1', 'score': 0.774438738822937}, {'label': 'LABEL_1', 'score': 0.9244971871376038}, {'label': 'LABEL_1', 'score': 0.9063195586204529}, {'label': 'LABEL_2', 'score': 0.7267580032348633}, {'label': 'LABEL_2', 'score': 0.9180144667625427}, {'label': 'LABEL_1', 'score': 0.9186388850212097}, {'label': 'LABEL_0', 'score': 0.5162750482559204}, {'label': 'LABEL_1', 'score': 0.8040173649787903}, {'label': 'LABEL_1', 'score': 0.8988288044929504}, {'label': 'LABEL_1', 'score': 0.9196604490280151}, {'label': 'LABEL_1', 'score': 0.9170020222663879}, {'label': 'LABEL_2', 'score': 0.7133682370185852}, {'label': 'LABEL_1', 'score': 0.9466269612312317}, {'label': 'LABEL_1', 'score': 0.7974390387535095}, {'label': 'LABEL_1', 'score': 0.8458479046821594}, {'label': 'LABEL_1', 'score': 0.9100849032402039}, {'label': 'LABEL_1', 'score': 0.8718294501304626}, {'label': 'LABEL_2', 'score': 0.6233842968940735}, {'label': 'LABEL_1', 'score': 0.9150676131248474}, {'label': 'LABEL_2', 'score': 0.9676027894020081}, {'label': 'LABEL_1', 'score': 0.9186670780181885}, {'label': 'LABEL_1', 'score': 0.8564602136611938}, {'label': 'LABEL_2', 'score': 0.7560850381851196}, {'label': 'LABEL_1', 'score': 0.9143732190132141}, {'label': 'LABEL_1', 'score': 0.9012801647186279}, {'label': 'LABEL_1', 'score': 0.8047446012496948}, {'label': 'LABEL_1', 'score': 0.898911714553833}, {'label': 'LABEL_0', 'score': 0.5970836877822876}, {'label': 'LABEL_1', 'score': 0.7489199638366699}, {'label': 'LABEL_2', 'score': 0.8186513185501099}, {'label': 'LABEL_1', 'score': 0.9058949947357178}, {'label': 'LABEL_2', 'score': 0.7907692193984985}, {'label': 'LABEL_1', 'score': 0.9107140302658081}, {'label': 'LABEL_1', 'score': 0.9056363105773926}, {'label': 'LABEL_1', 'score': 0.934867262840271}, {'label': 'LABEL_2', 'score': 0.7594143748283386}, {'label': 'LABEL_1', 'score': 0.9350064396858215}, {'label': 'LABEL_1', 'score': 0.922595739364624}, {'label': 'LABEL_1', 'score': 0.9060409069061279}, {'label': 'LABEL_1', 'score': 0.8359492421150208}, {'label': 'LABEL_1', 'score': 0.9232691526412964}, {'label': 'LABEL_2', 'score': 0.9628748297691345}, {'label': 'LABEL_1', 'score': 0.9131813049316406}, {'label': 'LABEL_1', 'score': 0.9283449053764343}, {'label': 'LABEL_1', 'score': 0.7715820074081421}, {'label': 'LABEL_1', 'score': 0.9060260057449341}, {'label': 'LABEL_2', 'score': 0.966945469379425}, {'label': 'LABEL_1', 'score': 0.9276432394981384}, {'label': 'LABEL_1', 'score': 0.9270528554916382}, {'label': 'LABEL_2', 'score': 0.9113371968269348}, {'label': 'LABEL_2', 'score': 0.9756044745445251}, {'label': 'LABEL_1', 'score': 0.9091205596923828}, {'label': 'LABEL_1', 'score': 0.9073014855384827}, {'label': 'LABEL_1', 'score': 0.7756874561309814}, {'label': 'LABEL_1', 'score': 0.5166019797325134}, {'label': 'LABEL_1', 'score': 0.8635103106498718}, {'label': 'LABEL_1', 'score': 0.7449973821640015}, {'label': 'LABEL_1', 'score': 0.923424482345581}, {'label': 'LABEL_1', 'score': 0.9238617420196533}, {'label': 'LABEL_1', 'score': 0.9221675992012024}, {'label': 'LABEL_0', 'score': 0.7752995491027832}, {'label': 'LABEL_0', 'score': 0.9065640568733215}, {'label': 'LABEL_1', 'score': 0.8923628926277161}, {'label': 'LABEL_1', 'score': 0.7205312252044678}, {'label': 'LABEL_2', 'score': 0.9711385369300842}, {'label': 'LABEL_1', 'score': 0.7205047011375427}, {'label': 'LABEL_1', 'score': 0.7205063700675964}, {'label': 'LABEL_1', 'score': 0.7205063700675964}, {'label': 'LABEL_1', 'score': 0.7205061912536621}, {'label': 'LABEL_1', 'score': 0.7205066680908203}, {'label': 'LABEL_1', 'score': 0.6446958184242249}, {'label': 'LABEL_1', 'score': 0.7204838395118713}, {'label': 'LABEL_1', 'score': 0.7106692790985107}, {'label': 'LABEL_1', 'score': 0.7205089330673218}, {'label': 'LABEL_1', 'score': 0.7205089330673218}, {'label': 'LABEL_1', 'score': 0.7205176949501038}, {'label': 'LABEL_1', 'score': 0.7205100655555725}, {'label': 'LABEL_1', 'score': 0.7205106019973755}, {'label': 'LABEL_1', 'score': 0.7205092310905457}, {'label': 'LABEL_1', 'score': 0.7205090522766113}, {'label': 'LABEL_0', 'score': 0.9211961030960083}, {'label': 'LABEL_1', 'score': 0.9058218002319336}, {'label': 'LABEL_1', 'score': 0.7205091118812561}, {'label': 'LABEL_1', 'score': 0.7205026745796204}, {'label': 'LABEL_1', 'score': 0.7205090522766113}, {'label': 'LABEL_1', 'score': 0.7205097079277039}, {'label': 'LABEL_1', 'score': 0.7205088138580322}, {'label': 'LABEL_1', 'score': 0.7205079197883606}, {'label': 'LABEL_1', 'score': 0.7205079197883606}, {'label': 'LABEL_1', 'score': 0.7205124497413635}, {'label': 'LABEL_1', 'score': 0.7205169200897217}, {'label': 'LABEL_1', 'score': 0.7205080389976501}, {'label': 'LABEL_1', 'score': 0.9126021862030029}, {'label': 'LABEL_1', 'score': 0.7166702747344971}, {'label': 'LABEL_1', 'score': 0.7204996943473816}, {'label': 'LABEL_1', 'score': 0.720507800579071}, {'label': 'LABEL_1', 'score': 0.7205745577812195}, {'label': 'LABEL_1', 'score': 0.720540463924408}, {'label': 'LABEL_1', 'score': 0.7205071449279785}, {'label': 'LABEL_1', 'score': 0.7205067276954651}, {'label': 'LABEL_1', 'score': 0.7205066084861755}, {'label': 'LABEL_1', 'score': 0.8773029446601868}, {'label': 'LABEL_1', 'score': 0.9454495906829834}, {'label': 'LABEL_1', 'score': 0.9222880005836487}, {'label': 'LABEL_1', 'score': 0.7166988849639893}, {'label': 'LABEL_1', 'score': 0.5295021533966064}, {'label': 'LABEL_1', 'score': 0.7167128920555115}, {'label': 'LABEL_1', 'score': 0.7205371260643005}, {'label': 'LABEL_1', 'score': 0.7205091118812561}, {'label': 'LABEL_1', 'score': 0.7204940319061279}, {'label': 'LABEL_1', 'score': 0.7204949259757996}, {'label': 'LABEL_1', 'score': 0.7166566848754883}, {'label': 'LABEL_1', 'score': 0.7204955816268921}, {'label': 'LABEL_1', 'score': 0.9232490658760071}, {'label': 'LABEL_1', 'score': 0.7205067276954651}, {'label': 'LABEL_1', 'score': 0.94305819272995}, {'label': 'LABEL_1', 'score': 0.7204580903053284}, {'label': 'LABEL_1', 'score': 0.7205094695091248}, {'label': 'LABEL_1', 'score': 0.7205021381378174}], [{'label': 'LABEL_1', 'score': 0.720512330532074}, {'label': 'LABEL_1', 'score': 0.720512330532074}, {'label': 'LABEL_1', 'score': 0.720512330532074}, {'label': 'LABEL_1', 'score': 0.7205090522766113}, {'label': 'LABEL_1', 'score': 0.7205090522766113}, {'label': 'LABEL_1', 'score': 0.7205057144165039}, {'label': 'LABEL_1', 'score': 0.7205057144165039}, {'label': 'LABEL_1', 'score': 0.720504641532898}, {'label': 'LABEL_0', 'score': 0.921173095703125}, {'label': 'LABEL_1', 'score': 0.921830415725708}, {'label': 'LABEL_1', 'score': 0.5031821727752686}, {'label': 'LABEL_1', 'score': 0.9291545748710632}, {'label': 'LABEL_1', 'score': 0.9299917817115784}, {'label': 'LABEL_2', 'score': 0.898827850818634}, {'label': 'LABEL_1', 'score': 0.9023479223251343}, {'label': 'LABEL_1', 'score': 0.9208781123161316}, {'label': 'LABEL_1', 'score': 0.9150047898292542}, {'label': 'LABEL_0', 'score': 0.8816417455673218}, {'label': 'LABEL_1', 'score': 0.9202311038970947}, {'label': 'LABEL_2', 'score': 0.7785603404045105}, {'label': 'LABEL_1', 'score': 0.9138293266296387}, {'label': 'LABEL_0', 'score': 0.9358464479446411}, {'label': 'LABEL_1', 'score': 0.9080328941345215}, {'label': 'LABEL_2', 'score': 0.9511852264404297}, {'label': 'LABEL_0', 'score': 0.8705317974090576}, {'label': 'LABEL_1', 'score': 0.8054181933403015}, {'label': 'LABEL_1', 'score': 0.9071208834648132}, {'label': 'LABEL_0', 'score': 0.5714882612228394}, {'label': 'LABEL_1', 'score': 0.9121456742286682}, {'label': 'LABEL_1', 'score': 0.9499366879463196}, {'label': 'LABEL_1', 'score': 0.7078599333763123}, {'label': 'LABEL_0', 'score': 0.750853955745697}, {'label': 'LABEL_1', 'score': 0.6602173447608948}, {'label': 'LABEL_1', 'score': 0.8806332945823669}, {'label': 'LABEL_1', 'score': 0.9212328195571899}, {'label': 'LABEL_1', 'score': 0.9143663644790649}, {'label': 'LABEL_1', 'score': 0.8141384720802307}, {'label': 'LABEL_1', 'score': 0.916989803314209}, {'label': 'LABEL_1', 'score': 0.9029123187065125}, {'label': 'LABEL_1', 'score': 0.9312607645988464}, {'label': 'LABEL_1', 'score': 0.8150567412376404}, {'label': 'LABEL_2', 'score': 0.7786501049995422}, {'label': 'LABEL_1', 'score': 0.9060313701629639}, {'label': 'LABEL_1', 'score': 0.8743664622306824}, {'label': 'LABEL_1', 'score': 0.9371798634529114}, {'label': 'LABEL_1', 'score': 0.93037348985672}, {'label': 'LABEL_2', 'score': 0.9726281762123108}, {'label': 'LABEL_1', 'score': 0.83946293592453}, {'label': 'LABEL_1', 'score': 0.9006635546684265}, {'label': 'LABEL_2', 'score': 0.8521684408187866}, {'label': 'LABEL_2', 'score': 0.4645032584667206}, {'label': 'LABEL_2', 'score': 0.9739784598350525}, {'label': 'LABEL_1', 'score': 0.8582664728164673}, {'label': 'LABEL_1', 'score': 0.8438428044319153}, {'label': 'LABEL_2', 'score': 0.8588477373123169}, {'label': 'LABEL_1', 'score': 0.9401801228523254}, {'label': 'LABEL_2', 'score': 0.8549907803535461}, {'label': 'LABEL_1', 'score': 0.44950607419013977}, {'label': 'LABEL_2', 'score': 0.5882295370101929}, {'label': 'LABEL_2', 'score': 0.9569518566131592}, {'label': 'LABEL_1', 'score': 0.9333081841468811}, {'label': 'LABEL_1', 'score': 0.9002964496612549}, {'label': 'LABEL_1', 'score': 0.9110766053199768}, {'label': 'LABEL_1', 'score': 0.8118839263916016}, {'label': 'LABEL_1', 'score': 0.9134038090705872}, {'label': 'LABEL_1', 'score': 0.8943004608154297}, {'label': 'LABEL_1', 'score': 0.8935742974281311}, {'label': 'LABEL_1', 'score': 0.9121729135513306}, {'label': 'LABEL_1', 'score': 0.9169065952301025}, {'label': 'LABEL_1', 'score': 0.9026400446891785}, {'label': 'LABEL_1', 'score': 0.943185567855835}, {'label': 'LABEL_2', 'score': 0.8616238236427307}, {'label': 'LABEL_1', 'score': 0.9212614893913269}, {'label': 'LABEL_1', 'score': 0.9204099774360657}, {'label': 'LABEL_1', 'score': 0.9341326951980591}, {'label': 'LABEL_1', 'score': 0.8499553203582764}, {'label': 'LABEL_2', 'score': 0.50369793176651}, {'label': 'LABEL_1', 'score': 0.612699568271637}, {'label': 'LABEL_1', 'score': 0.9097299575805664}, {'label': 'LABEL_1', 'score': 0.9013897180557251}, {'label': 'LABEL_1', 'score': 0.9165598154067993}, {'label': 'LABEL_2', 'score': 0.9067835211753845}, {'label': 'LABEL_0', 'score': 0.599159300327301}, {'label': 'LABEL_1', 'score': 0.5293620824813843}, {'label': 'LABEL_1', 'score': 0.8748485445976257}, {'label': 'LABEL_1', 'score': 0.9417226910591125}, {'label': 'LABEL_1', 'score': 0.7130385637283325}, {'label': 'LABEL_1', 'score': 0.9105157852172852}, {'label': 'LABEL_1', 'score': 0.9015670418739319}, {'label': 'LABEL_0', 'score': 0.7153233885765076}, {'label': 'LABEL_1', 'score': 0.9395942091941833}, {'label': 'LABEL_1', 'score': 0.9304027557373047}, {'label': 'LABEL_1', 'score': 0.915554404258728}, {'label': 'LABEL_2', 'score': 0.9761298298835754}, {'label': 'LABEL_1', 'score': 0.9091432690620422}, {'label': 'LABEL_1', 'score': 0.9065558314323425}, {'label': 'LABEL_0', 'score': 0.7599537372589111}, {'label': 'LABEL_1', 'score': 0.8957158327102661}, {'label': 'LABEL_0', 'score': 0.9284757971763611}, {'label': 'LABEL_0', 'score': 0.9281682968139648}, {'label': 'LABEL_1', 'score': 0.8918355703353882}, {'label': 'LABEL_1', 'score': 0.9134313464164734}, {'label': 'LABEL_1', 'score': 0.838422954082489}, {'label': 'LABEL_2', 'score': 0.8476887941360474}, {'label': 'LABEL_1', 'score': 0.9200987219810486}, {'label': 'LABEL_1', 'score': 0.9197743535041809}, {'label': 'LABEL_1', 'score': 0.8355610966682434}, {'label': 'LABEL_1', 'score': 0.9240743517875671}, {'label': 'LABEL_1', 'score': 0.9350662231445312}, {'label': 'LABEL_0', 'score': 0.633722186088562}, {'label': 'LABEL_1', 'score': 0.88264000415802}, {'label': 'LABEL_1', 'score': 0.8819347620010376}, {'label': 'LABEL_1', 'score': 0.9322688579559326}, {'label': 'LABEL_1', 'score': 0.7717493772506714}, {'label': 'LABEL_1', 'score': 0.6926027536392212}, {'label': 'LABEL_2', 'score': 0.691025972366333}, {'label': 'LABEL_1', 'score': 0.820982038974762}, {'label': 'LABEL_1', 'score': 0.9316178560256958}, {'label': 'LABEL_2', 'score': 0.9744304418563843}, {'label': 'LABEL_1', 'score': 0.902904212474823}, {'label': 'LABEL_1', 'score': 0.9214339256286621}, {'label': 'LABEL_1', 'score': 0.9474411010742188}, {'label': 'LABEL_1', 'score': 0.943260669708252}, {'label': 'LABEL_1', 'score': 0.834409773349762}, {'label': 'LABEL_0', 'score': 0.8433811068534851}, {'label': 'LABEL_1', 'score': 0.9434002041816711}, {'label': 'LABEL_1', 'score': 0.9408943057060242}, {'label': 'LABEL_1', 'score': 0.493268221616745}, {'label': 'LABEL_1', 'score': 0.9025389552116394}, {'label': 'LABEL_2', 'score': 0.9621807932853699}, {'label': 'LABEL_1', 'score': 0.9218364357948303}, {'label': 'LABEL_1', 'score': 0.9156802296638489}, {'label': 'LABEL_0', 'score': 0.704908013343811}, {'label': 'LABEL_1', 'score': 0.9152318239212036}, {'label': 'LABEL_1', 'score': 0.9325741529464722}, {'label': 'LABEL_1', 'score': 0.9294371604919434}, {'label': 'LABEL_1', 'score': 0.9103487133979797}, {'label': 'LABEL_1', 'score': 0.6246785521507263}, {'label': 'LABEL_1', 'score': 0.8930357098579407}, {'label': 'LABEL_1', 'score': 0.9261355400085449}, {'label': 'LABEL_2', 'score': 0.9696924686431885}, {'label': 'LABEL_1', 'score': 0.933623731136322}, {'label': 'LABEL_0', 'score': 0.9109984636306763}, {'label': 'LABEL_1', 'score': 0.9164251685142517}, {'label': 'LABEL_1', 'score': 0.8497929573059082}, {'label': 'LABEL_1', 'score': 0.9241560697555542}, {'label': 'LABEL_1', 'score': 0.9426107406616211}, {'label': 'LABEL_0', 'score': 0.9330684542655945}, {'label': 'LABEL_2', 'score': 0.9715644717216492}, {'label': 'LABEL_1', 'score': 0.9365298748016357}, {'label': 'LABEL_2', 'score': 0.9607952237129211}, {'label': 'LABEL_1', 'score': 0.9173964858055115}, {'label': 'LABEL_1', 'score': 0.9311075210571289}, {'label': 'LABEL_1', 'score': 0.9351990818977356}, {'label': 'LABEL_1', 'score': 0.583509624004364}, {'label': 'LABEL_1', 'score': 0.9290350675582886}, {'label': 'LABEL_1', 'score': 0.9198336005210876}, {'label': 'LABEL_1', 'score': 0.905785083770752}, {'label': 'LABEL_1', 'score': 0.9265319108963013}, {'label': 'LABEL_1', 'score': 0.9313967227935791}, {'label': 'LABEL_1', 'score': 0.9070863723754883}, {'label': 'LABEL_1', 'score': 0.7445030212402344}, {'label': 'LABEL_1', 'score': 0.9301685094833374}, {'label': 'LABEL_1', 'score': 0.6603049635887146}, {'label': 'LABEL_1', 'score': 0.9221819043159485}, {'label': 'LABEL_1', 'score': 0.9315574765205383}, {'label': 'LABEL_1', 'score': 0.9160765409469604}, {'label': 'LABEL_1', 'score': 0.9066323637962341}, {'label': 'LABEL_2', 'score': 0.49211692810058594}, {'label': 'LABEL_1', 'score': 0.9052836298942566}, {'label': 'LABEL_1', 'score': 0.9174739718437195}, {'label': 'LABEL_1', 'score': 0.8643465042114258}, {'label': 'LABEL_1', 'score': 0.9280415773391724}, {'label': 'LABEL_1', 'score': 0.8757317066192627}, {'label': 'LABEL_1', 'score': 0.9186248779296875}, {'label': 'LABEL_1', 'score': 0.68673175573349}, {'label': 'LABEL_1', 'score': 0.9036862850189209}, {'label': 'LABEL_1', 'score': 0.9202610850334167}, {'label': 'LABEL_1', 'score': 0.8922960162162781}, {'label': 'LABEL_1', 'score': 0.9388502240180969}, {'label': 'LABEL_1', 'score': 0.6380895376205444}, {'label': 'LABEL_1', 'score': 0.929437518119812}, {'label': 'LABEL_1', 'score': 0.8436415791511536}, {'label': 'LABEL_1', 'score': 0.9251420497894287}, {'label': 'LABEL_1', 'score': 0.9238614439964294}, {'label': 'LABEL_1', 'score': 0.8034893870353699}, {'label': 'LABEL_0', 'score': 0.729948103427887}, {'label': 'LABEL_1', 'score': 0.5868038535118103}, {'label': 'LABEL_1', 'score': 0.9136603474617004}, {'label': 'LABEL_1', 'score': 0.9119566082954407}, {'label': 'LABEL_1', 'score': 0.9233370423316956}, {'label': 'LABEL_1', 'score': 0.8754445910453796}, {'label': 'LABEL_2', 'score': 0.960943341255188}, {'label': 'LABEL_1', 'score': 0.5860517621040344}, {'label': 'LABEL_1', 'score': 0.9177804589271545}, {'label': 'LABEL_1', 'score': 0.7851645350456238}, {'label': 'LABEL_1', 'score': 0.7851657271385193}, {'label': 'LABEL_1', 'score': 0.7851659059524536}, {'label': 'LABEL_1', 'score': 0.7851647138595581}, {'label': 'LABEL_2', 'score': 0.5104308724403381}, {'label': 'LABEL_0', 'score': 0.6717469692230225}, {'label': 'LABEL_1', 'score': 0.9070088267326355}, {'label': 'LABEL_1', 'score': 0.7254053354263306}, {'label': 'LABEL_1', 'score': 0.860977828502655}, {'label': 'LABEL_1', 'score': 0.9047973155975342}, {'label': 'LABEL_1', 'score': 0.839656412601471}, {'label': 'LABEL_0', 'score': 0.9384716153144836}, {'label': 'LABEL_1', 'score': 0.9096691608428955}, {'label': 'LABEL_1', 'score': 0.9166967868804932}, {'label': 'LABEL_0', 'score': 0.926463782787323}, {'label': 'LABEL_1', 'score': 0.9159440398216248}, {'label': 'LABEL_1', 'score': 0.6381877660751343}, {'label': 'LABEL_1', 'score': 0.9099801182746887}, {'label': 'LABEL_1', 'score': 0.9280092120170593}, {'label': 'LABEL_1', 'score': 0.5031716227531433}, {'label': 'LABEL_1', 'score': 0.5031725764274597}, {'label': 'LABEL_1', 'score': 0.8898996710777283}, {'label': 'LABEL_1', 'score': 0.9362818002700806}, {'label': 'LABEL_2', 'score': 0.6140933632850647}, {'label': 'LABEL_1', 'score': 0.9147641658782959}, {'label': 'LABEL_1', 'score': 0.5031590461730957}, {'label': 'LABEL_1', 'score': 0.5031590461730957}, {'label': 'LABEL_2', 'score': 0.9474384784698486}, {'label': 'LABEL_1', 'score': 0.5032438635826111}, {'label': 'LABEL_1', 'score': 0.5032535195350647}, {'label': 'LABEL_1', 'score': 0.5031752586364746}, {'label': 'LABEL_1', 'score': 0.5393184423446655}, {'label': 'LABEL_1', 'score': 0.9402418732643127}, {'label': 'LABEL_1', 'score': 0.7281452417373657}, {'label': 'LABEL_0', 'score': 0.9180761575698853}, {'label': 'LABEL_1', 'score': 0.5252452492713928}, {'label': 'LABEL_1', 'score': 0.9151139855384827}, {'label': 'LABEL_2', 'score': 0.9211153984069824}, {'label': 'LABEL_1', 'score': 0.9004659056663513}, {'label': 'LABEL_1', 'score': 0.7851417064666748}, {'label': 'LABEL_1', 'score': 0.9340521097183228}, {'label': 'LABEL_1', 'score': 0.6535969972610474}, {'label': 'LABEL_1', 'score': 0.8544179201126099}, {'label': 'LABEL_1', 'score': 0.5563631057739258}, {'label': 'LABEL_1', 'score': 0.8182641267776489}, {'label': 'LABEL_1', 'score': 0.6090549826622009}, {'label': 'LABEL_1', 'score': 0.9107726812362671}, {'label': 'LABEL_2', 'score': 0.9137521982192993}, {'label': 'LABEL_1', 'score': 0.9215531945228577}, {'label': 'LABEL_2', 'score': 0.9254106879234314}, {'label': 'LABEL_1', 'score': 0.8091567158699036}, {'label': 'LABEL_1', 'score': 0.7158085703849792}, {'label': 'LABEL_1', 'score': 0.8750486969947815}, {'label': 'LABEL_2', 'score': 0.9320295453071594}, {'label': 'LABEL_1', 'score': 0.9377480745315552}, {'label': 'LABEL_2', 'score': 0.9245331287384033}, {'label': 'LABEL_1', 'score': 0.9323188066482544}, {'label': 'LABEL_1', 'score': 0.914645791053772}, {'label': 'LABEL_1', 'score': 0.9317947626113892}, {'label': 'LABEL_1', 'score': 0.9289416670799255}, {'label': 'LABEL_1', 'score': 0.8327383399009705}, {'label': 'LABEL_1', 'score': 0.7586988210678101}, {'label': 'LABEL_1', 'score': 0.9037778377532959}, {'label': 'LABEL_1', 'score': 0.7559954524040222}, {'label': 'LABEL_1', 'score': 0.7758505940437317}, {'label': 'LABEL_2', 'score': 0.7285774350166321}, {'label': 'LABEL_1', 'score': 0.5985411405563354}, {'label': 'LABEL_0', 'score': 0.8253458738327026}, {'label': 'LABEL_1', 'score': 0.6268777847290039}, {'label': 'LABEL_1', 'score': 0.8066399693489075}, {'label': 'LABEL_1', 'score': 0.9389296770095825}, {'label': 'LABEL_1', 'score': 0.8912325501441956}, {'label': 'LABEL_1', 'score': 0.7794381976127625}, {'label': 'LABEL_0', 'score': 0.9111948609352112}, {'label': 'LABEL_1', 'score': 0.9162994027137756}, {'label': 'LABEL_1', 'score': 0.8072091341018677}, {'label': 'LABEL_1', 'score': 0.8055112361907959}, {'label': 'LABEL_1', 'score': 0.9113166332244873}, {'label': 'LABEL_1', 'score': 0.8472227454185486}, {'label': 'LABEL_1', 'score': 0.9149160981178284}, {'label': 'LABEL_1', 'score': 0.8982400894165039}, {'label': 'LABEL_2', 'score': 0.7219845056533813}, {'label': 'LABEL_1', 'score': 0.9379908442497253}, {'label': 'LABEL_2', 'score': 0.9347429871559143}, {'label': 'LABEL_1', 'score': 0.8600160479545593}, {'label': 'LABEL_0', 'score': 0.9387331604957581}, {'label': 'LABEL_0', 'score': 0.8930448293685913}, {'label': 'LABEL_2', 'score': 0.9089755415916443}, {'label': 'LABEL_1', 'score': 0.8899825215339661}, {'label': 'LABEL_1', 'score': 0.9006490707397461}, {'label': 'LABEL_1', 'score': 0.9057530164718628}, {'label': 'LABEL_1', 'score': 0.9087808132171631}, {'label': 'LABEL_1', 'score': 0.9382948875427246}, {'label': 'LABEL_1', 'score': 0.9271143674850464}, {'label': 'LABEL_1', 'score': 0.9195680022239685}, {'label': 'LABEL_2', 'score': 0.9031515717506409}, {'label': 'LABEL_2', 'score': 0.554996132850647}, {'label': 'LABEL_1', 'score': 0.9169120192527771}, {'label': 'LABEL_1', 'score': 0.6931931972503662}, {'label': 'LABEL_1', 'score': 0.9049937129020691}, {'label': 'LABEL_1', 'score': 0.8585013747215271}, {'label': 'LABEL_1', 'score': 0.5249820351600647}, {'label': 'LABEL_1', 'score': 0.5142108798027039}, {'label': 'LABEL_2', 'score': 0.9684531688690186}, {'label': 'LABEL_1', 'score': 0.9256582260131836}, {'label': 'LABEL_1', 'score': 0.9016866683959961}, {'label': 'LABEL_2', 'score': 0.9760937094688416}, {'label': 'LABEL_2', 'score': 0.9516843557357788}, {'label': 'LABEL_1', 'score': 0.9178587198257446}, {'label': 'LABEL_1', 'score': 0.9370896816253662}, {'label': 'LABEL_1', 'score': 0.5377514958381653}, {'label': 'LABEL_1', 'score': 0.7962444424629211}, {'label': 'LABEL_2', 'score': 0.8747221827507019}, {'label': 'LABEL_1', 'score': 0.6664555072784424}, {'label': 'LABEL_1', 'score': 0.939435601234436}, {'label': 'LABEL_2', 'score': 0.9777712821960449}, {'label': 'LABEL_2', 'score': 0.8844252228736877}, {'label': 'LABEL_1', 'score': 0.9162489771842957}, {'label': 'LABEL_1', 'score': 0.8271538615226746}, {'label': 'LABEL_0', 'score': 0.8490545749664307}, {'label': 'LABEL_1', 'score': 0.9308254718780518}, {'label': 'LABEL_1', 'score': 0.574094831943512}, {'label': 'LABEL_1', 'score': 0.9032796621322632}, {'label': 'LABEL_1', 'score': 0.8966140747070312}, {'label': 'LABEL_2', 'score': 0.9335913062095642}, {'label': 'LABEL_2', 'score': 0.5734122395515442}, {'label': 'LABEL_1', 'score': 0.925052285194397}, {'label': 'LABEL_1', 'score': 0.7337293028831482}, {'label': 'LABEL_1', 'score': 0.9245846271514893}, {'label': 'LABEL_1', 'score': 0.901699960231781}, {'label': 'LABEL_1', 'score': 0.9338578581809998}, {'label': 'LABEL_1', 'score': 0.9238812327384949}, {'label': 'LABEL_1', 'score': 0.9361702799797058}, {'label': 'LABEL_1', 'score': 0.9031201601028442}, {'label': 'LABEL_2', 'score': 0.9788660407066345}, {'label': 'LABEL_0', 'score': 0.904291570186615}, {'label': 'LABEL_1', 'score': 0.7007875442504883}, {'label': 'LABEL_1', 'score': 0.8955703973770142}, {'label': 'LABEL_1', 'score': 0.9124024510383606}, {'label': 'LABEL_2', 'score': 0.9248788356781006}, {'label': 'LABEL_1', 'score': 0.9117028117179871}, {'label': 'LABEL_2', 'score': 0.977740466594696}, {'label': 'LABEL_1', 'score': 0.936881422996521}, {'label': 'LABEL_1', 'score': 0.9295172095298767}, {'label': 'LABEL_1', 'score': 0.9421021342277527}, {'label': 'LABEL_1', 'score': 0.6280434727668762}, {'label': 'LABEL_1', 'score': 0.8925943970680237}, {'label': 'LABEL_1', 'score': 0.9005268216133118}, {'label': 'LABEL_2', 'score': 0.9779976010322571}, {'label': 'LABEL_2', 'score': 0.5680265426635742}, {'label': 'LABEL_2', 'score': 0.5118371248245239}, {'label': 'LABEL_1', 'score': 0.9327024221420288}, {'label': 'LABEL_1', 'score': 0.9001058340072632}, {'label': 'LABEL_1', 'score': 0.592397928237915}, {'label': 'LABEL_1', 'score': 0.9420523047447205}, {'label': 'LABEL_1', 'score': 0.8845503330230713}, {'label': 'LABEL_1', 'score': 0.9140118360519409}, {'label': 'LABEL_2', 'score': 0.7799833416938782}, {'label': 'LABEL_2', 'score': 0.5154224038124084}, {'label': 'LABEL_1', 'score': 0.8976755738258362}, {'label': 'LABEL_2', 'score': 0.892429530620575}, {'label': 'LABEL_1', 'score': 0.8134765625}, {'label': 'LABEL_1', 'score': 0.9363917112350464}, {'label': 'LABEL_1', 'score': 0.9331037998199463}, {'label': 'LABEL_1', 'score': 0.9187122583389282}, {'label': 'LABEL_0', 'score': 0.5129477381706238}, {'label': 'LABEL_2', 'score': 0.9498488306999207}, {'label': 'LABEL_1', 'score': 0.8225783705711365}, {'label': 'LABEL_2', 'score': 0.8465999364852905}, {'label': 'LABEL_2', 'score': 0.9669235944747925}, {'label': 'LABEL_1', 'score': 0.9123064875602722}, {'label': 'LABEL_1', 'score': 0.9307278990745544}, {'label': 'LABEL_1', 'score': 0.8010043501853943}, {'label': 'LABEL_0', 'score': 0.8071213960647583}, {'label': 'LABEL_1', 'score': 0.896173894405365}, {'label': 'LABEL_0', 'score': 0.8087467551231384}, {'label': 'LABEL_1', 'score': 0.8381780982017517}, {'label': 'LABEL_1', 'score': 0.782072126865387}, {'label': 'LABEL_1', 'score': 0.9227226972579956}, {'label': 'LABEL_1', 'score': 0.5315250754356384}, {'label': 'LABEL_1', 'score': 0.9266086220741272}, {'label': 'LABEL_1', 'score': 0.8758155107498169}, {'label': 'LABEL_1', 'score': 0.9169079065322876}, {'label': 'LABEL_1', 'score': 0.8375213742256165}, {'label': 'LABEL_0', 'score': 0.7129318714141846}, {'label': 'LABEL_1', 'score': 0.915902853012085}, {'label': 'LABEL_1', 'score': 0.9267797470092773}, {'label': 'LABEL_1', 'score': 0.9358251094818115}, {'label': 'LABEL_1', 'score': 0.891923725605011}, {'label': 'LABEL_1', 'score': 0.8517393469810486}, {'label': 'LABEL_1', 'score': 0.8985933065414429}, {'label': 'LABEL_0', 'score': 0.8709442019462585}, {'label': 'LABEL_2', 'score': 0.9738273620605469}, {'label': 'LABEL_2', 'score': 0.9067379832267761}, {'label': 'LABEL_1', 'score': 0.9276521801948547}, {'label': 'LABEL_1', 'score': 0.8958813548088074}, {'label': 'LABEL_1', 'score': 0.8955561518669128}, {'label': 'LABEL_2', 'score': 0.961969256401062}, {'label': 'LABEL_1', 'score': 0.664646327495575}, {'label': 'LABEL_1', 'score': 0.8986345529556274}, {'label': 'LABEL_1', 'score': 0.6809308528900146}, {'label': 'LABEL_1', 'score': 0.918907880783081}, {'label': 'LABEL_1', 'score': 0.9188652634620667}, {'label': 'LABEL_1', 'score': 0.8700632452964783}, {'label': 'LABEL_1', 'score': 0.6705322265625}, {'label': 'LABEL_2', 'score': 0.7723212242126465}, {'label': 'LABEL_1', 'score': 0.9243617057800293}, {'label': 'LABEL_1', 'score': 0.9108879566192627}, {'label': 'LABEL_1', 'score': 0.925686776638031}, {'label': 'LABEL_1', 'score': 0.9127715826034546}, {'label': 'LABEL_2', 'score': 0.948049783706665}, {'label': 'LABEL_1', 'score': 0.7474533915519714}, {'label': 'LABEL_0', 'score': 0.8957399129867554}, {'label': 'LABEL_1', 'score': 0.9461958408355713}, {'label': 'LABEL_1', 'score': 0.9052984714508057}, {'label': 'LABEL_0', 'score': 0.9073800444602966}, {'label': 'LABEL_1', 'score': 0.9101332426071167}, {'label': 'LABEL_1', 'score': 0.9253881573677063}, {'label': 'LABEL_0', 'score': 0.837715744972229}, {'label': 'LABEL_1', 'score': 0.9163656234741211}, {'label': 'LABEL_1', 'score': 0.6475257277488708}, {'label': 'LABEL_0', 'score': 0.5493409037590027}, {'label': 'LABEL_0', 'score': 0.4325824975967407}, {'label': 'LABEL_2', 'score': 0.9598244428634644}, {'label': 'LABEL_1', 'score': 0.94590824842453}, {'label': 'LABEL_1', 'score': 0.8548760414123535}, {'label': 'LABEL_2', 'score': 0.9148696064949036}, {'label': 'LABEL_1', 'score': 0.9098304510116577}, {'label': 'LABEL_1', 'score': 0.6705833077430725}, {'label': 'LABEL_1', 'score': 0.8278512954711914}, {'label': 'LABEL_1', 'score': 0.9328085780143738}, {'label': 'LABEL_0', 'score': 0.5702416300773621}, {'label': 'LABEL_1', 'score': 0.9052620530128479}, {'label': 'LABEL_1', 'score': 0.904770016670227}, {'label': 'LABEL_0', 'score': 0.8308687806129456}, {'label': 'LABEL_1', 'score': 0.8945300579071045}, {'label': 'LABEL_1', 'score': 0.6815491914749146}, {'label': 'LABEL_2', 'score': 0.9098367691040039}, {'label': 'LABEL_1', 'score': 0.49245038628578186}, {'label': 'LABEL_1', 'score': 0.924416184425354}, {'label': 'LABEL_1', 'score': 0.7266783118247986}, {'label': 'LABEL_1', 'score': 0.9254409670829773}, {'label': 'LABEL_1', 'score': 0.9412035346031189}, {'label': 'LABEL_2', 'score': 0.9288998246192932}, {'label': 'LABEL_1', 'score': 0.9302243590354919}, {'label': 'LABEL_1', 'score': 0.9113326668739319}, {'label': 'LABEL_1', 'score': 0.9453721642494202}, {'label': 'LABEL_1', 'score': 0.8921101689338684}, {'label': 'LABEL_1', 'score': 0.9289515018463135}, {'label': 'LABEL_2', 'score': 0.8215686082839966}, {'label': 'LABEL_2', 'score': 0.9159531593322754}, {'label': 'LABEL_1', 'score': 0.8481608033180237}, {'label': 'LABEL_2', 'score': 0.9575907588005066}, {'label': 'LABEL_1', 'score': 0.9184432625770569}, {'label': 'LABEL_1', 'score': 0.911514163017273}, {'label': 'LABEL_1', 'score': 0.9266282916069031}, {'label': 'LABEL_1', 'score': 0.8068550229072571}, {'label': 'LABEL_1', 'score': 0.9087010622024536}, {'label': 'LABEL_1', 'score': 0.9069516658782959}, {'label': 'LABEL_2', 'score': 0.9679837226867676}, {'label': 'LABEL_2', 'score': 0.7966355681419373}, {'label': 'LABEL_1', 'score': 0.913080632686615}, {'label': 'LABEL_1', 'score': 0.9196555018424988}, {'label': 'LABEL_1', 'score': 0.9146963357925415}, {'label': 'LABEL_1', 'score': 0.9028042554855347}, {'label': 'LABEL_1', 'score': 0.9164105653762817}, {'label': 'LABEL_1', 'score': 0.9282538890838623}, {'label': 'LABEL_1', 'score': 0.9261777997016907}, {'label': 'LABEL_1', 'score': 0.9251115322113037}, {'label': 'LABEL_1', 'score': 0.9027457237243652}, {'label': 'LABEL_1', 'score': 0.9334946274757385}, {'label': 'LABEL_1', 'score': 0.9176238775253296}, {'label': 'LABEL_1', 'score': 0.9301702976226807}, {'label': 'LABEL_0', 'score': 0.7820233702659607}, {'label': 'LABEL_1', 'score': 0.9132438898086548}, {'label': 'LABEL_1', 'score': 0.9328445792198181}, {'label': 'LABEL_1', 'score': 0.9439390897750854}, {'label': 'LABEL_1', 'score': 0.9100416898727417}, {'label': 'LABEL_1', 'score': 0.9133145213127136}, {'label': 'LABEL_0', 'score': 0.5505408644676208}, {'label': 'LABEL_1', 'score': 0.9140274524688721}, {'label': 'LABEL_1', 'score': 0.9236573576927185}, {'label': 'LABEL_1', 'score': 0.9091315865516663}, {'label': 'LABEL_2', 'score': 0.9761720299720764}, {'label': 'LABEL_1', 'score': 0.8810890913009644}, {'label': 'LABEL_1', 'score': 0.9159018397331238}, {'label': 'LABEL_0', 'score': 0.8821318745613098}, {'label': 'LABEL_1', 'score': 0.9236795902252197}, {'label': 'LABEL_1', 'score': 0.9012158513069153}, {'label': 'LABEL_1', 'score': 0.8952372670173645}, {'label': 'LABEL_1', 'score': 0.8906527757644653}, {'label': 'LABEL_1', 'score': 0.5054122805595398}, {'label': 'LABEL_1', 'score': 0.9145997166633606}, {'label': 'LABEL_2', 'score': 0.896239697933197}, {'label': 'LABEL_1', 'score': 0.8949224948883057}, {'label': 'LABEL_1', 'score': 0.9283537864685059}, {'label': 'LABEL_2', 'score': 0.9748197793960571}, {'label': 'LABEL_1', 'score': 0.5679702758789062}, {'label': 'LABEL_1', 'score': 0.9328321218490601}, {'label': 'LABEL_1', 'score': 0.8142169713973999}, {'label': 'LABEL_1', 'score': 0.865302562713623}, {'label': 'LABEL_1', 'score': 0.9280940890312195}, {'label': 'LABEL_2', 'score': 0.9726669192314148}, {'label': 'LABEL_1', 'score': 0.9485994577407837}]]\n"
          ],
          "name": "stdout"
        }
      ]
    },
    {
      "cell_type": "code",
      "metadata": {
        "colab": {
          "base_uri": "https://localhost:8080/"
        },
        "id": "aUgKiallDChv",
        "outputId": "1e6ffc48-3f7e-4534-ba55-22014399f5b9"
      },
      "source": [
        "flat_scores = [item for sublist in scores for item in sublist]\n",
        "print(len(flat_scores))"
      ],
      "execution_count": 17,
      "outputs": [
        {
          "output_type": "stream",
          "text": [
            "4991\n"
          ],
          "name": "stdout"
        }
      ]
    },
    {
      "cell_type": "code",
      "metadata": {
        "colab": {
          "base_uri": "https://localhost:8080/"
        },
        "id": "IgB94YTX3hrW",
        "outputId": "2419e0fa-bbb8-4881-c7b8-a8a1db6766de"
      },
      "source": [
        "flat_list[5047:5050]"
      ],
      "execution_count": 26,
      "outputs": [
        {
          "output_type": "execute_result",
          "data": {
            "text/plain": [
              "['Details from my male V portrait   https://t.co/8LJRAQd8gV',\n",
              " nan,\n",
              " 'Some art of my Male V, Theo, from   Reference was a photo of who his in-game appearance is actually based on, model Nils Kuiper. My V, with and without cybernetics, as well as his natural hair colour  art done for fun, not for sale anywhere.   https://t.co/CRka5rz7qX']"
            ]
          },
          "metadata": {
            "tags": []
          },
          "execution_count": 26
        }
      ]
    },
    {
      "cell_type": "code",
      "metadata": {
        "colab": {
          "base_uri": "https://localhost:8080/"
        },
        "id": "IDG3XMlrWA2-",
        "outputId": "277b72c1-e52b-4959-e7ce-093b9b4322af"
      },
      "source": [
        "# Z VIN\n",
        "from transformers import AutoModel\n",
        "device = \"cuda:0\"\n",
        "bertweet = AutoModel.from_pretrained(\"vinai/bertweet-base\")\n",
        "bertweet = bertweet.to(device)\n",
        "\n",
        "tokenizer = AutoTokenizer.from_pretrained(\"vinai/bertweet-base\", normalization=True, use_fast=False)\n",
        "\n",
        "line = \"SC has first two presumptive cases of coronavirus, DHEC confirms https://postandcourier.com/health/covid19/sc-has-first-two-presumptive-cases-of-coronavirus-dhec-confirms/article_bddfe4ae-5fd3-11ea-9ce4-5f495366cee6.html?utm_medium=social&utm_source=twitter&utm_campaign=user-share… via @postandcourier\"\n",
        "\n",
        "input_ids = torch.tensor([tokenizer.encode(line)])\n",
        "input_ids = input_ids.to(device)\n",
        "with torch.no_grad():\n",
        "    features = bertweet(input_ids)\n",
        "\n",
        "\n",
        "#tokenizerBertweetVin = AutoTokenizer.from_pretrained(\"cardiffnlp/bertweet-base-sentiment\")\n",
        "#modelBertweetVin = AutoModelForSequenceClassification.from_pretrained(\"cardiffnlp/bertweet-base-sentiment\")\n",
        "#analyzerBertweetVin = pipeline('sentiment-analysis', model=modelBertweet, tokenizer=tokenizerBertweet, device=0)\n",
        "#modelBertweetVin.cuda()"
      ],
      "execution_count": null,
      "outputs": [
        {
          "output_type": "stream",
          "text": [
            "Special tokens have been added in the vocabulary, make sure the associated word embedding are fine-tuned or trained.\n"
          ],
          "name": "stderr"
        }
      ]
    },
    {
      "cell_type": "code",
      "metadata": {
        "colab": {
          "base_uri": "https://localhost:8080/"
        },
        "id": "t9lH7C9YoC10",
        "outputId": "a1d3d71e-c483-47fe-a44a-e6d04ec7ebf3"
      },
      "source": [
        "input_ids"
      ],
      "execution_count": null,
      "outputs": [
        {
          "output_type": "execute_result",
          "data": {
            "text/plain": [
              "tensor([[    0,  4040,    90,   160,   255, 35006, 26940,  2612,    15,  1456,\n",
              "             7,   429,  6814,   499, 12952,    10,    28,   156,     5,     2]],\n",
              "       device='cuda:0')"
            ]
          },
          "metadata": {
            "tags": []
          },
          "execution_count": 15
        }
      ]
    },
    {
      "cell_type": "code",
      "metadata": {
        "colab": {
          "base_uri": "https://localhost:8080/"
        },
        "id": "eQQXIbVlqmNO",
        "outputId": "590a9ac5-a95b-48db-ed7d-0fdec899d8af"
      },
      "source": [
        "features"
      ],
      "execution_count": null,
      "outputs": [
        {
          "output_type": "execute_result",
          "data": {
            "text/plain": [
              "BaseModelOutputWithPoolingAndCrossAttentions([('last_hidden_state',\n",
              "                                               tensor([[[-0.0105,  0.2210,  0.1384,  ...,  0.0587,  0.0552, -0.1328],\n",
              "                                                        [ 0.1169,  0.0007,  0.2255,  ...,  0.0935, -0.2912,  0.4768],\n",
              "                                                        [-0.1160,  0.2040, -0.2274,  ...,  0.0782, -0.1798, -0.2573],\n",
              "                                                        ...,\n",
              "                                                        [-0.0444, -0.2010, -0.1522,  ..., -0.1283, -0.0186, -0.3401],\n",
              "                                                        [ 0.1676, -0.2911, -0.0221,  ..., -0.1167,  0.1905, -0.0077],\n",
              "                                                        [-0.0266,  0.2417,  0.1463,  ...,  0.0332,  0.0965, -0.1207]]],\n",
              "                                                      device='cuda:0')),\n",
              "                                              ('pooler_output',\n",
              "                                               tensor([[ 2.1971e-01, -1.6530e-01, -3.2962e-02, -1.8280e-01,  1.2224e-01,\n",
              "                                                        -8.2402e-02,  2.0185e-01, -1.3209e-01,  2.1922e-01, -2.1691e-01,\n",
              "                                                        -8.4870e-02, -6.1635e-02, -2.1877e-01,  1.4303e-02,  1.4385e-01,\n",
              "                                                        -5.4605e-02, -1.5205e-01, -8.1071e-02,  3.7380e-02,  1.5807e-01,\n",
              "                                                        -1.0311e-01, -1.7443e-01,  2.9984e-01, -1.4031e-02, -2.4649e-02,\n",
              "                                                         2.4110e-02, -1.6838e-01, -3.3622e-02,  4.2457e-02, -7.6812e-02,\n",
              "                                                        -6.3118e-02, -1.4872e-01,  1.5932e-01,  5.3468e-02,  1.8409e-01,\n",
              "                                                        -4.9934e-02,  2.1363e-01,  1.1484e-01, -1.1828e-01,  9.0846e-02,\n",
              "                                                        -1.8173e-01, -3.8885e-02,  9.8902e-02,  1.1790e-02, -6.0541e-02,\n",
              "                                                         4.5905e-02, -1.3458e-01,  1.9685e-02,  3.8112e-01, -4.9048e-02,\n",
              "                                                        -2.6761e-02,  1.0803e-01, -5.6994e-02, -2.4163e-02, -9.3786e-04,\n",
              "                                                         1.2393e-01, -9.2579e-03,  7.0964e-02, -2.1360e-01,  2.4090e-01,\n",
              "                                                         3.5772e-02,  4.1935e-01, -2.6552e-01, -4.3097e-01, -1.9689e-02,\n",
              "                                                        -1.3823e-01, -1.5065e-03,  1.1393e-01,  4.5952e-01,  2.2138e-01,\n",
              "                                                         2.8723e-01,  1.0122e-01, -2.5534e-01, -1.1243e-02, -9.6417e-02,\n",
              "                                                        -1.7194e-01,  4.8177e-02, -2.1513e-02,  1.4604e-01,  1.9614e-02,\n",
              "                                                        -1.9955e-02, -3.3771e-01,  2.2956e-01, -9.5998e-02, -2.7154e-01,\n",
              "                                                         2.2759e-01,  1.0511e-01,  7.7701e-02, -7.6842e-02,  2.1464e-01,\n",
              "                                                        -1.7256e-01, -8.6457e-02, -1.4287e-01, -2.0257e-01, -1.0950e-01,\n",
              "                                                        -2.9212e-02, -1.0411e-02,  2.3994e-01, -1.1840e-01, -1.7488e-01,\n",
              "                                                        -1.7172e-01,  8.7125e-02, -1.9470e-02,  2.0271e-03,  7.8225e-03,\n",
              "                                                        -1.0335e-01, -6.1261e-02,  2.0264e-01,  1.9140e-02, -7.0937e-02,\n",
              "                                                        -3.9292e-02, -1.6983e-01, -2.2620e-01, -1.7315e-01,  1.9609e-01,\n",
              "                                                        -2.7274e-02, -3.1475e-01,  2.8121e-01,  2.3610e-01,  6.4014e-02,\n",
              "                                                        -3.2396e-02,  1.9443e-01,  1.2437e-02,  2.9702e-01,  6.9216e-02,\n",
              "                                                        -2.4851e-02,  8.3995e-02, -6.4869e-02,  1.3929e-01, -2.4567e-01,\n",
              "                                                         5.0182e-02, -2.1959e-02,  1.5831e-01, -1.8865e-01,  1.1279e-01,\n",
              "                                                        -2.4937e-02,  1.3348e-01,  7.8858e-02,  1.9005e-01,  1.6957e-01,\n",
              "                                                         1.0649e-02, -2.9651e-01, -1.3773e-02,  3.3137e-01,  1.6535e-02,\n",
              "                                                         2.9738e-01, -1.2846e-01,  1.5451e-01, -9.3012e-02, -2.9988e-02,\n",
              "                                                         2.1232e-02, -9.4546e-02, -1.7992e-01,  1.6211e-01, -4.3158e-02,\n",
              "                                                        -7.9371e-02, -1.4053e-02,  8.3945e-02,  4.8412e-02, -8.6052e-02,\n",
              "                                                         2.0762e-01, -2.9678e-01,  1.9687e-02, -1.3048e-01,  7.3993e-02,\n",
              "                                                        -4.5838e-02, -1.6487e-01, -5.4331e-02, -1.5660e-01, -3.9153e-02,\n",
              "                                                        -1.3382e-01, -1.8618e-01, -6.2041e-01, -2.9928e-01,  1.9345e-01,\n",
              "                                                         1.7701e-01, -1.2055e-01,  8.2576e-02,  2.0843e-01,  6.2983e-02,\n",
              "                                                         2.9622e-03,  1.0996e-01, -2.3597e-01,  3.1580e-02, -1.6388e-01,\n",
              "                                                         2.3105e-01, -1.0661e-01, -9.0079e-02,  5.5880e-02,  3.3008e-02,\n",
              "                                                         8.3579e-02, -1.5537e-02,  2.7186e-01,  1.7895e-01, -3.9358e-01,\n",
              "                                                        -1.9068e-01,  1.4920e-01, -2.1368e-01,  6.4162e-02,  1.4755e-01,\n",
              "                                                         1.7471e-01,  7.1253e-02, -1.7065e-01,  4.4871e-02,  6.2354e-02,\n",
              "                                                        -2.0362e-02, -6.8331e-02, -5.5348e-02,  2.7337e-03, -2.9072e-02,\n",
              "                                                        -2.7370e-01, -1.7634e-01, -1.0011e-01, -2.7655e-01, -1.3067e-01,\n",
              "                                                         2.2776e-01, -2.7482e-01, -5.8522e-02, -4.5952e-01,  2.0826e-01,\n",
              "                                                         2.4660e-01, -2.3487e-01,  1.4146e-01,  2.1675e-02, -8.4983e-02,\n",
              "                                                        -1.5935e-02,  4.9433e-01,  8.4995e-02, -1.4471e-01, -3.1493e-01,\n",
              "                                                        -2.5150e-02, -9.0233e-02,  1.2165e-01, -2.3252e-02,  1.6140e-01,\n",
              "                                                         6.1436e-01,  1.4540e-01,  1.0721e-01, -1.2779e-01, -1.9465e-02,\n",
              "                                                        -2.2104e-01, -1.6431e-01,  8.7268e-02, -1.9241e-01,  4.1102e-02,\n",
              "                                                         4.8998e-02,  4.3117e-01,  4.7067e-02, -2.0128e-01,  9.2689e-02,\n",
              "                                                        -1.1823e-01, -2.6220e-01, -3.0048e-01,  1.3469e-01, -4.8308e-02,\n",
              "                                                         8.3235e-02, -1.7817e-02, -4.5994e-03,  3.0618e-01,  1.8160e-01,\n",
              "                                                         8.2370e-02,  1.6777e-01, -2.8295e-01, -1.1349e-01, -1.3860e-01,\n",
              "                                                        -7.4818e-02,  7.8325e-02, -2.7960e-01, -9.1363e-02, -1.5450e-01,\n",
              "                                                        -2.0617e-01, -1.2635e-01,  7.4796e-02, -5.1361e-02, -9.0035e-02,\n",
              "                                                        -2.2645e-01, -1.0609e-02,  1.9343e-01, -6.8712e-02, -3.8762e-01,\n",
              "                                                         1.6028e-02,  2.5839e-01, -2.1353e-01, -7.6683e-02, -5.1153e-02,\n",
              "                                                        -4.8788e-02,  3.5140e-04,  2.8394e-01,  1.5585e-01,  2.0638e-02,\n",
              "                                                        -1.4448e-01, -1.3175e-01, -1.7190e-02,  3.1861e-01,  8.7524e-02,\n",
              "                                                        -3.1800e-01,  1.7344e-01,  2.4967e-02,  1.9688e-01,  6.7226e-02,\n",
              "                                                        -1.0092e-01, -1.5597e-01,  1.2221e-01, -2.2434e-01, -1.2894e-01,\n",
              "                                                        -1.9152e-01, -1.1070e-01, -1.7243e-02,  1.9604e-01,  1.8970e-01,\n",
              "                                                         1.6868e-01, -2.4181e-02,  2.2298e-01,  2.4969e-01, -6.7987e-03,\n",
              "                                                         1.4583e-01,  1.0148e-01,  2.0894e-01,  6.4788e-02, -3.4679e-02,\n",
              "                                                        -8.1951e-02, -1.7361e-01, -1.8528e-01, -4.4285e-02,  2.9180e-02,\n",
              "                                                         1.6607e-02, -1.9488e-01,  2.0536e-02, -8.0068e-02,  2.6199e-01,\n",
              "                                                         2.9374e-01, -9.5035e-02,  1.4200e-01, -7.0631e-02, -1.3689e-01,\n",
              "                                                        -1.4598e-01,  1.7550e-01,  6.7942e-02,  8.1428e-02,  4.1563e-02,\n",
              "                                                        -1.5956e-01, -1.0826e-01,  3.0840e-01,  8.7837e-04,  1.3520e-01,\n",
              "                                                         4.0089e-01,  1.5410e-04, -2.2317e-02, -1.5256e-01,  1.0082e-02,\n",
              "                                                        -3.8293e-02, -1.1540e-01,  3.0236e-02, -4.8566e-02,  1.5463e-01,\n",
              "                                                        -2.9538e-01,  1.6839e-01,  1.2877e-01, -2.2564e-01,  6.6233e-02,\n",
              "                                                        -2.1381e-01,  4.9712e-02, -8.8727e-02, -1.3150e-01, -1.6525e-01,\n",
              "                                                         7.5870e-02, -1.4018e-01, -2.3557e-01,  2.8110e-01, -2.4741e-02,\n",
              "                                                         5.6992e-03,  8.5624e-02,  3.1678e-01, -1.8601e-01, -1.3991e-01,\n",
              "                                                         1.8891e-02,  4.2724e-02, -3.7569e-01, -1.8263e-01, -7.1821e-02,\n",
              "                                                         1.3075e-01, -1.0123e-01, -2.5260e-01,  1.2156e-01, -1.0747e-01,\n",
              "                                                         8.8303e-02, -3.6992e-01,  2.1104e-01,  2.3547e-01, -1.3044e-01,\n",
              "                                                         2.6773e-01, -5.2249e-03, -7.8355e-03, -4.5807e-01,  1.1057e-01,\n",
              "                                                         7.8196e-02,  1.8729e-01,  4.2264e-02,  3.0519e-01, -1.0449e-01,\n",
              "                                                        -8.5604e-02, -2.0875e-01,  1.2398e-01, -7.0421e-02, -5.1317e-02,\n",
              "                                                        -1.0697e-01,  1.5886e-02,  1.2794e-01,  7.3094e-02, -1.8907e-02,\n",
              "                                                        -1.5774e-01,  2.3583e-01, -3.2391e-01, -1.0621e-01, -1.0102e-01,\n",
              "                                                         1.4095e-01,  2.0353e-01,  4.0150e-02,  1.1549e-01, -2.6444e-01,\n",
              "                                                         1.5704e-01, -1.1559e-01,  6.7008e-02,  4.6224e-02, -3.4148e-02,\n",
              "                                                         4.5053e-02, -1.0980e-01, -7.3926e-02, -1.1583e-01, -4.4962e-02,\n",
              "                                                        -8.1399e-03, -1.7117e-01, -1.1646e-01, -1.8356e-02, -9.5929e-02,\n",
              "                                                         3.4085e-02,  4.4428e-02,  7.4188e-02,  7.0898e-02, -1.9940e-01,\n",
              "                                                        -1.7921e-01, -3.4179e-01,  2.4232e-01, -2.5318e-01, -8.4225e-02,\n",
              "                                                        -1.1969e-01, -2.2769e-01, -3.5067e-01, -1.9533e-01, -1.4399e-01,\n",
              "                                                         2.1026e-01, -3.8347e-02, -2.2030e-02,  1.7336e-02,  9.9269e-02,\n",
              "                                                        -8.1219e-02,  1.1310e-01, -1.2036e-01,  2.3048e-01,  1.9429e-01,\n",
              "                                                         1.3071e-01,  3.9654e-02,  7.2097e-02,  2.5059e-01, -1.7475e-01,\n",
              "                                                        -2.0259e-01,  1.7281e-01, -8.7956e-02, -1.0371e-01,  2.2726e-01,\n",
              "                                                         5.4159e-02, -1.2067e-01, -2.1118e-01,  9.9639e-02, -2.1042e-01,\n",
              "                                                         3.9658e-02,  1.0770e-02,  2.6537e-01,  4.4601e-02,  6.4930e-02,\n",
              "                                                        -1.8339e-01,  4.9784e-02, -1.7089e-01,  2.5175e-01, -1.4240e-01,\n",
              "                                                        -3.1410e-02, -1.8767e-01, -2.1269e-01,  2.6237e-01, -2.1976e-01,\n",
              "                                                         1.3382e-01, -1.5455e-01, -2.1377e-01,  3.7308e-01,  1.2902e-02,\n",
              "                                                        -2.8903e-01,  1.6620e-01,  9.2015e-02, -3.7183e-02, -5.8619e-03,\n",
              "                                                        -2.3200e-01, -9.5767e-02,  1.0093e-01,  5.6779e-02, -1.6233e-01,\n",
              "                                                        -3.4564e-01, -2.1685e-01,  1.0232e-01, -1.7285e-01,  3.3870e-01,\n",
              "                                                         3.2981e-02, -7.0260e-02, -8.6370e-02,  1.7601e-01, -1.3497e-01,\n",
              "                                                         1.0600e-01, -9.3762e-02, -2.1002e-01,  1.8962e-01,  1.4344e-02,\n",
              "                                                        -1.4600e-01, -1.5218e-01, -1.0163e-01,  2.9491e-01,  2.1811e-01,\n",
              "                                                         2.6526e-01, -2.9403e-01,  2.7107e-02, -1.7149e-01, -1.5685e-01,\n",
              "                                                         1.7061e-01, -6.1260e-02,  1.3609e-01,  1.0819e-01,  1.9254e-01,\n",
              "                                                        -3.6921e-01, -8.3905e-04, -3.5915e-02, -1.6133e-01, -9.5174e-02,\n",
              "                                                        -1.6769e-01,  4.2796e-01, -4.9072e-02, -4.9317e-02, -6.4579e-03,\n",
              "                                                         1.2400e-01, -2.6620e-02, -1.1163e-01,  3.1812e-01,  3.6192e-02,\n",
              "                                                         2.0730e-01, -1.0697e-01,  9.5043e-02, -3.0467e-01, -1.4557e-01,\n",
              "                                                        -2.9877e-01,  5.2624e-01, -1.3125e-01,  9.3393e-02, -3.0758e-02,\n",
              "                                                        -2.0253e-01,  2.6586e-01,  5.4645e-02,  5.9739e-02, -7.5720e-02,\n",
              "                                                        -8.3530e-02,  2.1372e-01, -2.5515e-01, -8.2556e-02,  2.0111e-01,\n",
              "                                                         1.9607e-01, -6.1917e-02, -1.3401e-01, -3.0270e-02, -3.9915e-01,\n",
              "                                                        -3.3453e-01,  2.2802e-01,  1.1007e-01, -1.4009e-01, -3.2534e-01,\n",
              "                                                         5.7469e-02, -3.1618e-02, -6.2144e-02, -3.2460e-01, -1.5751e-01,\n",
              "                                                         1.1723e-01,  4.7385e-02, -2.1779e-01, -7.9547e-02, -8.0109e-02,\n",
              "                                                        -7.8027e-02, -3.0030e-01,  2.0571e-01,  1.6545e-01,  1.0888e-01,\n",
              "                                                        -1.5449e-03, -1.0512e-01, -2.0048e-01,  5.0287e-02,  6.9376e-02,\n",
              "                                                         5.5063e-01,  8.7301e-02,  2.0189e-01, -2.5337e-01, -9.2019e-02,\n",
              "                                                        -8.0972e-02,  7.2024e-02,  2.0810e-01,  8.6227e-02, -1.8550e-01,\n",
              "                                                         2.5442e-02,  1.2295e-02,  1.3549e-01, -1.1175e-01,  1.3381e-01,\n",
              "                                                         1.7454e-01, -1.2388e-01,  2.5272e-01, -6.8176e-02, -7.4293e-02,\n",
              "                                                        -9.1089e-02,  5.5274e-02,  1.2081e-01, -3.0083e-01,  4.8774e-02,\n",
              "                                                         2.3405e-01, -3.4819e-02, -4.4722e-02,  1.2185e-01, -1.0992e-01,\n",
              "                                                         1.3384e-01,  1.8678e-01,  1.7825e-01, -1.0505e-01,  1.5669e-01,\n",
              "                                                         4.9311e-02, -1.9711e-01, -3.2982e-01,  1.7819e-01, -4.9794e-02,\n",
              "                                                        -1.1347e-01,  4.3151e-02, -3.9405e-01, -3.7654e-01, -2.4340e-01,\n",
              "                                                         3.8224e-02, -1.4967e-01, -2.1021e-02, -1.8315e-02, -2.8302e-02,\n",
              "                                                        -3.2100e-01,  1.6719e-02, -6.7842e-02,  3.0225e-02,  1.2429e-01,\n",
              "                                                         1.7877e-02, -5.5445e-03,  1.5082e-01,  1.1266e-01,  2.4491e-01,\n",
              "                                                        -2.6502e-01, -7.2816e-02, -2.7875e-01, -5.4186e-02, -2.6453e-01,\n",
              "                                                        -1.1305e-01,  2.1907e-01, -1.2458e-02,  2.0495e-01,  1.3880e-01,\n",
              "                                                         1.2830e-01,  1.2318e-02,  2.6067e-01, -1.0233e-02, -1.4434e-01,\n",
              "                                                         1.8103e-02, -2.5096e-01,  9.3551e-02, -2.0735e-01, -2.5984e-01,\n",
              "                                                         3.0868e-01, -8.5339e-02, -6.0439e-02,  2.3115e-01,  3.7220e-02,\n",
              "                                                        -1.2631e-01, -5.2892e-02, -1.5864e-01,  2.0891e-01,  2.0740e-01,\n",
              "                                                         2.0620e-01, -9.0088e-02,  3.4136e-02,  2.0190e-02, -2.2781e-01,\n",
              "                                                        -7.0841e-02, -3.6359e-02, -8.2498e-02, -7.8848e-02, -2.5386e-01,\n",
              "                                                        -8.3913e-02, -1.2175e-01,  2.3327e-01,  2.1967e-01, -4.9212e-02,\n",
              "                                                        -1.5193e-01, -3.4628e-02,  2.6698e-02, -1.7259e-02,  2.5985e-01,\n",
              "                                                         4.9790e-02,  1.8675e-02, -1.1085e-01, -2.2226e-01, -6.0760e-02,\n",
              "                                                         2.3861e-01, -8.3242e-02, -3.2733e-01, -2.0591e-01, -6.4250e-02,\n",
              "                                                         5.0273e-02, -4.9065e-02,  3.3392e-01, -7.7624e-02,  5.9136e-02,\n",
              "                                                        -3.9047e-02, -5.7762e-02, -1.9605e-01,  1.4251e-02, -1.7953e-01,\n",
              "                                                        -1.6102e-01,  9.4417e-02,  3.5317e-01,  4.6481e-03,  8.2301e-02,\n",
              "                                                        -3.4661e-03, -1.6401e-01,  6.4014e-02, -2.5511e-01, -1.2768e-01,\n",
              "                                                        -1.1747e-01, -1.2607e-01, -2.5198e-01, -2.7934e-02,  5.1045e-03,\n",
              "                                                         1.2144e-01, -5.7401e-02,  1.8131e-01, -3.1162e-01,  2.6798e-01,\n",
              "                                                        -1.0981e-01, -2.4390e-01,  1.2464e-01,  3.4234e-01, -1.5116e-01,\n",
              "                                                        -1.5440e-01,  1.0657e-01,  3.0980e-02, -1.1371e-01, -2.8679e-01,\n",
              "                                                        -2.1429e-01,  1.7063e-01,  1.1362e-01,  3.0919e-01, -3.7327e-01,\n",
              "                                                         3.7588e-03, -6.4140e-02, -1.8302e-01]], device='cuda:0'))])"
            ]
          },
          "metadata": {
            "tags": []
          },
          "execution_count": 17
        }
      ]
    },
    {
      "cell_type": "code",
      "metadata": {
        "colab": {
          "base_uri": "https://localhost:8080/",
          "height": 323
        },
        "id": "fb-ZD7G-b6aH",
        "outputId": "df56b886-19b1-4edb-c59c-0bc3b3da7334"
      },
      "source": [
        "inputy = tokenizer(\"good job\", return_tensors=\"pt\")\n",
        "outputy = bertweet(**inputy)"
      ],
      "execution_count": null,
      "outputs": [
        {
          "output_type": "error",
          "ename": "RuntimeError",
          "evalue": "ignored",
          "traceback": [
            "\u001b[0;31m---------------------------------------------------------------------------\u001b[0m",
            "\u001b[0;31mRuntimeError\u001b[0m                              Traceback (most recent call last)",
            "\u001b[0;32m<ipython-input-27-569af778f214>\u001b[0m in \u001b[0;36m<module>\u001b[0;34m()\u001b[0m\n\u001b[1;32m      1\u001b[0m \u001b[0minputy\u001b[0m \u001b[0;34m=\u001b[0m \u001b[0mtokenizer\u001b[0m\u001b[0;34m(\u001b[0m\u001b[0;34m\"good job\"\u001b[0m\u001b[0;34m,\u001b[0m \u001b[0mreturn_tensors\u001b[0m\u001b[0;34m=\u001b[0m\u001b[0;34m\"pt\"\u001b[0m\u001b[0;34m)\u001b[0m\u001b[0;34m\u001b[0m\u001b[0;34m\u001b[0m\u001b[0m\n\u001b[0;32m----> 2\u001b[0;31m \u001b[0moutputy\u001b[0m \u001b[0;34m=\u001b[0m \u001b[0mbertweet\u001b[0m\u001b[0;34m(\u001b[0m\u001b[0;34m**\u001b[0m\u001b[0minputy\u001b[0m\u001b[0;34m)\u001b[0m\u001b[0;34m\u001b[0m\u001b[0;34m\u001b[0m\u001b[0m\n\u001b[0m",
            "\u001b[0;32m/usr/local/lib/python3.7/dist-packages/torch/nn/modules/module.py\u001b[0m in \u001b[0;36m_call_impl\u001b[0;34m(self, *input, **kwargs)\u001b[0m\n\u001b[1;32m    887\u001b[0m             \u001b[0mresult\u001b[0m \u001b[0;34m=\u001b[0m \u001b[0mself\u001b[0m\u001b[0;34m.\u001b[0m\u001b[0m_slow_forward\u001b[0m\u001b[0;34m(\u001b[0m\u001b[0;34m*\u001b[0m\u001b[0minput\u001b[0m\u001b[0;34m,\u001b[0m \u001b[0;34m**\u001b[0m\u001b[0mkwargs\u001b[0m\u001b[0;34m)\u001b[0m\u001b[0;34m\u001b[0m\u001b[0;34m\u001b[0m\u001b[0m\n\u001b[1;32m    888\u001b[0m         \u001b[0;32melse\u001b[0m\u001b[0;34m:\u001b[0m\u001b[0;34m\u001b[0m\u001b[0;34m\u001b[0m\u001b[0m\n\u001b[0;32m--> 889\u001b[0;31m             \u001b[0mresult\u001b[0m \u001b[0;34m=\u001b[0m \u001b[0mself\u001b[0m\u001b[0;34m.\u001b[0m\u001b[0mforward\u001b[0m\u001b[0;34m(\u001b[0m\u001b[0;34m*\u001b[0m\u001b[0minput\u001b[0m\u001b[0;34m,\u001b[0m \u001b[0;34m**\u001b[0m\u001b[0mkwargs\u001b[0m\u001b[0;34m)\u001b[0m\u001b[0;34m\u001b[0m\u001b[0;34m\u001b[0m\u001b[0m\n\u001b[0m\u001b[1;32m    890\u001b[0m         for hook in itertools.chain(\n\u001b[1;32m    891\u001b[0m                 \u001b[0m_global_forward_hooks\u001b[0m\u001b[0;34m.\u001b[0m\u001b[0mvalues\u001b[0m\u001b[0;34m(\u001b[0m\u001b[0;34m)\u001b[0m\u001b[0;34m,\u001b[0m\u001b[0;34m\u001b[0m\u001b[0;34m\u001b[0m\u001b[0m\n",
            "\u001b[0;32m/usr/local/lib/python3.7/dist-packages/transformers/models/roberta/modeling_roberta.py\u001b[0m in \u001b[0;36mforward\u001b[0;34m(self, input_ids, attention_mask, token_type_ids, position_ids, head_mask, inputs_embeds, encoder_hidden_states, encoder_attention_mask, past_key_values, use_cache, output_attentions, output_hidden_states, return_dict)\u001b[0m\n\u001b[1;32m    811\u001b[0m             \u001b[0mtoken_type_ids\u001b[0m\u001b[0;34m=\u001b[0m\u001b[0mtoken_type_ids\u001b[0m\u001b[0;34m,\u001b[0m\u001b[0;34m\u001b[0m\u001b[0;34m\u001b[0m\u001b[0m\n\u001b[1;32m    812\u001b[0m             \u001b[0minputs_embeds\u001b[0m\u001b[0;34m=\u001b[0m\u001b[0minputs_embeds\u001b[0m\u001b[0;34m,\u001b[0m\u001b[0;34m\u001b[0m\u001b[0;34m\u001b[0m\u001b[0m\n\u001b[0;32m--> 813\u001b[0;31m             \u001b[0mpast_key_values_length\u001b[0m\u001b[0;34m=\u001b[0m\u001b[0mpast_key_values_length\u001b[0m\u001b[0;34m,\u001b[0m\u001b[0;34m\u001b[0m\u001b[0;34m\u001b[0m\u001b[0m\n\u001b[0m\u001b[1;32m    814\u001b[0m         )\n\u001b[1;32m    815\u001b[0m         encoder_outputs = self.encoder(\n",
            "\u001b[0;32m/usr/local/lib/python3.7/dist-packages/torch/nn/modules/module.py\u001b[0m in \u001b[0;36m_call_impl\u001b[0;34m(self, *input, **kwargs)\u001b[0m\n\u001b[1;32m    887\u001b[0m             \u001b[0mresult\u001b[0m \u001b[0;34m=\u001b[0m \u001b[0mself\u001b[0m\u001b[0;34m.\u001b[0m\u001b[0m_slow_forward\u001b[0m\u001b[0;34m(\u001b[0m\u001b[0;34m*\u001b[0m\u001b[0minput\u001b[0m\u001b[0;34m,\u001b[0m \u001b[0;34m**\u001b[0m\u001b[0mkwargs\u001b[0m\u001b[0;34m)\u001b[0m\u001b[0;34m\u001b[0m\u001b[0;34m\u001b[0m\u001b[0m\n\u001b[1;32m    888\u001b[0m         \u001b[0;32melse\u001b[0m\u001b[0;34m:\u001b[0m\u001b[0;34m\u001b[0m\u001b[0;34m\u001b[0m\u001b[0m\n\u001b[0;32m--> 889\u001b[0;31m             \u001b[0mresult\u001b[0m \u001b[0;34m=\u001b[0m \u001b[0mself\u001b[0m\u001b[0;34m.\u001b[0m\u001b[0mforward\u001b[0m\u001b[0;34m(\u001b[0m\u001b[0;34m*\u001b[0m\u001b[0minput\u001b[0m\u001b[0;34m,\u001b[0m \u001b[0;34m**\u001b[0m\u001b[0mkwargs\u001b[0m\u001b[0;34m)\u001b[0m\u001b[0;34m\u001b[0m\u001b[0;34m\u001b[0m\u001b[0m\n\u001b[0m\u001b[1;32m    890\u001b[0m         for hook in itertools.chain(\n\u001b[1;32m    891\u001b[0m                 \u001b[0m_global_forward_hooks\u001b[0m\u001b[0;34m.\u001b[0m\u001b[0mvalues\u001b[0m\u001b[0;34m(\u001b[0m\u001b[0;34m)\u001b[0m\u001b[0;34m,\u001b[0m\u001b[0;34m\u001b[0m\u001b[0;34m\u001b[0m\u001b[0m\n",
            "\u001b[0;32m/usr/local/lib/python3.7/dist-packages/transformers/models/roberta/modeling_roberta.py\u001b[0m in \u001b[0;36mforward\u001b[0;34m(self, input_ids, token_type_ids, position_ids, inputs_embeds, past_key_values_length)\u001b[0m\n\u001b[1;32m    115\u001b[0m \u001b[0;34m\u001b[0m\u001b[0m\n\u001b[1;32m    116\u001b[0m         \u001b[0;32mif\u001b[0m \u001b[0minputs_embeds\u001b[0m \u001b[0;32mis\u001b[0m \u001b[0;32mNone\u001b[0m\u001b[0;34m:\u001b[0m\u001b[0;34m\u001b[0m\u001b[0;34m\u001b[0m\u001b[0m\n\u001b[0;32m--> 117\u001b[0;31m             \u001b[0minputs_embeds\u001b[0m \u001b[0;34m=\u001b[0m \u001b[0mself\u001b[0m\u001b[0;34m.\u001b[0m\u001b[0mword_embeddings\u001b[0m\u001b[0;34m(\u001b[0m\u001b[0minput_ids\u001b[0m\u001b[0;34m)\u001b[0m\u001b[0;34m\u001b[0m\u001b[0;34m\u001b[0m\u001b[0m\n\u001b[0m\u001b[1;32m    118\u001b[0m         \u001b[0mtoken_type_embeddings\u001b[0m \u001b[0;34m=\u001b[0m \u001b[0mself\u001b[0m\u001b[0;34m.\u001b[0m\u001b[0mtoken_type_embeddings\u001b[0m\u001b[0;34m(\u001b[0m\u001b[0mtoken_type_ids\u001b[0m\u001b[0;34m)\u001b[0m\u001b[0;34m\u001b[0m\u001b[0;34m\u001b[0m\u001b[0m\n\u001b[1;32m    119\u001b[0m \u001b[0;34m\u001b[0m\u001b[0m\n",
            "\u001b[0;32m/usr/local/lib/python3.7/dist-packages/torch/nn/modules/module.py\u001b[0m in \u001b[0;36m_call_impl\u001b[0;34m(self, *input, **kwargs)\u001b[0m\n\u001b[1;32m    887\u001b[0m             \u001b[0mresult\u001b[0m \u001b[0;34m=\u001b[0m \u001b[0mself\u001b[0m\u001b[0;34m.\u001b[0m\u001b[0m_slow_forward\u001b[0m\u001b[0;34m(\u001b[0m\u001b[0;34m*\u001b[0m\u001b[0minput\u001b[0m\u001b[0;34m,\u001b[0m \u001b[0;34m**\u001b[0m\u001b[0mkwargs\u001b[0m\u001b[0;34m)\u001b[0m\u001b[0;34m\u001b[0m\u001b[0;34m\u001b[0m\u001b[0m\n\u001b[1;32m    888\u001b[0m         \u001b[0;32melse\u001b[0m\u001b[0;34m:\u001b[0m\u001b[0;34m\u001b[0m\u001b[0;34m\u001b[0m\u001b[0m\n\u001b[0;32m--> 889\u001b[0;31m             \u001b[0mresult\u001b[0m \u001b[0;34m=\u001b[0m \u001b[0mself\u001b[0m\u001b[0;34m.\u001b[0m\u001b[0mforward\u001b[0m\u001b[0;34m(\u001b[0m\u001b[0;34m*\u001b[0m\u001b[0minput\u001b[0m\u001b[0;34m,\u001b[0m \u001b[0;34m**\u001b[0m\u001b[0mkwargs\u001b[0m\u001b[0;34m)\u001b[0m\u001b[0;34m\u001b[0m\u001b[0;34m\u001b[0m\u001b[0m\n\u001b[0m\u001b[1;32m    890\u001b[0m         for hook in itertools.chain(\n\u001b[1;32m    891\u001b[0m                 \u001b[0m_global_forward_hooks\u001b[0m\u001b[0;34m.\u001b[0m\u001b[0mvalues\u001b[0m\u001b[0;34m(\u001b[0m\u001b[0;34m)\u001b[0m\u001b[0;34m,\u001b[0m\u001b[0;34m\u001b[0m\u001b[0;34m\u001b[0m\u001b[0m\n",
            "\u001b[0;32m/usr/local/lib/python3.7/dist-packages/torch/nn/modules/sparse.py\u001b[0m in \u001b[0;36mforward\u001b[0;34m(self, input)\u001b[0m\n\u001b[1;32m    156\u001b[0m         return F.embedding(\n\u001b[1;32m    157\u001b[0m             \u001b[0minput\u001b[0m\u001b[0;34m,\u001b[0m \u001b[0mself\u001b[0m\u001b[0;34m.\u001b[0m\u001b[0mweight\u001b[0m\u001b[0;34m,\u001b[0m \u001b[0mself\u001b[0m\u001b[0;34m.\u001b[0m\u001b[0mpadding_idx\u001b[0m\u001b[0;34m,\u001b[0m \u001b[0mself\u001b[0m\u001b[0;34m.\u001b[0m\u001b[0mmax_norm\u001b[0m\u001b[0;34m,\u001b[0m\u001b[0;34m\u001b[0m\u001b[0;34m\u001b[0m\u001b[0m\n\u001b[0;32m--> 158\u001b[0;31m             self.norm_type, self.scale_grad_by_freq, self.sparse)\n\u001b[0m\u001b[1;32m    159\u001b[0m \u001b[0;34m\u001b[0m\u001b[0m\n\u001b[1;32m    160\u001b[0m     \u001b[0;32mdef\u001b[0m \u001b[0mextra_repr\u001b[0m\u001b[0;34m(\u001b[0m\u001b[0mself\u001b[0m\u001b[0;34m)\u001b[0m \u001b[0;34m->\u001b[0m \u001b[0mstr\u001b[0m\u001b[0;34m:\u001b[0m\u001b[0;34m\u001b[0m\u001b[0;34m\u001b[0m\u001b[0m\n",
            "\u001b[0;32m/usr/local/lib/python3.7/dist-packages/torch/nn/functional.py\u001b[0m in \u001b[0;36membedding\u001b[0;34m(input, weight, padding_idx, max_norm, norm_type, scale_grad_by_freq, sparse)\u001b[0m\n\u001b[1;32m   1914\u001b[0m         \u001b[0;31m# remove once script supports set_grad_enabled\u001b[0m\u001b[0;34m\u001b[0m\u001b[0;34m\u001b[0m\u001b[0;34m\u001b[0m\u001b[0m\n\u001b[1;32m   1915\u001b[0m         \u001b[0m_no_grad_embedding_renorm_\u001b[0m\u001b[0;34m(\u001b[0m\u001b[0mweight\u001b[0m\u001b[0;34m,\u001b[0m \u001b[0minput\u001b[0m\u001b[0;34m,\u001b[0m \u001b[0mmax_norm\u001b[0m\u001b[0;34m,\u001b[0m \u001b[0mnorm_type\u001b[0m\u001b[0;34m)\u001b[0m\u001b[0;34m\u001b[0m\u001b[0;34m\u001b[0m\u001b[0m\n\u001b[0;32m-> 1916\u001b[0;31m     \u001b[0;32mreturn\u001b[0m \u001b[0mtorch\u001b[0m\u001b[0;34m.\u001b[0m\u001b[0membedding\u001b[0m\u001b[0;34m(\u001b[0m\u001b[0mweight\u001b[0m\u001b[0;34m,\u001b[0m \u001b[0minput\u001b[0m\u001b[0;34m,\u001b[0m \u001b[0mpadding_idx\u001b[0m\u001b[0;34m,\u001b[0m \u001b[0mscale_grad_by_freq\u001b[0m\u001b[0;34m,\u001b[0m \u001b[0msparse\u001b[0m\u001b[0;34m)\u001b[0m\u001b[0;34m\u001b[0m\u001b[0;34m\u001b[0m\u001b[0m\n\u001b[0m\u001b[1;32m   1917\u001b[0m \u001b[0;34m\u001b[0m\u001b[0m\n\u001b[1;32m   1918\u001b[0m \u001b[0;34m\u001b[0m\u001b[0m\n",
            "\u001b[0;31mRuntimeError\u001b[0m: Input, output and indices must be on the current device"
          ]
        }
      ]
    },
    {
      "cell_type": "code",
      "metadata": {
        "colab": {
          "base_uri": "https://localhost:8080/",
          "height": 350
        },
        "id": "ivY-Q8v9cLLk",
        "outputId": "28431856-51d2-4559-f930-e741d7fa26ec"
      },
      "source": [
        "hidden_states = outputy[1]\n",
        "pooled_output = torch.cat(tuple([hidden_states[i] for i in [-4, -3, -2, -1]]), dim=-1)\n",
        "pooled_output = pooled_output[:, 0, :]\n",
        "pooled_output = self.dropout(pooled_output)\n",
        "# classifier of course has to be 4 * hidden_dim, because we concat 4 layers\n",
        "logits = self.classifier(pooled_output)"
      ],
      "execution_count": null,
      "outputs": [
        {
          "output_type": "error",
          "ename": "IndexError",
          "evalue": "ignored",
          "traceback": [
            "\u001b[0;31m---------------------------------------------------------------------------\u001b[0m",
            "\u001b[0;31mIndexError\u001b[0m                                Traceback (most recent call last)",
            "\u001b[0;32m<ipython-input-22-f24e7e16d62e>\u001b[0m in \u001b[0;36m<module>\u001b[0;34m()\u001b[0m\n\u001b[1;32m      1\u001b[0m \u001b[0mhidden_states\u001b[0m \u001b[0;34m=\u001b[0m \u001b[0moutputy\u001b[0m\u001b[0;34m[\u001b[0m\u001b[0;36m1\u001b[0m\u001b[0;34m]\u001b[0m\u001b[0;34m\u001b[0m\u001b[0;34m\u001b[0m\u001b[0m\n\u001b[0;32m----> 2\u001b[0;31m \u001b[0mpooled_output\u001b[0m \u001b[0;34m=\u001b[0m \u001b[0mtorch\u001b[0m\u001b[0;34m.\u001b[0m\u001b[0mcat\u001b[0m\u001b[0;34m(\u001b[0m\u001b[0mtuple\u001b[0m\u001b[0;34m(\u001b[0m\u001b[0;34m[\u001b[0m\u001b[0mhidden_states\u001b[0m\u001b[0;34m[\u001b[0m\u001b[0mi\u001b[0m\u001b[0;34m]\u001b[0m \u001b[0;32mfor\u001b[0m \u001b[0mi\u001b[0m \u001b[0;32min\u001b[0m \u001b[0;34m[\u001b[0m\u001b[0;34m-\u001b[0m\u001b[0;36m4\u001b[0m\u001b[0;34m,\u001b[0m \u001b[0;34m-\u001b[0m\u001b[0;36m3\u001b[0m\u001b[0;34m,\u001b[0m \u001b[0;34m-\u001b[0m\u001b[0;36m2\u001b[0m\u001b[0;34m,\u001b[0m \u001b[0;34m-\u001b[0m\u001b[0;36m1\u001b[0m\u001b[0;34m]\u001b[0m\u001b[0;34m]\u001b[0m\u001b[0;34m)\u001b[0m\u001b[0;34m,\u001b[0m \u001b[0mdim\u001b[0m\u001b[0;34m=\u001b[0m\u001b[0;34m-\u001b[0m\u001b[0;36m1\u001b[0m\u001b[0;34m)\u001b[0m\u001b[0;34m\u001b[0m\u001b[0;34m\u001b[0m\u001b[0m\n\u001b[0m\u001b[1;32m      3\u001b[0m \u001b[0mpooled_output\u001b[0m \u001b[0;34m=\u001b[0m \u001b[0mpooled_output\u001b[0m\u001b[0;34m[\u001b[0m\u001b[0;34m:\u001b[0m\u001b[0;34m,\u001b[0m \u001b[0;36m0\u001b[0m\u001b[0;34m,\u001b[0m \u001b[0;34m:\u001b[0m\u001b[0;34m]\u001b[0m\u001b[0;34m\u001b[0m\u001b[0;34m\u001b[0m\u001b[0m\n\u001b[1;32m      4\u001b[0m \u001b[0mpooled_output\u001b[0m \u001b[0;34m=\u001b[0m \u001b[0mself\u001b[0m\u001b[0;34m.\u001b[0m\u001b[0mdropout\u001b[0m\u001b[0;34m(\u001b[0m\u001b[0mpooled_output\u001b[0m\u001b[0;34m)\u001b[0m\u001b[0;34m\u001b[0m\u001b[0;34m\u001b[0m\u001b[0m\n\u001b[1;32m      5\u001b[0m \u001b[0;31m# classifier of course has to be 4 * hidden_dim, because we concat 4 layers\u001b[0m\u001b[0;34m\u001b[0m\u001b[0;34m\u001b[0m\u001b[0;34m\u001b[0m\u001b[0m\n",
            "\u001b[0;32m<ipython-input-22-f24e7e16d62e>\u001b[0m in \u001b[0;36m<listcomp>\u001b[0;34m(.0)\u001b[0m\n\u001b[1;32m      1\u001b[0m \u001b[0mhidden_states\u001b[0m \u001b[0;34m=\u001b[0m \u001b[0moutputy\u001b[0m\u001b[0;34m[\u001b[0m\u001b[0;36m1\u001b[0m\u001b[0;34m]\u001b[0m\u001b[0;34m\u001b[0m\u001b[0;34m\u001b[0m\u001b[0m\n\u001b[0;32m----> 2\u001b[0;31m \u001b[0mpooled_output\u001b[0m \u001b[0;34m=\u001b[0m \u001b[0mtorch\u001b[0m\u001b[0;34m.\u001b[0m\u001b[0mcat\u001b[0m\u001b[0;34m(\u001b[0m\u001b[0mtuple\u001b[0m\u001b[0;34m(\u001b[0m\u001b[0;34m[\u001b[0m\u001b[0mhidden_states\u001b[0m\u001b[0;34m[\u001b[0m\u001b[0mi\u001b[0m\u001b[0;34m]\u001b[0m \u001b[0;32mfor\u001b[0m \u001b[0mi\u001b[0m \u001b[0;32min\u001b[0m \u001b[0;34m[\u001b[0m\u001b[0;34m-\u001b[0m\u001b[0;36m4\u001b[0m\u001b[0;34m,\u001b[0m \u001b[0;34m-\u001b[0m\u001b[0;36m3\u001b[0m\u001b[0;34m,\u001b[0m \u001b[0;34m-\u001b[0m\u001b[0;36m2\u001b[0m\u001b[0;34m,\u001b[0m \u001b[0;34m-\u001b[0m\u001b[0;36m1\u001b[0m\u001b[0;34m]\u001b[0m\u001b[0;34m]\u001b[0m\u001b[0;34m)\u001b[0m\u001b[0;34m,\u001b[0m \u001b[0mdim\u001b[0m\u001b[0;34m=\u001b[0m\u001b[0;34m-\u001b[0m\u001b[0;36m1\u001b[0m\u001b[0;34m)\u001b[0m\u001b[0;34m\u001b[0m\u001b[0;34m\u001b[0m\u001b[0m\n\u001b[0m\u001b[1;32m      3\u001b[0m \u001b[0mpooled_output\u001b[0m \u001b[0;34m=\u001b[0m \u001b[0mpooled_output\u001b[0m\u001b[0;34m[\u001b[0m\u001b[0;34m:\u001b[0m\u001b[0;34m,\u001b[0m \u001b[0;36m0\u001b[0m\u001b[0;34m,\u001b[0m \u001b[0;34m:\u001b[0m\u001b[0;34m]\u001b[0m\u001b[0;34m\u001b[0m\u001b[0;34m\u001b[0m\u001b[0m\n\u001b[1;32m      4\u001b[0m \u001b[0mpooled_output\u001b[0m \u001b[0;34m=\u001b[0m \u001b[0mself\u001b[0m\u001b[0;34m.\u001b[0m\u001b[0mdropout\u001b[0m\u001b[0;34m(\u001b[0m\u001b[0mpooled_output\u001b[0m\u001b[0;34m)\u001b[0m\u001b[0;34m\u001b[0m\u001b[0;34m\u001b[0m\u001b[0m\n\u001b[1;32m      5\u001b[0m \u001b[0;31m# classifier of course has to be 4 * hidden_dim, because we concat 4 layers\u001b[0m\u001b[0;34m\u001b[0m\u001b[0;34m\u001b[0m\u001b[0;34m\u001b[0m\u001b[0m\n",
            "\u001b[0;31mIndexError\u001b[0m: index -4 is out of bounds for dimension 0 with size 1"
          ]
        }
      ]
    },
    {
      "cell_type": "code",
      "metadata": {
        "colab": {
          "base_uri": "https://localhost:8080/"
        },
        "id": "_8Vp6NFwXsja",
        "outputId": "83ce819b-5fea-407e-d9a2-a8b8531d6554"
      },
      "source": [
        "features.last_hidden_state.shape"
      ],
      "execution_count": null,
      "outputs": [
        {
          "output_type": "execute_result",
          "data": {
            "text/plain": [
              "torch.Size([1, 20, 768])"
            ]
          },
          "metadata": {
            "tags": []
          },
          "execution_count": 18
        }
      ]
    },
    {
      "cell_type": "code",
      "metadata": {
        "id": "6fwTZBQ_WFfz"
      },
      "source": [
        "%%time\n",
        "analyzerBertweetVin(d)"
      ],
      "execution_count": null,
      "outputs": []
    },
    {
      "cell_type": "code",
      "metadata": {
        "id": "O64iKPhX_zuK"
      },
      "source": [
        "%%time\n",
        "analyzerBertweet(d)"
      ],
      "execution_count": null,
      "outputs": []
    },
    {
      "cell_type": "code",
      "metadata": {
        "colab": {
          "base_uri": "https://localhost:8080/"
        },
        "id": "EITIMYx0_9Po",
        "outputId": "222f27ec-a3e4-4978-a0d9-af795a8957cf"
      },
      "source": [
        "%%time\n",
        "scores = []\n",
        "i=0\n",
        "for item in extractLists(d):\n",
        "  i=i+1\n",
        "  if i>50:\n",
        "    break\n",
        "  scores.append(analyzerBertweet(item))"
      ],
      "execution_count": null,
      "outputs": [
        {
          "output_type": "stream",
          "text": [
            "CPU times: user 813 ms, sys: 58 ms, total: 871 ms\n",
            "Wall time: 875 ms\n"
          ],
          "name": "stdout"
        }
      ]
    },
    {
      "cell_type": "code",
      "metadata": {
        "id": "5nHZZumtSHWo"
      },
      "source": [
        "#torch.cuda.empty_cache()"
      ],
      "execution_count": null,
      "outputs": []
    },
    {
      "cell_type": "code",
      "metadata": {
        "colab": {
          "base_uri": "https://localhost:8080/"
        },
        "id": "yVJaeBMyRhOv",
        "outputId": "44b0b4d4-6784-4ab6-e9c9-966c5589ee82"
      },
      "source": [
        "%%time\n",
        "scoresTests = [] \n",
        "scoresTests = analyzerBertweet(d)                   # git"
      ],
      "execution_count": null,
      "outputs": [
        {
          "output_type": "stream",
          "text": [
            "CPU times: user 3.13 s, sys: 2.46 s, total: 5.59 s\n",
            "Wall time: 5.57 s\n"
          ],
          "name": "stdout"
        }
      ]
    },
    {
      "cell_type": "code",
      "metadata": {
        "id": "km3jYjwnaczP"
      },
      "source": [
        "scores_df = pd.DataFrame(flat_scores)         #git"
      ],
      "execution_count": 18,
      "outputs": []
    },
    {
      "cell_type": "code",
      "metadata": {
        "colab": {
          "base_uri": "https://localhost:8080/",
          "height": 204
        },
        "id": "xBNGS1CaakhC",
        "outputId": "385caae0-832c-44b6-895c-edd10ff28707"
      },
      "source": [
        "scores_df.head()"
      ],
      "execution_count": 19,
      "outputs": [
        {
          "output_type": "execute_result",
          "data": {
            "text/plain": [
              "     label     score\n",
              "0  LABEL_1  0.576852\n",
              "1  LABEL_1  0.923391\n",
              "2  LABEL_0  0.529955\n",
              "3  LABEL_1  0.918461\n",
              "4  LABEL_1  0.900523"
            ],
            "text/html": [
              "<div>\n",
              "<style scoped>\n",
              "    .dataframe tbody tr th:only-of-type {\n",
              "        vertical-align: middle;\n",
              "    }\n",
              "\n",
              "    .dataframe tbody tr th {\n",
              "        vertical-align: top;\n",
              "    }\n",
              "\n",
              "    .dataframe thead th {\n",
              "        text-align: right;\n",
              "    }\n",
              "</style>\n",
              "<table border=\"1\" class=\"dataframe\">\n",
              "  <thead>\n",
              "    <tr style=\"text-align: right;\">\n",
              "      <th></th>\n",
              "      <th>label</th>\n",
              "      <th>score</th>\n",
              "    </tr>\n",
              "  </thead>\n",
              "  <tbody>\n",
              "    <tr>\n",
              "      <th>0</th>\n",
              "      <td>LABEL_1</td>\n",
              "      <td>0.576852</td>\n",
              "    </tr>\n",
              "    <tr>\n",
              "      <th>1</th>\n",
              "      <td>LABEL_1</td>\n",
              "      <td>0.923391</td>\n",
              "    </tr>\n",
              "    <tr>\n",
              "      <th>2</th>\n",
              "      <td>LABEL_0</td>\n",
              "      <td>0.529955</td>\n",
              "    </tr>\n",
              "    <tr>\n",
              "      <th>3</th>\n",
              "      <td>LABEL_1</td>\n",
              "      <td>0.918461</td>\n",
              "    </tr>\n",
              "    <tr>\n",
              "      <th>4</th>\n",
              "      <td>LABEL_1</td>\n",
              "      <td>0.900523</td>\n",
              "    </tr>\n",
              "  </tbody>\n",
              "</table>\n",
              "</div>"
            ]
          },
          "metadata": {
            "tags": []
          },
          "execution_count": 19
        }
      ]
    },
    {
      "cell_type": "code",
      "metadata": {
        "colab": {
          "base_uri": "https://localhost:8080/",
          "height": 514
        },
        "id": "ovW58KBZOoty",
        "outputId": "024604b5-3d89-459f-b624-53151cf73504"
      },
      "source": [
        "scores_df[80:95]"
      ],
      "execution_count": 20,
      "outputs": [
        {
          "output_type": "execute_result",
          "data": {
            "text/plain": [
              "      label     score\n",
              "80  LABEL_1  0.905955\n",
              "81  LABEL_1  0.852510\n",
              "82  LABEL_1  0.911074\n",
              "83  LABEL_2  0.679532\n",
              "84  LABEL_1  0.910787\n",
              "85  LABEL_1  0.934858\n",
              "86  LABEL_0  0.797494\n",
              "87  LABEL_1  0.898279\n",
              "88  LABEL_2  0.956453\n",
              "89  LABEL_1  0.801019\n",
              "90  LABEL_1  0.938962\n",
              "91  LABEL_0  0.911631\n",
              "92  LABEL_1  0.912170\n",
              "93  LABEL_1  0.791623\n",
              "94  LABEL_1  0.669360"
            ],
            "text/html": [
              "<div>\n",
              "<style scoped>\n",
              "    .dataframe tbody tr th:only-of-type {\n",
              "        vertical-align: middle;\n",
              "    }\n",
              "\n",
              "    .dataframe tbody tr th {\n",
              "        vertical-align: top;\n",
              "    }\n",
              "\n",
              "    .dataframe thead th {\n",
              "        text-align: right;\n",
              "    }\n",
              "</style>\n",
              "<table border=\"1\" class=\"dataframe\">\n",
              "  <thead>\n",
              "    <tr style=\"text-align: right;\">\n",
              "      <th></th>\n",
              "      <th>label</th>\n",
              "      <th>score</th>\n",
              "    </tr>\n",
              "  </thead>\n",
              "  <tbody>\n",
              "    <tr>\n",
              "      <th>80</th>\n",
              "      <td>LABEL_1</td>\n",
              "      <td>0.905955</td>\n",
              "    </tr>\n",
              "    <tr>\n",
              "      <th>81</th>\n",
              "      <td>LABEL_1</td>\n",
              "      <td>0.852510</td>\n",
              "    </tr>\n",
              "    <tr>\n",
              "      <th>82</th>\n",
              "      <td>LABEL_1</td>\n",
              "      <td>0.911074</td>\n",
              "    </tr>\n",
              "    <tr>\n",
              "      <th>83</th>\n",
              "      <td>LABEL_2</td>\n",
              "      <td>0.679532</td>\n",
              "    </tr>\n",
              "    <tr>\n",
              "      <th>84</th>\n",
              "      <td>LABEL_1</td>\n",
              "      <td>0.910787</td>\n",
              "    </tr>\n",
              "    <tr>\n",
              "      <th>85</th>\n",
              "      <td>LABEL_1</td>\n",
              "      <td>0.934858</td>\n",
              "    </tr>\n",
              "    <tr>\n",
              "      <th>86</th>\n",
              "      <td>LABEL_0</td>\n",
              "      <td>0.797494</td>\n",
              "    </tr>\n",
              "    <tr>\n",
              "      <th>87</th>\n",
              "      <td>LABEL_1</td>\n",
              "      <td>0.898279</td>\n",
              "    </tr>\n",
              "    <tr>\n",
              "      <th>88</th>\n",
              "      <td>LABEL_2</td>\n",
              "      <td>0.956453</td>\n",
              "    </tr>\n",
              "    <tr>\n",
              "      <th>89</th>\n",
              "      <td>LABEL_1</td>\n",
              "      <td>0.801019</td>\n",
              "    </tr>\n",
              "    <tr>\n",
              "      <th>90</th>\n",
              "      <td>LABEL_1</td>\n",
              "      <td>0.938962</td>\n",
              "    </tr>\n",
              "    <tr>\n",
              "      <th>91</th>\n",
              "      <td>LABEL_0</td>\n",
              "      <td>0.911631</td>\n",
              "    </tr>\n",
              "    <tr>\n",
              "      <th>92</th>\n",
              "      <td>LABEL_1</td>\n",
              "      <td>0.912170</td>\n",
              "    </tr>\n",
              "    <tr>\n",
              "      <th>93</th>\n",
              "      <td>LABEL_1</td>\n",
              "      <td>0.791623</td>\n",
              "    </tr>\n",
              "    <tr>\n",
              "      <th>94</th>\n",
              "      <td>LABEL_1</td>\n",
              "      <td>0.669360</td>\n",
              "    </tr>\n",
              "  </tbody>\n",
              "</table>\n",
              "</div>"
            ]
          },
          "metadata": {
            "tags": []
          },
          "execution_count": 20
        }
      ]
    },
    {
      "cell_type": "code",
      "metadata": {
        "colab": {
          "base_uri": "https://localhost:8080/"
        },
        "id": "EXsWrkQCHo8H",
        "outputId": "b613faff-19a8-4848-96c6-2a07730406f6"
      },
      "source": [
        "d[80:95]"
      ],
      "execution_count": null,
      "outputs": [
        {
          "output_type": "execute_result",
          "data": {
            "text/plain": [
              "['lokonda1904 DasDoHD TorstenWieland Kein halbwegs seriser Kandidat konnte nach der Rangnick Nummer im',\n",
              " 'Schalke htte heute den ultimativen Aprilscherz bringen knnen, indem sie melden, dass unserr allseits',\n",
              " 'peter knbel war brigens noch am 1003 abend im schweizer fernsehen als champions leaguekommentator zu',\n",
              " 'Beim S04 Spiel eindeutig die Karte, die hier fr die grsste Erheiterung sorgte httpstcobLp9tJgNbD',\n",
              " 'S04  httpstcoYedXkpK6PT',\n",
              " 'Buchta muss immer noch weg  S04',\n",
              " '      Transfermarkt     15   11     75  55     7  5     7  4   Oczipka 15   800  S04 httpstcofE1ONkM',\n",
              " 'PlanetaryIntel ob die Millionenhilfe fr S04 nicht vielleicht in den Sand gesetzt war',\n",
              " 'Oh S04 httpstcoHdQFrzdmai',\n",
              " 'Samstag 1615 Sky einschalten Ich bin in der Liveschalte zu sehenhren S04',\n",
              " 'Heute gehe ich inhaltlich mal fremd Um 1904 Uhr stellen wir uns die Frage Ist S04 noch zu retten Die',\n",
              " 'Hoffentlich schafft Schalke noch das Wunder und bleibt drin s04',\n",
              " 'microbrick Geil Wrde S04 gut stehen ',\n",
              " 'S04Podcast Ja, da stimme ich Dir zu Die letzten Tage waren sehr erholsam s04',\n",
              " 'Ist eigentlich schonmal jemand aufgefallen, dass die Haus und Hofreporter fr BVB und S04 bei SkySpor']"
            ]
          },
          "metadata": {
            "tags": []
          },
          "execution_count": 37
        }
      ]
    },
    {
      "cell_type": "code",
      "metadata": {
        "colab": {
          "base_uri": "https://localhost:8080/"
        },
        "id": "uLRwcvgetb6h",
        "outputId": "2088df44-b73e-49cc-e06f-96565c9f1aa9"
      },
      "source": [
        "scores_df['label'].value_counts()"
      ],
      "execution_count": 21,
      "outputs": [
        {
          "output_type": "execute_result",
          "data": {
            "text/plain": [
              "LABEL_1    3924\n",
              "LABEL_2     773\n",
              "LABEL_0     294\n",
              "Name: label, dtype: int64"
            ]
          },
          "metadata": {
            "tags": []
          },
          "execution_count": 21
        }
      ]
    },
    {
      "cell_type": "code",
      "metadata": {
        "id": "aTW_RHD73e2E"
      },
      "source": [
        "# Creating list to append tweet data to\n",
        "tweets_list2 = []\n",
        "\n",
        "# Using TwitterSearchScraper to scrape data and append tweets to list\n",
        "for i,tweet in enumerate(sntwitter.TwitterSearchScraper('its the elephant since:2020-06-01 until:2020-07-31').get_items()):\n",
        "    if i>10:\n",
        "        break\n",
        "    tweets_list2.append([tweet.date, tweet.id, tweet.content, tweet.username])\n",
        "\n",
        "    \n",
        "# Creating a dataframe from the tweets list above\n",
        "tweets_df2 = pd.DataFrame(tweets_list2, columns=['Datetime', 'Tweet Id', 'Text', 'Username'])"
      ],
      "execution_count": null,
      "outputs": []
    },
    {
      "cell_type": "code",
      "metadata": {
        "id": "DapOs-SZgB-K",
        "colab": {
          "base_uri": "https://localhost:8080/"
        },
        "outputId": "e10bd833-eac9-4672-dc79-eb3912134b06"
      },
      "source": [
        "%%time\n",
        "device = \"cuda:0\"\n",
        "modelBertweet = modelBertweet.to(device)\n",
        "\n",
        "line = \"its absolutely great\"\n",
        "input_ids = torch.tensor([tokenizerBertweet.encode(line)])\n",
        "input_ids = input_ids.to(device)\n",
        "with torch.no_grad():\n",
        "    features = modelBertweet(input_ids) # Models outputs are now tuples\n"
      ],
      "execution_count": null,
      "outputs": [
        {
          "output_type": "stream",
          "text": [
            "CPU times: user 16.6 ms, sys: 0 ns, total: 16.6 ms\n",
            "Wall time: 18.8 ms\n"
          ],
          "name": "stdout"
        }
      ]
    },
    {
      "cell_type": "code",
      "metadata": {
        "id": "RTpdHpBqhUep",
        "colab": {
          "base_uri": "https://localhost:8080/"
        },
        "outputId": "30817a64-59cb-4f92-e3f9-c98f833ea258"
      },
      "source": [
        "features"
      ],
      "execution_count": null,
      "outputs": [
        {
          "output_type": "execute_result",
          "data": {
            "text/plain": [
              "BaseModelOutputWithPoolingAndCrossAttentions([('last_hidden_state',\n",
              "                                               tensor([[[-0.0711,  0.2637,  0.2211,  ..., -0.0843, -0.0354, -0.0862],\n",
              "                                                        [-0.0318, -0.1466, -0.1101,  ..., -0.3499,  0.0830,  0.0827],\n",
              "                                                        [-0.1999, -0.3070,  0.0993,  ..., -0.2399,  0.0141,  0.1390],\n",
              "                                                        [-0.1128,  0.2849,  0.2530,  ..., -0.1139, -0.0324, -0.0858]]],\n",
              "                                                      device='cuda:0')),\n",
              "                                              ('pooler_output',\n",
              "                                               tensor([[ 2.6828e-01, -1.6531e-01,  1.0120e-01, -2.1013e-01,  7.9331e-02,\n",
              "                                                        -1.4480e-01,  8.6310e-02, -1.3911e-01,  1.8340e-01, -8.2742e-02,\n",
              "                                                        -1.0040e-01,  4.6939e-04, -1.9110e-01,  5.2554e-02,  2.4534e-01,\n",
              "                                                        -6.2101e-02, -2.1831e-01, -9.1657e-02,  7.4397e-02,  1.0931e-01,\n",
              "                                                        -1.7211e-01, -1.9058e-01,  3.9100e-01,  1.3054e-02,  1.1638e-02,\n",
              "                                                         1.3999e-01, -1.5968e-01, -2.9885e-02,  2.1581e-02, -5.0266e-02,\n",
              "                                                         1.9287e-02, -1.6322e-01,  1.0058e-01,  2.3777e-01,  1.7342e-01,\n",
              "                                                        -1.1580e-01,  1.4743e-01,  1.4870e-01, -7.1248e-02, -2.7092e-02,\n",
              "                                                        -1.2354e-01, -1.4158e-02,  1.9698e-02, -9.5938e-02,  1.6440e-02,\n",
              "                                                        -3.7779e-03, -1.1979e-01,  6.2817e-02,  3.9909e-01, -1.4119e-01,\n",
              "                                                         4.7370e-03,  1.4571e-01, -1.8339e-02,  2.4221e-02,  7.0988e-03,\n",
              "                                                         1.3148e-01, -8.5585e-02, -9.3081e-02, -2.0557e-01,  1.3891e-01,\n",
              "                                                        -9.3064e-02,  4.0987e-01, -3.3918e-01, -4.6729e-01, -9.8311e-02,\n",
              "                                                        -2.1173e-01, -5.2552e-02,  1.7912e-01,  4.3481e-01,  2.6891e-01,\n",
              "                                                         2.6471e-01,  8.3862e-02, -2.1066e-01, -9.7530e-02, -2.3222e-01,\n",
              "                                                        -1.1903e-01, -5.4185e-02, -4.8724e-02,  1.3221e-01,  4.8721e-02,\n",
              "                                                        -8.5470e-03, -3.3622e-01,  2.3277e-01, -1.7952e-01, -2.7523e-01,\n",
              "                                                         2.3507e-01,  1.8049e-01,  1.3698e-01, -7.5587e-02,  2.3514e-01,\n",
              "                                                        -2.9484e-02,  1.0841e-01, -1.0466e-01, -1.6258e-01, -1.6728e-01,\n",
              "                                                        -1.0968e-01,  9.3432e-04,  3.1463e-01, -6.3027e-02, -1.8103e-01,\n",
              "                                                        -1.7102e-01,  7.3220e-02, -7.5067e-02,  5.9563e-02,  1.9888e-02,\n",
              "                                                        -1.2119e-01,  5.5149e-02,  2.6248e-01,  7.7874e-02, -1.8257e-01,\n",
              "                                                        -6.2292e-02, -1.1580e-01, -2.4321e-01, -1.5984e-01,  2.0505e-01,\n",
              "                                                         3.5942e-02, -3.0959e-01,  2.6856e-01,  2.5748e-01,  7.4792e-02,\n",
              "                                                        -2.5074e-02,  2.9731e-01,  8.8848e-02,  2.6476e-01,  8.9070e-02,\n",
              "                                                        -9.1311e-02,  3.4621e-02, -3.3328e-02,  7.2901e-02, -2.2274e-01,\n",
              "                                                         3.9493e-02, -9.3545e-02,  1.4053e-01, -2.5657e-01,  1.5311e-01,\n",
              "                                                        -7.2059e-02,  2.3809e-01,  6.1039e-03,  1.4387e-01,  2.0307e-01,\n",
              "                                                        -3.1749e-02, -3.2235e-01,  8.7743e-04,  3.7964e-01,  7.7536e-02,\n",
              "                                                         2.4891e-01, -8.8088e-02,  1.6053e-01, -6.9645e-02,  7.6758e-02,\n",
              "                                                         7.4853e-02, -6.8865e-02, -1.4074e-01,  1.3925e-01, -1.5833e-01,\n",
              "                                                        -1.0761e-01, -1.1335e-01,  6.6445e-02,  1.9667e-02, -1.1030e-01,\n",
              "                                                         1.4498e-01, -2.4855e-01,  1.1321e-01, -7.3649e-02,  1.6135e-01,\n",
              "                                                         6.9651e-02, -2.3061e-01, -2.4548e-02, -1.6508e-01, -2.3450e-02,\n",
              "                                                        -9.8776e-02, -5.5550e-02, -5.6865e-01, -3.6426e-01,  2.1269e-01,\n",
              "                                                         2.0794e-01, -1.1017e-01,  1.5636e-01,  2.8056e-01,  1.0631e-01,\n",
              "                                                        -2.0800e-02,  1.4866e-01, -2.6312e-01,  1.8896e-02, -2.2784e-01,\n",
              "                                                         2.1884e-01, -1.1050e-01, -1.3826e-01, -1.0937e-01,  9.8390e-02,\n",
              "                                                         1.1218e-01, -4.4889e-02,  2.7943e-01,  1.6263e-01, -4.2794e-01,\n",
              "                                                        -1.6041e-01,  6.8763e-02, -3.8130e-01,  3.8179e-02,  1.4993e-01,\n",
              "                                                         1.8167e-01,  7.9712e-02, -1.7248e-01,  8.5718e-02,  1.0496e-01,\n",
              "                                                         1.0775e-02, -8.3618e-02, -8.3842e-02, -5.4706e-02, -1.1355e-01,\n",
              "                                                        -1.4505e-01, -1.4811e-01, -1.8090e-02, -2.6617e-01, -1.5988e-01,\n",
              "                                                         1.5874e-01, -2.9441e-01, -8.2828e-02, -5.1989e-01,  3.2736e-01,\n",
              "                                                         1.5111e-01, -2.8635e-01,  2.4231e-01, -1.0900e-02, -9.9477e-02,\n",
              "                                                        -9.7937e-02,  4.4461e-01,  1.6208e-01, -1.6666e-01, -2.9311e-01,\n",
              "                                                        -9.1820e-02, -1.2714e-01,  1.6106e-01, -7.1174e-02,  1.1907e-01,\n",
              "                                                         5.5978e-01,  1.5734e-01,  1.1753e-01, -1.0706e-01, -2.0589e-02,\n",
              "                                                        -2.2526e-01, -1.4310e-01,  8.7860e-02, -1.1981e-01,  1.5608e-01,\n",
              "                                                         3.5976e-02,  4.0084e-01,  7.6335e-02, -1.3598e-01,  8.0387e-02,\n",
              "                                                        -1.5593e-01, -3.0670e-01, -2.2257e-01,  1.5244e-01, -1.2949e-01,\n",
              "                                                         9.8658e-02,  9.1717e-02,  6.4928e-03,  3.7100e-01,  2.4499e-01,\n",
              "                                                         9.9945e-02,  1.0731e-01, -2.9321e-01, -1.4573e-01, -2.0027e-01,\n",
              "                                                        -9.3753e-03,  8.2895e-02, -2.4078e-01,  1.4437e-02, -1.7889e-01,\n",
              "                                                        -1.8276e-01, -1.2794e-01,  8.2087e-02, -7.3534e-02, -1.8755e-01,\n",
              "                                                        -2.1023e-01,  4.5677e-02,  1.4187e-01,  4.7045e-02, -3.1263e-01,\n",
              "                                                        -9.4428e-03,  1.9392e-01, -1.7864e-01, -1.3492e-01, -1.0427e-01,\n",
              "                                                        -4.4751e-02,  3.8248e-02,  3.1235e-01,  2.5511e-01, -4.3698e-02,\n",
              "                                                        -1.0509e-01, -7.9130e-02, -2.1592e-02,  2.8805e-01,  1.2423e-01,\n",
              "                                                        -2.4569e-01,  8.6344e-02,  6.2871e-02,  1.2369e-01,  3.2939e-02,\n",
              "                                                        -9.0338e-02, -9.3468e-02,  5.6418e-02, -1.9427e-01, -1.1704e-01,\n",
              "                                                        -1.8921e-01, -1.3929e-01, -3.7028e-02,  1.4648e-01,  9.3370e-02,\n",
              "                                                         1.9753e-01, -9.4574e-02,  1.9676e-01,  2.7813e-01, -6.2361e-02,\n",
              "                                                         2.1476e-01,  1.3543e-01,  1.0281e-01,  6.2034e-02, -3.9405e-02,\n",
              "                                                        -6.1418e-02, -1.9841e-01, -1.1594e-01,  3.6900e-02,  1.3465e-03,\n",
              "                                                        -2.6401e-02, -2.3641e-01, -2.2556e-02,  2.4189e-02,  1.7118e-01,\n",
              "                                                         3.0930e-01, -6.4426e-02, -1.4500e-02, -1.5880e-01, -2.0832e-01,\n",
              "                                                        -1.4761e-01,  1.6804e-01,  1.2708e-01,  6.0819e-02,  2.6831e-02,\n",
              "                                                        -2.1894e-01, -1.5105e-01,  2.3071e-01,  6.8238e-02,  2.0513e-01,\n",
              "                                                         4.9136e-01, -8.1521e-02,  1.6186e-01, -1.3455e-01,  3.4858e-02,\n",
              "                                                        -1.5508e-01, -1.1037e-01,  6.2435e-02, -6.9017e-02,  2.1464e-01,\n",
              "                                                        -2.4080e-01,  8.7105e-02,  2.3224e-01, -1.6672e-01,  6.9210e-02,\n",
              "                                                        -2.3854e-01,  1.3079e-01,  2.9053e-02, -1.2971e-01, -2.1640e-01,\n",
              "                                                         6.6970e-02, -1.7893e-01, -1.6325e-01,  1.5837e-01, -7.5575e-02,\n",
              "                                                        -2.7279e-02,  6.5823e-02,  3.1782e-01, -1.3437e-01, -8.6029e-02,\n",
              "                                                         4.9475e-02,  3.8778e-02, -3.8321e-01, -1.1886e-01, -1.2750e-02,\n",
              "                                                         5.7645e-02, -1.3817e-01, -2.6613e-01,  9.3270e-02, -1.0248e-01,\n",
              "                                                         7.9361e-02, -3.7616e-01,  1.6595e-01,  2.2488e-01, -5.3236e-02,\n",
              "                                                         2.4098e-01, -8.3993e-02, -1.3146e-01, -4.8687e-01,  4.9334e-02,\n",
              "                                                         1.6291e-01,  1.3954e-01, -3.6725e-02,  2.8072e-01, -6.1179e-02,\n",
              "                                                        -1.5716e-01, -1.2723e-01,  1.9999e-01, -4.2862e-02, -4.3473e-02,\n",
              "                                                        -1.4903e-01, -1.9106e-02,  7.2986e-02,  1.0339e-01,  7.3003e-02,\n",
              "                                                        -2.2792e-01,  2.0395e-01, -3.6615e-01, -1.0285e-01,  2.8819e-02,\n",
              "                                                         6.3786e-02,  2.1058e-01,  1.2754e-01,  8.8987e-02, -2.2255e-01,\n",
              "                                                         2.2608e-01, -1.3643e-01,  1.0543e-01,  3.1169e-02, -8.6926e-02,\n",
              "                                                        -3.2223e-02, -1.2163e-01, -1.1295e-01, -2.0140e-01, -8.2287e-02,\n",
              "                                                        -4.0385e-02, -2.6366e-01, -1.8023e-01, -8.0359e-02, -1.0881e-01,\n",
              "                                                        -2.5447e-02,  1.5393e-01,  1.1480e-01,  4.9114e-02, -2.1719e-01,\n",
              "                                                        -1.8194e-01, -2.4991e-01,  2.7084e-01, -3.4856e-01, -1.8261e-01,\n",
              "                                                        -1.5883e-01, -2.1682e-01, -3.1034e-01, -1.7975e-01, -1.1434e-01,\n",
              "                                                         1.8398e-01, -2.4378e-02, -8.9183e-02,  7.1232e-02,  9.7895e-02,\n",
              "                                                        -6.7703e-02,  1.7449e-01, -1.1864e-04,  1.8334e-01,  1.0666e-01,\n",
              "                                                         1.4446e-01, -3.5241e-02,  1.9537e-02,  2.7065e-01, -1.0901e-01,\n",
              "                                                        -1.1972e-01,  1.6612e-01, -9.0141e-02, -5.2141e-02,  2.3135e-01,\n",
              "                                                         1.3703e-01, -1.9052e-01, -2.2674e-01,  1.1380e-01, -2.0666e-01,\n",
              "                                                         2.2028e-02, -2.8173e-02,  2.8443e-01,  1.0135e-01,  4.8215e-02,\n",
              "                                                        -1.5865e-01,  6.3978e-02, -2.0377e-01,  1.2960e-01, -1.8312e-01,\n",
              "                                                         1.2260e-02, -1.9652e-01, -2.1968e-01,  2.8383e-01, -2.6176e-01,\n",
              "                                                         1.4197e-01, -1.0112e-01, -2.5917e-01,  4.3820e-01,  7.3461e-02,\n",
              "                                                        -3.1563e-01,  1.9668e-01, -2.3485e-03, -7.7315e-02, -4.1777e-02,\n",
              "                                                        -1.6199e-01, -7.1291e-02,  3.2579e-02, -7.4998e-02, -1.8252e-01,\n",
              "                                                        -3.4645e-01, -2.8635e-01,  1.7577e-01, -1.7899e-01,  3.7556e-01,\n",
              "                                                         8.0215e-02, -1.4784e-02, -1.0913e-01,  7.2422e-02, -1.7282e-01,\n",
              "                                                         1.5750e-01, -4.3337e-02, -2.2972e-01,  6.8920e-02,  4.2325e-02,\n",
              "                                                        -1.1204e-01, -1.1267e-01, -1.2801e-01,  1.9985e-01,  2.4774e-01,\n",
              "                                                         2.1656e-01, -2.2588e-01, -2.9976e-02, -1.8713e-01, -2.4868e-01,\n",
              "                                                         1.8839e-01,  5.6381e-02,  1.2255e-01,  1.7287e-01,  1.9489e-01,\n",
              "                                                        -3.0278e-01, -6.2357e-02,  2.8524e-03, -4.5648e-02, -1.2296e-01,\n",
              "                                                        -1.0306e-01,  3.8725e-01, -5.8229e-02,  9.5062e-02,  4.9733e-02,\n",
              "                                                         2.1868e-01,  5.7873e-03, -4.6961e-02,  2.2794e-01, -3.2764e-02,\n",
              "                                                         1.7886e-01,  1.4696e-02,  1.1850e-03, -2.4258e-01, -4.6913e-02,\n",
              "                                                        -2.3597e-01,  5.0413e-01, -1.1025e-01, -4.0731e-03, -4.9541e-03,\n",
              "                                                        -1.5438e-01,  2.0786e-01,  3.3681e-02,  1.2992e-01, -1.1456e-01,\n",
              "                                                        -2.4004e-02,  1.6503e-01, -2.9830e-01, -1.1429e-01,  7.4089e-02,\n",
              "                                                         1.7661e-01, -6.2598e-02, -1.1919e-01, -1.3823e-01, -2.5391e-01,\n",
              "                                                        -3.9346e-01,  2.6055e-01,  5.7261e-02, -1.1439e-01, -2.8081e-01,\n",
              "                                                         1.3179e-01,  6.8367e-02,  4.0516e-02, -2.8193e-01, -1.3673e-01,\n",
              "                                                         1.1764e-01,  8.7687e-02, -2.4255e-01,  4.4819e-02, -7.8678e-02,\n",
              "                                                        -7.0348e-02, -2.8721e-01,  2.3459e-01,  1.6045e-01,  2.0249e-01,\n",
              "                                                         1.8303e-02, -7.3913e-02, -1.8771e-01,  1.7626e-02, -5.2361e-02,\n",
              "                                                         4.7828e-01, -3.7893e-02,  2.5004e-01, -1.9913e-01, -1.2664e-01,\n",
              "                                                        -5.8015e-02,  1.8291e-01,  1.4069e-01,  1.4377e-01, -1.9593e-01,\n",
              "                                                         4.0676e-02,  6.4841e-02,  9.8576e-02, -1.8660e-01, -1.7055e-03,\n",
              "                                                         2.3251e-01, -4.5297e-02,  2.3087e-01, -1.9086e-02, -7.7585e-02,\n",
              "                                                        -7.2666e-02, -9.8320e-03,  9.9340e-02, -1.9441e-01,  1.1209e-01,\n",
              "                                                         2.3629e-01,  2.9740e-02, -7.5241e-02,  1.5589e-01, -8.4950e-02,\n",
              "                                                         1.6767e-01,  1.7594e-01,  1.1238e-01, -1.2383e-01,  2.0332e-01,\n",
              "                                                         6.5099e-02, -1.0929e-01, -3.0586e-01,  2.4561e-02, -6.9827e-03,\n",
              "                                                        -1.1812e-01,  1.6434e-02, -3.9015e-01, -3.2841e-01, -1.4371e-01,\n",
              "                                                         2.5167e-02, -1.7901e-01,  5.6789e-02,  4.9731e-02,  3.1464e-02,\n",
              "                                                        -2.7914e-01, -4.8159e-02,  1.5516e-02, -4.6552e-02,  5.6220e-02,\n",
              "                                                         6.9363e-02,  1.1689e-02,  1.9093e-01,  1.7528e-01,  2.4300e-01,\n",
              "                                                        -2.0561e-01, -1.3040e-01, -2.6716e-01,  3.1713e-03, -2.3143e-01,\n",
              "                                                        -9.7344e-02,  1.7639e-01, -2.7268e-02,  2.5629e-01,  2.8625e-01,\n",
              "                                                         1.0595e-01,  8.9385e-02,  2.5191e-01, -6.8758e-02, -1.4249e-01,\n",
              "                                                         6.1812e-02, -2.4707e-01,  1.4588e-01, -1.5663e-01, -1.8802e-01,\n",
              "                                                         3.1637e-01, -1.8043e-01, -6.8179e-02,  1.2528e-01, -2.5969e-02,\n",
              "                                                        -1.3314e-01,  2.8110e-02, -1.6229e-01,  1.6241e-01,  1.8555e-01,\n",
              "                                                         1.8103e-01, -1.0221e-01,  6.9762e-02, -2.2388e-02, -2.5916e-01,\n",
              "                                                         3.7114e-02, -3.0951e-02, -9.9426e-02, -1.1966e-01, -1.9346e-01,\n",
              "                                                        -1.0263e-01, -1.9178e-01,  2.3572e-01,  2.5053e-01,  3.2306e-02,\n",
              "                                                        -1.2274e-01, -2.4950e-02,  1.0308e-01,  7.2464e-02,  3.0274e-01,\n",
              "                                                         1.2369e-01,  5.7876e-02, -1.6311e-01, -2.5960e-01, -5.4743e-02,\n",
              "                                                         1.9727e-01, -9.9614e-02, -3.0164e-01, -1.5295e-01, -8.1942e-02,\n",
              "                                                         1.1371e-01, -2.8288e-02,  4.5388e-01, -7.5301e-02,  1.0482e-01,\n",
              "                                                        -1.0538e-01, -8.0037e-02, -1.7149e-01, -6.3551e-02, -2.0309e-01,\n",
              "                                                        -1.9732e-01,  1.4100e-01,  3.8412e-01, -1.5394e-01,  1.0959e-01,\n",
              "                                                         4.4630e-02, -2.8449e-01,  6.4630e-02, -2.4247e-01, -1.3453e-01,\n",
              "                                                        -1.7790e-01, -5.1366e-03, -1.9575e-01, -1.5237e-02, -4.3242e-02,\n",
              "                                                         9.5604e-02,  1.6044e-02,  1.6336e-01, -2.8692e-01,  3.0877e-01,\n",
              "                                                        -1.6674e-01, -1.8473e-01,  1.7344e-01,  3.5518e-01, -9.6367e-02,\n",
              "                                                        -1.2965e-01,  4.7638e-02,  1.0507e-01, -1.2426e-01, -3.0605e-01,\n",
              "                                                        -1.7976e-01,  1.8428e-01,  8.3634e-02,  2.6644e-01, -3.7341e-01,\n",
              "                                                        -6.3678e-02, -1.4905e-01, -1.9764e-01]], device='cuda:0'))])"
            ]
          },
          "metadata": {
            "tags": []
          },
          "execution_count": 29
        }
      ]
    },
    {
      "cell_type": "code",
      "metadata": {
        "id": "u5uMgvB4q3Z6"
      },
      "source": [
        "torch.argmax(features['logits'])"
      ],
      "execution_count": null,
      "outputs": []
    }
  ]
}