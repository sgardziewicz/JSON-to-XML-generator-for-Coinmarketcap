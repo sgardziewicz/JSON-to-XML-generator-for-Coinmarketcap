{
  "nbformat": 4,
  "nbformat_minor": 0,
  "metadata": {
    "kernelspec": {
      "display_name": "Python 3",
      "language": "python",
      "name": "python3"
    },
    "language_info": {
      "codemirror_mode": {
        "name": "ipython",
        "version": 3
      },
      "file_extension": ".py",
      "mimetype": "text/x-python",
      "name": "python",
      "nbconvert_exporter": "python",
      "pygments_lexer": "ipython3",
      "version": "3.7.4"
    },
    "colab": {
      "name": "Json  to XML coinmarketcap generator.ipynb",
      "provenance": [],
      "collapsed_sections": [],
      "include_colab_link": true
    }
  },
  "cells": [
    {
      "cell_type": "markdown",
      "metadata": {
        "id": "view-in-github",
        "colab_type": "text"
      },
      "source": [
        "<a href=\"https://colab.research.google.com/github/sgardziewicz/JSON-to-XML-generator-for-Coinmarketcap/blob/master/Json_to_XML_coinmarketcap_generator.ipynb\" target=\"_parent\"><img src=\"https://colab.research.google.com/assets/colab-badge.svg\" alt=\"Open In Colab\"/></a>"
      ]
    },
    {
      "cell_type": "code",
      "metadata": {
        "id": "bCd2cZqDuajj",
        "colab_type": "code",
        "colab": {}
      },
      "source": [
        "import pandas as pd\n",
        "data_full = pd.read_json(\"https://api.coinmarketcap.com/v1/ticker/\")"
      ],
      "execution_count": 0,
      "outputs": []
    },
    {
      "cell_type": "code",
      "metadata": {
        "id": "NKLfdzX3uajw",
        "colab_type": "code",
        "colab": {}
      },
      "source": [
        "data = data_full[['id','name','symbol','price_usd','market_cap_usd','percent_change_1h','percent_change_24h','percent_change_7d']]\n"
      ],
      "execution_count": 0,
      "outputs": []
    },
    {
      "cell_type": "code",
      "metadata": {
        "id": "67FXrpnouaj0",
        "colab_type": "code",
        "colab": {}
      },
      "source": [
        "def func(row):\n",
        "    xml = ['   <coin>']\n",
        "    for field in row.index:\n",
        "        if(field=='percent_change_1h'):\n",
        "            xml.append('      <percent_change>')\n",
        "        if(field.startswith('percent')):\n",
        "            xml.append('         <{0}>{1}</{0}>'.format(field, row[field]))\n",
        "        else:\n",
        "            xml.append('      <{0}>{1}</{0}>'.format(field, row[field]))\n",
        "        if(field=='percent_change_7d'):\n",
        "            xml.append('      </percent_change>')\n",
        "        \n",
        "    xml.append('   </coin>')\n",
        "    return '\\n'.join(xml)\n",
        "    "
      ],
      "execution_count": 0,
      "outputs": []
    },
    {
      "cell_type": "code",
      "metadata": {
        "id": "LjGzjcIYuaj3",
        "colab_type": "code",
        "colab": {}
      },
      "source": [
        "xml_declaration = \"\"\"<?xml version=\"1.0\" encoding=\"UTF-8\" standalone=\"no\" ?>\"\"\" + '\\n'\n",
        "tag =\"<crypto>\" + '\\n'\n",
        "xml = xml_declaration + tag + '\\n'.join(data.apply(func, axis=1)) + \"</crypto>\""
      ],
      "execution_count": 0,
      "outputs": []
    },
    {
      "cell_type": "code",
      "metadata": {
        "id": "gjGrOt_Vvt5w",
        "colab_type": "code",
        "colab": {}
      },
      "source": [
        "print(xml)"
      ],
      "execution_count": 0,
      "outputs": []
    }
  ]
}